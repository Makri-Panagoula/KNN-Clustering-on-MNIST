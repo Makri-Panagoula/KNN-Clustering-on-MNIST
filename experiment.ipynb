{
 "cells": [
  {
   "cell_type": "markdown",
   "id": "ce580299",
   "metadata": {
    "id": "BEe8WbMJG4Xi",
    "papermill": {
     "duration": 0.008134,
     "end_time": "2024-01-08T09:23:45.220758",
     "exception": false,
     "start_time": "2024-01-08T09:23:45.212624",
     "status": "completed"
    },
    "tags": []
   },
   "source": [
    "Importing Libraries and Packages:"
   ]
  },
  {
   "cell_type": "code",
   "execution_count": 1,
   "id": "938b3370",
   "metadata": {
    "execution": {
     "iopub.execute_input": "2024-01-08T09:23:45.234529Z",
     "iopub.status.busy": "2024-01-08T09:23:45.234076Z",
     "iopub.status.idle": "2024-01-08T09:24:24.161921Z",
     "shell.execute_reply": "2024-01-08T09:24:24.161110Z"
    },
    "id": "vY7tZEIVgz2L",
    "outputId": "c3d9d6f0-6e02-4f8b-cafd-7b5abd925960",
    "papermill": {
     "duration": 38.937035,
     "end_time": "2024-01-08T09:24:24.164331",
     "exception": false,
     "start_time": "2024-01-08T09:23:45.227296",
     "status": "completed"
    },
    "tags": []
   },
   "outputs": [
    {
     "name": "stdout",
     "output_type": "stream",
     "text": [
      "Requirement already satisfied: tensorflow in /opt/conda/lib/python3.10/site-packages (2.13.0)\r\n",
      "Requirement already satisfied: absl-py>=1.0.0 in /opt/conda/lib/python3.10/site-packages (from tensorflow) (1.4.0)\r\n",
      "Requirement already satisfied: astunparse>=1.6.0 in /opt/conda/lib/python3.10/site-packages (from tensorflow) (1.6.3)\r\n",
      "Requirement already satisfied: flatbuffers>=23.1.21 in /opt/conda/lib/python3.10/site-packages (from tensorflow) (23.5.26)\r\n",
      "Requirement already satisfied: gast<=0.4.0,>=0.2.1 in /opt/conda/lib/python3.10/site-packages (from tensorflow) (0.4.0)\r\n",
      "Requirement already satisfied: google-pasta>=0.1.1 in /opt/conda/lib/python3.10/site-packages (from tensorflow) (0.2.0)\r\n",
      "Requirement already satisfied: grpcio<2.0,>=1.24.3 in /opt/conda/lib/python3.10/site-packages (from tensorflow) (1.51.1)\r\n",
      "Requirement already satisfied: h5py>=2.9.0 in /opt/conda/lib/python3.10/site-packages (from tensorflow) (3.9.0)\r\n",
      "Requirement already satisfied: keras<2.14,>=2.13.1 in /opt/conda/lib/python3.10/site-packages (from tensorflow) (2.13.1)\r\n",
      "Requirement already satisfied: libclang>=13.0.0 in /opt/conda/lib/python3.10/site-packages (from tensorflow) (16.0.6)\r\n",
      "Requirement already satisfied: numpy<=1.24.3,>=1.22 in /opt/conda/lib/python3.10/site-packages (from tensorflow) (1.24.3)\r\n",
      "Requirement already satisfied: opt-einsum>=2.3.2 in /opt/conda/lib/python3.10/site-packages (from tensorflow) (3.3.0)\r\n",
      "Requirement already satisfied: packaging in /opt/conda/lib/python3.10/site-packages (from tensorflow) (21.3)\r\n",
      "Requirement already satisfied: protobuf!=4.21.0,!=4.21.1,!=4.21.2,!=4.21.3,!=4.21.4,!=4.21.5,<5.0.0dev,>=3.20.3 in /opt/conda/lib/python3.10/site-packages (from tensorflow) (3.20.3)\r\n",
      "Requirement already satisfied: setuptools in /opt/conda/lib/python3.10/site-packages (from tensorflow) (68.1.2)\r\n",
      "Requirement already satisfied: six>=1.12.0 in /opt/conda/lib/python3.10/site-packages (from tensorflow) (1.16.0)\r\n",
      "Requirement already satisfied: tensorboard<2.14,>=2.13 in /opt/conda/lib/python3.10/site-packages (from tensorflow) (2.13.0)\r\n",
      "Requirement already satisfied: tensorflow-estimator<2.14,>=2.13.0 in /opt/conda/lib/python3.10/site-packages (from tensorflow) (2.13.0)\r\n",
      "Requirement already satisfied: termcolor>=1.1.0 in /opt/conda/lib/python3.10/site-packages (from tensorflow) (2.3.0)\r\n",
      "Requirement already satisfied: typing-extensions<4.6.0,>=3.6.6 in /opt/conda/lib/python3.10/site-packages (from tensorflow) (4.5.0)\r\n",
      "Requirement already satisfied: wrapt>=1.11.0 in /opt/conda/lib/python3.10/site-packages (from tensorflow) (1.15.0)\r\n",
      "Requirement already satisfied: tensorflow-io-gcs-filesystem>=0.23.1 in /opt/conda/lib/python3.10/site-packages (from tensorflow) (0.34.0)\r\n",
      "Requirement already satisfied: wheel<1.0,>=0.23.0 in /opt/conda/lib/python3.10/site-packages (from astunparse>=1.6.0->tensorflow) (0.41.2)\r\n",
      "Requirement already satisfied: google-auth<3,>=1.6.3 in /opt/conda/lib/python3.10/site-packages (from tensorboard<2.14,>=2.13->tensorflow) (2.22.0)\r\n",
      "Requirement already satisfied: google-auth-oauthlib<1.1,>=0.5 in /opt/conda/lib/python3.10/site-packages (from tensorboard<2.14,>=2.13->tensorflow) (1.0.0)\r\n",
      "Requirement already satisfied: markdown>=2.6.8 in /opt/conda/lib/python3.10/site-packages (from tensorboard<2.14,>=2.13->tensorflow) (3.4.4)\r\n",
      "Requirement already satisfied: requests<3,>=2.21.0 in /opt/conda/lib/python3.10/site-packages (from tensorboard<2.14,>=2.13->tensorflow) (2.31.0)\r\n",
      "Requirement already satisfied: tensorboard-data-server<0.8.0,>=0.7.0 in /opt/conda/lib/python3.10/site-packages (from tensorboard<2.14,>=2.13->tensorflow) (0.7.1)\r\n",
      "Requirement already satisfied: werkzeug>=1.0.1 in /opt/conda/lib/python3.10/site-packages (from tensorboard<2.14,>=2.13->tensorflow) (3.0.1)\r\n",
      "Requirement already satisfied: pyparsing!=3.0.5,>=2.0.2 in /opt/conda/lib/python3.10/site-packages (from packaging->tensorflow) (3.0.9)\r\n",
      "Requirement already satisfied: cachetools<6.0,>=2.0.0 in /opt/conda/lib/python3.10/site-packages (from google-auth<3,>=1.6.3->tensorboard<2.14,>=2.13->tensorflow) (4.2.4)\r\n",
      "Requirement already satisfied: pyasn1-modules>=0.2.1 in /opt/conda/lib/python3.10/site-packages (from google-auth<3,>=1.6.3->tensorboard<2.14,>=2.13->tensorflow) (0.2.7)\r\n",
      "Requirement already satisfied: rsa<5,>=3.1.4 in /opt/conda/lib/python3.10/site-packages (from google-auth<3,>=1.6.3->tensorboard<2.14,>=2.13->tensorflow) (4.9)\r\n",
      "Requirement already satisfied: urllib3<2.0 in /opt/conda/lib/python3.10/site-packages (from google-auth<3,>=1.6.3->tensorboard<2.14,>=2.13->tensorflow) (1.26.15)\r\n",
      "Requirement already satisfied: requests-oauthlib>=0.7.0 in /opt/conda/lib/python3.10/site-packages (from google-auth-oauthlib<1.1,>=0.5->tensorboard<2.14,>=2.13->tensorflow) (1.3.1)\r\n",
      "Requirement already satisfied: charset-normalizer<4,>=2 in /opt/conda/lib/python3.10/site-packages (from requests<3,>=2.21.0->tensorboard<2.14,>=2.13->tensorflow) (3.2.0)\r\n",
      "Requirement already satisfied: idna<4,>=2.5 in /opt/conda/lib/python3.10/site-packages (from requests<3,>=2.21.0->tensorboard<2.14,>=2.13->tensorflow) (3.4)\r\n",
      "Requirement already satisfied: certifi>=2017.4.17 in /opt/conda/lib/python3.10/site-packages (from requests<3,>=2.21.0->tensorboard<2.14,>=2.13->tensorflow) (2023.11.17)\r\n",
      "Requirement already satisfied: MarkupSafe>=2.1.1 in /opt/conda/lib/python3.10/site-packages (from werkzeug>=1.0.1->tensorboard<2.14,>=2.13->tensorflow) (2.1.3)\r\n",
      "Requirement already satisfied: pyasn1<0.5.0,>=0.4.6 in /opt/conda/lib/python3.10/site-packages (from pyasn1-modules>=0.2.1->google-auth<3,>=1.6.3->tensorboard<2.14,>=2.13->tensorflow) (0.4.8)\r\n",
      "Requirement already satisfied: oauthlib>=3.0.0 in /opt/conda/lib/python3.10/site-packages (from requests-oauthlib>=0.7.0->google-auth-oauthlib<1.1,>=0.5->tensorboard<2.14,>=2.13->tensorflow) (3.2.2)\r\n",
      "Requirement already satisfied: optuna in /opt/conda/lib/python3.10/site-packages (3.5.0)\r\n",
      "Requirement already satisfied: alembic>=1.5.0 in /opt/conda/lib/python3.10/site-packages (from optuna) (1.13.0)\r\n",
      "Requirement already satisfied: colorlog in /opt/conda/lib/python3.10/site-packages (from optuna) (6.8.0)\r\n",
      "Requirement already satisfied: numpy in /opt/conda/lib/python3.10/site-packages (from optuna) (1.24.3)\r\n",
      "Requirement already satisfied: packaging>=20.0 in /opt/conda/lib/python3.10/site-packages (from optuna) (21.3)\r\n",
      "Requirement already satisfied: sqlalchemy>=1.3.0 in /opt/conda/lib/python3.10/site-packages (from optuna) (2.0.20)\r\n",
      "Requirement already satisfied: tqdm in /opt/conda/lib/python3.10/site-packages (from optuna) (4.66.1)\r\n",
      "Requirement already satisfied: PyYAML in /opt/conda/lib/python3.10/site-packages (from optuna) (6.0.1)\r\n",
      "Requirement already satisfied: Mako in /opt/conda/lib/python3.10/site-packages (from alembic>=1.5.0->optuna) (1.3.0)\r\n",
      "Requirement already satisfied: typing-extensions>=4 in /opt/conda/lib/python3.10/site-packages (from alembic>=1.5.0->optuna) (4.5.0)\r\n",
      "Requirement already satisfied: pyparsing!=3.0.5,>=2.0.2 in /opt/conda/lib/python3.10/site-packages (from packaging>=20.0->optuna) (3.0.9)\r\n",
      "Requirement already satisfied: greenlet!=0.4.17 in /opt/conda/lib/python3.10/site-packages (from sqlalchemy>=1.3.0->optuna) (2.0.2)\r\n",
      "Requirement already satisfied: MarkupSafe>=0.9.2 in /opt/conda/lib/python3.10/site-packages (from Mako->alembic>=1.5.0->optuna) (2.1.3)\r\n"
     ]
    },
    {
     "name": "stderr",
     "output_type": "stream",
     "text": [
      "/opt/conda/lib/python3.10/site-packages/scipy/__init__.py:146: UserWarning: A NumPy version >=1.16.5 and <1.23.0 is required for this version of SciPy (detected version 1.24.3\n",
      "  warnings.warn(f\"A NumPy version >={np_minversion} and <{np_maxversion}\"\n"
     ]
    }
   ],
   "source": [
    "!pip install tensorflow\n",
    "!pip install optuna\n",
    "import tensorflow as tf\n",
    "import struct\n",
    "import os\n",
    "import logging\n",
    "import optuna\n",
    "import optuna.visualization as vis\n",
    "import tensorflow.keras as keras\n",
    "from tensorflow.keras.datasets import mnist\n",
    "from tensorflow.keras.layers import Dense, Input, Flatten, Reshape, LeakyReLU, Activation, Dropout , Conv2D ,Conv2DTranspose , BatchNormalization ,MaxPooling2D,UpSampling2D\n",
    "from tensorflow.keras.models import Model, Sequential\n",
    "from tensorflow.keras.callbacks import EarlyStopping\n",
    "from matplotlib import pyplot as plt\n",
    "from IPython import display\n",
    "from sklearn.model_selection import train_test_split\n",
    "import numpy as np\n",
    "\n",
    "# Set TensorFlow logging level to suppress warnings\n",
    "os.environ['TF_CPP_MIN_LOG_LEVEL'] = '3' \n",
    "# Set logging level to suppress TensorFlow warnings except for critical ones\n",
    "tf.get_logger().setLevel(logging.ERROR) "
   ]
  },
  {
   "cell_type": "code",
   "execution_count": 2,
   "id": "a8f42239",
   "metadata": {
    "execution": {
     "iopub.execute_input": "2024-01-08T09:24:24.179015Z",
     "iopub.status.busy": "2024-01-08T09:24:24.178498Z",
     "iopub.status.idle": "2024-01-08T09:24:24.771953Z",
     "shell.execute_reply": "2024-01-08T09:24:24.770839Z"
    },
    "papermill": {
     "duration": 0.603131,
     "end_time": "2024-01-08T09:24:24.774025",
     "exception": false,
     "start_time": "2024-01-08T09:24:24.170894",
     "status": "completed"
    },
    "tags": []
   },
   "outputs": [
    {
     "name": "stdout",
     "output_type": "stream",
     "text": [
      "Found GPU at: /device:GPU:0\n"
     ]
    }
   ],
   "source": [
    "device_name = tf.test.gpu_device_name()\n",
    "if device_name != '/device:GPU:0':\n",
    "    raise SystemError('GPU device not found')\n",
    "print('Found GPU at: {}'.format(device_name))"
   ]
  },
  {
   "cell_type": "markdown",
   "id": "806add3a",
   "metadata": {
    "id": "R3B1oobGG-5-",
    "papermill": {
     "duration": 0.006447,
     "end_time": "2024-01-08T09:24:24.787243",
     "exception": false,
     "start_time": "2024-01-08T09:24:24.780796",
     "status": "completed"
    },
    "tags": []
   },
   "source": [
    "# **Loading, Preprocessing & Splitting Data**"
   ]
  },
  {
   "cell_type": "code",
   "execution_count": 3,
   "id": "5a5d2cc9",
   "metadata": {
    "execution": {
     "iopub.execute_input": "2024-01-08T09:24:24.801407Z",
     "iopub.status.busy": "2024-01-08T09:24:24.801093Z",
     "iopub.status.idle": "2024-01-08T09:24:25.420577Z",
     "shell.execute_reply": "2024-01-08T09:24:25.419703Z"
    },
    "id": "ELKU35A8hvIN",
    "papermill": {
     "duration": 0.62935,
     "end_time": "2024-01-08T09:24:25.422925",
     "exception": false,
     "start_time": "2024-01-08T09:24:24.793575",
     "status": "completed"
    },
    "tags": []
   },
   "outputs": [
    {
     "name": "stdout",
     "output_type": "stream",
     "text": [
      "Downloading data from https://storage.googleapis.com/tensorflow/tf-keras-datasets/mnist.npz\n",
      "11490434/11490434 [==============================] - 0s 0us/step\n"
     ]
    }
   ],
   "source": [
    "#Load MNIST dataset\n",
    "(x_train, y_train), (x_test, y_test) = mnist.load_data()\n",
    "\n",
    "# Concatenate images and labels\n",
    "all_images = np.concatenate((x_train, x_test), axis=0)\n",
    "all_labels = np.concatenate((y_train, y_test), axis=0)\n",
    "\n",
    "# scalling\n",
    "all_images = all_images.reshape(all_images.shape[0], 28, 28, 1)\n",
    "all_images = all_images.astype('float32')\n",
    "all_images = all_images / 255.0\n",
    "\n",
    "#Split into training,validation and test datasets in 70 , 15 and 15 %\n",
    "train_X,rem_X,train_Y,rem_Y = train_test_split(all_images,all_labels,test_size=0.3,random_state=13)\n",
    "val_X,test_X,val_Y,test_Y = train_test_split(rem_X,rem_Y,test_size=0.5,random_state=13)"
   ]
  },
  {
   "cell_type": "markdown",
   "id": "6844c4e8",
   "metadata": {
    "id": "6mOWY7cYHGh6",
    "papermill": {
     "duration": 0.006942,
     "end_time": "2024-01-08T09:24:25.437197",
     "exception": false,
     "start_time": "2024-01-08T09:24:25.430255",
     "status": "completed"
    },
    "tags": []
   },
   "source": [
    "# **Building the Autoencoder Model :**"
   ]
  },
  {
   "cell_type": "code",
   "execution_count": 4,
   "id": "79eb6ffe",
   "metadata": {
    "execution": {
     "iopub.execute_input": "2024-01-08T09:24:25.452321Z",
     "iopub.status.busy": "2024-01-08T09:24:25.452022Z",
     "iopub.status.idle": "2024-01-08T09:24:25.464267Z",
     "shell.execute_reply": "2024-01-08T09:24:25.463369Z"
    },
    "id": "zesmKC9rAhlO",
    "papermill": {
     "duration": 0.022172,
     "end_time": "2024-01-08T09:24:25.466200",
     "exception": false,
     "start_time": "2024-01-08T09:24:25.444028",
     "status": "completed"
    },
    "tags": []
   },
   "outputs": [],
   "source": [
    "class Autoencoder(Model):\n",
    "    def __init__(self,latent_dim,conv_layers,kernel_size,filters,shape,dropout_rate):\n",
    "        super(Autoencoder, self).__init__()\n",
    "\n",
    "        self.latent_dim = latent_dim\n",
    "        self.shape = shape\n",
    "        self.encoder_layers = []\n",
    "\n",
    "        #First layer in decoder has the same dimension as the last layer in encoder (original size halved as many times as we applied upsampling,2 here)\n",
    "        last_layer = shape[0] // (2 ** 2)\n",
    "\n",
    "        #The flattened layer will be the inner product of the last layer in encoder that had dimensions (last_layer,last_layer,last filter size)\n",
    "        flattened_dim = last_layer * last_layer * filters[conv_layers-1]\n",
    "\n",
    "        self.decoder_layers = [Dense(flattened_dim, activation='relu'),\n",
    "                               Reshape((last_layer,last_layer,filters[conv_layers-1]))]\n",
    "\n",
    "        for layer in range(conv_layers) :\n",
    "\n",
    "          #add the convolutional and maxpooling layer in the encoder's list\n",
    "          self.encoder_layers.append(Conv2D(filters=filters[layer], kernel_size=kernel_size, activation='relu', padding='same'))\n",
    "          self.encoder_layers.append(BatchNormalization())\n",
    "          if(layer < conv_layers - 1) :\n",
    "            #add the convolutional layer in the decoder's list with the opposite order of the filters\n",
    "            self.decoder_layers.append(Conv2DTranspose(filters=filters[conv_layers-layer-1], kernel_size=kernel_size, activation='relu', padding='same'))\n",
    "            self.decoder_layers.append(BatchNormalization())\n",
    "            #We only apply maxpooling in the first 2 layers because otherwise we can't reconstruct the vector with the appropriate dimensions\n",
    "            if(layer <=  1) :\n",
    "                self.encoder_layers.append(MaxPooling2D((2, 2), padding=\"same\"))\n",
    "                self.decoder_layers.append(UpSampling2D((2, 2), interpolation='nearest'))\n",
    "            self.decoder_layers.append(Dropout(dropout_rate))\n",
    "\n",
    "          self.encoder_layers.append(Dropout(dropout_rate))\n",
    "\n",
    "        self.encoder_layers.append(Flatten())\n",
    "        self.encoder_layers.append(Dense(self.latent_dim, activation='relu'))\n",
    "\n",
    "        #In the last layer of the decoder we apply the sigmoid function\n",
    "        self.decoder_layers.append(Conv2DTranspose(filters=1, kernel_size=kernel_size, activation='sigmoid', padding='same'))\n",
    "\n",
    "        self.encoder = tf.keras.Sequential(self.encoder_layers)\n",
    "        self.decoder = tf.keras.Sequential(self.decoder_layers)\n",
    "\n",
    "    def call(self, x):\n",
    "        encoded = self.encoder(x)\n",
    "        decoded = self.decoder(encoded)\n",
    "        return decoded"
   ]
  },
  {
   "cell_type": "markdown",
   "id": "22a293c8",
   "metadata": {
    "id": "qKA52lQqEaks",
    "papermill": {
     "duration": 0.00699,
     "end_time": "2024-01-08T09:24:25.479871",
     "exception": false,
     "start_time": "2024-01-08T09:24:25.472881",
     "status": "completed"
    },
    "tags": []
   },
   "source": [
    "# **Hyperparameter Tuning:**"
   ]
  },
  {
   "cell_type": "code",
   "execution_count": 5,
   "id": "5add972b",
   "metadata": {
    "execution": {
     "iopub.execute_input": "2024-01-08T09:24:25.494788Z",
     "iopub.status.busy": "2024-01-08T09:24:25.494201Z",
     "iopub.status.idle": "2024-01-08T10:48:56.206791Z",
     "shell.execute_reply": "2024-01-08T10:48:56.205711Z"
    },
    "id": "H5-iuPjOHq5J",
    "outputId": "7ca0fa6f-86ed-4857-bce7-6f07057e3ce3",
    "papermill": {
     "duration": 5070.722528,
     "end_time": "2024-01-08T10:48:56.209117",
     "exception": false,
     "start_time": "2024-01-08T09:24:25.486589",
     "status": "completed"
    },
    "tags": []
   },
   "outputs": [
    {
     "name": "stderr",
     "output_type": "stream",
     "text": [
      "/opt/conda/lib/python3.10/site-packages/optuna/distributions.py:524: UserWarning: Choices for a categorical distribution should be a tuple of None, bool, int, float and str for persistent storage but contains (3, 3) which is of type tuple.\n",
      "  warnings.warn(message)\n",
      "/opt/conda/lib/python3.10/site-packages/optuna/distributions.py:524: UserWarning: Choices for a categorical distribution should be a tuple of None, bool, int, float and str for persistent storage but contains (5, 5) which is of type tuple.\n",
      "  warnings.warn(message)\n",
      "/opt/conda/lib/python3.10/site-packages/optuna/distributions.py:524: UserWarning: Choices for a categorical distribution should be a tuple of None, bool, int, float and str for persistent storage but contains (7, 7) which is of type tuple.\n",
      "  warnings.warn(message)\n",
      "/opt/conda/lib/python3.10/site-packages/optuna/distributions.py:524: UserWarning: Choices for a categorical distribution should be a tuple of None, bool, int, float and str for persistent storage but contains [32, 64, 128] which is of type list.\n",
      "  warnings.warn(message)\n",
      "/opt/conda/lib/python3.10/site-packages/optuna/distributions.py:524: UserWarning: Choices for a categorical distribution should be a tuple of None, bool, int, float and str for persistent storage but contains [32, 64, 128, 256] which is of type list.\n",
      "  warnings.warn(message)\n",
      "/opt/conda/lib/python3.10/site-packages/optuna/distributions.py:524: UserWarning: Choices for a categorical distribution should be a tuple of None, bool, int, float and str for persistent storage but contains [16, 32, 64, 128] which is of type list.\n",
      "  warnings.warn(message)\n",
      "/opt/conda/lib/python3.10/site-packages/optuna/distributions.py:524: UserWarning: Choices for a categorical distribution should be a tuple of None, bool, int, float and str for persistent storage but contains [16, 32, 64, 128, 256] which is of type list.\n",
      "  warnings.warn(message)\n"
     ]
    },
    {
     "name": "stdout",
     "output_type": "stream",
     "text": [
      "Epoch 1/10\n"
     ]
    },
    {
     "name": "stderr",
     "output_type": "stream",
     "text": [
      "2024-01-08 09:24:30.130123: E tensorflow/core/grappler/optimizers/meta_optimizer.cc:954] layout failed: INVALID_ARGUMENT: Size of values 0 does not match size of permutation 4 @ fanin shape inautoencoder/sequential/dropout_1/dropout/SelectV2-2-TransposeNHWCToNCHW-LayoutOptimizer\n"
     ]
    },
    {
     "name": "stdout",
     "output_type": "stream",
     "text": [
      "766/766 [==============================] - 26s 20ms/step - loss: 0.0566 - accuracy: 0.7892 - val_loss: 0.0347 - val_accuracy: 0.7998\n",
      "Epoch 2/10\n",
      "766/766 [==============================] - 14s 18ms/step - loss: 0.0334 - accuracy: 0.8020 - val_loss: 0.0242 - val_accuracy: 0.8055\n",
      "Epoch 3/10\n",
      "766/766 [==============================] - 14s 18ms/step - loss: 0.0279 - accuracy: 0.8052 - val_loss: 0.0219 - val_accuracy: 0.8050\n",
      "Epoch 4/10\n",
      "766/766 [==============================] - 14s 18ms/step - loss: 0.0260 - accuracy: 0.8063 - val_loss: 0.0254 - val_accuracy: 0.8019\n",
      "Epoch 5/10\n",
      "766/766 [==============================] - 14s 18ms/step - loss: 0.0244 - accuracy: 0.8071 - val_loss: 0.0181 - val_accuracy: 0.8091\n",
      "Epoch 6/10\n",
      "766/766 [==============================] - 14s 18ms/step - loss: 0.0228 - accuracy: 0.8080 - val_loss: 0.0171 - val_accuracy: 0.8090\n",
      "Epoch 7/10\n",
      "766/766 [==============================] - 14s 18ms/step - loss: 0.0218 - accuracy: 0.8085 - val_loss: 0.0157 - val_accuracy: 0.8108\n",
      "Epoch 8/10\n",
      "766/766 [==============================] - 14s 18ms/step - loss: 0.0209 - accuracy: 0.8089 - val_loss: 0.0151 - val_accuracy: 0.8112\n",
      "Epoch 9/10\n",
      "766/766 [==============================] - 14s 18ms/step - loss: 0.0203 - accuracy: 0.8092 - val_loss: 0.0151 - val_accuracy: 0.8113\n",
      "Epoch 10/10\n",
      "766/766 [==============================] - 14s 18ms/step - loss: 0.0197 - accuracy: 0.8095 - val_loss: 0.0150 - val_accuracy: 0.8104\n",
      "Epoch 1/10\n"
     ]
    },
    {
     "name": "stderr",
     "output_type": "stream",
     "text": [
      "2024-01-08 09:27:03.197963: E tensorflow/core/grappler/optimizers/meta_optimizer.cc:954] layout failed: INVALID_ARGUMENT: Size of values 0 does not match size of permutation 4 @ fanin shape inautoencoder_1/sequential_2/dropout_10/dropout/SelectV2-2-TransposeNHWCToNCHW-LayoutOptimizer\n"
     ]
    },
    {
     "name": "stdout",
     "output_type": "stream",
     "text": [
      "383/383 [==============================] - 35s 67ms/step - loss: 0.0712 - accuracy: 0.7853 - val_loss: 0.0744 - val_accuracy: 0.7982\n",
      "Epoch 2/10\n",
      "383/383 [==============================] - 24s 61ms/step - loss: 0.0572 - accuracy: 0.7913 - val_loss: 0.0527 - val_accuracy: 0.7982\n",
      "Epoch 3/10\n",
      "383/383 [==============================] - 24s 61ms/step - loss: 0.0490 - accuracy: 0.7942 - val_loss: 0.0449 - val_accuracy: 0.7931\n",
      "Epoch 4/10\n",
      "383/383 [==============================] - 23s 61ms/step - loss: 0.0463 - accuracy: 0.7952 - val_loss: 0.0396 - val_accuracy: 0.8036\n",
      "Epoch 5/10\n",
      "383/383 [==============================] - 24s 61ms/step - loss: 0.0428 - accuracy: 0.7970 - val_loss: 0.0382 - val_accuracy: 0.8022\n",
      "Epoch 6/10\n",
      "383/383 [==============================] - 24s 61ms/step - loss: 0.0405 - accuracy: 0.7977 - val_loss: 0.0379 - val_accuracy: 0.8031\n",
      "Epoch 7/10\n",
      "383/383 [==============================] - 23s 61ms/step - loss: 0.0376 - accuracy: 0.7995 - val_loss: 0.0316 - val_accuracy: 0.8047\n",
      "Epoch 8/10\n",
      "383/383 [==============================] - 24s 62ms/step - loss: 0.0344 - accuracy: 0.8015 - val_loss: 0.0286 - val_accuracy: 0.8066\n",
      "Epoch 9/10\n",
      "383/383 [==============================] - 24s 61ms/step - loss: 0.0324 - accuracy: 0.8026 - val_loss: 0.0260 - val_accuracy: 0.8069\n",
      "Epoch 10/10\n",
      "383/383 [==============================] - 24s 62ms/step - loss: 0.0305 - accuracy: 0.8036 - val_loss: 0.0242 - val_accuracy: 0.8083\n",
      "Epoch 1/20\n"
     ]
    },
    {
     "name": "stderr",
     "output_type": "stream",
     "text": [
      "2024-01-08 09:31:28.605758: E tensorflow/core/grappler/optimizers/meta_optimizer.cc:954] layout failed: INVALID_ARGUMENT: Size of values 0 does not match size of permutation 4 @ fanin shape inautoencoder_2/sequential_4/dropout_19/dropout/SelectV2-2-TransposeNHWCToNCHW-LayoutOptimizer\n"
     ]
    },
    {
     "name": "stdout",
     "output_type": "stream",
     "text": [
      "383/383 [==============================] - 18s 30ms/step - loss: 0.0609 - accuracy: 0.7855 - val_loss: 0.0658 - val_accuracy: 0.8088\n",
      "Epoch 2/20\n",
      "383/383 [==============================] - 11s 28ms/step - loss: 0.0326 - accuracy: 0.8027 - val_loss: 0.0230 - val_accuracy: 0.8106\n",
      "Epoch 3/20\n",
      "383/383 [==============================] - 11s 28ms/step - loss: 0.0257 - accuracy: 0.8065 - val_loss: 0.0181 - val_accuracy: 0.8120\n",
      "Epoch 4/20\n",
      "383/383 [==============================] - 11s 28ms/step - loss: 0.0219 - accuracy: 0.8086 - val_loss: 0.0154 - val_accuracy: 0.8128\n",
      "Epoch 5/20\n",
      "383/383 [==============================] - 11s 28ms/step - loss: 0.0197 - accuracy: 0.8097 - val_loss: 0.0147 - val_accuracy: 0.8131\n",
      "Epoch 6/20\n",
      "383/383 [==============================] - 11s 28ms/step - loss: 0.0183 - accuracy: 0.8104 - val_loss: 0.0113 - val_accuracy: 0.8135\n",
      "Epoch 7/20\n",
      "383/383 [==============================] - 11s 28ms/step - loss: 0.0170 - accuracy: 0.8110 - val_loss: 0.0107 - val_accuracy: 0.8138\n",
      "Epoch 8/20\n",
      "383/383 [==============================] - 11s 28ms/step - loss: 0.0160 - accuracy: 0.8115 - val_loss: 0.0104 - val_accuracy: 0.8140\n",
      "Epoch 9/20\n",
      "383/383 [==============================] - 11s 28ms/step - loss: 0.0150 - accuracy: 0.8119 - val_loss: 0.0087 - val_accuracy: 0.8140\n",
      "Epoch 10/20\n",
      "383/383 [==============================] - 11s 28ms/step - loss: 0.0143 - accuracy: 0.8122 - val_loss: 0.0086 - val_accuracy: 0.8142\n",
      "Epoch 11/20\n",
      "383/383 [==============================] - 11s 28ms/step - loss: 0.0137 - accuracy: 0.8124 - val_loss: 0.0081 - val_accuracy: 0.8139\n",
      "Epoch 12/20\n",
      "383/383 [==============================] - 11s 28ms/step - loss: 0.0133 - accuracy: 0.8126 - val_loss: 0.0076 - val_accuracy: 0.8142\n",
      "Epoch 13/20\n",
      "383/383 [==============================] - 11s 28ms/step - loss: 0.0128 - accuracy: 0.8127 - val_loss: 0.0077 - val_accuracy: 0.8141\n",
      "Epoch 14/20\n",
      "383/383 [==============================] - 11s 28ms/step - loss: 0.0125 - accuracy: 0.8129 - val_loss: 0.0073 - val_accuracy: 0.8142\n",
      "Epoch 15/20\n",
      "383/383 [==============================] - 11s 28ms/step - loss: 0.0122 - accuracy: 0.8130 - val_loss: 0.0073 - val_accuracy: 0.8142\n",
      "Epoch 16/20\n",
      "383/383 [==============================] - 11s 28ms/step - loss: 0.0119 - accuracy: 0.8131 - val_loss: 0.0072 - val_accuracy: 0.8140\n",
      "Epoch 17/20\n",
      "383/383 [==============================] - 11s 28ms/step - loss: 0.0117 - accuracy: 0.8132 - val_loss: 0.0067 - val_accuracy: 0.8144\n",
      "Epoch 18/20\n",
      "383/383 [==============================] - 11s 28ms/step - loss: 0.0114 - accuracy: 0.8133 - val_loss: 0.0068 - val_accuracy: 0.8143\n",
      "Epoch 19/20\n",
      "383/383 [==============================] - 11s 28ms/step - loss: 0.0112 - accuracy: 0.8133 - val_loss: 0.0064 - val_accuracy: 0.8144\n",
      "Epoch 20/20\n",
      "383/383 [==============================] - 11s 28ms/step - loss: 0.0110 - accuracy: 0.8134 - val_loss: 0.0062 - val_accuracy: 0.8145\n",
      "Epoch 1/15\n"
     ]
    },
    {
     "name": "stderr",
     "output_type": "stream",
     "text": [
      "2024-01-08 09:35:09.601054: E tensorflow/core/grappler/optimizers/meta_optimizer.cc:954] layout failed: INVALID_ARGUMENT: Size of values 0 does not match size of permutation 4 @ fanin shape inautoencoder_3/sequential_6/dropout_26/dropout/SelectV2-2-TransposeNHWCToNCHW-LayoutOptimizer\n"
     ]
    },
    {
     "name": "stdout",
     "output_type": "stream",
     "text": [
      "766/766 [==============================] - 19s 17ms/step - loss: 0.0614 - accuracy: 0.7870 - val_loss: 0.0395 - val_accuracy: 0.8087\n",
      "Epoch 2/15\n",
      "766/766 [==============================] - 13s 17ms/step - loss: 0.0341 - accuracy: 0.8017 - val_loss: 0.0238 - val_accuracy: 0.8106\n",
      "Epoch 3/15\n",
      "766/766 [==============================] - 13s 17ms/step - loss: 0.0275 - accuracy: 0.8054 - val_loss: 0.0197 - val_accuracy: 0.8111\n",
      "Epoch 4/15\n",
      "766/766 [==============================] - 13s 17ms/step - loss: 0.0245 - accuracy: 0.8070 - val_loss: 0.0166 - val_accuracy: 0.8120\n",
      "Epoch 5/15\n",
      "766/766 [==============================] - 13s 17ms/step - loss: 0.0219 - accuracy: 0.8083 - val_loss: 0.0148 - val_accuracy: 0.8124\n",
      "Epoch 6/15\n",
      "766/766 [==============================] - 13s 17ms/step - loss: 0.0203 - accuracy: 0.8091 - val_loss: 0.0132 - val_accuracy: 0.8126\n",
      "Epoch 7/15\n",
      "766/766 [==============================] - 13s 17ms/step - loss: 0.0191 - accuracy: 0.8097 - val_loss: 0.0116 - val_accuracy: 0.8123\n",
      "Epoch 8/15\n",
      "766/766 [==============================] - 13s 17ms/step - loss: 0.0180 - accuracy: 0.8102 - val_loss: 0.0109 - val_accuracy: 0.8132\n",
      "Epoch 9/15\n",
      "766/766 [==============================] - 13s 17ms/step - loss: 0.0174 - accuracy: 0.8105 - val_loss: 0.0106 - val_accuracy: 0.8131\n",
      "Epoch 10/15\n",
      "766/766 [==============================] - 13s 17ms/step - loss: 0.0169 - accuracy: 0.8108 - val_loss: 0.0101 - val_accuracy: 0.8134\n",
      "Epoch 11/15\n",
      "766/766 [==============================] - 13s 17ms/step - loss: 0.0163 - accuracy: 0.8110 - val_loss: 0.0099 - val_accuracy: 0.8134\n",
      "Epoch 12/15\n",
      "766/766 [==============================] - 13s 17ms/step - loss: 0.0159 - accuracy: 0.8113 - val_loss: 0.0095 - val_accuracy: 0.8134\n",
      "Epoch 13/15\n",
      "766/766 [==============================] - 13s 17ms/step - loss: 0.0154 - accuracy: 0.8115 - val_loss: 0.0092 - val_accuracy: 0.8136\n",
      "Epoch 14/15\n",
      "766/766 [==============================] - 13s 17ms/step - loss: 0.0151 - accuracy: 0.8116 - val_loss: 0.0094 - val_accuracy: 0.8134\n",
      "Epoch 15/15\n",
      "766/766 [==============================] - 13s 17ms/step - loss: 0.0148 - accuracy: 0.8118 - val_loss: 0.0093 - val_accuracy: 0.8133\n",
      "Epoch 1/20\n"
     ]
    },
    {
     "name": "stderr",
     "output_type": "stream",
     "text": [
      "2024-01-08 09:38:30.028152: E tensorflow/core/grappler/optimizers/meta_optimizer.cc:954] layout failed: INVALID_ARGUMENT: Size of values 0 does not match size of permutation 4 @ fanin shape inautoencoder_4/sequential_8/dropout_33/dropout/SelectV2-2-TransposeNHWCToNCHW-LayoutOptimizer\n"
     ]
    },
    {
     "name": "stdout",
     "output_type": "stream",
     "text": [
      "192/192 [==============================] - 10s 23ms/step - loss: 0.0916 - accuracy: 0.7703 - val_loss: 0.0974 - val_accuracy: 0.8083\n",
      "Epoch 2/20\n",
      "192/192 [==============================] - 4s 21ms/step - loss: 0.0637 - accuracy: 0.7882 - val_loss: 0.0704 - val_accuracy: 0.8085\n",
      "Epoch 3/20\n",
      "192/192 [==============================] - 4s 21ms/step - loss: 0.0516 - accuracy: 0.7918 - val_loss: 0.0602 - val_accuracy: 0.8088\n",
      "Epoch 4/20\n",
      "192/192 [==============================] - 4s 21ms/step - loss: 0.0473 - accuracy: 0.7945 - val_loss: 0.0404 - val_accuracy: 0.8049\n",
      "Epoch 5/20\n",
      "192/192 [==============================] - 4s 21ms/step - loss: 0.0449 - accuracy: 0.7956 - val_loss: 0.0389 - val_accuracy: 0.8038\n",
      "Epoch 6/20\n",
      "192/192 [==============================] - 4s 21ms/step - loss: 0.0423 - accuracy: 0.7975 - val_loss: 0.0361 - val_accuracy: 0.8049\n",
      "Epoch 7/20\n",
      "192/192 [==============================] - 4s 21ms/step - loss: 0.0398 - accuracy: 0.7986 - val_loss: 0.0353 - val_accuracy: 0.8071\n",
      "Epoch 8/20\n",
      "192/192 [==============================] - 4s 21ms/step - loss: 0.0389 - accuracy: 0.7991 - val_loss: 0.0354 - val_accuracy: 0.8045\n",
      "Epoch 9/20\n",
      "192/192 [==============================] - 4s 21ms/step - loss: 0.0373 - accuracy: 0.8002 - val_loss: 0.0316 - val_accuracy: 0.8082\n",
      "Epoch 10/20\n",
      "192/192 [==============================] - 4s 21ms/step - loss: 0.0352 - accuracy: 0.8011 - val_loss: 0.0296 - val_accuracy: 0.8084\n",
      "Epoch 11/20\n",
      "192/192 [==============================] - 4s 21ms/step - loss: 0.0340 - accuracy: 0.8017 - val_loss: 0.0280 - val_accuracy: 0.8082\n",
      "Epoch 12/20\n",
      "192/192 [==============================] - 4s 21ms/step - loss: 0.0333 - accuracy: 0.8021 - val_loss: 0.0303 - val_accuracy: 0.8097\n",
      "Epoch 13/20\n",
      "192/192 [==============================] - 4s 21ms/step - loss: 0.0325 - accuracy: 0.8025 - val_loss: 0.0265 - val_accuracy: 0.8077\n",
      "Epoch 14/20\n",
      "192/192 [==============================] - 4s 21ms/step - loss: 0.0316 - accuracy: 0.8029 - val_loss: 0.0267 - val_accuracy: 0.8093\n",
      "Epoch 15/20\n",
      "192/192 [==============================] - 4s 21ms/step - loss: 0.0309 - accuracy: 0.8032 - val_loss: 0.0256 - val_accuracy: 0.8087\n",
      "Epoch 16/20\n",
      "192/192 [==============================] - 4s 21ms/step - loss: 0.0304 - accuracy: 0.8034 - val_loss: 0.0260 - val_accuracy: 0.8090\n",
      "Epoch 17/20\n",
      "192/192 [==============================] - 4s 21ms/step - loss: 0.0296 - accuracy: 0.8040 - val_loss: 0.0234 - val_accuracy: 0.8090\n",
      "Epoch 18/20\n",
      "192/192 [==============================] - 4s 21ms/step - loss: 0.0288 - accuracy: 0.8044 - val_loss: 0.0229 - val_accuracy: 0.8098\n",
      "Epoch 19/20\n",
      "192/192 [==============================] - 4s 21ms/step - loss: 0.0280 - accuracy: 0.8048 - val_loss: 0.0232 - val_accuracy: 0.8107\n",
      "Epoch 20/20\n",
      "192/192 [==============================] - 4s 21ms/step - loss: 0.0274 - accuracy: 0.8051 - val_loss: 0.0223 - val_accuracy: 0.8108\n",
      "Epoch 1/15\n"
     ]
    },
    {
     "name": "stderr",
     "output_type": "stream",
     "text": [
      "2024-01-08 09:40:55.362552: E tensorflow/core/grappler/optimizers/meta_optimizer.cc:954] layout failed: INVALID_ARGUMENT: Size of values 0 does not match size of permutation 4 @ fanin shape inautoencoder_5/sequential_10/dropout_38/dropout/SelectV2-2-TransposeNHWCToNCHW-LayoutOptimizer\n"
     ]
    },
    {
     "name": "stdout",
     "output_type": "stream",
     "text": [
      "766/766 [==============================] - 20s 17ms/step - loss: 0.0788 - accuracy: 0.7902 - val_loss: 0.0705 - val_accuracy: 0.8083\n",
      "Epoch 2/15\n",
      "766/766 [==============================] - 12s 16ms/step - loss: 0.0679 - accuracy: 0.7973 - val_loss: 0.0647 - val_accuracy: 0.8060\n",
      "Epoch 3/15\n",
      "766/766 [==============================] - 12s 16ms/step - loss: 0.0632 - accuracy: 0.7954 - val_loss: 0.0607 - val_accuracy: 0.8038\n",
      "Epoch 4/15\n",
      "766/766 [==============================] - 12s 16ms/step - loss: 0.0564 - accuracy: 0.7928 - val_loss: 0.0527 - val_accuracy: 0.7993\n",
      "Epoch 5/15\n",
      "766/766 [==============================] - 12s 16ms/step - loss: 0.0464 - accuracy: 0.7949 - val_loss: 0.0374 - val_accuracy: 0.8012\n",
      "Epoch 6/15\n",
      "766/766 [==============================] - 13s 16ms/step - loss: 0.0401 - accuracy: 0.7981 - val_loss: 0.0333 - val_accuracy: 0.8038\n",
      "Epoch 7/15\n",
      "766/766 [==============================] - 12s 16ms/step - loss: 0.0378 - accuracy: 0.7995 - val_loss: 0.0323 - val_accuracy: 0.8040\n",
      "Epoch 8/15\n",
      "766/766 [==============================] - 13s 16ms/step - loss: 0.0363 - accuracy: 0.8004 - val_loss: 0.0303 - val_accuracy: 0.8043\n",
      "Epoch 9/15\n",
      "766/766 [==============================] - 12s 16ms/step - loss: 0.0354 - accuracy: 0.8010 - val_loss: 0.0300 - val_accuracy: 0.8049\n",
      "Epoch 10/15\n",
      "766/766 [==============================] - 13s 16ms/step - loss: 0.0345 - accuracy: 0.8015 - val_loss: 0.0290 - val_accuracy: 0.8055\n",
      "Epoch 11/15\n",
      "766/766 [==============================] - 12s 16ms/step - loss: 0.0339 - accuracy: 0.8019 - val_loss: 0.0279 - val_accuracy: 0.8063\n",
      "Epoch 12/15\n",
      "766/766 [==============================] - 12s 16ms/step - loss: 0.0334 - accuracy: 0.8022 - val_loss: 0.0277 - val_accuracy: 0.8044\n",
      "Epoch 13/15\n",
      "766/766 [==============================] - 13s 16ms/step - loss: 0.0329 - accuracy: 0.8024 - val_loss: 0.0270 - val_accuracy: 0.8058\n",
      "Epoch 14/15\n",
      "766/766 [==============================] - 12s 16ms/step - loss: 0.0326 - accuracy: 0.8026 - val_loss: 0.0270 - val_accuracy: 0.8049\n",
      "Epoch 15/15\n",
      "766/766 [==============================] - 13s 16ms/step - loss: 0.0322 - accuracy: 0.8028 - val_loss: 0.0268 - val_accuracy: 0.8060\n",
      "Epoch 1/10\n"
     ]
    },
    {
     "name": "stderr",
     "output_type": "stream",
     "text": [
      "2024-01-08 09:44:09.890901: E tensorflow/core/grappler/optimizers/meta_optimizer.cc:954] layout failed: INVALID_ARGUMENT: Size of values 0 does not match size of permutation 4 @ fanin shape inautoencoder_6/sequential_12/dropout_45/dropout/SelectV2-2-TransposeNHWCToNCHW-LayoutOptimizer\n"
     ]
    },
    {
     "name": "stdout",
     "output_type": "stream",
     "text": [
      "383/383 [==============================] - 13s 20ms/step - loss: 0.0752 - accuracy: 0.7851 - val_loss: 0.0612 - val_accuracy: 0.8077\n",
      "Epoch 2/10\n",
      "383/383 [==============================] - 7s 18ms/step - loss: 0.0549 - accuracy: 0.7932 - val_loss: 0.0407 - val_accuracy: 0.7947\n",
      "Epoch 3/10\n",
      "383/383 [==============================] - 7s 18ms/step - loss: 0.0426 - accuracy: 0.7976 - val_loss: 0.0326 - val_accuracy: 0.8044\n",
      "Epoch 4/10\n",
      "383/383 [==============================] - 7s 18ms/step - loss: 0.0373 - accuracy: 0.8003 - val_loss: 0.0269 - val_accuracy: 0.8047\n",
      "Epoch 5/10\n",
      "383/383 [==============================] - 7s 18ms/step - loss: 0.0318 - accuracy: 0.8032 - val_loss: 0.0232 - val_accuracy: 0.8088\n",
      "Epoch 6/10\n",
      "383/383 [==============================] - 7s 18ms/step - loss: 0.0284 - accuracy: 0.8050 - val_loss: 0.0198 - val_accuracy: 0.8096\n",
      "Epoch 7/10\n",
      "383/383 [==============================] - 7s 18ms/step - loss: 0.0254 - accuracy: 0.8065 - val_loss: 0.0180 - val_accuracy: 0.8105\n",
      "Epoch 8/10\n",
      "383/383 [==============================] - 7s 19ms/step - loss: 0.0237 - accuracy: 0.8074 - val_loss: 0.0165 - val_accuracy: 0.8117\n",
      "Epoch 9/10\n",
      "383/383 [==============================] - 7s 18ms/step - loss: 0.0224 - accuracy: 0.8081 - val_loss: 0.0153 - val_accuracy: 0.8119\n",
      "Epoch 10/10\n",
      "383/383 [==============================] - 7s 18ms/step - loss: 0.0211 - accuracy: 0.8087 - val_loss: 0.0142 - val_accuracy: 0.8123\n",
      "Epoch 1/15\n"
     ]
    },
    {
     "name": "stderr",
     "output_type": "stream",
     "text": [
      "2024-01-08 09:45:27.430768: E tensorflow/core/grappler/optimizers/meta_optimizer.cc:954] layout failed: INVALID_ARGUMENT: Size of values 0 does not match size of permutation 4 @ fanin shape inautoencoder_7/sequential_14/dropout_50/dropout/SelectV2-2-TransposeNHWCToNCHW-LayoutOptimizer\n"
     ]
    },
    {
     "name": "stdout",
     "output_type": "stream",
     "text": [
      "192/192 [==============================] - 25s 80ms/step - loss: 0.0721 - accuracy: 0.7809 - val_loss: 0.0945 - val_accuracy: 0.8075\n",
      "Epoch 2/15\n",
      "192/192 [==============================] - 14s 72ms/step - loss: 0.0477 - accuracy: 0.7951 - val_loss: 0.0477 - val_accuracy: 0.8077\n",
      "Epoch 3/15\n",
      "192/192 [==============================] - 14s 72ms/step - loss: 0.0396 - accuracy: 0.7994 - val_loss: 0.0366 - val_accuracy: 0.8088\n",
      "Epoch 4/15\n",
      "192/192 [==============================] - 14s 72ms/step - loss: 0.0412 - accuracy: 0.7982 - val_loss: 0.0368 - val_accuracy: 0.8047\n",
      "Epoch 5/15\n",
      "192/192 [==============================] - 14s 72ms/step - loss: 0.0368 - accuracy: 0.8005 - val_loss: 0.0304 - val_accuracy: 0.8074\n",
      "Epoch 6/15\n",
      "192/192 [==============================] - 14s 72ms/step - loss: 0.0343 - accuracy: 0.8019 - val_loss: 0.0288 - val_accuracy: 0.8072\n",
      "Epoch 7/15\n",
      "192/192 [==============================] - 14s 72ms/step - loss: 0.0327 - accuracy: 0.8029 - val_loss: 0.0259 - val_accuracy: 0.8071\n",
      "Epoch 8/15\n",
      "192/192 [==============================] - 14s 72ms/step - loss: 0.0301 - accuracy: 0.8041 - val_loss: 0.0241 - val_accuracy: 0.8079\n",
      "Epoch 9/15\n",
      "192/192 [==============================] - 14s 72ms/step - loss: 0.0281 - accuracy: 0.8051 - val_loss: 0.0218 - val_accuracy: 0.8088\n",
      "Epoch 10/15\n",
      "192/192 [==============================] - 14s 72ms/step - loss: 0.0269 - accuracy: 0.8057 - val_loss: 0.0206 - val_accuracy: 0.8085\n",
      "Epoch 11/15\n",
      "192/192 [==============================] - 14s 72ms/step - loss: 0.0256 - accuracy: 0.8064 - val_loss: 0.0193 - val_accuracy: 0.8105\n",
      "Epoch 12/15\n",
      "192/192 [==============================] - 14s 72ms/step - loss: 0.0245 - accuracy: 0.8070 - val_loss: 0.0187 - val_accuracy: 0.8108\n",
      "Epoch 13/15\n",
      "192/192 [==============================] - 14s 72ms/step - loss: 0.0238 - accuracy: 0.8074 - val_loss: 0.0182 - val_accuracy: 0.8102\n",
      "Epoch 14/15\n",
      "192/192 [==============================] - 14s 72ms/step - loss: 0.0234 - accuracy: 0.8076 - val_loss: 0.0174 - val_accuracy: 0.8107\n",
      "Epoch 15/15\n",
      "192/192 [==============================] - 14s 72ms/step - loss: 0.0228 - accuracy: 0.8079 - val_loss: 0.0170 - val_accuracy: 0.8112\n",
      "Epoch 1/20\n"
     ]
    },
    {
     "name": "stderr",
     "output_type": "stream",
     "text": [
      "2024-01-08 09:49:53.316333: E tensorflow/core/grappler/optimizers/meta_optimizer.cc:954] layout failed: INVALID_ARGUMENT: Size of values 0 does not match size of permutation 4 @ fanin shape inautoencoder_8/sequential_16/dropout_59/dropout/SelectV2-2-TransposeNHWCToNCHW-LayoutOptimizer\n"
     ]
    },
    {
     "name": "stdout",
     "output_type": "stream",
     "text": [
      "192/192 [==============================] - 21s 75ms/step - loss: 0.0867 - accuracy: 0.7814 - val_loss: 0.1459 - val_accuracy: 0.7218\n",
      "Epoch 2/20\n",
      "192/192 [==============================] - 14s 72ms/step - loss: 0.0679 - accuracy: 0.7919 - val_loss: 0.0674 - val_accuracy: 0.7636\n",
      "Epoch 3/20\n",
      "192/192 [==============================] - 14s 75ms/step - loss: 0.0644 - accuracy: 0.7912 - val_loss: 0.0618 - val_accuracy: 0.7820\n",
      "Epoch 4/20\n",
      "192/192 [==============================] - 14s 72ms/step - loss: 0.0575 - accuracy: 0.7915 - val_loss: 0.0603 - val_accuracy: 0.8032\n",
      "Epoch 5/20\n",
      "192/192 [==============================] - 14s 72ms/step - loss: 0.0542 - accuracy: 0.7926 - val_loss: 0.0496 - val_accuracy: 0.8047\n",
      "Epoch 6/20\n",
      "192/192 [==============================] - 14s 72ms/step - loss: 0.0496 - accuracy: 0.7943 - val_loss: 0.0452 - val_accuracy: 0.8068\n",
      "Epoch 7/20\n",
      "192/192 [==============================] - 14s 72ms/step - loss: 0.0481 - accuracy: 0.7949 - val_loss: 0.0418 - val_accuracy: 0.8055\n",
      "Epoch 8/20\n",
      "192/192 [==============================] - 14s 72ms/step - loss: 0.0436 - accuracy: 0.7968 - val_loss: 0.0359 - val_accuracy: 0.8022\n",
      "Epoch 9/20\n",
      "192/192 [==============================] - 14s 72ms/step - loss: 0.0442 - accuracy: 0.7964 - val_loss: 0.0337 - val_accuracy: 0.8037\n",
      "Epoch 10/20\n",
      "192/192 [==============================] - 14s 72ms/step - loss: 0.0392 - accuracy: 0.7990 - val_loss: 0.0318 - val_accuracy: 0.8075\n",
      "Epoch 11/20\n",
      "192/192 [==============================] - 14s 72ms/step - loss: 0.0375 - accuracy: 0.7998 - val_loss: 0.0291 - val_accuracy: 0.8070\n",
      "Epoch 12/20\n",
      "192/192 [==============================] - 14s 72ms/step - loss: 0.0358 - accuracy: 0.8009 - val_loss: 0.0266 - val_accuracy: 0.8082\n",
      "Epoch 13/20\n",
      "192/192 [==============================] - 14s 72ms/step - loss: 0.0342 - accuracy: 0.8016 - val_loss: 0.0249 - val_accuracy: 0.8086\n",
      "Epoch 14/20\n",
      "192/192 [==============================] - 14s 72ms/step - loss: 0.0332 - accuracy: 0.8022 - val_loss: 0.0239 - val_accuracy: 0.8078\n",
      "Epoch 15/20\n",
      "192/192 [==============================] - 14s 72ms/step - loss: 0.0322 - accuracy: 0.8027 - val_loss: 0.0231 - val_accuracy: 0.8096\n",
      "Epoch 16/20\n",
      "192/192 [==============================] - 14s 72ms/step - loss: 0.0309 - accuracy: 0.8035 - val_loss: 0.0212 - val_accuracy: 0.8082\n",
      "Epoch 17/20\n",
      "192/192 [==============================] - 14s 72ms/step - loss: 0.0300 - accuracy: 0.8040 - val_loss: 0.0208 - val_accuracy: 0.8103\n",
      "Epoch 18/20\n",
      "192/192 [==============================] - 14s 72ms/step - loss: 0.0289 - accuracy: 0.8046 - val_loss: 0.0200 - val_accuracy: 0.8110\n",
      "Epoch 19/20\n",
      "192/192 [==============================] - 14s 72ms/step - loss: 0.0281 - accuracy: 0.8051 - val_loss: 0.0201 - val_accuracy: 0.8116\n",
      "Epoch 20/20\n",
      "192/192 [==============================] - 14s 72ms/step - loss: 0.0271 - accuracy: 0.8056 - val_loss: 0.0178 - val_accuracy: 0.8113\n",
      "Epoch 1/20\n"
     ]
    },
    {
     "name": "stderr",
     "output_type": "stream",
     "text": [
      "2024-01-08 09:54:37.797172: E tensorflow/core/grappler/optimizers/meta_optimizer.cc:954] layout failed: INVALID_ARGUMENT: Size of values 0 does not match size of permutation 4 @ fanin shape inautoencoder_9/sequential_18/dropout_68/dropout/SelectV2-2-TransposeNHWCToNCHW-LayoutOptimizer\n"
     ]
    },
    {
     "name": "stdout",
     "output_type": "stream",
     "text": [
      "383/383 [==============================] - 12s 19ms/step - loss: 0.0836 - accuracy: 0.7810 - val_loss: 0.0716 - val_accuracy: 0.8083\n",
      "Epoch 2/20\n",
      "383/383 [==============================] - 7s 18ms/step - loss: 0.0692 - accuracy: 0.7978 - val_loss: 0.0687 - val_accuracy: 0.8083\n",
      "Epoch 3/20\n",
      "383/383 [==============================] - 7s 18ms/step - loss: 0.0678 - accuracy: 0.8015 - val_loss: 0.0678 - val_accuracy: 0.7965\n",
      "Epoch 4/20\n",
      "383/383 [==============================] - 7s 18ms/step - loss: 0.0677 - accuracy: 0.8023 - val_loss: 0.0676 - val_accuracy: 0.8006\n",
      "Epoch 5/20\n",
      "383/383 [==============================] - 7s 18ms/step - loss: 0.0676 - accuracy: 0.8027 - val_loss: 0.0676 - val_accuracy: 0.7981\n",
      "Epoch 6/20\n",
      "383/383 [==============================] - 7s 18ms/step - loss: 0.0676 - accuracy: 0.8028 - val_loss: 0.0676 - val_accuracy: 0.8000\n",
      "Epoch 7/20\n",
      "383/383 [==============================] - 7s 18ms/step - loss: 0.0676 - accuracy: 0.8029 - val_loss: 0.0675 - val_accuracy: 0.8036\n",
      "Epoch 8/20\n",
      "383/383 [==============================] - 7s 18ms/step - loss: 0.0675 - accuracy: 0.8031 - val_loss: 0.0676 - val_accuracy: 0.7965\n",
      "Epoch 9/20\n",
      "383/383 [==============================] - 7s 18ms/step - loss: 0.0675 - accuracy: 0.8031 - val_loss: 0.0676 - val_accuracy: 0.7969\n",
      "Epoch 10/20\n",
      "383/383 [==============================] - 7s 18ms/step - loss: 0.0675 - accuracy: 0.8032 - val_loss: 0.0675 - val_accuracy: 0.8020\n",
      "Epoch 1/20\n"
     ]
    },
    {
     "name": "stderr",
     "output_type": "stream",
     "text": [
      "2024-01-08 09:55:53.897747: E tensorflow/core/grappler/optimizers/meta_optimizer.cc:954] layout failed: INVALID_ARGUMENT: Size of values 0 does not match size of permutation 4 @ fanin shape inautoencoder_10/sequential_20/dropout_73/dropout/SelectV2-2-TransposeNHWCToNCHW-LayoutOptimizer\n"
     ]
    },
    {
     "name": "stdout",
     "output_type": "stream",
     "text": [
      "383/383 [==============================] - 17s 29ms/step - loss: 0.0623 - accuracy: 0.7854 - val_loss: 0.0564 - val_accuracy: 0.8091\n",
      "Epoch 2/20\n",
      "383/383 [==============================] - 11s 28ms/step - loss: 0.0319 - accuracy: 0.8029 - val_loss: 0.0224 - val_accuracy: 0.8113\n",
      "Epoch 3/20\n",
      "383/383 [==============================] - 11s 28ms/step - loss: 0.0245 - accuracy: 0.8072 - val_loss: 0.0165 - val_accuracy: 0.8122\n",
      "Epoch 4/20\n",
      "383/383 [==============================] - 11s 28ms/step - loss: 0.0214 - accuracy: 0.8088 - val_loss: 0.0144 - val_accuracy: 0.8123\n",
      "Epoch 5/20\n",
      "383/383 [==============================] - 11s 28ms/step - loss: 0.0198 - accuracy: 0.8096 - val_loss: 0.0130 - val_accuracy: 0.8128\n",
      "Epoch 6/20\n",
      "383/383 [==============================] - 11s 28ms/step - loss: 0.0184 - accuracy: 0.8103 - val_loss: 0.0115 - val_accuracy: 0.8127\n",
      "Epoch 7/20\n",
      "383/383 [==============================] - 11s 28ms/step - loss: 0.0170 - accuracy: 0.8109 - val_loss: 0.0103 - val_accuracy: 0.8132\n",
      "Epoch 8/20\n",
      "383/383 [==============================] - 11s 28ms/step - loss: 0.0168 - accuracy: 0.8110 - val_loss: 0.0105 - val_accuracy: 0.8131\n",
      "Epoch 9/20\n",
      "383/383 [==============================] - 11s 28ms/step - loss: 0.0158 - accuracy: 0.8115 - val_loss: 0.0098 - val_accuracy: 0.8138\n",
      "Epoch 10/20\n",
      "383/383 [==============================] - 11s 28ms/step - loss: 0.0159 - accuracy: 0.8114 - val_loss: 0.0094 - val_accuracy: 0.8135\n",
      "Epoch 11/20\n",
      "383/383 [==============================] - 11s 28ms/step - loss: 0.0153 - accuracy: 0.8117 - val_loss: 0.0090 - val_accuracy: 0.8140\n",
      "Epoch 12/20\n",
      "383/383 [==============================] - 11s 28ms/step - loss: 0.0148 - accuracy: 0.8120 - val_loss: 0.0091 - val_accuracy: 0.8137\n",
      "Epoch 13/20\n",
      "383/383 [==============================] - 11s 28ms/step - loss: 0.0145 - accuracy: 0.8121 - val_loss: 0.0094 - val_accuracy: 0.8133\n",
      "Epoch 14/20\n",
      "383/383 [==============================] - 11s 28ms/step - loss: 0.0140 - accuracy: 0.8123 - val_loss: 0.0085 - val_accuracy: 0.8138\n",
      "Epoch 15/20\n",
      "383/383 [==============================] - 11s 28ms/step - loss: 0.0135 - accuracy: 0.8125 - val_loss: 0.0081 - val_accuracy: 0.8141\n",
      "Epoch 16/20\n",
      "383/383 [==============================] - 11s 28ms/step - loss: 0.0131 - accuracy: 0.8126 - val_loss: 0.0078 - val_accuracy: 0.8141\n",
      "Epoch 17/20\n",
      "383/383 [==============================] - 11s 28ms/step - loss: 0.0128 - accuracy: 0.8128 - val_loss: 0.0075 - val_accuracy: 0.8144\n",
      "Epoch 18/20\n",
      "383/383 [==============================] - 11s 28ms/step - loss: 0.0125 - accuracy: 0.8129 - val_loss: 0.0076 - val_accuracy: 0.8141\n",
      "Epoch 19/20\n",
      "383/383 [==============================] - 11s 28ms/step - loss: 0.0122 - accuracy: 0.8130 - val_loss: 0.0071 - val_accuracy: 0.8144\n",
      "Epoch 20/20\n",
      "383/383 [==============================] - 11s 28ms/step - loss: 0.0119 - accuracy: 0.8131 - val_loss: 0.0069 - val_accuracy: 0.8144\n",
      "Epoch 1/20\n"
     ]
    },
    {
     "name": "stderr",
     "output_type": "stream",
     "text": [
      "2024-01-08 09:59:33.401792: E tensorflow/core/grappler/optimizers/meta_optimizer.cc:954] layout failed: INVALID_ARGUMENT: Size of values 0 does not match size of permutation 4 @ fanin shape inautoencoder_11/sequential_22/dropout_80/dropout/SelectV2-2-TransposeNHWCToNCHW-LayoutOptimizer\n"
     ]
    },
    {
     "name": "stdout",
     "output_type": "stream",
     "text": [
      "383/383 [==============================] - 17s 29ms/step - loss: 0.0599 - accuracy: 0.7862 - val_loss: 0.0761 - val_accuracy: 0.8085\n",
      "Epoch 2/20\n",
      "383/383 [==============================] - 11s 28ms/step - loss: 0.0323 - accuracy: 0.8030 - val_loss: 0.0227 - val_accuracy: 0.8096\n",
      "Epoch 3/20\n",
      "383/383 [==============================] - 11s 28ms/step - loss: 0.0247 - accuracy: 0.8070 - val_loss: 0.0160 - val_accuracy: 0.8113\n",
      "Epoch 4/20\n",
      "383/383 [==============================] - 11s 28ms/step - loss: 0.0207 - accuracy: 0.8091 - val_loss: 0.0137 - val_accuracy: 0.8130\n",
      "Epoch 5/20\n",
      "383/383 [==============================] - 11s 28ms/step - loss: 0.0189 - accuracy: 0.8100 - val_loss: 0.0122 - val_accuracy: 0.8132\n",
      "Epoch 6/20\n",
      "383/383 [==============================] - 11s 28ms/step - loss: 0.0175 - accuracy: 0.8107 - val_loss: 0.0113 - val_accuracy: 0.8135\n",
      "Epoch 7/20\n",
      "383/383 [==============================] - 11s 28ms/step - loss: 0.0165 - accuracy: 0.8112 - val_loss: 0.0101 - val_accuracy: 0.8133\n",
      "Epoch 8/20\n",
      "383/383 [==============================] - 11s 28ms/step - loss: 0.0173 - accuracy: 0.8108 - val_loss: 0.0103 - val_accuracy: 0.8133\n",
      "Epoch 9/20\n",
      "383/383 [==============================] - 11s 28ms/step - loss: 0.0156 - accuracy: 0.8116 - val_loss: 0.0093 - val_accuracy: 0.8137\n",
      "Epoch 10/20\n",
      "383/383 [==============================] - 11s 28ms/step - loss: 0.0150 - accuracy: 0.8119 - val_loss: 0.0092 - val_accuracy: 0.8136\n",
      "Epoch 11/20\n",
      "383/383 [==============================] - 11s 28ms/step - loss: 0.0144 - accuracy: 0.8121 - val_loss: 0.0086 - val_accuracy: 0.8138\n",
      "Epoch 12/20\n",
      "383/383 [==============================] - 11s 28ms/step - loss: 0.0138 - accuracy: 0.8123 - val_loss: 0.0082 - val_accuracy: 0.8139\n",
      "Epoch 13/20\n",
      "383/383 [==============================] - 11s 28ms/step - loss: 0.0133 - accuracy: 0.8125 - val_loss: 0.0077 - val_accuracy: 0.8141\n",
      "Epoch 14/20\n",
      "383/383 [==============================] - 11s 28ms/step - loss: 0.0128 - accuracy: 0.8127 - val_loss: 0.0074 - val_accuracy: 0.8141\n",
      "Epoch 15/20\n",
      "383/383 [==============================] - 11s 28ms/step - loss: 0.0125 - accuracy: 0.8129 - val_loss: 0.0073 - val_accuracy: 0.8142\n",
      "Epoch 16/20\n",
      "383/383 [==============================] - 11s 28ms/step - loss: 0.0121 - accuracy: 0.8130 - val_loss: 0.0100 - val_accuracy: 0.8117\n",
      "Epoch 17/20\n",
      "383/383 [==============================] - 11s 28ms/step - loss: 0.0118 - accuracy: 0.8131 - val_loss: 0.0071 - val_accuracy: 0.8142\n",
      "Epoch 18/20\n",
      "383/383 [==============================] - 11s 28ms/step - loss: 0.0116 - accuracy: 0.8132 - val_loss: 0.0067 - val_accuracy: 0.8144\n",
      "Epoch 19/20\n",
      "383/383 [==============================] - 11s 28ms/step - loss: 0.0114 - accuracy: 0.8133 - val_loss: 0.0066 - val_accuracy: 0.8144\n",
      "Epoch 20/20\n",
      "383/383 [==============================] - 11s 28ms/step - loss: 0.0112 - accuracy: 0.8133 - val_loss: 0.0064 - val_accuracy: 0.8145\n",
      "Epoch 1/20\n"
     ]
    },
    {
     "name": "stderr",
     "output_type": "stream",
     "text": [
      "2024-01-08 10:03:13.055625: E tensorflow/core/grappler/optimizers/meta_optimizer.cc:954] layout failed: INVALID_ARGUMENT: Size of values 0 does not match size of permutation 4 @ fanin shape inautoencoder_12/sequential_24/dropout_87/dropout/SelectV2-2-TransposeNHWCToNCHW-LayoutOptimizer\n"
     ]
    },
    {
     "name": "stdout",
     "output_type": "stream",
     "text": [
      "383/383 [==============================] - 17s 29ms/step - loss: 0.0616 - accuracy: 0.7839 - val_loss: 0.0641 - val_accuracy: 0.8050\n",
      "Epoch 2/20\n",
      "383/383 [==============================] - 11s 28ms/step - loss: 0.0309 - accuracy: 0.8035 - val_loss: 0.0228 - val_accuracy: 0.8103\n",
      "Epoch 3/20\n",
      "383/383 [==============================] - 11s 28ms/step - loss: 0.0248 - accuracy: 0.8069 - val_loss: 0.0166 - val_accuracy: 0.8109\n",
      "Epoch 4/20\n",
      "383/383 [==============================] - 11s 28ms/step - loss: 0.0236 - accuracy: 0.8076 - val_loss: 0.0147 - val_accuracy: 0.8125\n",
      "Epoch 5/20\n",
      "383/383 [==============================] - 11s 28ms/step - loss: 0.0200 - accuracy: 0.8095 - val_loss: 0.0129 - val_accuracy: 0.8130\n",
      "Epoch 6/20\n",
      "383/383 [==============================] - 11s 28ms/step - loss: 0.0182 - accuracy: 0.8104 - val_loss: 0.0123 - val_accuracy: 0.8128\n",
      "Epoch 7/20\n",
      "383/383 [==============================] - 11s 28ms/step - loss: 0.0172 - accuracy: 0.8109 - val_loss: 0.0110 - val_accuracy: 0.8135\n",
      "Epoch 8/20\n",
      "383/383 [==============================] - 11s 28ms/step - loss: 0.0163 - accuracy: 0.8113 - val_loss: 0.0101 - val_accuracy: 0.8133\n",
      "Epoch 9/20\n",
      "383/383 [==============================] - 11s 28ms/step - loss: 0.0156 - accuracy: 0.8116 - val_loss: 0.0098 - val_accuracy: 0.8132\n",
      "Epoch 10/20\n",
      "383/383 [==============================] - 11s 28ms/step - loss: 0.0151 - accuracy: 0.8118 - val_loss: 0.0092 - val_accuracy: 0.8137\n",
      "Epoch 11/20\n",
      "383/383 [==============================] - 11s 28ms/step - loss: 0.0146 - accuracy: 0.8120 - val_loss: 0.0099 - val_accuracy: 0.8129\n",
      "Epoch 12/20\n",
      "383/383 [==============================] - 11s 28ms/step - loss: 0.0143 - accuracy: 0.8121 - val_loss: 0.0088 - val_accuracy: 0.8136\n",
      "Epoch 13/20\n",
      "383/383 [==============================] - 11s 28ms/step - loss: 0.0139 - accuracy: 0.8123 - val_loss: 0.0093 - val_accuracy: 0.8136\n",
      "Epoch 14/20\n",
      "383/383 [==============================] - 11s 28ms/step - loss: 0.0134 - accuracy: 0.8125 - val_loss: 0.0079 - val_accuracy: 0.8141\n",
      "Epoch 15/20\n",
      "383/383 [==============================] - 11s 28ms/step - loss: 0.0133 - accuracy: 0.8125 - val_loss: 0.0096 - val_accuracy: 0.8134\n",
      "Epoch 16/20\n",
      "383/383 [==============================] - 11s 28ms/step - loss: 0.0134 - accuracy: 0.8125 - val_loss: 0.0077 - val_accuracy: 0.8142\n",
      "Epoch 17/20\n",
      "383/383 [==============================] - 11s 28ms/step - loss: 0.0126 - accuracy: 0.8128 - val_loss: 0.0074 - val_accuracy: 0.8142\n",
      "Epoch 18/20\n",
      "383/383 [==============================] - 11s 28ms/step - loss: 0.0123 - accuracy: 0.8129 - val_loss: 0.0072 - val_accuracy: 0.8143\n",
      "Epoch 19/20\n",
      "383/383 [==============================] - 11s 28ms/step - loss: 0.0120 - accuracy: 0.8130 - val_loss: 0.0071 - val_accuracy: 0.8143\n",
      "Epoch 20/20\n",
      "383/383 [==============================] - 11s 28ms/step - loss: 0.0118 - accuracy: 0.8132 - val_loss: 0.0069 - val_accuracy: 0.8143\n",
      "Epoch 1/20\n"
     ]
    },
    {
     "name": "stderr",
     "output_type": "stream",
     "text": [
      "2024-01-08 10:07:39.211251: E tensorflow/core/grappler/optimizers/meta_optimizer.cc:954] layout failed: INVALID_ARGUMENT: Size of values 0 does not match size of permutation 4 @ fanin shape inautoencoder_13/sequential_26/dropout_94/dropout/SelectV2-2-TransposeNHWCToNCHW-LayoutOptimizer\n"
     ]
    },
    {
     "name": "stdout",
     "output_type": "stream",
     "text": [
      "383/383 [==============================] - 18s 29ms/step - loss: 0.0610 - accuracy: 0.7846 - val_loss: 0.0562 - val_accuracy: 0.8064\n",
      "Epoch 2/20\n",
      "383/383 [==============================] - 11s 28ms/step - loss: 0.0304 - accuracy: 0.8038 - val_loss: 0.0219 - val_accuracy: 0.8102\n",
      "Epoch 3/20\n",
      "383/383 [==============================] - 11s 28ms/step - loss: 0.0252 - accuracy: 0.8067 - val_loss: 0.0174 - val_accuracy: 0.8123\n",
      "Epoch 4/20\n",
      "383/383 [==============================] - 11s 28ms/step - loss: 0.0213 - accuracy: 0.8088 - val_loss: 0.0137 - val_accuracy: 0.8128\n",
      "Epoch 5/20\n",
      "383/383 [==============================] - 11s 28ms/step - loss: 0.0200 - accuracy: 0.8094 - val_loss: 0.0129 - val_accuracy: 0.8131\n",
      "Epoch 6/20\n",
      "383/383 [==============================] - 11s 28ms/step - loss: 0.0180 - accuracy: 0.8104 - val_loss: 0.0114 - val_accuracy: 0.8136\n",
      "Epoch 7/20\n",
      "383/383 [==============================] - 11s 28ms/step - loss: 0.0170 - accuracy: 0.8109 - val_loss: 0.0101 - val_accuracy: 0.8136\n",
      "Epoch 8/20\n",
      "383/383 [==============================] - 11s 28ms/step - loss: 0.0158 - accuracy: 0.8114 - val_loss: 0.0109 - val_accuracy: 0.8139\n",
      "Epoch 9/20\n",
      "383/383 [==============================] - 11s 28ms/step - loss: 0.0151 - accuracy: 0.8118 - val_loss: 0.0091 - val_accuracy: 0.8140\n",
      "Epoch 10/20\n",
      "383/383 [==============================] - 11s 28ms/step - loss: 0.0144 - accuracy: 0.8120 - val_loss: 0.0088 - val_accuracy: 0.8139\n",
      "Epoch 11/20\n",
      "383/383 [==============================] - 11s 28ms/step - loss: 0.0138 - accuracy: 0.8123 - val_loss: 0.0082 - val_accuracy: 0.8140\n",
      "Epoch 12/20\n",
      "383/383 [==============================] - 11s 28ms/step - loss: 0.0133 - accuracy: 0.8125 - val_loss: 0.0079 - val_accuracy: 0.8139\n",
      "Epoch 13/20\n",
      "383/383 [==============================] - 11s 28ms/step - loss: 0.0128 - accuracy: 0.8127 - val_loss: 0.0078 - val_accuracy: 0.8139\n",
      "Epoch 14/20\n",
      "383/383 [==============================] - 11s 28ms/step - loss: 0.0124 - accuracy: 0.8129 - val_loss: 0.0132 - val_accuracy: 0.8081\n",
      "Epoch 15/20\n",
      "383/383 [==============================] - 11s 28ms/step - loss: 0.0120 - accuracy: 0.8130 - val_loss: 0.0068 - val_accuracy: 0.8143\n",
      "Epoch 16/20\n",
      "383/383 [==============================] - 11s 28ms/step - loss: 0.0118 - accuracy: 0.8131 - val_loss: 0.0073 - val_accuracy: 0.8140\n",
      "Epoch 17/20\n",
      "383/383 [==============================] - 11s 28ms/step - loss: 0.0115 - accuracy: 0.8132 - val_loss: 0.0067 - val_accuracy: 0.8144\n",
      "Epoch 18/20\n",
      "383/383 [==============================] - 11s 28ms/step - loss: 0.0113 - accuracy: 0.8133 - val_loss: 0.0062 - val_accuracy: 0.8146\n",
      "Epoch 19/20\n",
      "383/383 [==============================] - 11s 28ms/step - loss: 0.0111 - accuracy: 0.8133 - val_loss: 0.0063 - val_accuracy: 0.8145\n",
      "Epoch 20/20\n",
      "383/383 [==============================] - 11s 28ms/step - loss: 0.0109 - accuracy: 0.8134 - val_loss: 0.0061 - val_accuracy: 0.8145\n",
      "Epoch 1/20\n"
     ]
    },
    {
     "name": "stderr",
     "output_type": "stream",
     "text": [
      "2024-01-08 10:11:18.441050: E tensorflow/core/grappler/optimizers/meta_optimizer.cc:954] layout failed: INVALID_ARGUMENT: Size of values 0 does not match size of permutation 4 @ fanin shape inautoencoder_14/sequential_28/dropout_101/dropout/SelectV2-2-TransposeNHWCToNCHW-LayoutOptimizer\n"
     ]
    },
    {
     "name": "stdout",
     "output_type": "stream",
     "text": [
      "383/383 [==============================] - 17s 29ms/step - loss: 0.0605 - accuracy: 0.7854 - val_loss: 0.0685 - val_accuracy: 0.8049\n",
      "Epoch 2/20\n",
      "383/383 [==============================] - 11s 28ms/step - loss: 0.0313 - accuracy: 0.8034 - val_loss: 0.0209 - val_accuracy: 0.8112\n",
      "Epoch 3/20\n",
      "383/383 [==============================] - 11s 28ms/step - loss: 0.0235 - accuracy: 0.8077 - val_loss: 0.0166 - val_accuracy: 0.8121\n",
      "Epoch 4/20\n",
      "383/383 [==============================] - 11s 28ms/step - loss: 0.0204 - accuracy: 0.8093 - val_loss: 0.0137 - val_accuracy: 0.8127\n",
      "Epoch 5/20\n",
      "383/383 [==============================] - 11s 28ms/step - loss: 0.0186 - accuracy: 0.8102 - val_loss: 0.0111 - val_accuracy: 0.8133\n",
      "Epoch 6/20\n",
      "383/383 [==============================] - 11s 28ms/step - loss: 0.0171 - accuracy: 0.8109 - val_loss: 0.0104 - val_accuracy: 0.8131\n",
      "Epoch 7/20\n",
      "383/383 [==============================] - 11s 28ms/step - loss: 0.0166 - accuracy: 0.8112 - val_loss: 0.0099 - val_accuracy: 0.8136\n",
      "Epoch 8/20\n",
      "383/383 [==============================] - 11s 28ms/step - loss: 0.0155 - accuracy: 0.8116 - val_loss: 0.0093 - val_accuracy: 0.8137\n",
      "Epoch 9/20\n",
      "383/383 [==============================] - 11s 28ms/step - loss: 0.0156 - accuracy: 0.8117 - val_loss: 0.0091 - val_accuracy: 0.8140\n",
      "Epoch 10/20\n",
      "383/383 [==============================] - 11s 28ms/step - loss: 0.0147 - accuracy: 0.8120 - val_loss: 0.0089 - val_accuracy: 0.8139\n",
      "Epoch 11/20\n",
      "383/383 [==============================] - 11s 28ms/step - loss: 0.0142 - accuracy: 0.8122 - val_loss: 0.0102 - val_accuracy: 0.8128\n",
      "Epoch 12/20\n",
      "383/383 [==============================] - 11s 28ms/step - loss: 0.0136 - accuracy: 0.8124 - val_loss: 0.0084 - val_accuracy: 0.8137\n",
      "Epoch 13/20\n",
      "383/383 [==============================] - 11s 28ms/step - loss: 0.0132 - accuracy: 0.8126 - val_loss: 0.0079 - val_accuracy: 0.8139\n",
      "Epoch 14/20\n",
      "383/383 [==============================] - 11s 28ms/step - loss: 0.0131 - accuracy: 0.8126 - val_loss: 0.0077 - val_accuracy: 0.8142\n",
      "Epoch 15/20\n",
      "383/383 [==============================] - 11s 28ms/step - loss: 0.0125 - accuracy: 0.8129 - val_loss: 0.0074 - val_accuracy: 0.8143\n",
      "Epoch 16/20\n",
      "383/383 [==============================] - 11s 28ms/step - loss: 0.0122 - accuracy: 0.8130 - val_loss: 0.0072 - val_accuracy: 0.8142\n",
      "Epoch 17/20\n",
      "383/383 [==============================] - 11s 28ms/step - loss: 0.0119 - accuracy: 0.8131 - val_loss: 0.0070 - val_accuracy: 0.8144\n",
      "Epoch 18/20\n",
      "383/383 [==============================] - 11s 28ms/step - loss: 0.0117 - accuracy: 0.8132 - val_loss: 0.0067 - val_accuracy: 0.8145\n",
      "Epoch 19/20\n",
      "383/383 [==============================] - 11s 28ms/step - loss: 0.0113 - accuracy: 0.8133 - val_loss: 0.0066 - val_accuracy: 0.8145\n",
      "Epoch 20/20\n",
      "383/383 [==============================] - 11s 28ms/step - loss: 0.0111 - accuracy: 0.8134 - val_loss: 0.0063 - val_accuracy: 0.8145\n",
      "Epoch 1/20\n"
     ]
    },
    {
     "name": "stderr",
     "output_type": "stream",
     "text": [
      "2024-01-08 10:15:43.799822: E tensorflow/core/grappler/optimizers/meta_optimizer.cc:954] layout failed: INVALID_ARGUMENT: Size of values 0 does not match size of permutation 4 @ fanin shape inautoencoder_15/sequential_30/dropout_108/dropout/SelectV2-2-TransposeNHWCToNCHW-LayoutOptimizer\n"
     ]
    },
    {
     "name": "stdout",
     "output_type": "stream",
     "text": [
      "383/383 [==============================] - 14s 21ms/step - loss: 0.0688 - accuracy: 0.7824 - val_loss: 0.0541 - val_accuracy: 0.8084\n",
      "Epoch 2/20\n",
      "383/383 [==============================] - 8s 20ms/step - loss: 0.0425 - accuracy: 0.7971 - val_loss: 0.0319 - val_accuracy: 0.8082\n",
      "Epoch 3/20\n",
      "383/383 [==============================] - 8s 20ms/step - loss: 0.0356 - accuracy: 0.8010 - val_loss: 0.0257 - val_accuracy: 0.8061\n",
      "Epoch 4/20\n",
      "383/383 [==============================] - 7s 20ms/step - loss: 0.0318 - accuracy: 0.8029 - val_loss: 0.0223 - val_accuracy: 0.8079\n",
      "Epoch 5/20\n",
      "383/383 [==============================] - 8s 20ms/step - loss: 0.0292 - accuracy: 0.8043 - val_loss: 0.0213 - val_accuracy: 0.8102\n",
      "Epoch 6/20\n",
      "383/383 [==============================] - 7s 19ms/step - loss: 0.0273 - accuracy: 0.8054 - val_loss: 0.0189 - val_accuracy: 0.8104\n",
      "Epoch 7/20\n",
      "383/383 [==============================] - 7s 20ms/step - loss: 0.0254 - accuracy: 0.8064 - val_loss: 0.0171 - val_accuracy: 0.8116\n",
      "Epoch 8/20\n",
      "383/383 [==============================] - 7s 20ms/step - loss: 0.0238 - accuracy: 0.8073 - val_loss: 0.0165 - val_accuracy: 0.8122\n",
      "Epoch 9/20\n",
      "383/383 [==============================] - 8s 20ms/step - loss: 0.0225 - accuracy: 0.8080 - val_loss: 0.0151 - val_accuracy: 0.8125\n",
      "Epoch 10/20\n",
      "383/383 [==============================] - 8s 20ms/step - loss: 0.0214 - accuracy: 0.8086 - val_loss: 0.0145 - val_accuracy: 0.8130\n",
      "Epoch 11/20\n",
      "383/383 [==============================] - 7s 20ms/step - loss: 0.0205 - accuracy: 0.8090 - val_loss: 0.0129 - val_accuracy: 0.8127\n",
      "Epoch 12/20\n",
      "383/383 [==============================] - 7s 20ms/step - loss: 0.0199 - accuracy: 0.8093 - val_loss: 0.0128 - val_accuracy: 0.8129\n",
      "Epoch 13/20\n",
      "383/383 [==============================] - 8s 20ms/step - loss: 0.0193 - accuracy: 0.8096 - val_loss: 0.0123 - val_accuracy: 0.8133\n",
      "Epoch 14/20\n",
      "383/383 [==============================] - 8s 20ms/step - loss: 0.0187 - accuracy: 0.8099 - val_loss: 0.0113 - val_accuracy: 0.8133\n",
      "Epoch 15/20\n",
      "383/383 [==============================] - 7s 20ms/step - loss: 0.0181 - accuracy: 0.8102 - val_loss: 0.0106 - val_accuracy: 0.8135\n",
      "Epoch 16/20\n",
      "383/383 [==============================] - 7s 20ms/step - loss: 0.0176 - accuracy: 0.8105 - val_loss: 0.0102 - val_accuracy: 0.8134\n",
      "Epoch 17/20\n",
      "383/383 [==============================] - 7s 19ms/step - loss: 0.0171 - accuracy: 0.8107 - val_loss: 0.0104 - val_accuracy: 0.8137\n",
      "Epoch 18/20\n",
      "383/383 [==============================] - 8s 20ms/step - loss: 0.0167 - accuracy: 0.8109 - val_loss: 0.0095 - val_accuracy: 0.8136\n",
      "Epoch 19/20\n",
      "383/383 [==============================] - 7s 20ms/step - loss: 0.0162 - accuracy: 0.8111 - val_loss: 0.0093 - val_accuracy: 0.8138\n",
      "Epoch 20/20\n",
      "383/383 [==============================] - 7s 20ms/step - loss: 0.0158 - accuracy: 0.8113 - val_loss: 0.0092 - val_accuracy: 0.8135\n",
      "Epoch 1/20\n"
     ]
    },
    {
     "name": "stderr",
     "output_type": "stream",
     "text": [
      "2024-01-08 10:18:21.785085: E tensorflow/core/grappler/optimizers/meta_optimizer.cc:954] layout failed: INVALID_ARGUMENT: Size of values 0 does not match size of permutation 4 @ fanin shape inautoencoder_16/sequential_32/dropout_115/dropout/SelectV2-2-TransposeNHWCToNCHW-LayoutOptimizer\n"
     ]
    },
    {
     "name": "stdout",
     "output_type": "stream",
     "text": [
      "383/383 [==============================] - 17s 29ms/step - loss: 0.0511 - accuracy: 0.7916 - val_loss: 0.0381 - val_accuracy: 0.8056\n",
      "Epoch 2/20\n",
      "383/383 [==============================] - 11s 28ms/step - loss: 0.0261 - accuracy: 0.8063 - val_loss: 0.0176 - val_accuracy: 0.8109\n",
      "Epoch 3/20\n",
      "383/383 [==============================] - 11s 28ms/step - loss: 0.0206 - accuracy: 0.8091 - val_loss: 0.0143 - val_accuracy: 0.8122\n",
      "Epoch 4/20\n",
      "383/383 [==============================] - 11s 28ms/step - loss: 0.0177 - accuracy: 0.8106 - val_loss: 0.0114 - val_accuracy: 0.8128\n",
      "Epoch 5/20\n",
      "383/383 [==============================] - 11s 28ms/step - loss: 0.0156 - accuracy: 0.8116 - val_loss: 0.0100 - val_accuracy: 0.8138\n",
      "Epoch 6/20\n",
      "383/383 [==============================] - 11s 28ms/step - loss: 0.0144 - accuracy: 0.8121 - val_loss: 0.0092 - val_accuracy: 0.8136\n",
      "Epoch 7/20\n",
      "383/383 [==============================] - 11s 28ms/step - loss: 0.0134 - accuracy: 0.8125 - val_loss: 0.0086 - val_accuracy: 0.8136\n",
      "Epoch 8/20\n",
      "383/383 [==============================] - 11s 28ms/step - loss: 0.0126 - accuracy: 0.8129 - val_loss: 0.0076 - val_accuracy: 0.8141\n",
      "Epoch 9/20\n",
      "383/383 [==============================] - 11s 28ms/step - loss: 0.0119 - accuracy: 0.8131 - val_loss: 0.0075 - val_accuracy: 0.8142\n",
      "Epoch 10/20\n",
      "383/383 [==============================] - 11s 28ms/step - loss: 0.0121 - accuracy: 0.8131 - val_loss: 0.0071 - val_accuracy: 0.8144\n",
      "Epoch 11/20\n",
      "383/383 [==============================] - 11s 28ms/step - loss: 0.0111 - accuracy: 0.8134 - val_loss: 0.0068 - val_accuracy: 0.8145\n",
      "Epoch 12/20\n",
      "383/383 [==============================] - 11s 28ms/step - loss: 0.0108 - accuracy: 0.8135 - val_loss: 0.0068 - val_accuracy: 0.8142\n",
      "Epoch 13/20\n",
      "383/383 [==============================] - 11s 28ms/step - loss: 0.0109 - accuracy: 0.8135 - val_loss: 0.0074 - val_accuracy: 0.8141\n",
      "Epoch 14/20\n",
      "383/383 [==============================] - 11s 28ms/step - loss: 0.0104 - accuracy: 0.8137 - val_loss: 0.0061 - val_accuracy: 0.8146\n",
      "Epoch 15/20\n",
      "383/383 [==============================] - 11s 28ms/step - loss: 0.0100 - accuracy: 0.8138 - val_loss: 0.0060 - val_accuracy: 0.8147\n",
      "Epoch 16/20\n",
      "383/383 [==============================] - 11s 28ms/step - loss: 0.0097 - accuracy: 0.8139 - val_loss: 0.0062 - val_accuracy: 0.8145\n",
      "Epoch 17/20\n",
      "383/383 [==============================] - 11s 28ms/step - loss: 0.0095 - accuracy: 0.8139 - val_loss: 0.0064 - val_accuracy: 0.8144\n",
      "Epoch 18/20\n",
      "383/383 [==============================] - 11s 28ms/step - loss: 0.0093 - accuracy: 0.8140 - val_loss: 0.0057 - val_accuracy: 0.8147\n",
      "Epoch 19/20\n",
      "383/383 [==============================] - 11s 28ms/step - loss: 0.0092 - accuracy: 0.8140 - val_loss: 0.0056 - val_accuracy: 0.8147\n",
      "Epoch 20/20\n",
      "383/383 [==============================] - 11s 28ms/step - loss: 0.0090 - accuracy: 0.8141 - val_loss: 0.0053 - val_accuracy: 0.8148\n",
      "Epoch 1/20\n"
     ]
    },
    {
     "name": "stderr",
     "output_type": "stream",
     "text": [
      "2024-01-08 10:22:01.055364: E tensorflow/core/grappler/optimizers/meta_optimizer.cc:954] layout failed: INVALID_ARGUMENT: Size of values 0 does not match size of permutation 4 @ fanin shape inautoencoder_17/sequential_34/dropout_122/dropout/SelectV2-2-TransposeNHWCToNCHW-LayoutOptimizer\n"
     ]
    },
    {
     "name": "stdout",
     "output_type": "stream",
     "text": [
      "383/383 [==============================] - 17s 29ms/step - loss: 0.0517 - accuracy: 0.7905 - val_loss: 0.0609 - val_accuracy: 0.8084\n",
      "Epoch 2/20\n",
      "383/383 [==============================] - 11s 28ms/step - loss: 0.0249 - accuracy: 0.8069 - val_loss: 0.0158 - val_accuracy: 0.8118\n",
      "Epoch 3/20\n",
      "383/383 [==============================] - 11s 28ms/step - loss: 0.0197 - accuracy: 0.8097 - val_loss: 0.0131 - val_accuracy: 0.8125\n",
      "Epoch 4/20\n",
      "383/383 [==============================] - 11s 28ms/step - loss: 0.0185 - accuracy: 0.8102 - val_loss: 0.0132 - val_accuracy: 0.8119\n",
      "Epoch 5/20\n",
      "383/383 [==============================] - 11s 28ms/step - loss: 0.0164 - accuracy: 0.8113 - val_loss: 0.0110 - val_accuracy: 0.8137\n",
      "Epoch 6/20\n",
      "383/383 [==============================] - 11s 28ms/step - loss: 0.0148 - accuracy: 0.8120 - val_loss: 0.0092 - val_accuracy: 0.8136\n",
      "Epoch 7/20\n",
      "383/383 [==============================] - 11s 28ms/step - loss: 0.0139 - accuracy: 0.8123 - val_loss: 0.0089 - val_accuracy: 0.8142\n",
      "Epoch 8/20\n",
      "383/383 [==============================] - 11s 28ms/step - loss: 0.0130 - accuracy: 0.8127 - val_loss: 0.0078 - val_accuracy: 0.8140\n",
      "Epoch 9/20\n",
      "383/383 [==============================] - 11s 28ms/step - loss: 0.0125 - accuracy: 0.8129 - val_loss: 0.0077 - val_accuracy: 0.8143\n",
      "Epoch 10/20\n",
      "383/383 [==============================] - 11s 28ms/step - loss: 0.0118 - accuracy: 0.8132 - val_loss: 0.0076 - val_accuracy: 0.8145\n",
      "Epoch 11/20\n",
      "383/383 [==============================] - 11s 28ms/step - loss: 0.0115 - accuracy: 0.8133 - val_loss: 0.0070 - val_accuracy: 0.8143\n",
      "Epoch 12/20\n",
      "383/383 [==============================] - 11s 28ms/step - loss: 0.0109 - accuracy: 0.8135 - val_loss: 0.0067 - val_accuracy: 0.8145\n",
      "Epoch 13/20\n",
      "383/383 [==============================] - 11s 28ms/step - loss: 0.0105 - accuracy: 0.8136 - val_loss: 0.0065 - val_accuracy: 0.8147\n",
      "Epoch 14/20\n",
      "383/383 [==============================] - 11s 28ms/step - loss: 0.0104 - accuracy: 0.8137 - val_loss: 0.0073 - val_accuracy: 0.8141\n",
      "Epoch 15/20\n",
      "383/383 [==============================] - 11s 28ms/step - loss: 0.0102 - accuracy: 0.8137 - val_loss: 0.0061 - val_accuracy: 0.8146\n",
      "Epoch 16/20\n",
      "383/383 [==============================] - 11s 28ms/step - loss: 0.0098 - accuracy: 0.8139 - val_loss: 0.0058 - val_accuracy: 0.8147\n",
      "Epoch 17/20\n",
      "383/383 [==============================] - 11s 28ms/step - loss: 0.0095 - accuracy: 0.8139 - val_loss: 0.0056 - val_accuracy: 0.8146\n",
      "Epoch 18/20\n",
      "383/383 [==============================] - 11s 28ms/step - loss: 0.0093 - accuracy: 0.8140 - val_loss: 0.0055 - val_accuracy: 0.8147\n",
      "Epoch 19/20\n",
      "383/383 [==============================] - 11s 27ms/step - loss: 0.0091 - accuracy: 0.8141 - val_loss: 0.0057 - val_accuracy: 0.8148\n",
      "Epoch 20/20\n",
      "383/383 [==============================] - 11s 28ms/step - loss: 0.0090 - accuracy: 0.8141 - val_loss: 0.0053 - val_accuracy: 0.8147\n",
      "Epoch 1/10\n"
     ]
    },
    {
     "name": "stderr",
     "output_type": "stream",
     "text": [
      "2024-01-08 10:26:27.115131: E tensorflow/core/grappler/optimizers/meta_optimizer.cc:954] layout failed: INVALID_ARGUMENT: Size of values 0 does not match size of permutation 4 @ fanin shape inautoencoder_18/sequential_36/dropout_129/dropout/SelectV2-2-TransposeNHWCToNCHW-LayoutOptimizer\n"
     ]
    },
    {
     "name": "stdout",
     "output_type": "stream",
     "text": [
      "192/192 [==============================] - 17s 50ms/step - loss: 0.0784 - accuracy: 0.7774 - val_loss: 0.1037 - val_accuracy: 0.7773\n",
      "Epoch 2/10\n",
      "192/192 [==============================] - 9s 48ms/step - loss: 0.0609 - accuracy: 0.7900 - val_loss: 0.0935 - val_accuracy: 0.8068\n",
      "Epoch 3/10\n",
      "192/192 [==============================] - 9s 48ms/step - loss: 0.0494 - accuracy: 0.7929 - val_loss: 0.0534 - val_accuracy: 0.8015\n",
      "Epoch 4/10\n",
      "192/192 [==============================] - 9s 49ms/step - loss: 0.0423 - accuracy: 0.7970 - val_loss: 0.0378 - val_accuracy: 0.7996\n",
      "Epoch 5/10\n",
      "192/192 [==============================] - 9s 49ms/step - loss: 0.0396 - accuracy: 0.7983 - val_loss: 0.0359 - val_accuracy: 0.8026\n",
      "Epoch 6/10\n",
      "192/192 [==============================] - 9s 48ms/step - loss: 0.0375 - accuracy: 0.8000 - val_loss: 0.0338 - val_accuracy: 0.8039\n",
      "Epoch 7/10\n",
      "192/192 [==============================] - 9s 48ms/step - loss: 0.0401 - accuracy: 0.7986 - val_loss: 0.0345 - val_accuracy: 0.8046\n",
      "Epoch 8/10\n",
      "192/192 [==============================] - 9s 48ms/step - loss: 0.0352 - accuracy: 0.8013 - val_loss: 0.0319 - val_accuracy: 0.8041\n",
      "Epoch 9/10\n",
      "192/192 [==============================] - 9s 48ms/step - loss: 0.0342 - accuracy: 0.8017 - val_loss: 0.0305 - val_accuracy: 0.8060\n",
      "Epoch 10/10\n",
      "192/192 [==============================] - 9s 49ms/step - loss: 0.0333 - accuracy: 0.8023 - val_loss: 0.0303 - val_accuracy: 0.8026\n",
      "Epoch 1/15\n"
     ]
    },
    {
     "name": "stderr",
     "output_type": "stream",
     "text": [
      "2024-01-08 10:28:07.958879: E tensorflow/core/grappler/optimizers/meta_optimizer.cc:954] layout failed: INVALID_ARGUMENT: Size of values 0 does not match size of permutation 4 @ fanin shape inautoencoder_19/sequential_38/dropout_136/dropout/SelectV2-2-TransposeNHWCToNCHW-LayoutOptimizer\n"
     ]
    },
    {
     "name": "stdout",
     "output_type": "stream",
     "text": [
      "766/766 [==============================] - 17s 14ms/step - loss: 0.0529 - accuracy: 0.7913 - val_loss: 0.0282 - val_accuracy: 0.8068\n",
      "Epoch 2/15\n",
      "766/766 [==============================] - 10s 13ms/step - loss: 0.0288 - accuracy: 0.8046 - val_loss: 0.0181 - val_accuracy: 0.8115\n",
      "Epoch 3/15\n",
      "766/766 [==============================] - 10s 13ms/step - loss: 0.0222 - accuracy: 0.8083 - val_loss: 0.0141 - val_accuracy: 0.8119\n",
      "Epoch 4/15\n",
      "766/766 [==============================] - 10s 13ms/step - loss: 0.0190 - accuracy: 0.8099 - val_loss: 0.0119 - val_accuracy: 0.8126\n",
      "Epoch 5/15\n",
      "766/766 [==============================] - 10s 13ms/step - loss: 0.0171 - accuracy: 0.8108 - val_loss: 0.0106 - val_accuracy: 0.8131\n",
      "Epoch 6/15\n",
      "766/766 [==============================] - 10s 13ms/step - loss: 0.0160 - accuracy: 0.8113 - val_loss: 0.0101 - val_accuracy: 0.8134\n",
      "Epoch 7/15\n",
      "766/766 [==============================] - 10s 13ms/step - loss: 0.0153 - accuracy: 0.8116 - val_loss: 0.0094 - val_accuracy: 0.8135\n",
      "Epoch 8/15\n",
      "766/766 [==============================] - 10s 13ms/step - loss: 0.0146 - accuracy: 0.8119 - val_loss: 0.0089 - val_accuracy: 0.8137\n",
      "Epoch 9/15\n",
      "766/766 [==============================] - 10s 13ms/step - loss: 0.0141 - accuracy: 0.8121 - val_loss: 0.0089 - val_accuracy: 0.8138\n",
      "Epoch 10/15\n",
      "766/766 [==============================] - 10s 13ms/step - loss: 0.0139 - accuracy: 0.8122 - val_loss: 0.0091 - val_accuracy: 0.8134\n",
      "Epoch 11/15\n",
      "766/766 [==============================] - 10s 13ms/step - loss: 0.0136 - accuracy: 0.8124 - val_loss: 0.0089 - val_accuracy: 0.8142\n",
      "Epoch 12/15\n",
      "766/766 [==============================] - 10s 13ms/step - loss: 0.0133 - accuracy: 0.8125 - val_loss: 0.0081 - val_accuracy: 0.8140\n",
      "Epoch 13/15\n",
      "766/766 [==============================] - 10s 13ms/step - loss: 0.0131 - accuracy: 0.8125 - val_loss: 0.0081 - val_accuracy: 0.8139\n",
      "Epoch 14/15\n",
      "766/766 [==============================] - 10s 13ms/step - loss: 0.0130 - accuracy: 0.8126 - val_loss: 0.0078 - val_accuracy: 0.8141\n",
      "Epoch 15/15\n",
      "766/766 [==============================] - 10s 13ms/step - loss: 0.0128 - accuracy: 0.8127 - val_loss: 0.0079 - val_accuracy: 0.8141\n",
      "Epoch 1/20\n"
     ]
    },
    {
     "name": "stderr",
     "output_type": "stream",
     "text": [
      "2024-01-08 10:30:43.552140: E tensorflow/core/grappler/optimizers/meta_optimizer.cc:954] layout failed: INVALID_ARGUMENT: Size of values 0 does not match size of permutation 4 @ fanin shape inautoencoder_20/sequential_40/dropout_143/dropout/SelectV2-2-TransposeNHWCToNCHW-LayoutOptimizer\n"
     ]
    },
    {
     "name": "stdout",
     "output_type": "stream",
     "text": [
      "383/383 [==============================] - 17s 29ms/step - loss: 0.0482 - accuracy: 0.7922 - val_loss: 0.0591 - val_accuracy: 0.8071\n",
      "Epoch 2/20\n",
      "383/383 [==============================] - 11s 28ms/step - loss: 0.0242 - accuracy: 0.8073 - val_loss: 0.0160 - val_accuracy: 0.8116\n",
      "Epoch 3/20\n",
      "383/383 [==============================] - 11s 28ms/step - loss: 0.0189 - accuracy: 0.8100 - val_loss: 0.0336 - val_accuracy: 0.7992\n",
      "Epoch 4/20\n",
      "383/383 [==============================] - 11s 28ms/step - loss: 0.0184 - accuracy: 0.8103 - val_loss: 0.0125 - val_accuracy: 0.8127\n",
      "Epoch 5/20\n",
      "383/383 [==============================] - 11s 28ms/step - loss: 0.0155 - accuracy: 0.8116 - val_loss: 0.0098 - val_accuracy: 0.8134\n",
      "Epoch 6/20\n",
      "383/383 [==============================] - 11s 28ms/step - loss: 0.0142 - accuracy: 0.8122 - val_loss: 0.0091 - val_accuracy: 0.8137\n",
      "Epoch 7/20\n",
      "383/383 [==============================] - 11s 28ms/step - loss: 0.0134 - accuracy: 0.8125 - val_loss: 0.0087 - val_accuracy: 0.8140\n",
      "Epoch 8/20\n",
      "383/383 [==============================] - 11s 28ms/step - loss: 0.0128 - accuracy: 0.8128 - val_loss: 0.0080 - val_accuracy: 0.8140\n",
      "Epoch 9/20\n",
      "383/383 [==============================] - 11s 28ms/step - loss: 0.0124 - accuracy: 0.8129 - val_loss: 0.0078 - val_accuracy: 0.8143\n",
      "Epoch 10/20\n",
      "383/383 [==============================] - 11s 28ms/step - loss: 0.0118 - accuracy: 0.8132 - val_loss: 0.0075 - val_accuracy: 0.8141\n",
      "Epoch 11/20\n",
      "383/383 [==============================] - 11s 28ms/step - loss: 0.0117 - accuracy: 0.8132 - val_loss: 0.0078 - val_accuracy: 0.8142\n",
      "Epoch 12/20\n",
      "383/383 [==============================] - 11s 28ms/step - loss: 0.0111 - accuracy: 0.8134 - val_loss: 0.0068 - val_accuracy: 0.8145\n",
      "Epoch 13/20\n",
      "383/383 [==============================] - 11s 28ms/step - loss: 0.0121 - accuracy: 0.8130 - val_loss: 0.0073 - val_accuracy: 0.8142\n",
      "Epoch 14/20\n",
      "383/383 [==============================] - 11s 28ms/step - loss: 0.0110 - accuracy: 0.8134 - val_loss: 0.0067 - val_accuracy: 0.8144\n",
      "Epoch 15/20\n",
      "383/383 [==============================] - 11s 28ms/step - loss: 0.0105 - accuracy: 0.8136 - val_loss: 0.0065 - val_accuracy: 0.8144\n",
      "Epoch 16/20\n",
      "383/383 [==============================] - 11s 28ms/step - loss: 0.0102 - accuracy: 0.8137 - val_loss: 0.0063 - val_accuracy: 0.8145\n",
      "Epoch 17/20\n",
      "383/383 [==============================] - 11s 28ms/step - loss: 0.0100 - accuracy: 0.8138 - val_loss: 0.0060 - val_accuracy: 0.8146\n",
      "Epoch 18/20\n",
      "383/383 [==============================] - 11s 28ms/step - loss: 0.0097 - accuracy: 0.8139 - val_loss: 0.0059 - val_accuracy: 0.8147\n",
      "Epoch 19/20\n",
      "383/383 [==============================] - 11s 28ms/step - loss: 0.0095 - accuracy: 0.8139 - val_loss: 0.0058 - val_accuracy: 0.8147\n",
      "Epoch 20/20\n",
      "383/383 [==============================] - 11s 28ms/step - loss: 0.0094 - accuracy: 0.8140 - val_loss: 0.0060 - val_accuracy: 0.8145\n",
      "Epoch 1/20\n"
     ]
    },
    {
     "name": "stderr",
     "output_type": "stream",
     "text": [
      "2024-01-08 10:34:22.620057: E tensorflow/core/grappler/optimizers/meta_optimizer.cc:954] layout failed: INVALID_ARGUMENT: Size of values 0 does not match size of permutation 4 @ fanin shape inautoencoder_21/sequential_42/dropout_150/dropout/SelectV2-2-TransposeNHWCToNCHW-LayoutOptimizer\n"
     ]
    },
    {
     "name": "stdout",
     "output_type": "stream",
     "text": [
      "383/383 [==============================] - 17s 29ms/step - loss: 0.0531 - accuracy: 0.7901 - val_loss: 0.0525 - val_accuracy: 0.8097\n",
      "Epoch 2/20\n",
      "383/383 [==============================] - 11s 28ms/step - loss: 0.0276 - accuracy: 0.8055 - val_loss: 0.0220 - val_accuracy: 0.8116\n",
      "Epoch 3/20\n",
      "383/383 [==============================] - 11s 28ms/step - loss: 0.0221 - accuracy: 0.8084 - val_loss: 0.0172 - val_accuracy: 0.8127\n",
      "Epoch 4/20\n",
      "383/383 [==============================] - 11s 28ms/step - loss: 0.0186 - accuracy: 0.8102 - val_loss: 0.0124 - val_accuracy: 0.8129\n",
      "Epoch 5/20\n",
      "383/383 [==============================] - 11s 28ms/step - loss: 0.0166 - accuracy: 0.8111 - val_loss: 0.0110 - val_accuracy: 0.8130\n",
      "Epoch 6/20\n",
      "383/383 [==============================] - 11s 28ms/step - loss: 0.0153 - accuracy: 0.8117 - val_loss: 0.0098 - val_accuracy: 0.8135\n",
      "Epoch 7/20\n",
      "383/383 [==============================] - 11s 28ms/step - loss: 0.0144 - accuracy: 0.8121 - val_loss: 0.0105 - val_accuracy: 0.8126\n",
      "Epoch 8/20\n",
      "383/383 [==============================] - 11s 28ms/step - loss: 0.0138 - accuracy: 0.8124 - val_loss: 0.0090 - val_accuracy: 0.8136\n",
      "Epoch 9/20\n",
      "383/383 [==============================] - 11s 28ms/step - loss: 0.0135 - accuracy: 0.8125 - val_loss: 0.0102 - val_accuracy: 0.8128\n",
      "Epoch 10/20\n",
      "383/383 [==============================] - 11s 28ms/step - loss: 0.0126 - accuracy: 0.8129 - val_loss: 0.0076 - val_accuracy: 0.8142\n",
      "Epoch 11/20\n",
      "383/383 [==============================] - 11s 28ms/step - loss: 0.0118 - accuracy: 0.8132 - val_loss: 0.0071 - val_accuracy: 0.8142\n",
      "Epoch 12/20\n",
      "383/383 [==============================] - 11s 28ms/step - loss: 0.0113 - accuracy: 0.8133 - val_loss: 0.0067 - val_accuracy: 0.8145\n",
      "Epoch 13/20\n",
      "383/383 [==============================] - 11s 28ms/step - loss: 0.0112 - accuracy: 0.8134 - val_loss: 0.0072 - val_accuracy: 0.8141\n",
      "Epoch 14/20\n",
      "383/383 [==============================] - 11s 28ms/step - loss: 0.0107 - accuracy: 0.8135 - val_loss: 0.0065 - val_accuracy: 0.8144\n",
      "Epoch 15/20\n",
      "383/383 [==============================] - 11s 28ms/step - loss: 0.0104 - accuracy: 0.8136 - val_loss: 0.0062 - val_accuracy: 0.8145\n",
      "Epoch 16/20\n",
      "383/383 [==============================] - 11s 28ms/step - loss: 0.0102 - accuracy: 0.8137 - val_loss: 0.0061 - val_accuracy: 0.8146\n",
      "Epoch 17/20\n",
      "383/383 [==============================] - 11s 28ms/step - loss: 0.0099 - accuracy: 0.8138 - val_loss: 0.0060 - val_accuracy: 0.8147\n",
      "Epoch 18/20\n",
      "383/383 [==============================] - 11s 28ms/step - loss: 0.0097 - accuracy: 0.8139 - val_loss: 0.0057 - val_accuracy: 0.8146\n",
      "Epoch 19/20\n",
      "383/383 [==============================] - 11s 28ms/step - loss: 0.0094 - accuracy: 0.8140 - val_loss: 0.0059 - val_accuracy: 0.8146\n",
      "Epoch 20/20\n",
      "383/383 [==============================] - 11s 28ms/step - loss: 0.0093 - accuracy: 0.8140 - val_loss: 0.0056 - val_accuracy: 0.8148\n",
      "Epoch 1/20\n"
     ]
    },
    {
     "name": "stderr",
     "output_type": "stream",
     "text": [
      "2024-01-08 10:38:01.424240: E tensorflow/core/grappler/optimizers/meta_optimizer.cc:954] layout failed: INVALID_ARGUMENT: Size of values 0 does not match size of permutation 4 @ fanin shape inautoencoder_22/sequential_44/dropout_157/dropout/SelectV2-2-TransposeNHWCToNCHW-LayoutOptimizer\n"
     ]
    },
    {
     "name": "stdout",
     "output_type": "stream",
     "text": [
      "383/383 [==============================] - 17s 29ms/step - loss: 0.0547 - accuracy: 0.7886 - val_loss: 0.0595 - val_accuracy: 0.8058\n",
      "Epoch 2/20\n",
      "383/383 [==============================] - 11s 28ms/step - loss: 0.0273 - accuracy: 0.8056 - val_loss: 0.0212 - val_accuracy: 0.8121\n",
      "Epoch 3/20\n",
      "383/383 [==============================] - 11s 28ms/step - loss: 0.0212 - accuracy: 0.8088 - val_loss: 0.0135 - val_accuracy: 0.8121\n",
      "Epoch 4/20\n",
      "383/383 [==============================] - 11s 28ms/step - loss: 0.0193 - accuracy: 0.8098 - val_loss: 0.0136 - val_accuracy: 0.8133\n",
      "Epoch 5/20\n",
      "383/383 [==============================] - 11s 28ms/step - loss: 0.0165 - accuracy: 0.8111 - val_loss: 0.0112 - val_accuracy: 0.8137\n",
      "Epoch 6/20\n",
      "383/383 [==============================] - 11s 28ms/step - loss: 0.0153 - accuracy: 0.8117 - val_loss: 0.0099 - val_accuracy: 0.8138\n",
      "Epoch 7/20\n",
      "383/383 [==============================] - 11s 28ms/step - loss: 0.0141 - accuracy: 0.8122 - val_loss: 0.0089 - val_accuracy: 0.8140\n",
      "Epoch 8/20\n",
      "383/383 [==============================] - 11s 28ms/step - loss: 0.0133 - accuracy: 0.8126 - val_loss: 0.0083 - val_accuracy: 0.8142\n",
      "Epoch 9/20\n",
      "383/383 [==============================] - 11s 28ms/step - loss: 0.0128 - accuracy: 0.8128 - val_loss: 0.0081 - val_accuracy: 0.8143\n",
      "Epoch 10/20\n",
      "383/383 [==============================] - 11s 28ms/step - loss: 0.0124 - accuracy: 0.8129 - val_loss: 0.0079 - val_accuracy: 0.8141\n",
      "Epoch 11/20\n",
      "383/383 [==============================] - 11s 28ms/step - loss: 0.0117 - accuracy: 0.8132 - val_loss: 0.0075 - val_accuracy: 0.8144\n",
      "Epoch 12/20\n",
      "383/383 [==============================] - 11s 28ms/step - loss: 0.0113 - accuracy: 0.8133 - val_loss: 0.0074 - val_accuracy: 0.8141\n",
      "Epoch 13/20\n",
      "383/383 [==============================] - 11s 28ms/step - loss: 0.0110 - accuracy: 0.8134 - val_loss: 0.0077 - val_accuracy: 0.8139\n",
      "Epoch 14/20\n",
      "383/383 [==============================] - 11s 28ms/step - loss: 0.0107 - accuracy: 0.8135 - val_loss: 0.0071 - val_accuracy: 0.8141\n",
      "Epoch 15/20\n",
      "383/383 [==============================] - 11s 28ms/step - loss: 0.0103 - accuracy: 0.8136 - val_loss: 0.0069 - val_accuracy: 0.8142\n",
      "Epoch 16/20\n",
      "383/383 [==============================] - 11s 28ms/step - loss: 0.0101 - accuracy: 0.8137 - val_loss: 0.0065 - val_accuracy: 0.8143\n",
      "Epoch 17/20\n",
      "383/383 [==============================] - 11s 28ms/step - loss: 0.0099 - accuracy: 0.8138 - val_loss: 0.0065 - val_accuracy: 0.8143\n",
      "Epoch 18/20\n",
      "383/383 [==============================] - 11s 28ms/step - loss: 0.0097 - accuracy: 0.8139 - val_loss: 0.0062 - val_accuracy: 0.8145\n",
      "Epoch 19/20\n",
      "383/383 [==============================] - 11s 28ms/step - loss: 0.0095 - accuracy: 0.8139 - val_loss: 0.0065 - val_accuracy: 0.8143\n",
      "Epoch 20/20\n",
      "383/383 [==============================] - 11s 28ms/step - loss: 0.0093 - accuracy: 0.8140 - val_loss: 0.0062 - val_accuracy: 0.8145\n",
      "Epoch 1/20\n"
     ]
    },
    {
     "name": "stderr",
     "output_type": "stream",
     "text": [
      "2024-01-08 10:41:41.545041: E tensorflow/core/grappler/optimizers/meta_optimizer.cc:954] layout failed: INVALID_ARGUMENT: Size of values 0 does not match size of permutation 4 @ fanin shape inautoencoder_23/sequential_46/dropout_164/dropout/SelectV2-2-TransposeNHWCToNCHW-LayoutOptimizer\n"
     ]
    },
    {
     "name": "stdout",
     "output_type": "stream",
     "text": [
      "383/383 [==============================] - 17s 29ms/step - loss: 0.0478 - accuracy: 0.7931 - val_loss: 0.0436 - val_accuracy: 0.8063\n",
      "Epoch 2/20\n",
      "383/383 [==============================] - 11s 28ms/step - loss: 0.0230 - accuracy: 0.8081 - val_loss: 0.0140 - val_accuracy: 0.8121\n",
      "Epoch 3/20\n",
      "383/383 [==============================] - 11s 28ms/step - loss: 0.0187 - accuracy: 0.8102 - val_loss: 0.0119 - val_accuracy: 0.8130\n",
      "Epoch 4/20\n",
      "383/383 [==============================] - 11s 28ms/step - loss: 0.0173 - accuracy: 0.8109 - val_loss: 0.0135 - val_accuracy: 0.8113\n",
      "Epoch 5/20\n",
      "383/383 [==============================] - 11s 28ms/step - loss: 0.0164 - accuracy: 0.8113 - val_loss: 0.0102 - val_accuracy: 0.8133\n",
      "Epoch 6/20\n",
      "383/383 [==============================] - 11s 28ms/step - loss: 0.0145 - accuracy: 0.8121 - val_loss: 0.0091 - val_accuracy: 0.8136\n",
      "Epoch 7/20\n",
      "383/383 [==============================] - 11s 28ms/step - loss: 0.0138 - accuracy: 0.8124 - val_loss: 0.0085 - val_accuracy: 0.8140\n",
      "Epoch 8/20\n",
      "383/383 [==============================] - 11s 28ms/step - loss: 0.0145 - accuracy: 0.8121 - val_loss: 0.0085 - val_accuracy: 0.8141\n",
      "Epoch 9/20\n",
      "383/383 [==============================] - 11s 28ms/step - loss: 0.0129 - accuracy: 0.8128 - val_loss: 0.0081 - val_accuracy: 0.8142\n",
      "Epoch 10/20\n",
      "383/383 [==============================] - 11s 28ms/step - loss: 0.0124 - accuracy: 0.8130 - val_loss: 0.0074 - val_accuracy: 0.8142\n",
      "Epoch 11/20\n",
      "383/383 [==============================] - 11s 28ms/step - loss: 0.0117 - accuracy: 0.8132 - val_loss: 0.0071 - val_accuracy: 0.8144\n",
      "Epoch 12/20\n",
      "383/383 [==============================] - 11s 28ms/step - loss: 0.0112 - accuracy: 0.8134 - val_loss: 0.0072 - val_accuracy: 0.8141\n",
      "Epoch 13/20\n",
      "383/383 [==============================] - 11s 28ms/step - loss: 0.0112 - accuracy: 0.8134 - val_loss: 0.0070 - val_accuracy: 0.8142\n",
      "Epoch 14/20\n",
      "383/383 [==============================] - 11s 28ms/step - loss: 0.0107 - accuracy: 0.8136 - val_loss: 0.0064 - val_accuracy: 0.8145\n",
      "Epoch 15/20\n",
      "383/383 [==============================] - 11s 28ms/step - loss: 0.0104 - accuracy: 0.8137 - val_loss: 0.0064 - val_accuracy: 0.8145\n",
      "Epoch 16/20\n",
      "383/383 [==============================] - 11s 28ms/step - loss: 0.0101 - accuracy: 0.8137 - val_loss: 0.0061 - val_accuracy: 0.8146\n",
      "Epoch 17/20\n",
      "383/383 [==============================] - 11s 28ms/step - loss: 0.0099 - accuracy: 0.8138 - val_loss: 0.0059 - val_accuracy: 0.8146\n",
      "Epoch 18/20\n",
      "383/383 [==============================] - 11s 27ms/step - loss: 0.0096 - accuracy: 0.8139 - val_loss: 0.0060 - val_accuracy: 0.8146\n",
      "Epoch 19/20\n",
      "383/383 [==============================] - 11s 28ms/step - loss: 0.0095 - accuracy: 0.8140 - val_loss: 0.0058 - val_accuracy: 0.8146\n",
      "Epoch 20/20\n",
      "383/383 [==============================] - 11s 28ms/step - loss: 0.0092 - accuracy: 0.8140 - val_loss: 0.0056 - val_accuracy: 0.8148\n",
      "Epoch 1/20\n"
     ]
    },
    {
     "name": "stderr",
     "output_type": "stream",
     "text": [
      "2024-01-08 10:45:20.385433: E tensorflow/core/grappler/optimizers/meta_optimizer.cc:954] layout failed: INVALID_ARGUMENT: Size of values 0 does not match size of permutation 4 @ fanin shape inautoencoder_24/sequential_48/dropout_171/dropout/SelectV2-2-TransposeNHWCToNCHW-LayoutOptimizer\n"
     ]
    },
    {
     "name": "stdout",
     "output_type": "stream",
     "text": [
      "383/383 [==============================] - 17s 29ms/step - loss: 0.0498 - accuracy: 0.7914 - val_loss: 0.0524 - val_accuracy: 0.8078\n",
      "Epoch 2/20\n",
      "383/383 [==============================] - 11s 28ms/step - loss: 0.0239 - accuracy: 0.8075 - val_loss: 0.0150 - val_accuracy: 0.8104\n",
      "Epoch 3/20\n",
      "383/383 [==============================] - 11s 28ms/step - loss: 0.0184 - accuracy: 0.8103 - val_loss: 0.0118 - val_accuracy: 0.8126\n",
      "Epoch 4/20\n",
      "383/383 [==============================] - 11s 28ms/step - loss: 0.0162 - accuracy: 0.8113 - val_loss: 0.0105 - val_accuracy: 0.8135\n",
      "Epoch 5/20\n",
      "383/383 [==============================] - 11s 28ms/step - loss: 0.0153 - accuracy: 0.8117 - val_loss: 0.0096 - val_accuracy: 0.8135\n",
      "Epoch 6/20\n",
      "383/383 [==============================] - 11s 28ms/step - loss: 0.0141 - accuracy: 0.8122 - val_loss: 0.0099 - val_accuracy: 0.8131\n",
      "Epoch 7/20\n",
      "383/383 [==============================] - 11s 28ms/step - loss: 0.0132 - accuracy: 0.8126 - val_loss: 0.0086 - val_accuracy: 0.8138\n",
      "Epoch 8/20\n",
      "383/383 [==============================] - 11s 28ms/step - loss: 0.0125 - accuracy: 0.8129 - val_loss: 0.0078 - val_accuracy: 0.8140\n",
      "Epoch 9/20\n",
      "383/383 [==============================] - 11s 28ms/step - loss: 0.0124 - accuracy: 0.8130 - val_loss: 0.0079 - val_accuracy: 0.8142\n",
      "Epoch 10/20\n",
      "383/383 [==============================] - 11s 28ms/step - loss: 0.0119 - accuracy: 0.8131 - val_loss: 0.0079 - val_accuracy: 0.8139\n",
      "Epoch 11/20\n",
      "383/383 [==============================] - 11s 28ms/step - loss: 0.0112 - accuracy: 0.8134 - val_loss: 0.0071 - val_accuracy: 0.8142\n",
      "Epoch 12/20\n",
      "383/383 [==============================] - 11s 28ms/step - loss: 0.0108 - accuracy: 0.8135 - val_loss: 0.0065 - val_accuracy: 0.8145\n",
      "Epoch 13/20\n",
      "383/383 [==============================] - 11s 28ms/step - loss: 0.0105 - accuracy: 0.8136 - val_loss: 0.0066 - val_accuracy: 0.8144\n",
      "Epoch 14/20\n",
      "383/383 [==============================] - 11s 28ms/step - loss: 0.0102 - accuracy: 0.8137 - val_loss: 0.0068 - val_accuracy: 0.8142\n",
      "Epoch 15/20\n",
      "383/383 [==============================] - 11s 28ms/step - loss: 0.0099 - accuracy: 0.8138 - val_loss: 0.0060 - val_accuracy: 0.8147\n",
      "Epoch 16/20\n",
      "383/383 [==============================] - 11s 28ms/step - loss: 0.0098 - accuracy: 0.8138 - val_loss: 0.0062 - val_accuracy: 0.8144\n",
      "Epoch 17/20\n",
      "383/383 [==============================] - 11s 28ms/step - loss: 0.0095 - accuracy: 0.8139 - val_loss: 0.0058 - val_accuracy: 0.8147\n",
      "Epoch 18/20\n",
      "383/383 [==============================] - 11s 28ms/step - loss: 0.0093 - accuracy: 0.8140 - val_loss: 0.0060 - val_accuracy: 0.8145\n",
      "Epoch 19/20\n",
      "383/383 [==============================] - 11s 28ms/step - loss: 0.0091 - accuracy: 0.8141 - val_loss: 0.0064 - val_accuracy: 0.8144\n",
      "Epoch 20/20\n",
      "383/383 [==============================] - 11s 28ms/step - loss: 0.0089 - accuracy: 0.8141 - val_loss: 0.0053 - val_accuracy: 0.8148\n"
     ]
    }
   ],
   "source": [
    "# Disable Optuna trial output\n",
    "optuna.logging.set_verbosity(optuna.logging.WARNING)  \n",
    "\n",
    "shape = (28,28,1)\n",
    "predefined_filters =[[32, 64, 128],[32,64,128,256],[16,32,64,128],[16,32,64,128,256]]\n",
    "\n",
    "def objective(trial):\n",
    "    epoch = trial.suggest_categorical('epoch',[10,15,20])\n",
    "    batch = trial.suggest_categorical('batch', [64,128,256])\n",
    "    dim = trial.suggest_categorical('dim',[5,10,20,30])\n",
    "    kernel = trial.suggest_categorical('kernel', [(3, 3), (5, 5), (7, 7)])\n",
    "    filters = trial.suggest_categorical('filters', predefined_filters)\n",
    "    rate = trial.suggest_categorical('rate', [0.5,0.6,0.7])\n",
    "\n",
    "    autoencoder = Autoencoder(dim, len(filters), kernel, filters, shape, rate)\n",
    "    autoencoder.compile(optimizer='adam', loss=keras.losses.MeanSquaredError(), metrics=['accuracy'])\n",
    "    early_stopping = EarlyStopping(monitor='val_loss', patience=3, restore_best_weights=True)\n",
    "    history = autoencoder.fit(train_X, train_X,\n",
    "                              epochs=epoch,\n",
    "                              shuffle=True,\n",
    "                              batch_size=batch,\n",
    "                              callbacks=[early_stopping],\n",
    "                              validation_data=(val_X, val_X))\n",
    "    val_loss = history.history['val_loss'][-1]\n",
    "    return val_loss\n",
    "\n",
    "study = optuna.create_study(direction='minimize', study_name='my_study_name')\n",
    "study.optimize(objective, n_trials=25)"
   ]
  },
  {
   "cell_type": "markdown",
   "id": "3cff0812",
   "metadata": {
    "papermill": {
     "duration": 6.492781,
     "end_time": "2024-01-08T10:49:09.255238",
     "exception": false,
     "start_time": "2024-01-08T10:49:02.762457",
     "status": "completed"
    },
    "tags": []
   },
   "source": [
    "# **Best Parameters for Least Loss:**"
   ]
  },
  {
   "cell_type": "code",
   "execution_count": 6,
   "id": "ecb3d6aa",
   "metadata": {
    "execution": {
     "iopub.execute_input": "2024-01-08T10:49:22.493080Z",
     "iopub.status.busy": "2024-01-08T10:49:22.492203Z",
     "iopub.status.idle": "2024-01-08T10:49:22.498423Z",
     "shell.execute_reply": "2024-01-08T10:49:22.497577Z"
    },
    "papermill": {
     "duration": 6.534933,
     "end_time": "2024-01-08T10:49:22.500625",
     "exception": false,
     "start_time": "2024-01-08T10:49:15.965692",
     "status": "completed"
    },
    "tags": []
   },
   "outputs": [
    {
     "name": "stdout",
     "output_type": "stream",
     "text": [
      "Best validation loss while training is  0.005305170547217131 with  {'epoch': 20, 'batch': 128, 'dim': 30, 'kernel': (3, 3), 'filters': [32, 64, 128, 256], 'rate': 0.5}\n"
     ]
    }
   ],
   "source": [
    "best_params = study.best_params\n",
    "best_loss = study.best_value\n",
    "print(\"Best validation loss while training is \",best_loss,\"with \",best_params)"
   ]
  },
  {
   "cell_type": "markdown",
   "id": "84ce432c",
   "metadata": {
    "id": "IoSABCBfGCtq",
    "papermill": {
     "duration": 6.568838,
     "end_time": "2024-01-08T10:49:35.696475",
     "exception": false,
     "start_time": "2024-01-08T10:49:29.127637",
     "status": "completed"
    },
    "tags": []
   },
   "source": [
    "# **Loss & Accuracy per Epoch For Best Model :**"
   ]
  },
  {
   "cell_type": "code",
   "execution_count": 7,
   "id": "553b8499",
   "metadata": {
    "execution": {
     "iopub.execute_input": "2024-01-08T10:49:48.902270Z",
     "iopub.status.busy": "2024-01-08T10:49:48.901315Z",
     "iopub.status.idle": "2024-01-08T10:54:20.573692Z",
     "shell.execute_reply": "2024-01-08T10:54:20.572760Z"
    },
    "id": "6MiPd1O8ERCn",
    "papermill": {
     "duration": 283.980536,
     "end_time": "2024-01-08T10:54:26.322993",
     "exception": false,
     "start_time": "2024-01-08T10:49:42.342457",
     "status": "completed"
    },
    "tags": []
   },
   "outputs": [
    {
     "name": "stdout",
     "output_type": "stream",
     "text": [
      "Epoch 1/20\n"
     ]
    },
    {
     "name": "stderr",
     "output_type": "stream",
     "text": [
      "2024-01-08 10:49:52.108664: E tensorflow/core/grappler/optimizers/meta_optimizer.cc:954] layout failed: INVALID_ARGUMENT: Size of values 0 does not match size of permutation 4 @ fanin shape inautoencoder_25/sequential_50/dropout_178/dropout/SelectV2-2-TransposeNHWCToNCHW-LayoutOptimizer\n"
     ]
    },
    {
     "name": "stdout",
     "output_type": "stream",
     "text": [
      "383/383 [==============================] - 17s 29ms/step - loss: 0.0516 - accuracy: 0.7904 - val_loss: 0.0623 - val_accuracy: 0.8090\n",
      "Epoch 2/20\n",
      "383/383 [==============================] - 11s 28ms/step - loss: 0.0238 - accuracy: 0.8076 - val_loss: 0.0157 - val_accuracy: 0.8123\n",
      "Epoch 3/20\n",
      "383/383 [==============================] - 11s 28ms/step - loss: 0.0189 - accuracy: 0.8101 - val_loss: 0.0133 - val_accuracy: 0.8130\n",
      "Epoch 4/20\n",
      "383/383 [==============================] - 11s 28ms/step - loss: 0.0168 - accuracy: 0.8111 - val_loss: 0.0111 - val_accuracy: 0.8130\n",
      "Epoch 5/20\n",
      "383/383 [==============================] - 11s 28ms/step - loss: 0.0147 - accuracy: 0.8120 - val_loss: 0.0094 - val_accuracy: 0.8139\n",
      "Epoch 6/20\n",
      "383/383 [==============================] - 11s 28ms/step - loss: 0.0134 - accuracy: 0.8125 - val_loss: 0.0086 - val_accuracy: 0.8137\n",
      "Epoch 7/20\n",
      "383/383 [==============================] - 11s 28ms/step - loss: 0.0125 - accuracy: 0.8129 - val_loss: 0.0077 - val_accuracy: 0.8141\n",
      "Epoch 8/20\n",
      "383/383 [==============================] - 11s 28ms/step - loss: 0.0117 - accuracy: 0.8132 - val_loss: 0.0082 - val_accuracy: 0.8137\n",
      "Epoch 9/20\n",
      "383/383 [==============================] - 11s 28ms/step - loss: 0.0111 - accuracy: 0.8134 - val_loss: 0.0068 - val_accuracy: 0.8145\n",
      "Epoch 10/20\n",
      "383/383 [==============================] - 11s 28ms/step - loss: 0.0107 - accuracy: 0.8135 - val_loss: 0.0066 - val_accuracy: 0.8145\n",
      "Epoch 11/20\n",
      "383/383 [==============================] - 11s 28ms/step - loss: 0.0104 - accuracy: 0.8137 - val_loss: 0.0063 - val_accuracy: 0.8145\n",
      "Epoch 12/20\n",
      "383/383 [==============================] - 11s 28ms/step - loss: 0.0100 - accuracy: 0.8138 - val_loss: 0.0059 - val_accuracy: 0.8146\n",
      "Epoch 13/20\n",
      "383/383 [==============================] - 11s 28ms/step - loss: 0.0096 - accuracy: 0.8139 - val_loss: 0.0058 - val_accuracy: 0.8146\n",
      "Epoch 14/20\n",
      "383/383 [==============================] - 11s 28ms/step - loss: 0.0094 - accuracy: 0.8139 - val_loss: 0.0057 - val_accuracy: 0.8146\n",
      "Epoch 15/20\n",
      "383/383 [==============================] - 11s 28ms/step - loss: 0.0093 - accuracy: 0.8140 - val_loss: 0.0058 - val_accuracy: 0.8146\n",
      "Epoch 16/20\n",
      "383/383 [==============================] - 11s 28ms/step - loss: 0.0090 - accuracy: 0.8141 - val_loss: 0.0054 - val_accuracy: 0.8148\n",
      "Epoch 17/20\n",
      "383/383 [==============================] - 11s 28ms/step - loss: 0.0089 - accuracy: 0.8141 - val_loss: 0.0058 - val_accuracy: 0.8146\n",
      "Epoch 18/20\n",
      "383/383 [==============================] - 11s 28ms/step - loss: 0.0087 - accuracy: 0.8142 - val_loss: 0.0053 - val_accuracy: 0.8147\n",
      "Epoch 19/20\n",
      "383/383 [==============================] - 11s 28ms/step - loss: 0.0086 - accuracy: 0.8142 - val_loss: 0.0060 - val_accuracy: 0.8145\n",
      "Epoch 20/20\n",
      "383/383 [==============================] - 11s 28ms/step - loss: 0.0085 - accuracy: 0.8142 - val_loss: 0.0051 - val_accuracy: 0.8149\n",
      "329/329 [==============================] - 2s 4ms/step - loss: 0.0052 - accuracy: 0.8145\n",
      "Test Loss: 0.005191380623728037\n",
      "Test Accuracy: 0.8145348429679871\n"
     ]
    }
   ],
   "source": [
    "layers = len(best_params['filters'])\n",
    "autoencoder = Autoencoder(best_params['dim'],layers,best_params['kernel'],best_params['filters'],shape,best_params['rate'])\n",
    "autoencoder.compile(optimizer='adam', loss=keras.losses.MeanSquaredError(),metrics=['accuracy'])\n",
    "early_stopping = EarlyStopping(monitor='val_loss', patience=3, restore_best_weights=True)\n",
    "history = autoencoder.fit(train_X, train_X,\n",
    "                epochs=best_params['epoch'],\n",
    "                shuffle=True,\n",
    "                batch_size=best_params['batch'],\n",
    "                callbacks=[early_stopping],\n",
    "                validation_data=(val_X, val_X))\n",
    "autoencoder.save('autoencoder', save_format='tf')\n",
    "evaluation = autoencoder.evaluate(test_X, test_X)\n",
    "print(\"Test Loss:\", evaluation[0])\n",
    "print(\"Test Accuracy:\", evaluation[1])"
   ]
  },
  {
   "cell_type": "code",
   "execution_count": 8,
   "id": "bcd63407",
   "metadata": {
    "execution": {
     "iopub.execute_input": "2024-01-08T10:54:40.083822Z",
     "iopub.status.busy": "2024-01-08T10:54:40.083433Z",
     "iopub.status.idle": "2024-01-08T10:54:40.457966Z",
     "shell.execute_reply": "2024-01-08T10:54:40.457056Z"
    },
    "papermill": {
     "duration": 7.187145,
     "end_time": "2024-01-08T10:54:40.460051",
     "exception": false,
     "start_time": "2024-01-08T10:54:33.272906",
     "status": "completed"
    },
    "tags": []
   },
   "outputs": [
    {
     "data": {
      "image/png": "[encoded data removed]",
      "text/plain": [
       "<Figure size 1000x500 with 1 Axes>"
      ]
     },
     "metadata": {},
     "output_type": "display_data"
    }
   ],
   "source": [
    "# Plot training and validation loss\n",
    "plt.figure(figsize=(10, 5))\n",
    "plt.plot(range(1, len(history.history['loss']) + 1), history.history['loss'], label='Training Loss', color='blue')\n",
    "plt.plot(range(1, len(history.history['val_loss']) + 1), history.history['val_loss'], label='Validation Loss', color='orange')\n",
    "plt.title('Training and Validation Loss')\n",
    "plt.xlabel('Epochs')\n",
    "plt.ylabel('Loss')\n",
    "plt.xticks(range(1, len(history.history['loss']) + 1))\n",
    "plt.legend()\n",
    "plt.show()"
   ]
  },
  {
   "cell_type": "code",
   "execution_count": 9,
   "id": "f8457146",
   "metadata": {
    "execution": {
     "iopub.execute_input": "2024-01-08T10:54:54.415872Z",
     "iopub.status.busy": "2024-01-08T10:54:54.415120Z",
     "iopub.status.idle": "2024-01-08T10:54:54.771595Z",
     "shell.execute_reply": "2024-01-08T10:54:54.770609Z"
    },
    "papermill": {
     "duration": 7.40896,
     "end_time": "2024-01-08T10:54:54.773578",
     "exception": false,
     "start_time": "2024-01-08T10:54:47.364618",
     "status": "completed"
    },
    "tags": []
   },
   "outputs": [
    {
     "data": {
      "image/png": "[encoded data removed]",
      "text/plain": [
       "<Figure size 1000x500 with 1 Axes>"
      ]
     },
     "metadata": {},
     "output_type": "display_data"
    }
   ],
   "source": [
    "plt.figure(figsize=(10, 5))\n",
    "plt.plot(range(1, len(history.history['accuracy']) + 1), history.history['accuracy'], label='Training Accuracy', color='blue')\n",
    "plt.plot(range(1, len(history.history['val_accuracy']) + 1), history.history['val_accuracy'], label='Validation Accuracy', color='orange')\n",
    "plt.title('Training and Validation Accuracy')\n",
    "plt.xlabel('Epochs')\n",
    "plt.ylabel('Accuracy')\n",
    "plt.xticks(range(1, len(history.history['accuracy']) + 1))\n",
    "plt.legend()\n",
    "plt.show()"
   ]
  },
  {
   "cell_type": "markdown",
   "id": "e6f4a6c1",
   "metadata": {
    "papermill": {
     "duration": 6.90137,
     "end_time": "2024-01-08T10:55:08.537841",
     "exception": false,
     "start_time": "2024-01-08T10:55:01.636471",
     "status": "completed"
    },
    "tags": []
   },
   "source": [
    "The plots demonstrate a small generalization gap as well as a trend in loss reduction.The regularization terms are only applied while training the model on the training set, inflating the training loss which explains why it ends up being bigger.We also notice how the number of epochs is sufficient since in the last ones there is a tendency for metrics to be stabilized."
   ]
  },
  {
   "cell_type": "markdown",
   "id": "b6c30245",
   "metadata": {
    "papermill": {
     "duration": 6.854384,
     "end_time": "2024-01-08T10:55:22.254030",
     "exception": false,
     "start_time": "2024-01-08T10:55:15.399646",
     "status": "completed"
    },
    "tags": []
   },
   "source": [
    "**Optimization History**"
   ]
  },
  {
   "cell_type": "code",
   "execution_count": 10,
   "id": "a015a484",
   "metadata": {
    "execution": {
     "iopub.execute_input": "2024-01-08T10:55:36.000900Z",
     "iopub.status.busy": "2024-01-08T10:55:36.000483Z",
     "iopub.status.idle": "2024-01-08T10:55:36.283414Z",
     "shell.execute_reply": "2024-01-08T10:55:36.282580Z"
    },
    "papermill": {
     "duration": 7.025701,
     "end_time": "2024-01-08T10:55:36.285261",
     "exception": false,
     "start_time": "2024-01-08T10:55:29.259560",
     "status": "completed"
    },
    "tags": []
   },
   "outputs": [
    {
     "data": {
      "text/html": [
       "        <script type=\"text/javascript\">\n",
       "        window.PlotlyConfig = {MathJaxConfig: 'local'};\n",
       "        if (window.MathJax && window.MathJax.Hub && window.MathJax.Hub.Config) {window.MathJax.Hub.Config({SVG: {font: \"STIX-Web\"}});}\n",
       "        if (typeof require !== 'undefined') {\n",
       "        require.undef(\"plotly\");\n",
       "        requirejs.config({\n",
       "            paths: {\n",
       "                'plotly': ['https://cdn.plot.ly/plotly-2.25.2.min']\n",
       "            }\n",
       "        });\n",
       "        require(['plotly'], function(Plotly) {\n",
       "            window._Plotly = Plotly;\n",
       "        });\n",
       "        }\n",
       "        </script>\n",
       "        "
      ]
     },
     "metadata": {},
     "output_type": "display_data"
    },
    {
     "data": {
      "text/html": [
       "<div>                            <div id=\"8a245270-3853-41b8-a1bd-8f230f138c3f\" class=\"plotly-graph-div\" style=\"height:525px; width:100%;\"></div>            <script type=\"text/javascript\">                require([\"plotly\"], function(Plotly) {                    window.PLOTLYENV=window.PLOTLYENV || {};                                    if (document.getElementById(\"8a245270-3853-41b8-a1bd-8f230f138c3f\")) {                    Plotly.newPlot(                        \"8a245270-3853-41b8-a1bd-8f230f138c3f\",                        [{\"mode\":\"markers\",\"name\":\"Objective Value\",\"x\":[0,1,2,3,4,5,6,7,8,9,10,11,12,13,14,15,16,17,18,19,20,21,22,23,24],\"y\":[0.015022884123027325,0.02417662926018238,0.00621600029990077,0.009335501119494438,0.02231593057513237,0.0268455371260643,0.014163535088300705,0.017016813158988953,0.017762450501322746,0.06751571595668793,0.006946315057575703,0.006384656764566898,0.006947650108486414,0.006076802033931017,0.006266904063522816,0.009226818569004536,0.005334606394171715,0.00532350642606616,0.030345747247338295,0.007879509590566158,0.005965924356132746,0.0055669378489255905,0.006152790505439043,0.005599604919552803,0.005305170547217131],\"type\":\"scatter\"},{\"mode\":\"lines\",\"name\":\"Best Value\",\"x\":[0,1,2,3,4,5,6,7,8,9,10,11,12,13,14,15,16,17,18,19,20,21,22,23,24],\"y\":[0.015022884123027325,0.015022884123027325,0.00621600029990077,0.00621600029990077,0.00621600029990077,0.00621600029990077,0.00621600029990077,0.00621600029990077,0.00621600029990077,0.00621600029990077,0.00621600029990077,0.00621600029990077,0.00621600029990077,0.006076802033931017,0.006076802033931017,0.006076802033931017,0.005334606394171715,0.00532350642606616,0.00532350642606616,0.00532350642606616,0.00532350642606616,0.00532350642606616,0.00532350642606616,0.00532350642606616,0.005305170547217131],\"type\":\"scatter\"},{\"marker\":{\"color\":\"#cccccc\"},\"mode\":\"markers\",\"name\":\"Infeasible Trial\",\"showlegend\":false,\"x\":[],\"y\":[],\"type\":\"scatter\"}],                        {\"title\":{\"text\":\"Optimization History Plot\"},\"xaxis\":{\"title\":{\"text\":\"Trial\"}},\"yaxis\":{\"title\":{\"text\":\"Objective Value\"}},\"template\":{\"data\":{\"histogram2dcontour\":[{\"type\":\"histogram2dcontour\",\"colorbar\":{\"outlinewidth\":0,\"ticks\":\"\"},\"colorscale\":[[0.0,\"#0d0887\"],[0.1111111111111111,\"#46039f\"],[0.2222222222222222,\"#7201a8\"],[0.3333333333333333,\"#9c179e\"],[0.4444444444444444,\"#bd3786\"],[0.5555555555555556,\"#d8576b\"],[0.6666666666666666,\"#ed7953\"],[0.7777777777777778,\"#fb9f3a\"],[0.8888888888888888,\"#fdca26\"],[1.0,\"#f0f921\"]]}],\"choropleth\":[{\"type\":\"choropleth\",\"colorbar\":{\"outlinewidth\":0,\"ticks\":\"\"}}],\"histogram2d\":[{\"type\":\"histogram2d\",\"colorbar\":{\"outlinewidth\":0,\"ticks\":\"\"},\"colorscale\":[[0.0,\"#0d0887\"],[0.1111111111111111,\"#46039f\"],[0.2222222222222222,\"#7201a8\"],[0.3333333333333333,\"#9c179e\"],[0.4444444444444444,\"#bd3786\"],[0.5555555555555556,\"#d8576b\"],[0.6666666666666666,\"#ed7953\"],[0.7777777777777778,\"#fb9f3a\"],[0.8888888888888888,\"#fdca26\"],[1.0,\"#f0f921\"]]}],\"heatmap\":[{\"type\":\"heatmap\",\"colorbar\":{\"outlinewidth\":0,\"ticks\":\"\"},\"colorscale\":[[0.0,\"#0d0887\"],[0.1111111111111111,\"#46039f\"],[0.2222222222222222,\"#7201a8\"],[0.3333333333333333,\"#9c179e\"],[0.4444444444444444,\"#bd3786\"],[0.5555555555555556,\"#d8576b\"],[0.6666666666666666,\"#ed7953\"],[0.7777777777777778,\"#fb9f3a\"],[0.8888888888888888,\"#fdca26\"],[1.0,\"#f0f921\"]]}],\"heatmapgl\":[{\"type\":\"heatmapgl\",\"colorbar\":{\"outlinewidth\":0,\"ticks\":\"\"},\"colorscale\":[[0.0,\"#0d0887\"],[0.1111111111111111,\"#46039f\"],[0.2222222222222222,\"#7201a8\"],[0.3333333333333333,\"#9c179e\"],[0.4444444444444444,\"#bd3786\"],[0.5555555555555556,\"#d8576b\"],[0.6666666666666666,\"#ed7953\"],[0.7777777777777778,\"#fb9f3a\"],[0.8888888888888888,\"#fdca26\"],[1.0,\"#f0f921\"]]}],\"contourcarpet\":[{\"type\":\"contourcarpet\",\"colorbar\":{\"outlinewidth\":0,\"ticks\":\"\"}}],\"contour\":[{\"type\":\"contour\",\"colorbar\":{\"outlinewidth\":0,\"ticks\":\"\"},\"colorscale\":[[0.0,\"#0d0887\"],[0.1111111111111111,\"#46039f\"],[0.2222222222222222,\"#7201a8\"],[0.3333333333333333,\"#9c179e\"],[0.4444444444444444,\"#bd3786\"],[0.5555555555555556,\"#d8576b\"],[0.6666666666666666,\"#ed7953\"],[0.7777777777777778,\"#fb9f3a\"],[0.8888888888888888,\"#fdca26\"],[1.0,\"#f0f921\"]]}],\"surface\":[{\"type\":\"surface\",\"colorbar\":{\"outlinewidth\":0,\"ticks\":\"\"},\"colorscale\":[[0.0,\"#0d0887\"],[0.1111111111111111,\"#46039f\"],[0.2222222222222222,\"#7201a8\"],[0.3333333333333333,\"#9c179e\"],[0.4444444444444444,\"#bd3786\"],[0.5555555555555556,\"#d8576b\"],[0.6666666666666666,\"#ed7953\"],[0.7777777777777778,\"#fb9f3a\"],[0.8888888888888888,\"#fdca26\"],[1.0,\"#f0f921\"]]}],\"mesh3d\":[{\"type\":\"mesh3d\",\"colorbar\":{\"outlinewidth\":0,\"ticks\":\"\"}}],\"scatter\":[{\"fillpattern\":{\"fillmode\":\"overlay\",\"size\":10,\"solidity\":0.2},\"type\":\"scatter\"}],\"parcoords\":[{\"type\":\"parcoords\",\"line\":{\"colorbar\":{\"outlinewidth\":0,\"ticks\":\"\"}}}],\"scatterpolargl\":[{\"type\":\"scatterpolargl\",\"marker\":{\"colorbar\":{\"outlinewidth\":0,\"ticks\":\"\"}}}],\"bar\":[{\"error_x\":{\"color\":\"#2a3f5f\"},\"error_y\":{\"color\":\"#2a3f5f\"},\"marker\":{\"line\":{\"color\":\"#E5ECF6\",\"width\":0.5},\"pattern\":{\"fillmode\":\"overlay\",\"size\":10,\"solidity\":0.2}},\"type\":\"bar\"}],\"scattergeo\":[{\"type\":\"scattergeo\",\"marker\":{\"colorbar\":{\"outlinewidth\":0,\"ticks\":\"\"}}}],\"scatterpolar\":[{\"type\":\"scatterpolar\",\"marker\":{\"colorbar\":{\"outlinewidth\":0,\"ticks\":\"\"}}}],\"histogram\":[{\"marker\":{\"pattern\":{\"fillmode\":\"overlay\",\"size\":10,\"solidity\":0.2}},\"type\":\"histogram\"}],\"scattergl\":[{\"type\":\"scattergl\",\"marker\":{\"colorbar\":{\"outlinewidth\":0,\"ticks\":\"\"}}}],\"scatter3d\":[{\"type\":\"scatter3d\",\"line\":{\"colorbar\":{\"outlinewidth\":0,\"ticks\":\"\"}},\"marker\":{\"colorbar\":{\"outlinewidth\":0,\"ticks\":\"\"}}}],\"scattermapbox\":[{\"type\":\"scattermapbox\",\"marker\":{\"colorbar\":{\"outlinewidth\":0,\"ticks\":\"\"}}}],\"scatterternary\":[{\"type\":\"scatterternary\",\"marker\":{\"colorbar\":{\"outlinewidth\":0,\"ticks\":\"\"}}}],\"scattercarpet\":[{\"type\":\"scattercarpet\",\"marker\":{\"colorbar\":{\"outlinewidth\":0,\"ticks\":\"\"}}}],\"carpet\":[{\"aaxis\":{\"endlinecolor\":\"#2a3f5f\",\"gridcolor\":\"white\",\"linecolor\":\"white\",\"minorgridcolor\":\"white\",\"startlinecolor\":\"#2a3f5f\"},\"baxis\":{\"endlinecolor\":\"#2a3f5f\",\"gridcolor\":\"white\",\"linecolor\":\"white\",\"minorgridcolor\":\"white\",\"startlinecolor\":\"#2a3f5f\"},\"type\":\"carpet\"}],\"table\":[{\"cells\":{\"fill\":{\"color\":\"#EBF0F8\"},\"line\":{\"color\":\"white\"}},\"header\":{\"fill\":{\"color\":\"#C8D4E3\"},\"line\":{\"color\":\"white\"}},\"type\":\"table\"}],\"barpolar\":[{\"marker\":{\"line\":{\"color\":\"#E5ECF6\",\"width\":0.5},\"pattern\":{\"fillmode\":\"overlay\",\"size\":10,\"solidity\":0.2}},\"type\":\"barpolar\"}],\"pie\":[{\"automargin\":true,\"type\":\"pie\"}]},\"layout\":{\"autotypenumbers\":\"strict\",\"colorway\":[\"#636efa\",\"#EF553B\",\"#00cc96\",\"#ab63fa\",\"#FFA15A\",\"#19d3f3\",\"#FF6692\",\"#B6E880\",\"#FF97FF\",\"#FECB52\"],\"font\":{\"color\":\"#2a3f5f\"},\"hovermode\":\"closest\",\"hoverlabel\":{\"align\":\"left\"},\"paper_bgcolor\":\"white\",\"plot_bgcolor\":\"#E5ECF6\",\"polar\":{\"bgcolor\":\"#E5ECF6\",\"angularaxis\":{\"gridcolor\":\"white\",\"linecolor\":\"white\",\"ticks\":\"\"},\"radialaxis\":{\"gridcolor\":\"white\",\"linecolor\":\"white\",\"ticks\":\"\"}},\"ternary\":{\"bgcolor\":\"#E5ECF6\",\"aaxis\":{\"gridcolor\":\"white\",\"linecolor\":\"white\",\"ticks\":\"\"},\"baxis\":{\"gridcolor\":\"white\",\"linecolor\":\"white\",\"ticks\":\"\"},\"caxis\":{\"gridcolor\":\"white\",\"linecolor\":\"white\",\"ticks\":\"\"}},\"coloraxis\":{\"colorbar\":{\"outlinewidth\":0,\"ticks\":\"\"}},\"colorscale\":{\"sequential\":[[0.0,\"#0d0887\"],[0.1111111111111111,\"#46039f\"],[0.2222222222222222,\"#7201a8\"],[0.3333333333333333,\"#9c179e\"],[0.4444444444444444,\"#bd3786\"],[0.5555555555555556,\"#d8576b\"],[0.6666666666666666,\"#ed7953\"],[0.7777777777777778,\"#fb9f3a\"],[0.8888888888888888,\"#fdca26\"],[1.0,\"#f0f921\"]],\"sequentialminus\":[[0.0,\"#0d0887\"],[0.1111111111111111,\"#46039f\"],[0.2222222222222222,\"#7201a8\"],[0.3333333333333333,\"#9c179e\"],[0.4444444444444444,\"#bd3786\"],[0.5555555555555556,\"#d8576b\"],[0.6666666666666666,\"#ed7953\"],[0.7777777777777778,\"#fb9f3a\"],[0.8888888888888888,\"#fdca26\"],[1.0,\"#f0f921\"]],\"diverging\":[[0,\"#8e0152\"],[0.1,\"#c51b7d\"],[0.2,\"#de77ae\"],[0.3,\"#f1b6da\"],[0.4,\"#fde0ef\"],[0.5,\"#f7f7f7\"],[0.6,\"#e6f5d0\"],[0.7,\"#b8e186\"],[0.8,\"#7fbc41\"],[0.9,\"#4d9221\"],[1,\"#276419\"]]},\"xaxis\":{\"gridcolor\":\"white\",\"linecolor\":\"white\",\"ticks\":\"\",\"title\":{\"standoff\":15},\"zerolinecolor\":\"white\",\"automargin\":true,\"zerolinewidth\":2},\"yaxis\":{\"gridcolor\":\"white\",\"linecolor\":\"white\",\"ticks\":\"\",\"title\":{\"standoff\":15},\"zerolinecolor\":\"white\",\"automargin\":true,\"zerolinewidth\":2},\"scene\":{\"xaxis\":{\"backgroundcolor\":\"#E5ECF6\",\"gridcolor\":\"white\",\"linecolor\":\"white\",\"showbackground\":true,\"ticks\":\"\",\"zerolinecolor\":\"white\",\"gridwidth\":2},\"yaxis\":{\"backgroundcolor\":\"#E5ECF6\",\"gridcolor\":\"white\",\"linecolor\":\"white\",\"showbackground\":true,\"ticks\":\"\",\"zerolinecolor\":\"white\",\"gridwidth\":2},\"zaxis\":{\"backgroundcolor\":\"#E5ECF6\",\"gridcolor\":\"white\",\"linecolor\":\"white\",\"showbackground\":true,\"ticks\":\"\",\"zerolinecolor\":\"white\",\"gridwidth\":2}},\"shapedefaults\":{\"line\":{\"color\":\"#2a3f5f\"}},\"annotationdefaults\":{\"arrowcolor\":\"#2a3f5f\",\"arrowhead\":0,\"arrowwidth\":1},\"geo\":{\"bgcolor\":\"white\",\"landcolor\":\"#E5ECF6\",\"subunitcolor\":\"white\",\"showland\":true,\"showlakes\":true,\"lakecolor\":\"white\"},\"title\":{\"x\":0.05},\"mapbox\":{\"style\":\"light\"}}}},                        {\"responsive\": true}                    ).then(function(){\n",
       "                            \n",
       "var gd = document.getElementById('8a245270-3853-41b8-a1bd-8f230f138c3f');\n",
       "var x = new MutationObserver(function (mutations, observer) {{\n",
       "        var display = window.getComputedStyle(gd).display;\n",
       "        if (!display || display === 'none') {{\n",
       "            console.log([gd, 'removed!']);\n",
       "            Plotly.purge(gd);\n",
       "            observer.disconnect();\n",
       "        }}\n",
       "}});\n",
       "\n",
       "// Listen for the removal of the full notebook cells\n",
       "var notebookContainer = gd.closest('#notebook-container');\n",
       "if (notebookContainer) {{\n",
       "    x.observe(notebookContainer, {childList: true});\n",
       "}}\n",
       "\n",
       "// Listen for the clearing of the current output cell\n",
       "var outputEl = gd.closest('.output');\n",
       "if (outputEl) {{\n",
       "    x.observe(outputEl, {childList: true});\n",
       "}}\n",
       "\n",
       "                        })                };                });            </script>        </div>"
      ]
     },
     "metadata": {},
     "output_type": "display_data"
    }
   ],
   "source": [
    "vis.plot_optimization_history(study)"
   ]
  },
  {
   "cell_type": "markdown",
   "id": "58e5a95f",
   "metadata": {
    "papermill": {
     "duration": 6.864717,
     "end_time": "2024-01-08T10:55:50.045591",
     "exception": false,
     "start_time": "2024-01-08T10:55:43.180874",
     "status": "completed"
    },
    "tags": []
   },
   "source": [
    "**Plotting Parameter Importance:**"
   ]
  },
  {
   "cell_type": "code",
   "execution_count": 11,
   "id": "c68a952a",
   "metadata": {
    "execution": {
     "iopub.execute_input": "2024-01-08T10:56:03.947187Z",
     "iopub.status.busy": "2024-01-08T10:56:03.946833Z",
     "iopub.status.idle": "2024-01-08T10:56:04.375591Z",
     "shell.execute_reply": "2024-01-08T10:56:04.374729Z"
    },
    "papermill": {
     "duration": 7.398432,
     "end_time": "2024-01-08T10:56:04.377682",
     "exception": false,
     "start_time": "2024-01-08T10:55:56.979250",
     "status": "completed"
    },
    "tags": []
   },
   "outputs": [
    {
     "data": {
      "text/html": [
       "<div>                            <div id=\"cd1845e3-0547-4e5e-be28-01d0f180822e\" class=\"plotly-graph-div\" style=\"height:525px; width:100%;\"></div>            <script type=\"text/javascript\">                require([\"plotly\"], function(Plotly) {                    window.PLOTLYENV=window.PLOTLYENV || {};                                    if (document.getElementById(\"cd1845e3-0547-4e5e-be28-01d0f180822e\")) {                    Plotly.newPlot(                        \"cd1845e3-0547-4e5e-be28-01d0f180822e\",                        [{\"cliponaxis\":false,\"hovertemplate\":[\"rate (CategoricalDistribution): 0.04488259914965074\\u003cextra\\u003e\\u003c\\u002fextra\\u003e\",\"kernel (CategoricalDistribution): 0.04586974459898521\\u003cextra\\u003e\\u003c\\u002fextra\\u003e\",\"epoch (CategoricalDistribution): 0.061276331035672926\\u003cextra\\u003e\\u003c\\u002fextra\\u003e\",\"batch (CategoricalDistribution): 0.1022812324835412\\u003cextra\\u003e\\u003c\\u002fextra\\u003e\",\"filters (CategoricalDistribution): 0.19616346531790912\\u003cextra\\u003e\\u003c\\u002fextra\\u003e\",\"dim (CategoricalDistribution): 0.549526627414241\\u003cextra\\u003e\\u003c\\u002fextra\\u003e\"],\"name\":\"Objective Value\",\"orientation\":\"h\",\"text\":[\"0.04\",\"0.05\",\"0.06\",\"0.10\",\"0.20\",\"0.55\"],\"textposition\":\"outside\",\"x\":[0.04488259914965074,0.04586974459898521,0.061276331035672926,0.1022812324835412,0.19616346531790912,0.549526627414241],\"y\":[\"rate\",\"kernel\",\"epoch\",\"batch\",\"filters\",\"dim\"],\"type\":\"bar\"}],                        {\"title\":{\"text\":\"Hyperparameter Importances\"},\"xaxis\":{\"title\":{\"text\":\"Hyperparameter Importance\"}},\"yaxis\":{\"title\":{\"text\":\"Hyperparameter\"}},\"template\":{\"data\":{\"histogram2dcontour\":[{\"type\":\"histogram2dcontour\",\"colorbar\":{\"outlinewidth\":0,\"ticks\":\"\"},\"colorscale\":[[0.0,\"#0d0887\"],[0.1111111111111111,\"#46039f\"],[0.2222222222222222,\"#7201a8\"],[0.3333333333333333,\"#9c179e\"],[0.4444444444444444,\"#bd3786\"],[0.5555555555555556,\"#d8576b\"],[0.6666666666666666,\"#ed7953\"],[0.7777777777777778,\"#fb9f3a\"],[0.8888888888888888,\"#fdca26\"],[1.0,\"#f0f921\"]]}],\"choropleth\":[{\"type\":\"choropleth\",\"colorbar\":{\"outlinewidth\":0,\"ticks\":\"\"}}],\"histogram2d\":[{\"type\":\"histogram2d\",\"colorbar\":{\"outlinewidth\":0,\"ticks\":\"\"},\"colorscale\":[[0.0,\"#0d0887\"],[0.1111111111111111,\"#46039f\"],[0.2222222222222222,\"#7201a8\"],[0.3333333333333333,\"#9c179e\"],[0.4444444444444444,\"#bd3786\"],[0.5555555555555556,\"#d8576b\"],[0.6666666666666666,\"#ed7953\"],[0.7777777777777778,\"#fb9f3a\"],[0.8888888888888888,\"#fdca26\"],[1.0,\"#f0f921\"]]}],\"heatmap\":[{\"type\":\"heatmap\",\"colorbar\":{\"outlinewidth\":0,\"ticks\":\"\"},\"colorscale\":[[0.0,\"#0d0887\"],[0.1111111111111111,\"#46039f\"],[0.2222222222222222,\"#7201a8\"],[0.3333333333333333,\"#9c179e\"],[0.4444444444444444,\"#bd3786\"],[0.5555555555555556,\"#d8576b\"],[0.6666666666666666,\"#ed7953\"],[0.7777777777777778,\"#fb9f3a\"],[0.8888888888888888,\"#fdca26\"],[1.0,\"#f0f921\"]]}],\"heatmapgl\":[{\"type\":\"heatmapgl\",\"colorbar\":{\"outlinewidth\":0,\"ticks\":\"\"},\"colorscale\":[[0.0,\"#0d0887\"],[0.1111111111111111,\"#46039f\"],[0.2222222222222222,\"#7201a8\"],[0.3333333333333333,\"#9c179e\"],[0.4444444444444444,\"#bd3786\"],[0.5555555555555556,\"#d8576b\"],[0.6666666666666666,\"#ed7953\"],[0.7777777777777778,\"#fb9f3a\"],[0.8888888888888888,\"#fdca26\"],[1.0,\"#f0f921\"]]}],\"contourcarpet\":[{\"type\":\"contourcarpet\",\"colorbar\":{\"outlinewidth\":0,\"ticks\":\"\"}}],\"contour\":[{\"type\":\"contour\",\"colorbar\":{\"outlinewidth\":0,\"ticks\":\"\"},\"colorscale\":[[0.0,\"#0d0887\"],[0.1111111111111111,\"#46039f\"],[0.2222222222222222,\"#7201a8\"],[0.3333333333333333,\"#9c179e\"],[0.4444444444444444,\"#bd3786\"],[0.5555555555555556,\"#d8576b\"],[0.6666666666666666,\"#ed7953\"],[0.7777777777777778,\"#fb9f3a\"],[0.8888888888888888,\"#fdca26\"],[1.0,\"#f0f921\"]]}],\"surface\":[{\"type\":\"surface\",\"colorbar\":{\"outlinewidth\":0,\"ticks\":\"\"},\"colorscale\":[[0.0,\"#0d0887\"],[0.1111111111111111,\"#46039f\"],[0.2222222222222222,\"#7201a8\"],[0.3333333333333333,\"#9c179e\"],[0.4444444444444444,\"#bd3786\"],[0.5555555555555556,\"#d8576b\"],[0.6666666666666666,\"#ed7953\"],[0.7777777777777778,\"#fb9f3a\"],[0.8888888888888888,\"#fdca26\"],[1.0,\"#f0f921\"]]}],\"mesh3d\":[{\"type\":\"mesh3d\",\"colorbar\":{\"outlinewidth\":0,\"ticks\":\"\"}}],\"scatter\":[{\"fillpattern\":{\"fillmode\":\"overlay\",\"size\":10,\"solidity\":0.2},\"type\":\"scatter\"}],\"parcoords\":[{\"type\":\"parcoords\",\"line\":{\"colorbar\":{\"outlinewidth\":0,\"ticks\":\"\"}}}],\"scatterpolargl\":[{\"type\":\"scatterpolargl\",\"marker\":{\"colorbar\":{\"outlinewidth\":0,\"ticks\":\"\"}}}],\"bar\":[{\"error_x\":{\"color\":\"#2a3f5f\"},\"error_y\":{\"color\":\"#2a3f5f\"},\"marker\":{\"line\":{\"color\":\"#E5ECF6\",\"width\":0.5},\"pattern\":{\"fillmode\":\"overlay\",\"size\":10,\"solidity\":0.2}},\"type\":\"bar\"}],\"scattergeo\":[{\"type\":\"scattergeo\",\"marker\":{\"colorbar\":{\"outlinewidth\":0,\"ticks\":\"\"}}}],\"scatterpolar\":[{\"type\":\"scatterpolar\",\"marker\":{\"colorbar\":{\"outlinewidth\":0,\"ticks\":\"\"}}}],\"histogram\":[{\"marker\":{\"pattern\":{\"fillmode\":\"overlay\",\"size\":10,\"solidity\":0.2}},\"type\":\"histogram\"}],\"scattergl\":[{\"type\":\"scattergl\",\"marker\":{\"colorbar\":{\"outlinewidth\":0,\"ticks\":\"\"}}}],\"scatter3d\":[{\"type\":\"scatter3d\",\"line\":{\"colorbar\":{\"outlinewidth\":0,\"ticks\":\"\"}},\"marker\":{\"colorbar\":{\"outlinewidth\":0,\"ticks\":\"\"}}}],\"scattermapbox\":[{\"type\":\"scattermapbox\",\"marker\":{\"colorbar\":{\"outlinewidth\":0,\"ticks\":\"\"}}}],\"scatterternary\":[{\"type\":\"scatterternary\",\"marker\":{\"colorbar\":{\"outlinewidth\":0,\"ticks\":\"\"}}}],\"scattercarpet\":[{\"type\":\"scattercarpet\",\"marker\":{\"colorbar\":{\"outlinewidth\":0,\"ticks\":\"\"}}}],\"carpet\":[{\"aaxis\":{\"endlinecolor\":\"#2a3f5f\",\"gridcolor\":\"white\",\"linecolor\":\"white\",\"minorgridcolor\":\"white\",\"startlinecolor\":\"#2a3f5f\"},\"baxis\":{\"endlinecolor\":\"#2a3f5f\",\"gridcolor\":\"white\",\"linecolor\":\"white\",\"minorgridcolor\":\"white\",\"startlinecolor\":\"#2a3f5f\"},\"type\":\"carpet\"}],\"table\":[{\"cells\":{\"fill\":{\"color\":\"#EBF0F8\"},\"line\":{\"color\":\"white\"}},\"header\":{\"fill\":{\"color\":\"#C8D4E3\"},\"line\":{\"color\":\"white\"}},\"type\":\"table\"}],\"barpolar\":[{\"marker\":{\"line\":{\"color\":\"#E5ECF6\",\"width\":0.5},\"pattern\":{\"fillmode\":\"overlay\",\"size\":10,\"solidity\":0.2}},\"type\":\"barpolar\"}],\"pie\":[{\"automargin\":true,\"type\":\"pie\"}]},\"layout\":{\"autotypenumbers\":\"strict\",\"colorway\":[\"#636efa\",\"#EF553B\",\"#00cc96\",\"#ab63fa\",\"#FFA15A\",\"#19d3f3\",\"#FF6692\",\"#B6E880\",\"#FF97FF\",\"#FECB52\"],\"font\":{\"color\":\"#2a3f5f\"},\"hovermode\":\"closest\",\"hoverlabel\":{\"align\":\"left\"},\"paper_bgcolor\":\"white\",\"plot_bgcolor\":\"#E5ECF6\",\"polar\":{\"bgcolor\":\"#E5ECF6\",\"angularaxis\":{\"gridcolor\":\"white\",\"linecolor\":\"white\",\"ticks\":\"\"},\"radialaxis\":{\"gridcolor\":\"white\",\"linecolor\":\"white\",\"ticks\":\"\"}},\"ternary\":{\"bgcolor\":\"#E5ECF6\",\"aaxis\":{\"gridcolor\":\"white\",\"linecolor\":\"white\",\"ticks\":\"\"},\"baxis\":{\"gridcolor\":\"white\",\"linecolor\":\"white\",\"ticks\":\"\"},\"caxis\":{\"gridcolor\":\"white\",\"linecolor\":\"white\",\"ticks\":\"\"}},\"coloraxis\":{\"colorbar\":{\"outlinewidth\":0,\"ticks\":\"\"}},\"colorscale\":{\"sequential\":[[0.0,\"#0d0887\"],[0.1111111111111111,\"#46039f\"],[0.2222222222222222,\"#7201a8\"],[0.3333333333333333,\"#9c179e\"],[0.4444444444444444,\"#bd3786\"],[0.5555555555555556,\"#d8576b\"],[0.6666666666666666,\"#ed7953\"],[0.7777777777777778,\"#fb9f3a\"],[0.8888888888888888,\"#fdca26\"],[1.0,\"#f0f921\"]],\"sequentialminus\":[[0.0,\"#0d0887\"],[0.1111111111111111,\"#46039f\"],[0.2222222222222222,\"#7201a8\"],[0.3333333333333333,\"#9c179e\"],[0.4444444444444444,\"#bd3786\"],[0.5555555555555556,\"#d8576b\"],[0.6666666666666666,\"#ed7953\"],[0.7777777777777778,\"#fb9f3a\"],[0.8888888888888888,\"#fdca26\"],[1.0,\"#f0f921\"]],\"diverging\":[[0,\"#8e0152\"],[0.1,\"#c51b7d\"],[0.2,\"#de77ae\"],[0.3,\"#f1b6da\"],[0.4,\"#fde0ef\"],[0.5,\"#f7f7f7\"],[0.6,\"#e6f5d0\"],[0.7,\"#b8e186\"],[0.8,\"#7fbc41\"],[0.9,\"#4d9221\"],[1,\"#276419\"]]},\"xaxis\":{\"gridcolor\":\"white\",\"linecolor\":\"white\",\"ticks\":\"\",\"title\":{\"standoff\":15},\"zerolinecolor\":\"white\",\"automargin\":true,\"zerolinewidth\":2},\"yaxis\":{\"gridcolor\":\"white\",\"linecolor\":\"white\",\"ticks\":\"\",\"title\":{\"standoff\":15},\"zerolinecolor\":\"white\",\"automargin\":true,\"zerolinewidth\":2},\"scene\":{\"xaxis\":{\"backgroundcolor\":\"#E5ECF6\",\"gridcolor\":\"white\",\"linecolor\":\"white\",\"showbackground\":true,\"ticks\":\"\",\"zerolinecolor\":\"white\",\"gridwidth\":2},\"yaxis\":{\"backgroundcolor\":\"#E5ECF6\",\"gridcolor\":\"white\",\"linecolor\":\"white\",\"showbackground\":true,\"ticks\":\"\",\"zerolinecolor\":\"white\",\"gridwidth\":2},\"zaxis\":{\"backgroundcolor\":\"#E5ECF6\",\"gridcolor\":\"white\",\"linecolor\":\"white\",\"showbackground\":true,\"ticks\":\"\",\"zerolinecolor\":\"white\",\"gridwidth\":2}},\"shapedefaults\":{\"line\":{\"color\":\"#2a3f5f\"}},\"annotationdefaults\":{\"arrowcolor\":\"#2a3f5f\",\"arrowhead\":0,\"arrowwidth\":1},\"geo\":{\"bgcolor\":\"white\",\"landcolor\":\"#E5ECF6\",\"subunitcolor\":\"white\",\"showland\":true,\"showlakes\":true,\"lakecolor\":\"white\"},\"title\":{\"x\":0.05},\"mapbox\":{\"style\":\"light\"}}}},                        {\"responsive\": true}                    ).then(function(){\n",
       "                            \n",
       "var gd = document.getElementById('cd1845e3-0547-4e5e-be28-01d0f180822e');\n",
       "var x = new MutationObserver(function (mutations, observer) {{\n",
       "        var display = window.getComputedStyle(gd).display;\n",
       "        if (!display || display === 'none') {{\n",
       "            console.log([gd, 'removed!']);\n",
       "            Plotly.purge(gd);\n",
       "            observer.disconnect();\n",
       "        }}\n",
       "}});\n",
       "\n",
       "// Listen for the removal of the full notebook cells\n",
       "var notebookContainer = gd.closest('#notebook-container');\n",
       "if (notebookContainer) {{\n",
       "    x.observe(notebookContainer, {childList: true});\n",
       "}}\n",
       "\n",
       "// Listen for the clearing of the current output cell\n",
       "var outputEl = gd.closest('.output');\n",
       "if (outputEl) {{\n",
       "    x.observe(outputEl, {childList: true});\n",
       "}}\n",
       "\n",
       "                        })                };                });            </script>        </div>"
      ]
     },
     "metadata": {},
     "output_type": "display_data"
    }
   ],
   "source": [
    "vis.plot_param_importances(study)"
   ]
  },
  {
   "cell_type": "markdown",
   "id": "0d28f584",
   "metadata": {
    "papermill": {
     "duration": 6.871336,
     "end_time": "2024-01-08T10:56:18.102506",
     "exception": false,
     "start_time": "2024-01-08T10:56:11.231170",
     "status": "completed"
    },
    "tags": []
   },
   "source": [
    "As expected, we notice that the the latent dimension has the biggest influence on the performance, since the bigger it is (30) the bigger the model's capacity to encapsulate information and successfully extract the most important features of the input.A larger number of layers with big filters ([32, 64, 128, 256]) as well is conducive to model's complexity improving the loss score.A rather moderate batch (128) size is being used meaning the weights are being updated more often and generalize better.Since the dataset is not too complex, it can be learned quickly in small number of epochs (20).Lastly, dropout rate is moderate (0.5) leading to more robust representations and better generalization,(using batch normalization reduces the need for dropout too).The model performs well with a rather small batch size and therefore needs a small number of epochs."
   ]
  }
 ],
 "metadata": {
  "colab": {
   "provenance": []
  },
  "kaggle": {
   "accelerator": "gpu",
   "dataSources": [],
   "dockerImageVersionId": 30626,
   "isGpuEnabled": true,
   "isInternetEnabled": true,
   "language": "python",
   "sourceType": "notebook"
  },
  "kernelspec": {
   "display_name": "Python 3",
   "language": "python",
   "name": "python3"
  },
  "language_info": {
   "codemirror_mode": {
    "name": "ipython",
    "version": 3
   },
   "file_extension": ".py",
   "mimetype": "text/x-python",
   "name": "python",
   "nbconvert_exporter": "python",
   "pygments_lexer": "ipython3",
   "version": "3.10.12"
  },
  "papermill": {
   "default_parameters": {},
   "duration": 5566.454269,
   "end_time": "2024-01-08T10:56:28.273033",
   "environment_variables": {},
   "exception": null,
   "input_path": "__notebook__.ipynb",
   "output_path": "__notebook__.ipynb",
   "parameters": {},
   "start_time": "2024-01-08T09:23:41.818764",
   "version": "2.4.0"
  }
 },
 "nbformat": 4,
 "nbformat_minor": 5
}
