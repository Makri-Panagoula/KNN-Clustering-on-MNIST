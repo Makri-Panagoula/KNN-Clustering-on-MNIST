{
 "cells": [
  {
   "cell_type": "markdown",
   "id": "69231f5b",
   "metadata": {
    "id": "BEe8WbMJG4Xi",
    "papermill": {
     "duration": 0.006324,
     "end_time": "2024-01-06T15:52:51.899611",
     "exception": false,
     "start_time": "2024-01-06T15:52:51.893287",
     "status": "completed"
    },
    "tags": []
   },
   "source": [
    "Importing Libraries and Packages:"
   ]
  },
  {
   "cell_type": "code",
   "execution_count": 1,
   "id": "88a95689",
   "metadata": {
    "execution": {
     "iopub.execute_input": "2024-01-06T15:52:51.912865Z",
     "iopub.status.busy": "2024-01-06T15:52:51.912452Z",
     "iopub.status.idle": "2024-01-06T15:53:31.040926Z",
     "shell.execute_reply": "2024-01-06T15:53:31.039845Z"
    },
    "id": "vY7tZEIVgz2L",
    "outputId": "c3d9d6f0-6e02-4f8b-cafd-7b5abd925960",
    "papermill": {
     "duration": 39.138206,
     "end_time": "2024-01-06T15:53:31.043628",
     "exception": false,
     "start_time": "2024-01-06T15:52:51.905422",
     "status": "completed"
    },
    "tags": []
   },
   "outputs": [
    {
     "name": "stdout",
     "output_type": "stream",
     "text": [
      "Requirement already satisfied: tensorflow in /opt/conda/lib/python3.10/site-packages (2.13.0)\r\n",
      "Requirement already satisfied: absl-py>=1.0.0 in /opt/conda/lib/python3.10/site-packages (from tensorflow) (1.4.0)\r\n",
      "Requirement already satisfied: astunparse>=1.6.0 in /opt/conda/lib/python3.10/site-packages (from tensorflow) (1.6.3)\r\n",
      "Requirement already satisfied: flatbuffers>=23.1.21 in /opt/conda/lib/python3.10/site-packages (from tensorflow) (23.5.26)\r\n",
      "Requirement already satisfied: gast<=0.4.0,>=0.2.1 in /opt/conda/lib/python3.10/site-packages (from tensorflow) (0.4.0)\r\n",
      "Requirement already satisfied: google-pasta>=0.1.1 in /opt/conda/lib/python3.10/site-packages (from tensorflow) (0.2.0)\r\n",
      "Requirement already satisfied: grpcio<2.0,>=1.24.3 in /opt/conda/lib/python3.10/site-packages (from tensorflow) (1.51.1)\r\n",
      "Requirement already satisfied: h5py>=2.9.0 in /opt/conda/lib/python3.10/site-packages (from tensorflow) (3.9.0)\r\n",
      "Requirement already satisfied: keras<2.14,>=2.13.1 in /opt/conda/lib/python3.10/site-packages (from tensorflow) (2.13.1)\r\n",
      "Requirement already satisfied: libclang>=13.0.0 in /opt/conda/lib/python3.10/site-packages (from tensorflow) (16.0.6)\r\n",
      "Requirement already satisfied: numpy<=1.24.3,>=1.22 in /opt/conda/lib/python3.10/site-packages (from tensorflow) (1.24.3)\r\n",
      "Requirement already satisfied: opt-einsum>=2.3.2 in /opt/conda/lib/python3.10/site-packages (from tensorflow) (3.3.0)\r\n",
      "Requirement already satisfied: packaging in /opt/conda/lib/python3.10/site-packages (from tensorflow) (21.3)\r\n",
      "Requirement already satisfied: protobuf!=4.21.0,!=4.21.1,!=4.21.2,!=4.21.3,!=4.21.4,!=4.21.5,<5.0.0dev,>=3.20.3 in /opt/conda/lib/python3.10/site-packages (from tensorflow) (3.20.3)\r\n",
      "Requirement already satisfied: setuptools in /opt/conda/lib/python3.10/site-packages (from tensorflow) (68.1.2)\r\n",
      "Requirement already satisfied: six>=1.12.0 in /opt/conda/lib/python3.10/site-packages (from tensorflow) (1.16.0)\r\n",
      "Requirement already satisfied: tensorboard<2.14,>=2.13 in /opt/conda/lib/python3.10/site-packages (from tensorflow) (2.13.0)\r\n",
      "Requirement already satisfied: tensorflow-estimator<2.14,>=2.13.0 in /opt/conda/lib/python3.10/site-packages (from tensorflow) (2.13.0)\r\n",
      "Requirement already satisfied: termcolor>=1.1.0 in /opt/conda/lib/python3.10/site-packages (from tensorflow) (2.3.0)\r\n",
      "Requirement already satisfied: typing-extensions<4.6.0,>=3.6.6 in /opt/conda/lib/python3.10/site-packages (from tensorflow) (4.5.0)\r\n",
      "Requirement already satisfied: wrapt>=1.11.0 in /opt/conda/lib/python3.10/site-packages (from tensorflow) (1.15.0)\r\n",
      "Requirement already satisfied: tensorflow-io-gcs-filesystem>=0.23.1 in /opt/conda/lib/python3.10/site-packages (from tensorflow) (0.34.0)\r\n",
      "Requirement already satisfied: wheel<1.0,>=0.23.0 in /opt/conda/lib/python3.10/site-packages (from astunparse>=1.6.0->tensorflow) (0.41.2)\r\n",
      "Requirement already satisfied: google-auth<3,>=1.6.3 in /opt/conda/lib/python3.10/site-packages (from tensorboard<2.14,>=2.13->tensorflow) (2.22.0)\r\n",
      "Requirement already satisfied: google-auth-oauthlib<1.1,>=0.5 in /opt/conda/lib/python3.10/site-packages (from tensorboard<2.14,>=2.13->tensorflow) (1.0.0)\r\n",
      "Requirement already satisfied: markdown>=2.6.8 in /opt/conda/lib/python3.10/site-packages (from tensorboard<2.14,>=2.13->tensorflow) (3.4.4)\r\n",
      "Requirement already satisfied: requests<3,>=2.21.0 in /opt/conda/lib/python3.10/site-packages (from tensorboard<2.14,>=2.13->tensorflow) (2.31.0)\r\n",
      "Requirement already satisfied: tensorboard-data-server<0.8.0,>=0.7.0 in /opt/conda/lib/python3.10/site-packages (from tensorboard<2.14,>=2.13->tensorflow) (0.7.1)\r\n",
      "Requirement already satisfied: werkzeug>=1.0.1 in /opt/conda/lib/python3.10/site-packages (from tensorboard<2.14,>=2.13->tensorflow) (3.0.1)\r\n",
      "Requirement already satisfied: pyparsing!=3.0.5,>=2.0.2 in /opt/conda/lib/python3.10/site-packages (from packaging->tensorflow) (3.0.9)\r\n",
      "Requirement already satisfied: cachetools<6.0,>=2.0.0 in /opt/conda/lib/python3.10/site-packages (from google-auth<3,>=1.6.3->tensorboard<2.14,>=2.13->tensorflow) (4.2.4)\r\n",
      "Requirement already satisfied: pyasn1-modules>=0.2.1 in /opt/conda/lib/python3.10/site-packages (from google-auth<3,>=1.6.3->tensorboard<2.14,>=2.13->tensorflow) (0.2.7)\r\n",
      "Requirement already satisfied: rsa<5,>=3.1.4 in /opt/conda/lib/python3.10/site-packages (from google-auth<3,>=1.6.3->tensorboard<2.14,>=2.13->tensorflow) (4.9)\r\n",
      "Requirement already satisfied: urllib3<2.0 in /opt/conda/lib/python3.10/site-packages (from google-auth<3,>=1.6.3->tensorboard<2.14,>=2.13->tensorflow) (1.26.15)\r\n",
      "Requirement already satisfied: requests-oauthlib>=0.7.0 in /opt/conda/lib/python3.10/site-packages (from google-auth-oauthlib<1.1,>=0.5->tensorboard<2.14,>=2.13->tensorflow) (1.3.1)\r\n",
      "Requirement already satisfied: charset-normalizer<4,>=2 in /opt/conda/lib/python3.10/site-packages (from requests<3,>=2.21.0->tensorboard<2.14,>=2.13->tensorflow) (3.2.0)\r\n",
      "Requirement already satisfied: idna<4,>=2.5 in /opt/conda/lib/python3.10/site-packages (from requests<3,>=2.21.0->tensorboard<2.14,>=2.13->tensorflow) (3.4)\r\n",
      "Requirement already satisfied: certifi>=2017.4.17 in /opt/conda/lib/python3.10/site-packages (from requests<3,>=2.21.0->tensorboard<2.14,>=2.13->tensorflow) (2023.11.17)\r\n",
      "Requirement already satisfied: MarkupSafe>=2.1.1 in /opt/conda/lib/python3.10/site-packages (from werkzeug>=1.0.1->tensorboard<2.14,>=2.13->tensorflow) (2.1.3)\r\n",
      "Requirement already satisfied: pyasn1<0.5.0,>=0.4.6 in /opt/conda/lib/python3.10/site-packages (from pyasn1-modules>=0.2.1->google-auth<3,>=1.6.3->tensorboard<2.14,>=2.13->tensorflow) (0.4.8)\r\n",
      "Requirement already satisfied: oauthlib>=3.0.0 in /opt/conda/lib/python3.10/site-packages (from requests-oauthlib>=0.7.0->google-auth-oauthlib<1.1,>=0.5->tensorboard<2.14,>=2.13->tensorflow) (3.2.2)\r\n",
      "Requirement already satisfied: optuna in /opt/conda/lib/python3.10/site-packages (3.5.0)\r\n",
      "Requirement already satisfied: alembic>=1.5.0 in /opt/conda/lib/python3.10/site-packages (from optuna) (1.13.0)\r\n",
      "Requirement already satisfied: colorlog in /opt/conda/lib/python3.10/site-packages (from optuna) (6.8.0)\r\n",
      "Requirement already satisfied: numpy in /opt/conda/lib/python3.10/site-packages (from optuna) (1.24.3)\r\n",
      "Requirement already satisfied: packaging>=20.0 in /opt/conda/lib/python3.10/site-packages (from optuna) (21.3)\r\n",
      "Requirement already satisfied: sqlalchemy>=1.3.0 in /opt/conda/lib/python3.10/site-packages (from optuna) (2.0.20)\r\n",
      "Requirement already satisfied: tqdm in /opt/conda/lib/python3.10/site-packages (from optuna) (4.66.1)\r\n",
      "Requirement already satisfied: PyYAML in /opt/conda/lib/python3.10/site-packages (from optuna) (6.0.1)\r\n",
      "Requirement already satisfied: Mako in /opt/conda/lib/python3.10/site-packages (from alembic>=1.5.0->optuna) (1.3.0)\r\n",
      "Requirement already satisfied: typing-extensions>=4 in /opt/conda/lib/python3.10/site-packages (from alembic>=1.5.0->optuna) (4.5.0)\r\n",
      "Requirement already satisfied: pyparsing!=3.0.5,>=2.0.2 in /opt/conda/lib/python3.10/site-packages (from packaging>=20.0->optuna) (3.0.9)\r\n",
      "Requirement already satisfied: greenlet!=0.4.17 in /opt/conda/lib/python3.10/site-packages (from sqlalchemy>=1.3.0->optuna) (2.0.2)\r\n",
      "Requirement already satisfied: MarkupSafe>=0.9.2 in /opt/conda/lib/python3.10/site-packages (from Mako->alembic>=1.5.0->optuna) (2.1.3)\r\n"
     ]
    },
    {
     "name": "stderr",
     "output_type": "stream",
     "text": [
      "/opt/conda/lib/python3.10/site-packages/scipy/__init__.py:146: UserWarning: A NumPy version >=1.16.5 and <1.23.0 is required for this version of SciPy (detected version 1.24.3\n",
      "  warnings.warn(f\"A NumPy version >={np_minversion} and <{np_maxversion}\"\n"
     ]
    }
   ],
   "source": [
    "!pip install tensorflow\n",
    "!pip install optuna\n",
    "import tensorflow as tf\n",
    "import struct\n",
    "import os\n",
    "import logging\n",
    "import optuna\n",
    "import optuna.visualization as vis\n",
    "import tensorflow.keras as keras\n",
    "from tensorflow.keras.datasets import mnist\n",
    "from tensorflow.keras.layers import Dense, Input, Flatten, Reshape, LeakyReLU, Activation, Dropout , Conv2D ,Conv2DTranspose , BatchNormalization ,MaxPooling2D,UpSampling2D\n",
    "from tensorflow.keras.models import Model, Sequential\n",
    "from tensorflow.keras.callbacks import EarlyStopping\n",
    "from matplotlib import pyplot as plt\n",
    "from IPython import display\n",
    "from sklearn.model_selection import train_test_split\n",
    "import numpy as np\n",
    "\n",
    "# Set TensorFlow logging level to suppress warnings\n",
    "os.environ['TF_CPP_MIN_LOG_LEVEL'] = '3' \n",
    "# Set logging level to suppress TensorFlow warnings except for critical ones\n",
    "tf.get_logger().setLevel(logging.ERROR) "
   ]
  },
  {
   "cell_type": "code",
   "execution_count": 2,
   "id": "f071b709",
   "metadata": {
    "execution": {
     "iopub.execute_input": "2024-01-06T15:53:31.059463Z",
     "iopub.status.busy": "2024-01-06T15:53:31.058902Z",
     "iopub.status.idle": "2024-01-06T15:53:31.572798Z",
     "shell.execute_reply": "2024-01-06T15:53:31.571876Z"
    },
    "papermill": {
     "duration": 0.524147,
     "end_time": "2024-01-06T15:53:31.574930",
     "exception": false,
     "start_time": "2024-01-06T15:53:31.050783",
     "status": "completed"
    },
    "tags": []
   },
   "outputs": [
    {
     "name": "stdout",
     "output_type": "stream",
     "text": [
      "Found GPU at: /device:GPU:0\n"
     ]
    }
   ],
   "source": [
    "device_name = tf.test.gpu_device_name()\n",
    "if device_name != '/device:GPU:0':\n",
    "    raise SystemError('GPU device not found')\n",
    "print('Found GPU at: {}'.format(device_name))"
   ]
  },
  {
   "cell_type": "markdown",
   "id": "f7ff052a",
   "metadata": {
    "id": "R3B1oobGG-5-",
    "papermill": {
     "duration": 0.006729,
     "end_time": "2024-01-06T15:53:31.588796",
     "exception": false,
     "start_time": "2024-01-06T15:53:31.582067",
     "status": "completed"
    },
    "tags": []
   },
   "source": [
    "# **Loading, Preprocessing & Splitting Data**"
   ]
  },
  {
   "cell_type": "code",
   "execution_count": 3,
   "id": "4fa8fe62",
   "metadata": {
    "execution": {
     "iopub.execute_input": "2024-01-06T15:53:31.603869Z",
     "iopub.status.busy": "2024-01-06T15:53:31.603522Z",
     "iopub.status.idle": "2024-01-06T15:53:33.523609Z",
     "shell.execute_reply": "2024-01-06T15:53:33.522513Z"
    },
    "id": "ELKU35A8hvIN",
    "papermill": {
     "duration": 1.930511,
     "end_time": "2024-01-06T15:53:33.526122",
     "exception": false,
     "start_time": "2024-01-06T15:53:31.595611",
     "status": "completed"
    },
    "tags": []
   },
   "outputs": [
    {
     "name": "stdout",
     "output_type": "stream",
     "text": [
      "Downloading data from https://storage.googleapis.com/tensorflow/tf-keras-datasets/mnist.npz\n",
      "11490434/11490434 [==============================] - 1s 0us/step\n"
     ]
    }
   ],
   "source": [
    "#Load MNIST dataset\n",
    "(x_train, y_train), (x_test, y_test) = mnist.load_data()\n",
    "\n",
    "# Concatenate images and labels\n",
    "all_images = np.concatenate((x_train, x_test), axis=0)\n",
    "all_labels = np.concatenate((y_train, y_test), axis=0)\n",
    "\n",
    "# scalling\n",
    "all_images = all_images.reshape(all_images.shape[0], 28, 28, 1)\n",
    "all_images = all_images.astype('float32')\n",
    "all_images = all_images / 255.0\n",
    "\n",
    "#Split into training,validation and test datasets in 70 , 15 and 15 %\n",
    "train_X,rem_X,train_Y,rem_Y = train_test_split(all_images,all_labels,test_size=0.3,random_state=13)\n",
    "val_X,test_X,val_Y,test_Y = train_test_split(rem_X,rem_Y,test_size=0.5,random_state=13)"
   ]
  },
  {
   "cell_type": "markdown",
   "id": "8408a3f7",
   "metadata": {
    "id": "6mOWY7cYHGh6",
    "papermill": {
     "duration": 0.00851,
     "end_time": "2024-01-06T15:53:33.544074",
     "exception": false,
     "start_time": "2024-01-06T15:53:33.535564",
     "status": "completed"
    },
    "tags": []
   },
   "source": [
    "# **Building the Autoencoder Model :**"
   ]
  },
  {
   "cell_type": "code",
   "execution_count": 4,
   "id": "1ce99486",
   "metadata": {
    "execution": {
     "iopub.execute_input": "2024-01-06T15:53:33.563636Z",
     "iopub.status.busy": "2024-01-06T15:53:33.563235Z",
     "iopub.status.idle": "2024-01-06T15:53:33.576291Z",
     "shell.execute_reply": "2024-01-06T15:53:33.575423Z"
    },
    "id": "zesmKC9rAhlO",
    "papermill": {
     "duration": 0.025363,
     "end_time": "2024-01-06T15:53:33.578319",
     "exception": false,
     "start_time": "2024-01-06T15:53:33.552956",
     "status": "completed"
    },
    "tags": []
   },
   "outputs": [],
   "source": [
    "class Autoencoder(Model):\n",
    "    def __init__(self,latent_dim,conv_layers,kernel_size,filters,shape,dropout_rate):\n",
    "        super(Autoencoder, self).__init__()\n",
    "\n",
    "        self.latent_dim = latent_dim\n",
    "        self.shape = shape\n",
    "        self.encoder_layers = []\n",
    "\n",
    "        #First layer in decoder has the same dimension as the last layer in encoder (original size halved as many times as we applied upsampling,2 here)\n",
    "        last_layer = shape[0] // (2 ** 2)\n",
    "\n",
    "        #The flattened layer will be the inner product of the last layer in encoder that had dimensions (last_layer,last_layer,last filter size)\n",
    "        flattened_dim = last_layer * last_layer * filters[conv_layers-1]\n",
    "\n",
    "        self.decoder_layers = [Dense(flattened_dim, activation='relu'),\n",
    "                               Reshape((last_layer,last_layer,filters[conv_layers-1]))]\n",
    "\n",
    "        for layer in range(conv_layers) :\n",
    "\n",
    "          #add the convolutional and maxpooling layer in the encoder's list\n",
    "          self.encoder_layers.append(Conv2D(filters=filters[layer], kernel_size=kernel_size, activation='relu', padding='same'))\n",
    "          self.encoder_layers.append(BatchNormalization())\n",
    "          if(layer < conv_layers - 1) :\n",
    "            #add the convolutional layer in the decoder's list with the opposite order of the filters\n",
    "            self.decoder_layers.append(Conv2DTranspose(filters=filters[conv_layers-layer-1], kernel_size=kernel_size, activation='relu', padding='same'))\n",
    "            self.decoder_layers.append(BatchNormalization())\n",
    "            #We only apply maxpooling in the first 2 layers because otherwise we can't reconstruct the vector with the appropriate dimensions\n",
    "            if(layer <=  1) :\n",
    "                self.encoder_layers.append(MaxPooling2D((2, 2), padding=\"same\"))\n",
    "                self.decoder_layers.append(UpSampling2D((2, 2), interpolation='nearest'))\n",
    "            self.decoder_layers.append(Dropout(dropout_rate))\n",
    "\n",
    "          self.encoder_layers.append(Dropout(dropout_rate))\n",
    "\n",
    "        self.encoder_layers.append(Flatten())\n",
    "        self.encoder_layers.append(Dense(self.latent_dim, activation='relu'))\n",
    "\n",
    "        #In the last layer of the decoder we apply the sigmoid function\n",
    "        self.decoder_layers.append(Conv2DTranspose(filters=1, kernel_size=kernel_size, activation='sigmoid', padding='same'))\n",
    "\n",
    "        self.encoder = tf.keras.Sequential(self.encoder_layers)\n",
    "        self.decoder = tf.keras.Sequential(self.decoder_layers)\n",
    "\n",
    "    def call(self, x):\n",
    "        encoded = self.encoder(x)\n",
    "        decoded = self.decoder(encoded)\n",
    "        return decoded"
   ]
  },
  {
   "cell_type": "markdown",
   "id": "b9f00e69",
   "metadata": {
    "id": "qKA52lQqEaks",
    "papermill": {
     "duration": 0.008372,
     "end_time": "2024-01-06T15:53:33.595391",
     "exception": false,
     "start_time": "2024-01-06T15:53:33.587019",
     "status": "completed"
    },
    "tags": []
   },
   "source": [
    "# **Hyperparameter Tuning:**"
   ]
  },
  {
   "cell_type": "code",
   "execution_count": 5,
   "id": "b154474f",
   "metadata": {
    "execution": {
     "iopub.execute_input": "2024-01-06T15:53:33.614358Z",
     "iopub.status.busy": "2024-01-06T15:53:33.613538Z",
     "iopub.status.idle": "2024-01-06T16:59:05.236360Z",
     "shell.execute_reply": "2024-01-06T16:59:05.235331Z"
    },
    "id": "H5-iuPjOHq5J",
    "outputId": "7ca0fa6f-86ed-4857-bce7-6f07057e3ce3",
    "papermill": {
     "duration": 3931.63457,
     "end_time": "2024-01-06T16:59:05.238605",
     "exception": false,
     "start_time": "2024-01-06T15:53:33.604035",
     "status": "completed"
    },
    "tags": []
   },
   "outputs": [
    {
     "name": "stderr",
     "output_type": "stream",
     "text": [
      "/opt/conda/lib/python3.10/site-packages/optuna/distributions.py:524: UserWarning: Choices for a categorical distribution should be a tuple of None, bool, int, float and str for persistent storage but contains (3, 3) which is of type tuple.\n",
      "  warnings.warn(message)\n",
      "/opt/conda/lib/python3.10/site-packages/optuna/distributions.py:524: UserWarning: Choices for a categorical distribution should be a tuple of None, bool, int, float and str for persistent storage but contains (5, 5) which is of type tuple.\n",
      "  warnings.warn(message)\n",
      "/opt/conda/lib/python3.10/site-packages/optuna/distributions.py:524: UserWarning: Choices for a categorical distribution should be a tuple of None, bool, int, float and str for persistent storage but contains (7, 7) which is of type tuple.\n",
      "  warnings.warn(message)\n",
      "/opt/conda/lib/python3.10/site-packages/optuna/distributions.py:524: UserWarning: Choices for a categorical distribution should be a tuple of None, bool, int, float and str for persistent storage but contains [32, 64, 128] which is of type list.\n",
      "  warnings.warn(message)\n",
      "/opt/conda/lib/python3.10/site-packages/optuna/distributions.py:524: UserWarning: Choices for a categorical distribution should be a tuple of None, bool, int, float and str for persistent storage but contains [32, 64, 128, 256] which is of type list.\n",
      "  warnings.warn(message)\n",
      "/opt/conda/lib/python3.10/site-packages/optuna/distributions.py:524: UserWarning: Choices for a categorical distribution should be a tuple of None, bool, int, float and str for persistent storage but contains [16, 32, 64, 128] which is of type list.\n",
      "  warnings.warn(message)\n",
      "/opt/conda/lib/python3.10/site-packages/optuna/distributions.py:524: UserWarning: Choices for a categorical distribution should be a tuple of None, bool, int, float and str for persistent storage but contains [16, 32, 64, 128, 256] which is of type list.\n",
      "  warnings.warn(message)\n"
     ]
    },
    {
     "name": "stdout",
     "output_type": "stream",
     "text": [
      "Epoch 1/15\n"
     ]
    },
    {
     "name": "stderr",
     "output_type": "stream",
     "text": [
      "2024-01-06 15:53:37.591182: E tensorflow/core/grappler/optimizers/meta_optimizer.cc:954] layout failed: INVALID_ARGUMENT: Size of values 0 does not match size of permutation 4 @ fanin shape inautoencoder/sequential/dropout_1/dropout/SelectV2-2-TransposeNHWCToNCHW-LayoutOptimizer\n"
     ]
    },
    {
     "name": "stdout",
     "output_type": "stream",
     "text": [
      "383/383 [==============================] - 16s 19ms/step - loss: 0.0731 - accuracy: 0.7754 - val_loss: 0.0555 - val_accuracy: 0.8059\n",
      "Epoch 2/15\n",
      "383/383 [==============================] - 6s 16ms/step - loss: 0.0411 - accuracy: 0.7971 - val_loss: 0.0299 - val_accuracy: 0.8041\n",
      "Epoch 3/15\n",
      "383/383 [==============================] - 6s 17ms/step - loss: 0.0330 - accuracy: 0.8020 - val_loss: 0.0227 - val_accuracy: 0.8077\n",
      "Epoch 4/15\n",
      "383/383 [==============================] - 6s 16ms/step - loss: 0.0287 - accuracy: 0.8044 - val_loss: 0.0205 - val_accuracy: 0.8100\n",
      "Epoch 5/15\n",
      "383/383 [==============================] - 6s 16ms/step - loss: 0.0264 - accuracy: 0.8058 - val_loss: 0.0171 - val_accuracy: 0.8100\n",
      "Epoch 6/15\n",
      "383/383 [==============================] - 6s 16ms/step - loss: 0.0243 - accuracy: 0.8070 - val_loss: 0.0153 - val_accuracy: 0.8107\n",
      "Epoch 7/15\n",
      "383/383 [==============================] - 6s 16ms/step - loss: 0.0239 - accuracy: 0.8073 - val_loss: 0.0152 - val_accuracy: 0.8110\n",
      "Epoch 8/15\n",
      "383/383 [==============================] - 6s 16ms/step - loss: 0.0226 - accuracy: 0.8079 - val_loss: 0.0141 - val_accuracy: 0.8110\n",
      "Epoch 9/15\n",
      "383/383 [==============================] - 6s 16ms/step - loss: 0.0215 - accuracy: 0.8085 - val_loss: 0.0131 - val_accuracy: 0.8120\n",
      "Epoch 10/15\n",
      "383/383 [==============================] - 6s 16ms/step - loss: 0.0208 - accuracy: 0.8089 - val_loss: 0.0128 - val_accuracy: 0.8126\n",
      "Epoch 11/15\n",
      "383/383 [==============================] - 6s 16ms/step - loss: 0.0203 - accuracy: 0.8091 - val_loss: 0.0121 - val_accuracy: 0.8126\n",
      "Epoch 12/15\n",
      "383/383 [==============================] - 6s 16ms/step - loss: 0.0195 - accuracy: 0.8095 - val_loss: 0.0118 - val_accuracy: 0.8131\n",
      "Epoch 13/15\n",
      "383/383 [==============================] - 6s 16ms/step - loss: 0.0189 - accuracy: 0.8098 - val_loss: 0.0113 - val_accuracy: 0.8130\n",
      "Epoch 14/15\n",
      "383/383 [==============================] - 6s 16ms/step - loss: 0.0185 - accuracy: 0.8100 - val_loss: 0.0108 - val_accuracy: 0.8130\n",
      "Epoch 15/15\n",
      "383/383 [==============================] - 6s 16ms/step - loss: 0.0181 - accuracy: 0.8102 - val_loss: 0.0107 - val_accuracy: 0.8133\n",
      "Epoch 1/15\n"
     ]
    },
    {
     "name": "stderr",
     "output_type": "stream",
     "text": [
      "2024-01-06 15:55:20.513143: E tensorflow/core/grappler/optimizers/meta_optimizer.cc:954] layout failed: INVALID_ARGUMENT: Size of values 0 does not match size of permutation 4 @ fanin shape inautoencoder_1/sequential_2/dropout_8/dropout/SelectV2-2-TransposeNHWCToNCHW-LayoutOptimizer\n"
     ]
    },
    {
     "name": "stdout",
     "output_type": "stream",
     "text": [
      "192/192 [==============================] - 17s 52ms/step - loss: 0.0661 - accuracy: 0.7835 - val_loss: 0.0608 - val_accuracy: 0.8013\n",
      "Epoch 2/15\n",
      "192/192 [==============================] - 9s 46ms/step - loss: 0.0382 - accuracy: 0.7999 - val_loss: 0.0346 - val_accuracy: 0.8081\n",
      "Epoch 3/15\n",
      "192/192 [==============================] - 9s 46ms/step - loss: 0.0296 - accuracy: 0.8046 - val_loss: 0.0231 - val_accuracy: 0.8111\n",
      "Epoch 4/15\n",
      "192/192 [==============================] - 9s 46ms/step - loss: 0.0252 - accuracy: 0.8069 - val_loss: 0.0176 - val_accuracy: 0.8108\n",
      "Epoch 5/15\n",
      "192/192 [==============================] - 9s 46ms/step - loss: 0.0235 - accuracy: 0.8077 - val_loss: 0.0175 - val_accuracy: 0.8088\n",
      "Epoch 6/15\n",
      "192/192 [==============================] - 9s 46ms/step - loss: 0.0225 - accuracy: 0.8082 - val_loss: 0.0240 - val_accuracy: 0.8033\n",
      "Epoch 7/15\n",
      "192/192 [==============================] - 9s 46ms/step - loss: 0.0208 - accuracy: 0.8091 - val_loss: 0.0136 - val_accuracy: 0.8124\n",
      "Epoch 8/15\n",
      "192/192 [==============================] - 9s 46ms/step - loss: 0.0194 - accuracy: 0.8099 - val_loss: 0.0131 - val_accuracy: 0.8119\n",
      "Epoch 9/15\n",
      "192/192 [==============================] - 9s 46ms/step - loss: 0.0185 - accuracy: 0.8103 - val_loss: 0.0124 - val_accuracy: 0.8123\n",
      "Epoch 10/15\n",
      "192/192 [==============================] - 9s 46ms/step - loss: 0.0180 - accuracy: 0.8105 - val_loss: 0.0122 - val_accuracy: 0.8123\n",
      "Epoch 11/15\n",
      "192/192 [==============================] - 9s 46ms/step - loss: 0.0170 - accuracy: 0.8110 - val_loss: 0.0113 - val_accuracy: 0.8126\n",
      "Epoch 12/15\n",
      "192/192 [==============================] - 9s 46ms/step - loss: 0.0162 - accuracy: 0.8113 - val_loss: 0.0102 - val_accuracy: 0.8135\n",
      "Epoch 13/15\n",
      "192/192 [==============================] - 9s 46ms/step - loss: 0.0158 - accuracy: 0.8116 - val_loss: 0.0106 - val_accuracy: 0.8128\n",
      "Epoch 14/15\n",
      "192/192 [==============================] - 9s 46ms/step - loss: 0.0154 - accuracy: 0.8117 - val_loss: 0.0129 - val_accuracy: 0.8125\n",
      "Epoch 15/15\n",
      "192/192 [==============================] - 9s 46ms/step - loss: 0.0164 - accuracy: 0.8113 - val_loss: 0.0143 - val_accuracy: 0.8106\n",
      "Epoch 1/20\n"
     ]
    },
    {
     "name": "stderr",
     "output_type": "stream",
     "text": [
      "2024-01-06 15:57:42.395738: E tensorflow/core/grappler/optimizers/meta_optimizer.cc:954] layout failed: INVALID_ARGUMENT: Size of values 0 does not match size of permutation 4 @ fanin shape inautoencoder_2/sequential_4/dropout_15/dropout/SelectV2-2-TransposeNHWCToNCHW-LayoutOptimizer\n"
     ]
    },
    {
     "name": "stdout",
     "output_type": "stream",
     "text": [
      "383/383 [==============================] - 13s 17ms/step - loss: 0.0827 - accuracy: 0.7816 - val_loss: 0.0898 - val_accuracy: 0.8083\n",
      "Epoch 2/20\n",
      "383/383 [==============================] - 6s 16ms/step - loss: 0.0722 - accuracy: 0.7915 - val_loss: 0.0689 - val_accuracy: 0.8080\n",
      "Epoch 3/20\n",
      "383/383 [==============================] - 6s 16ms/step - loss: 0.0616 - accuracy: 0.7928 - val_loss: 0.0532 - val_accuracy: 0.7988\n",
      "Epoch 4/20\n",
      "383/383 [==============================] - 6s 16ms/step - loss: 0.0532 - accuracy: 0.7916 - val_loss: 0.0469 - val_accuracy: 0.7935\n",
      "Epoch 5/20\n",
      "383/383 [==============================] - 6s 16ms/step - loss: 0.0496 - accuracy: 0.7929 - val_loss: 0.0445 - val_accuracy: 0.7915\n",
      "Epoch 6/20\n",
      "383/383 [==============================] - 6s 16ms/step - loss: 0.0464 - accuracy: 0.7942 - val_loss: 0.0404 - val_accuracy: 0.7980\n",
      "Epoch 7/20\n",
      "383/383 [==============================] - 6s 16ms/step - loss: 0.0429 - accuracy: 0.7960 - val_loss: 0.0370 - val_accuracy: 0.7985\n",
      "Epoch 8/20\n",
      "383/383 [==============================] - 6s 16ms/step - loss: 0.0400 - accuracy: 0.7983 - val_loss: 0.0344 - val_accuracy: 0.8027\n",
      "Epoch 9/20\n",
      "383/383 [==============================] - 6s 16ms/step - loss: 0.0380 - accuracy: 0.7995 - val_loss: 0.0328 - val_accuracy: 0.8024\n",
      "Epoch 10/20\n",
      "383/383 [==============================] - 6s 16ms/step - loss: 0.0369 - accuracy: 0.8002 - val_loss: 0.0318 - val_accuracy: 0.8028\n",
      "Epoch 11/20\n",
      "383/383 [==============================] - 6s 16ms/step - loss: 0.0362 - accuracy: 0.8007 - val_loss: 0.0316 - val_accuracy: 0.8014\n",
      "Epoch 12/20\n",
      "383/383 [==============================] - 6s 16ms/step - loss: 0.0353 - accuracy: 0.8012 - val_loss: 0.0303 - val_accuracy: 0.8037\n",
      "Epoch 13/20\n",
      "383/383 [==============================] - 6s 16ms/step - loss: 0.0348 - accuracy: 0.8015 - val_loss: 0.0300 - val_accuracy: 0.8026\n",
      "Epoch 14/20\n",
      "383/383 [==============================] - 6s 16ms/step - loss: 0.0341 - accuracy: 0.8019 - val_loss: 0.0291 - val_accuracy: 0.8046\n",
      "Epoch 15/20\n",
      "383/383 [==============================] - 6s 16ms/step - loss: 0.0335 - accuracy: 0.8022 - val_loss: 0.0290 - val_accuracy: 0.8046\n",
      "Epoch 16/20\n",
      "383/383 [==============================] - 6s 16ms/step - loss: 0.0331 - accuracy: 0.8024 - val_loss: 0.0285 - val_accuracy: 0.8055\n",
      "Epoch 17/20\n",
      "383/383 [==============================] - 6s 16ms/step - loss: 0.0327 - accuracy: 0.8026 - val_loss: 0.0283 - val_accuracy: 0.8045\n",
      "Epoch 18/20\n",
      "383/383 [==============================] - 6s 16ms/step - loss: 0.0322 - accuracy: 0.8029 - val_loss: 0.0279 - val_accuracy: 0.8056\n",
      "Epoch 19/20\n",
      "383/383 [==============================] - 6s 16ms/step - loss: 0.0319 - accuracy: 0.8030 - val_loss: 0.0273 - val_accuracy: 0.8051\n",
      "Epoch 20/20\n",
      "383/383 [==============================] - 6s 16ms/step - loss: 0.0315 - accuracy: 0.8032 - val_loss: 0.0275 - val_accuracy: 0.8069\n",
      "Epoch 1/15\n"
     ]
    },
    {
     "name": "stderr",
     "output_type": "stream",
     "text": [
      "2024-01-06 15:59:49.860712: E tensorflow/core/grappler/optimizers/meta_optimizer.cc:954] layout failed: INVALID_ARGUMENT: Size of values 0 does not match size of permutation 4 @ fanin shape inautoencoder_3/sequential_6/dropout_22/dropout/SelectV2-2-TransposeNHWCToNCHW-LayoutOptimizer\n"
     ]
    },
    {
     "name": "stdout",
     "output_type": "stream",
     "text": [
      "766/766 [==============================] - 17s 14ms/step - loss: 0.0767 - accuracy: 0.7878 - val_loss: 0.0651 - val_accuracy: 0.8077\n",
      "Epoch 2/15\n",
      "766/766 [==============================] - 10s 13ms/step - loss: 0.0596 - accuracy: 0.7924 - val_loss: 0.0479 - val_accuracy: 0.7956\n",
      "Epoch 3/15\n",
      "766/766 [==============================] - 10s 13ms/step - loss: 0.0496 - accuracy: 0.7943 - val_loss: 0.0392 - val_accuracy: 0.8049\n",
      "Epoch 4/15\n",
      "766/766 [==============================] - 10s 13ms/step - loss: 0.0423 - accuracy: 0.7974 - val_loss: 0.0315 - val_accuracy: 0.8053\n",
      "Epoch 5/15\n",
      "766/766 [==============================] - 10s 13ms/step - loss: 0.0374 - accuracy: 0.7999 - val_loss: 0.0269 - val_accuracy: 0.8063\n",
      "Epoch 6/15\n",
      "766/766 [==============================] - 10s 13ms/step - loss: 0.0342 - accuracy: 0.8016 - val_loss: 0.0240 - val_accuracy: 0.8074\n",
      "Epoch 7/15\n",
      "766/766 [==============================] - 10s 13ms/step - loss: 0.0309 - accuracy: 0.8033 - val_loss: 0.0216 - val_accuracy: 0.8095\n",
      "Epoch 8/15\n",
      "766/766 [==============================] - 10s 13ms/step - loss: 0.0289 - accuracy: 0.8044 - val_loss: 0.0201 - val_accuracy: 0.8101\n",
      "Epoch 9/15\n",
      "766/766 [==============================] - 10s 13ms/step - loss: 0.0277 - accuracy: 0.8051 - val_loss: 0.0192 - val_accuracy: 0.8087\n",
      "Epoch 10/15\n",
      "766/766 [==============================] - 10s 13ms/step - loss: 0.0267 - accuracy: 0.8056 - val_loss: 0.0182 - val_accuracy: 0.8100\n",
      "Epoch 11/15\n",
      "766/766 [==============================] - 10s 13ms/step - loss: 0.0261 - accuracy: 0.8059 - val_loss: 0.0180 - val_accuracy: 0.8101\n",
      "Epoch 12/15\n",
      "766/766 [==============================] - 10s 13ms/step - loss: 0.0255 - accuracy: 0.8062 - val_loss: 0.0176 - val_accuracy: 0.8102\n",
      "Epoch 13/15\n",
      "766/766 [==============================] - 10s 13ms/step - loss: 0.0251 - accuracy: 0.8065 - val_loss: 0.0170 - val_accuracy: 0.8102\n",
      "Epoch 14/15\n",
      "766/766 [==============================] - 10s 13ms/step - loss: 0.0248 - accuracy: 0.8067 - val_loss: 0.0169 - val_accuracy: 0.8102\n",
      "Epoch 15/15\n",
      "766/766 [==============================] - 10s 13ms/step - loss: 0.0244 - accuracy: 0.8069 - val_loss: 0.0169 - val_accuracy: 0.8110\n",
      "Epoch 1/10\n"
     ]
    },
    {
     "name": "stderr",
     "output_type": "stream",
     "text": [
      "2024-01-06 16:02:28.019323: E tensorflow/core/grappler/optimizers/meta_optimizer.cc:954] layout failed: INVALID_ARGUMENT: Size of values 0 does not match size of permutation 4 @ fanin shape inautoencoder_4/sequential_8/dropout_29/dropout/SelectV2-2-TransposeNHWCToNCHW-LayoutOptimizer\n"
     ]
    },
    {
     "name": "stdout",
     "output_type": "stream",
     "text": [
      "766/766 [==============================] - 20s 18ms/step - loss: 0.0663 - accuracy: 0.7880 - val_loss: 0.0505 - val_accuracy: 0.8054\n",
      "Epoch 2/10\n",
      "766/766 [==============================] - 13s 17ms/step - loss: 0.0474 - accuracy: 0.7961 - val_loss: 0.0338 - val_accuracy: 0.8005\n",
      "Epoch 3/10\n",
      "766/766 [==============================] - 13s 16ms/step - loss: 0.0335 - accuracy: 0.8023 - val_loss: 0.0225 - val_accuracy: 0.8104\n",
      "Epoch 4/10\n",
      "766/766 [==============================] - 13s 16ms/step - loss: 0.0264 - accuracy: 0.8060 - val_loss: 0.0172 - val_accuracy: 0.8109\n",
      "Epoch 5/10\n",
      "766/766 [==============================] - 13s 16ms/step - loss: 0.0228 - accuracy: 0.8078 - val_loss: 0.0148 - val_accuracy: 0.8115\n",
      "Epoch 6/10\n",
      "766/766 [==============================] - 13s 16ms/step - loss: 0.0206 - accuracy: 0.8090 - val_loss: 0.0130 - val_accuracy: 0.8123\n",
      "Epoch 7/10\n",
      "766/766 [==============================] - 12s 16ms/step - loss: 0.0190 - accuracy: 0.8099 - val_loss: 0.0116 - val_accuracy: 0.8133\n",
      "Epoch 8/10\n",
      "766/766 [==============================] - 13s 16ms/step - loss: 0.0179 - accuracy: 0.8104 - val_loss: 0.0108 - val_accuracy: 0.8135\n",
      "Epoch 9/10\n",
      "766/766 [==============================] - 12s 16ms/step - loss: 0.0170 - accuracy: 0.8108 - val_loss: 0.0099 - val_accuracy: 0.8133\n",
      "Epoch 10/10\n",
      "766/766 [==============================] - 13s 16ms/step - loss: 0.0162 - accuracy: 0.8112 - val_loss: 0.0102 - val_accuracy: 0.8130\n",
      "Epoch 1/20\n"
     ]
    },
    {
     "name": "stderr",
     "output_type": "stream",
     "text": [
      "2024-01-06 16:04:40.993158: E tensorflow/core/grappler/optimizers/meta_optimizer.cc:954] layout failed: INVALID_ARGUMENT: Size of values 0 does not match size of permutation 4 @ fanin shape inautoencoder_5/sequential_10/dropout_36/dropout/SelectV2-2-TransposeNHWCToNCHW-LayoutOptimizer\n"
     ]
    },
    {
     "name": "stdout",
     "output_type": "stream",
     "text": [
      "766/766 [==============================] - 12s 9ms/step - loss: 0.0769 - accuracy: 0.7839 - val_loss: 0.0706 - val_accuracy: 0.8044\n",
      "Epoch 2/20\n",
      "766/766 [==============================] - 6s 8ms/step - loss: 0.0525 - accuracy: 0.7925 - val_loss: 0.0470 - val_accuracy: 0.8086\n",
      "Epoch 3/20\n",
      "766/766 [==============================] - 6s 8ms/step - loss: 0.0407 - accuracy: 0.7974 - val_loss: 0.0367 - val_accuracy: 0.8084\n",
      "Epoch 4/20\n",
      "766/766 [==============================] - 7s 9ms/step - loss: 0.0368 - accuracy: 0.7992 - val_loss: 0.0328 - val_accuracy: 0.8086\n",
      "Epoch 5/20\n",
      "766/766 [==============================] - 7s 9ms/step - loss: 0.0322 - accuracy: 0.8017 - val_loss: 0.0249 - val_accuracy: 0.8098\n",
      "Epoch 6/20\n",
      "766/766 [==============================] - 6s 8ms/step - loss: 0.0295 - accuracy: 0.8033 - val_loss: 0.0233 - val_accuracy: 0.8105\n",
      "Epoch 7/20\n",
      "766/766 [==============================] - 6s 8ms/step - loss: 0.0275 - accuracy: 0.8044 - val_loss: 0.0209 - val_accuracy: 0.8097\n",
      "Epoch 8/20\n",
      "766/766 [==============================] - 6s 8ms/step - loss: 0.0265 - accuracy: 0.8050 - val_loss: 0.0193 - val_accuracy: 0.8085\n",
      "Epoch 9/20\n",
      "766/766 [==============================] - 7s 9ms/step - loss: 0.0259 - accuracy: 0.8054 - val_loss: 0.0191 - val_accuracy: 0.8102\n",
      "Epoch 10/20\n",
      "766/766 [==============================] - 7s 9ms/step - loss: 0.0254 - accuracy: 0.8057 - val_loss: 0.0185 - val_accuracy: 0.8092\n",
      "Epoch 11/20\n",
      "766/766 [==============================] - 6s 8ms/step - loss: 0.0250 - accuracy: 0.8059 - val_loss: 0.0181 - val_accuracy: 0.8097\n",
      "Epoch 12/20\n",
      "766/766 [==============================] - 6s 8ms/step - loss: 0.0248 - accuracy: 0.8061 - val_loss: 0.0179 - val_accuracy: 0.8094\n",
      "Epoch 13/20\n",
      "766/766 [==============================] - 6s 8ms/step - loss: 0.0244 - accuracy: 0.8062 - val_loss: 0.0180 - val_accuracy: 0.8095\n",
      "Epoch 14/20\n",
      "766/766 [==============================] - 7s 9ms/step - loss: 0.0242 - accuracy: 0.8064 - val_loss: 0.0176 - val_accuracy: 0.8099\n",
      "Epoch 15/20\n",
      "766/766 [==============================] - 7s 9ms/step - loss: 0.0239 - accuracy: 0.8066 - val_loss: 0.0175 - val_accuracy: 0.8095\n",
      "Epoch 16/20\n",
      "766/766 [==============================] - 7s 9ms/step - loss: 0.0237 - accuracy: 0.8067 - val_loss: 0.0173 - val_accuracy: 0.8099\n",
      "Epoch 17/20\n",
      "766/766 [==============================] - 7s 9ms/step - loss: 0.0234 - accuracy: 0.8068 - val_loss: 0.0170 - val_accuracy: 0.8101\n",
      "Epoch 18/20\n",
      "766/766 [==============================] - 7s 9ms/step - loss: 0.0232 - accuracy: 0.8070 - val_loss: 0.0171 - val_accuracy: 0.8104\n",
      "Epoch 19/20\n",
      "766/766 [==============================] - 7s 9ms/step - loss: 0.0230 - accuracy: 0.8071 - val_loss: 0.0170 - val_accuracy: 0.8089\n",
      "Epoch 20/20\n",
      "766/766 [==============================] - 7s 9ms/step - loss: 0.0229 - accuracy: 0.8072 - val_loss: 0.0166 - val_accuracy: 0.8101\n",
      "Epoch 1/20\n"
     ]
    },
    {
     "name": "stderr",
     "output_type": "stream",
     "text": [
      "2024-01-06 16:07:06.256896: E tensorflow/core/grappler/optimizers/meta_optimizer.cc:954] layout failed: INVALID_ARGUMENT: Size of values 0 does not match size of permutation 4 @ fanin shape inautoencoder_6/sequential_12/dropout_41/dropout/SelectV2-2-TransposeNHWCToNCHW-LayoutOptimizer\n"
     ]
    },
    {
     "name": "stdout",
     "output_type": "stream",
     "text": [
      "383/383 [==============================] - 23s 42ms/step - loss: 0.0775 - accuracy: 0.7897 - val_loss: 0.0689 - val_accuracy: 0.8061\n",
      "Epoch 2/20\n",
      "383/383 [==============================] - 15s 38ms/step - loss: 0.0648 - accuracy: 0.7933 - val_loss: 0.0585 - val_accuracy: 0.7988\n",
      "Epoch 3/20\n",
      "383/383 [==============================] - 15s 38ms/step - loss: 0.0513 - accuracy: 0.7935 - val_loss: 0.0439 - val_accuracy: 0.7964\n",
      "Epoch 4/20\n",
      "383/383 [==============================] - 15s 38ms/step - loss: 0.0439 - accuracy: 0.7955 - val_loss: 0.0363 - val_accuracy: 0.7982\n",
      "Epoch 5/20\n",
      "383/383 [==============================] - 15s 38ms/step - loss: 0.0357 - accuracy: 0.7999 - val_loss: 0.0293 - val_accuracy: 0.8043\n",
      "Epoch 6/20\n",
      "383/383 [==============================] - 15s 38ms/step - loss: 0.0314 - accuracy: 0.8026 - val_loss: 0.0262 - val_accuracy: 0.8070\n",
      "Epoch 7/20\n",
      "383/383 [==============================] - 15s 38ms/step - loss: 0.0292 - accuracy: 0.8039 - val_loss: 0.0239 - val_accuracy: 0.8086\n",
      "Epoch 8/20\n",
      "383/383 [==============================] - 15s 38ms/step - loss: 0.0265 - accuracy: 0.8054 - val_loss: 0.0222 - val_accuracy: 0.8102\n",
      "Epoch 9/20\n",
      "383/383 [==============================] - 15s 38ms/step - loss: 0.0246 - accuracy: 0.8067 - val_loss: 0.0194 - val_accuracy: 0.8104\n",
      "Epoch 10/20\n",
      "383/383 [==============================] - 14s 38ms/step - loss: 0.0226 - accuracy: 0.8077 - val_loss: 0.0195 - val_accuracy: 0.8122\n",
      "Epoch 11/20\n",
      "383/383 [==============================] - 15s 38ms/step - loss: 0.0215 - accuracy: 0.8084 - val_loss: 0.0164 - val_accuracy: 0.8119\n",
      "Epoch 12/20\n",
      "383/383 [==============================] - 15s 38ms/step - loss: 0.0205 - accuracy: 0.8090 - val_loss: 0.0148 - val_accuracy: 0.8120\n",
      "Epoch 13/20\n",
      "383/383 [==============================] - 15s 38ms/step - loss: 0.0197 - accuracy: 0.8094 - val_loss: 0.0150 - val_accuracy: 0.8125\n",
      "Epoch 14/20\n",
      "383/383 [==============================] - 15s 38ms/step - loss: 0.0190 - accuracy: 0.8097 - val_loss: 0.0142 - val_accuracy: 0.8126\n",
      "Epoch 15/20\n",
      "383/383 [==============================] - 15s 38ms/step - loss: 0.0185 - accuracy: 0.8100 - val_loss: 0.0134 - val_accuracy: 0.8122\n",
      "Epoch 16/20\n",
      "383/383 [==============================] - 15s 38ms/step - loss: 0.0182 - accuracy: 0.8101 - val_loss: 0.0133 - val_accuracy: 0.8122\n",
      "Epoch 17/20\n",
      "383/383 [==============================] - 15s 38ms/step - loss: 0.0178 - accuracy: 0.8103 - val_loss: 0.0140 - val_accuracy: 0.8129\n",
      "Epoch 18/20\n",
      "383/383 [==============================] - 15s 38ms/step - loss: 0.0177 - accuracy: 0.8103 - val_loss: 0.0130 - val_accuracy: 0.8124\n",
      "Epoch 19/20\n",
      "383/383 [==============================] - 15s 38ms/step - loss: 0.0174 - accuracy: 0.8105 - val_loss: 0.0128 - val_accuracy: 0.8128\n",
      "Epoch 20/20\n",
      "383/383 [==============================] - 15s 38ms/step - loss: 0.0171 - accuracy: 0.8106 - val_loss: 0.0125 - val_accuracy: 0.8129\n",
      "Epoch 1/20\n"
     ]
    },
    {
     "name": "stderr",
     "output_type": "stream",
     "text": [
      "2024-01-06 16:12:06.789610: E tensorflow/core/grappler/optimizers/meta_optimizer.cc:954] layout failed: INVALID_ARGUMENT: Size of values 0 does not match size of permutation 4 @ fanin shape inautoencoder_7/sequential_14/dropout_48/dropout/SelectV2-2-TransposeNHWCToNCHW-LayoutOptimizer\n"
     ]
    },
    {
     "name": "stdout",
     "output_type": "stream",
     "text": [
      "192/192 [==============================] - 11s 31ms/step - loss: 0.0817 - accuracy: 0.7802 - val_loss: 0.0846 - val_accuracy: 0.8084\n",
      "Epoch 2/20\n",
      "192/192 [==============================] - 5s 28ms/step - loss: 0.0560 - accuracy: 0.7915 - val_loss: 0.0448 - val_accuracy: 0.8071\n",
      "Epoch 3/20\n",
      "192/192 [==============================] - 5s 28ms/step - loss: 0.0450 - accuracy: 0.7960 - val_loss: 0.0345 - val_accuracy: 0.8044\n",
      "Epoch 4/20\n",
      "192/192 [==============================] - 5s 28ms/step - loss: 0.0401 - accuracy: 0.7986 - val_loss: 0.0293 - val_accuracy: 0.8031\n",
      "Epoch 5/20\n",
      "192/192 [==============================] - 5s 28ms/step - loss: 0.0376 - accuracy: 0.8004 - val_loss: 0.0285 - val_accuracy: 0.8061\n",
      "Epoch 6/20\n",
      "192/192 [==============================] - 5s 28ms/step - loss: 0.0340 - accuracy: 0.8021 - val_loss: 0.0267 - val_accuracy: 0.8085\n",
      "Epoch 7/20\n",
      "192/192 [==============================] - 5s 28ms/step - loss: 0.0319 - accuracy: 0.8031 - val_loss: 0.0276 - val_accuracy: 0.8110\n",
      "Epoch 8/20\n",
      "192/192 [==============================] - 5s 28ms/step - loss: 0.0303 - accuracy: 0.8040 - val_loss: 0.0222 - val_accuracy: 0.8092\n",
      "Epoch 9/20\n",
      "192/192 [==============================] - 5s 28ms/step - loss: 0.0287 - accuracy: 0.8048 - val_loss: 0.0262 - val_accuracy: 0.8116\n",
      "Epoch 10/20\n",
      "192/192 [==============================] - 5s 28ms/step - loss: 0.0281 - accuracy: 0.8053 - val_loss: 0.0198 - val_accuracy: 0.8098\n",
      "Epoch 11/20\n",
      "192/192 [==============================] - 5s 28ms/step - loss: 0.0264 - accuracy: 0.8061 - val_loss: 0.0191 - val_accuracy: 0.8108\n",
      "Epoch 12/20\n",
      "192/192 [==============================] - 5s 28ms/step - loss: 0.0251 - accuracy: 0.8068 - val_loss: 0.0174 - val_accuracy: 0.8108\n",
      "Epoch 13/20\n",
      "192/192 [==============================] - 5s 28ms/step - loss: 0.0241 - accuracy: 0.8073 - val_loss: 0.0174 - val_accuracy: 0.8121\n",
      "Epoch 14/20\n",
      "192/192 [==============================] - 5s 28ms/step - loss: 0.0237 - accuracy: 0.8076 - val_loss: 0.0172 - val_accuracy: 0.8123\n",
      "Epoch 15/20\n",
      "192/192 [==============================] - 5s 29ms/step - loss: 0.0228 - accuracy: 0.8080 - val_loss: 0.0160 - val_accuracy: 0.8122\n",
      "Epoch 16/20\n",
      "192/192 [==============================] - 5s 29ms/step - loss: 0.0224 - accuracy: 0.8083 - val_loss: 0.0153 - val_accuracy: 0.8123\n",
      "Epoch 17/20\n",
      "192/192 [==============================] - 5s 28ms/step - loss: 0.0216 - accuracy: 0.8087 - val_loss: 0.0147 - val_accuracy: 0.8125\n",
      "Epoch 18/20\n",
      "192/192 [==============================] - 5s 28ms/step - loss: 0.0212 - accuracy: 0.8089 - val_loss: 0.0147 - val_accuracy: 0.8127\n",
      "Epoch 19/20\n",
      "192/192 [==============================] - 5s 28ms/step - loss: 0.0207 - accuracy: 0.8091 - val_loss: 0.0143 - val_accuracy: 0.8128\n",
      "Epoch 20/20\n",
      "192/192 [==============================] - 5s 28ms/step - loss: 0.0203 - accuracy: 0.8093 - val_loss: 0.0137 - val_accuracy: 0.8128\n",
      "Epoch 1/15\n"
     ]
    },
    {
     "name": "stderr",
     "output_type": "stream",
     "text": [
      "2024-01-06 16:14:02.552507: E tensorflow/core/grappler/optimizers/meta_optimizer.cc:954] layout failed: INVALID_ARGUMENT: Size of values 0 does not match size of permutation 4 @ fanin shape inautoencoder_8/sequential_16/dropout_53/dropout/SelectV2-2-TransposeNHWCToNCHW-LayoutOptimizer\n"
     ]
    },
    {
     "name": "stdout",
     "output_type": "stream",
     "text": [
      "766/766 [==============================] - 16s 14ms/step - loss: 0.0779 - accuracy: 0.7885 - val_loss: 0.0714 - val_accuracy: 0.8081\n",
      "Epoch 2/15\n",
      "766/766 [==============================] - 10s 13ms/step - loss: 0.0626 - accuracy: 0.7939 - val_loss: 0.0590 - val_accuracy: 0.8028\n",
      "Epoch 3/15\n",
      "766/766 [==============================] - 10s 13ms/step - loss: 0.0569 - accuracy: 0.7937 - val_loss: 0.0519 - val_accuracy: 0.8073\n",
      "Epoch 4/15\n",
      "766/766 [==============================] - 10s 13ms/step - loss: 0.0511 - accuracy: 0.7948 - val_loss: 0.0459 - val_accuracy: 0.8061\n",
      "Epoch 5/15\n",
      "766/766 [==============================] - 10s 13ms/step - loss: 0.0468 - accuracy: 0.7958 - val_loss: 0.0384 - val_accuracy: 0.8052\n",
      "Epoch 6/15\n",
      "766/766 [==============================] - 10s 13ms/step - loss: 0.0414 - accuracy: 0.7974 - val_loss: 0.0342 - val_accuracy: 0.8046\n",
      "Epoch 7/15\n",
      "766/766 [==============================] - 10s 13ms/step - loss: 0.0391 - accuracy: 0.7986 - val_loss: 0.0323 - val_accuracy: 0.8052\n",
      "Epoch 8/15\n",
      "766/766 [==============================] - 10s 13ms/step - loss: 0.0377 - accuracy: 0.7994 - val_loss: 0.0313 - val_accuracy: 0.8055\n",
      "Epoch 9/15\n",
      "766/766 [==============================] - 11s 14ms/step - loss: 0.0368 - accuracy: 0.8000 - val_loss: 0.0302 - val_accuracy: 0.8053\n",
      "Epoch 10/15\n",
      "766/766 [==============================] - 10s 13ms/step - loss: 0.0360 - accuracy: 0.8006 - val_loss: 0.0299 - val_accuracy: 0.8060\n",
      "Epoch 11/15\n",
      "766/766 [==============================] - 10s 13ms/step - loss: 0.0354 - accuracy: 0.8009 - val_loss: 0.0291 - val_accuracy: 0.8048\n",
      "Epoch 12/15\n",
      "766/766 [==============================] - 10s 13ms/step - loss: 0.0348 - accuracy: 0.8013 - val_loss: 0.0288 - val_accuracy: 0.8049\n",
      "Epoch 13/15\n",
      "766/766 [==============================] - 10s 13ms/step - loss: 0.0343 - accuracy: 0.8016 - val_loss: 0.0282 - val_accuracy: 0.8049\n",
      "Epoch 14/15\n",
      "766/766 [==============================] - 10s 13ms/step - loss: 0.0339 - accuracy: 0.8018 - val_loss: 0.0281 - val_accuracy: 0.8058\n",
      "Epoch 15/15\n",
      "766/766 [==============================] - 10s 13ms/step - loss: 0.0335 - accuracy: 0.8021 - val_loss: 0.0277 - val_accuracy: 0.8059\n",
      "Epoch 1/15\n"
     ]
    },
    {
     "name": "stderr",
     "output_type": "stream",
     "text": [
      "2024-01-06 16:16:40.662444: E tensorflow/core/grappler/optimizers/meta_optimizer.cc:954] layout failed: INVALID_ARGUMENT: Size of values 0 does not match size of permutation 4 @ fanin shape inautoencoder_9/sequential_18/dropout_60/dropout/SelectV2-2-TransposeNHWCToNCHW-LayoutOptimizer\n"
     ]
    },
    {
     "name": "stdout",
     "output_type": "stream",
     "text": [
      "766/766 [==============================] - 20s 17ms/step - loss: 0.0720 - accuracy: 0.7885 - val_loss: 0.0585 - val_accuracy: 0.7992\n",
      "Epoch 2/15\n",
      "766/766 [==============================] - 13s 17ms/step - loss: 0.0532 - accuracy: 0.7941 - val_loss: 0.0408 - val_accuracy: 0.8031\n",
      "Epoch 3/15\n",
      "766/766 [==============================] - 13s 17ms/step - loss: 0.0431 - accuracy: 0.7975 - val_loss: 0.0309 - val_accuracy: 0.8046\n",
      "Epoch 4/15\n",
      "766/766 [==============================] - 13s 16ms/step - loss: 0.0365 - accuracy: 0.8007 - val_loss: 0.0260 - val_accuracy: 0.8065\n",
      "Epoch 5/15\n",
      "766/766 [==============================] - 13s 17ms/step - loss: 0.0319 - accuracy: 0.8032 - val_loss: 0.0211 - val_accuracy: 0.8100\n",
      "Epoch 6/15\n",
      "766/766 [==============================] - 13s 17ms/step - loss: 0.0282 - accuracy: 0.8052 - val_loss: 0.0178 - val_accuracy: 0.8114\n",
      "Epoch 7/15\n",
      "766/766 [==============================] - 13s 17ms/step - loss: 0.0256 - accuracy: 0.8066 - val_loss: 0.0158 - val_accuracy: 0.8111\n",
      "Epoch 8/15\n",
      "766/766 [==============================] - 13s 17ms/step - loss: 0.0239 - accuracy: 0.8074 - val_loss: 0.0144 - val_accuracy: 0.8123\n",
      "Epoch 9/15\n",
      "766/766 [==============================] - 13s 17ms/step - loss: 0.0227 - accuracy: 0.8081 - val_loss: 0.0130 - val_accuracy: 0.8126\n",
      "Epoch 10/15\n",
      "766/766 [==============================] - 13s 17ms/step - loss: 0.0218 - accuracy: 0.8085 - val_loss: 0.0134 - val_accuracy: 0.8116\n",
      "Epoch 11/15\n",
      "766/766 [==============================] - 13s 17ms/step - loss: 0.0210 - accuracy: 0.8090 - val_loss: 0.0119 - val_accuracy: 0.8127\n",
      "Epoch 12/15\n",
      "766/766 [==============================] - 13s 17ms/step - loss: 0.0203 - accuracy: 0.8093 - val_loss: 0.0115 - val_accuracy: 0.8129\n",
      "Epoch 13/15\n",
      "766/766 [==============================] - 13s 17ms/step - loss: 0.0198 - accuracy: 0.8095 - val_loss: 0.0109 - val_accuracy: 0.8132\n",
      "Epoch 14/15\n",
      "766/766 [==============================] - 13s 17ms/step - loss: 0.0194 - accuracy: 0.8098 - val_loss: 0.0106 - val_accuracy: 0.8132\n",
      "Epoch 15/15\n",
      "766/766 [==============================] - 13s 17ms/step - loss: 0.0190 - accuracy: 0.8100 - val_loss: 0.0107 - val_accuracy: 0.8135\n",
      "Epoch 1/10\n"
     ]
    },
    {
     "name": "stderr",
     "output_type": "stream",
     "text": [
      "2024-01-06 16:20:00.435914: E tensorflow/core/grappler/optimizers/meta_optimizer.cc:954] layout failed: INVALID_ARGUMENT: Size of values 0 does not match size of permutation 4 @ fanin shape inautoencoder_10/sequential_20/dropout_67/dropout/SelectV2-2-TransposeNHWCToNCHW-LayoutOptimizer\n"
     ]
    },
    {
     "name": "stdout",
     "output_type": "stream",
     "text": [
      "766/766 [==============================] - 38s 39ms/step - loss: 0.0696 - accuracy: 0.7889 - val_loss: 0.0558 - val_accuracy: 0.7950\n",
      "Epoch 2/10\n",
      "766/766 [==============================] - 29s 38ms/step - loss: 0.0537 - accuracy: 0.7931 - val_loss: 0.0427 - val_accuracy: 0.8017\n",
      "Epoch 3/10\n",
      "766/766 [==============================] - 29s 37ms/step - loss: 0.0438 - accuracy: 0.7968 - val_loss: 0.0377 - val_accuracy: 0.8028\n",
      "Epoch 4/10\n",
      "766/766 [==============================] - 29s 38ms/step - loss: 0.0377 - accuracy: 0.7999 - val_loss: 0.0285 - val_accuracy: 0.8049\n",
      "Epoch 5/10\n",
      "766/766 [==============================] - 29s 38ms/step - loss: 0.0302 - accuracy: 0.8039 - val_loss: 0.0231 - val_accuracy: 0.8054\n",
      "Epoch 6/10\n",
      "766/766 [==============================] - 29s 38ms/step - loss: 0.0260 - accuracy: 0.8062 - val_loss: 0.0181 - val_accuracy: 0.8107\n",
      "Epoch 7/10\n",
      "766/766 [==============================] - 29s 38ms/step - loss: 0.0231 - accuracy: 0.8077 - val_loss: 0.0155 - val_accuracy: 0.8113\n",
      "Epoch 8/10\n",
      "766/766 [==============================] - 29s 38ms/step - loss: 0.0209 - accuracy: 0.8089 - val_loss: 0.0142 - val_accuracy: 0.8115\n",
      "Epoch 9/10\n",
      "766/766 [==============================] - 29s 38ms/step - loss: 0.0195 - accuracy: 0.8096 - val_loss: 0.0125 - val_accuracy: 0.8124\n",
      "Epoch 10/10\n",
      "766/766 [==============================] - 29s 37ms/step - loss: 0.0185 - accuracy: 0.8102 - val_loss: 0.0116 - val_accuracy: 0.8125\n",
      "Epoch 1/10\n"
     ]
    },
    {
     "name": "stderr",
     "output_type": "stream",
     "text": [
      "2024-01-06 16:24:58.715235: E tensorflow/core/grappler/optimizers/meta_optimizer.cc:954] layout failed: INVALID_ARGUMENT: Size of values 0 does not match size of permutation 4 @ fanin shape inautoencoder_11/sequential_22/dropout_76/dropout/SelectV2-2-TransposeNHWCToNCHW-LayoutOptimizer\n"
     ]
    },
    {
     "name": "stdout",
     "output_type": "stream",
     "text": [
      "383/383 [==============================] - 20s 33ms/step - loss: 0.0755 - accuracy: 0.7771 - val_loss: 0.0610 - val_accuracy: 0.7887\n",
      "Epoch 2/10\n",
      "383/383 [==============================] - 12s 31ms/step - loss: 0.0437 - accuracy: 0.7957 - val_loss: 0.0345 - val_accuracy: 0.8017\n",
      "Epoch 3/10\n",
      "383/383 [==============================] - 12s 31ms/step - loss: 0.0347 - accuracy: 0.8009 - val_loss: 0.0263 - val_accuracy: 0.8083\n",
      "Epoch 4/10\n",
      "383/383 [==============================] - 12s 31ms/step - loss: 0.0301 - accuracy: 0.8037 - val_loss: 0.0223 - val_accuracy: 0.8096\n",
      "Epoch 5/10\n",
      "383/383 [==============================] - 12s 31ms/step - loss: 0.0270 - accuracy: 0.8056 - val_loss: 0.0182 - val_accuracy: 0.8101\n",
      "Epoch 6/10\n",
      "383/383 [==============================] - 12s 31ms/step - loss: 0.0263 - accuracy: 0.8059 - val_loss: 0.0176 - val_accuracy: 0.8101\n",
      "Epoch 7/10\n",
      "383/383 [==============================] - 12s 31ms/step - loss: 0.0242 - accuracy: 0.8071 - val_loss: 0.0166 - val_accuracy: 0.8117\n",
      "Epoch 8/10\n",
      "383/383 [==============================] - 12s 31ms/step - loss: 0.0231 - accuracy: 0.8077 - val_loss: 0.0153 - val_accuracy: 0.8108\n",
      "Epoch 9/10\n",
      "383/383 [==============================] - 12s 31ms/step - loss: 0.0223 - accuracy: 0.8082 - val_loss: 0.0142 - val_accuracy: 0.8118\n",
      "Epoch 10/10\n",
      "383/383 [==============================] - 12s 31ms/step - loss: 0.0216 - accuracy: 0.8086 - val_loss: 0.0138 - val_accuracy: 0.8127\n",
      "Epoch 1/10\n"
     ]
    },
    {
     "name": "stderr",
     "output_type": "stream",
     "text": [
      "2024-01-06 16:27:24.095468: E tensorflow/core/grappler/optimizers/meta_optimizer.cc:954] layout failed: INVALID_ARGUMENT: Size of values 0 does not match size of permutation 4 @ fanin shape inautoencoder_12/sequential_24/dropout_85/dropout/SelectV2-2-TransposeNHWCToNCHW-LayoutOptimizer\n"
     ]
    },
    {
     "name": "stdout",
     "output_type": "stream",
     "text": [
      "383/383 [==============================] - 30s 58ms/step - loss: 0.0688 - accuracy: 0.7842 - val_loss: 0.0459 - val_accuracy: 0.8005\n",
      "Epoch 2/10\n",
      "383/383 [==============================] - 21s 54ms/step - loss: 0.0414 - accuracy: 0.7984 - val_loss: 0.0298 - val_accuracy: 0.8053\n",
      "Epoch 3/10\n",
      "383/383 [==============================] - 21s 54ms/step - loss: 0.0351 - accuracy: 0.8016 - val_loss: 0.0276 - val_accuracy: 0.8047\n",
      "Epoch 4/10\n",
      "383/383 [==============================] - 21s 55ms/step - loss: 0.0293 - accuracy: 0.8047 - val_loss: 0.0249 - val_accuracy: 0.8045\n",
      "Epoch 5/10\n",
      "383/383 [==============================] - 21s 55ms/step - loss: 0.0263 - accuracy: 0.8062 - val_loss: 0.0203 - val_accuracy: 0.8086\n",
      "Epoch 6/10\n",
      "383/383 [==============================] - 21s 54ms/step - loss: 0.0237 - accuracy: 0.8075 - val_loss: 0.0179 - val_accuracy: 0.8095\n",
      "Epoch 7/10\n",
      "383/383 [==============================] - 21s 54ms/step - loss: 0.0220 - accuracy: 0.8084 - val_loss: 0.0170 - val_accuracy: 0.8109\n",
      "Epoch 8/10\n",
      "383/383 [==============================] - 21s 55ms/step - loss: 0.0207 - accuracy: 0.8090 - val_loss: 0.0153 - val_accuracy: 0.8109\n",
      "Epoch 9/10\n",
      "383/383 [==============================] - 21s 55ms/step - loss: 0.0197 - accuracy: 0.8095 - val_loss: 0.0140 - val_accuracy: 0.8120\n",
      "Epoch 10/10\n",
      "383/383 [==============================] - 21s 54ms/step - loss: 0.0205 - accuracy: 0.8092 - val_loss: 0.0170 - val_accuracy: 0.8087\n",
      "Epoch 1/10\n"
     ]
    },
    {
     "name": "stderr",
     "output_type": "stream",
     "text": [
      "2024-01-06 16:31:02.408744: E tensorflow/core/grappler/optimizers/meta_optimizer.cc:954] layout failed: INVALID_ARGUMENT: Size of values 0 does not match size of permutation 4 @ fanin shape inautoencoder_13/sequential_26/dropout_92/dropout/SelectV2-2-TransposeNHWCToNCHW-LayoutOptimizer\n"
     ]
    },
    {
     "name": "stdout",
     "output_type": "stream",
     "text": [
      "383/383 [==============================] - 12s 17ms/step - loss: 0.0736 - accuracy: 0.7793 - val_loss: 0.0552 - val_accuracy: 0.8087\n",
      "Epoch 2/10\n",
      "383/383 [==============================] - 6s 16ms/step - loss: 0.0461 - accuracy: 0.7951 - val_loss: 0.0314 - val_accuracy: 0.8029\n",
      "Epoch 3/10\n",
      "383/383 [==============================] - 6s 16ms/step - loss: 0.0371 - accuracy: 0.7999 - val_loss: 0.0270 - val_accuracy: 0.8083\n",
      "Epoch 4/10\n",
      "383/383 [==============================] - 6s 16ms/step - loss: 0.0321 - accuracy: 0.8028 - val_loss: 0.0219 - val_accuracy: 0.8090\n",
      "Epoch 5/10\n",
      "383/383 [==============================] - 6s 16ms/step - loss: 0.0291 - accuracy: 0.8045 - val_loss: 0.0193 - val_accuracy: 0.8103\n",
      "Epoch 6/10\n",
      "383/383 [==============================] - 6s 16ms/step - loss: 0.0270 - accuracy: 0.8056 - val_loss: 0.0176 - val_accuracy: 0.8107\n",
      "Epoch 7/10\n",
      "383/383 [==============================] - 6s 16ms/step - loss: 0.0253 - accuracy: 0.8066 - val_loss: 0.0156 - val_accuracy: 0.8109\n",
      "Epoch 8/10\n",
      "383/383 [==============================] - 6s 16ms/step - loss: 0.0240 - accuracy: 0.8073 - val_loss: 0.0149 - val_accuracy: 0.8113\n",
      "Epoch 9/10\n",
      "383/383 [==============================] - 6s 16ms/step - loss: 0.0230 - accuracy: 0.8079 - val_loss: 0.0142 - val_accuracy: 0.8121\n",
      "Epoch 10/10\n",
      "383/383 [==============================] - 6s 16ms/step - loss: 0.0222 - accuracy: 0.8083 - val_loss: 0.0134 - val_accuracy: 0.8122\n",
      "Epoch 1/15\n"
     ]
    },
    {
     "name": "stderr",
     "output_type": "stream",
     "text": [
      "2024-01-06 16:32:11.052660: E tensorflow/core/grappler/optimizers/meta_optimizer.cc:954] layout failed: INVALID_ARGUMENT: Size of values 0 does not match size of permutation 4 @ fanin shape inautoencoder_14/sequential_28/dropout_99/dropout/SelectV2-2-TransposeNHWCToNCHW-LayoutOptimizer\n"
     ]
    },
    {
     "name": "stdout",
     "output_type": "stream",
     "text": [
      "192/192 [==============================] - 16s 48ms/step - loss: 0.0796 - accuracy: 0.7820 - val_loss: 0.0745 - val_accuracy: 0.7389\n",
      "Epoch 2/15\n",
      "192/192 [==============================] - 9s 46ms/step - loss: 0.0666 - accuracy: 0.7911 - val_loss: 0.0658 - val_accuracy: 0.7993\n",
      "Epoch 3/15\n",
      "192/192 [==============================] - 9s 45ms/step - loss: 0.0647 - accuracy: 0.7910 - val_loss: 0.0602 - val_accuracy: 0.8019\n",
      "Epoch 4/15\n",
      "192/192 [==============================] - 9s 45ms/step - loss: 0.0601 - accuracy: 0.7914 - val_loss: 0.0570 - val_accuracy: 0.8041\n",
      "Epoch 5/15\n",
      "192/192 [==============================] - 9s 45ms/step - loss: 0.0555 - accuracy: 0.7930 - val_loss: 0.0527 - val_accuracy: 0.8075\n",
      "Epoch 6/15\n",
      "192/192 [==============================] - 9s 45ms/step - loss: 0.0512 - accuracy: 0.7941 - val_loss: 0.0464 - val_accuracy: 0.8059\n",
      "Epoch 7/15\n",
      "192/192 [==============================] - 9s 45ms/step - loss: 0.0470 - accuracy: 0.7954 - val_loss: 0.0417 - val_accuracy: 0.8031\n",
      "Epoch 8/15\n",
      "192/192 [==============================] - 9s 45ms/step - loss: 0.0454 - accuracy: 0.7962 - val_loss: 0.0392 - val_accuracy: 0.8029\n",
      "Epoch 9/15\n",
      "192/192 [==============================] - 9s 46ms/step - loss: 0.0438 - accuracy: 0.7971 - val_loss: 0.0389 - val_accuracy: 0.8057\n",
      "Epoch 10/15\n",
      "192/192 [==============================] - 9s 46ms/step - loss: 0.0408 - accuracy: 0.7987 - val_loss: 0.0336 - val_accuracy: 0.8039\n",
      "Epoch 11/15\n",
      "192/192 [==============================] - 9s 45ms/step - loss: 0.0376 - accuracy: 0.8001 - val_loss: 0.0312 - val_accuracy: 0.8027\n",
      "Epoch 12/15\n",
      "192/192 [==============================] - 9s 46ms/step - loss: 0.0354 - accuracy: 0.8010 - val_loss: 0.0292 - val_accuracy: 0.8053\n",
      "Epoch 13/15\n",
      "192/192 [==============================] - 9s 46ms/step - loss: 0.0338 - accuracy: 0.8019 - val_loss: 0.0293 - val_accuracy: 0.8084\n",
      "Epoch 14/15\n",
      "192/192 [==============================] - 9s 46ms/step - loss: 0.0327 - accuracy: 0.8026 - val_loss: 0.0267 - val_accuracy: 0.8078\n",
      "Epoch 15/15\n",
      "192/192 [==============================] - 9s 45ms/step - loss: 0.0309 - accuracy: 0.8036 - val_loss: 0.0249 - val_accuracy: 0.8082\n",
      "Epoch 1/10\n"
     ]
    },
    {
     "name": "stderr",
     "output_type": "stream",
     "text": [
      "2024-01-06 16:34:29.222443: E tensorflow/core/grappler/optimizers/meta_optimizer.cc:954] layout failed: INVALID_ARGUMENT: Size of values 0 does not match size of permutation 4 @ fanin shape inautoencoder_15/sequential_30/dropout_106/dropout/SelectV2-2-TransposeNHWCToNCHW-LayoutOptimizer\n"
     ]
    },
    {
     "name": "stdout",
     "output_type": "stream",
     "text": [
      "766/766 [==============================] - 15s 11ms/step - loss: 0.0591 - accuracy: 0.7854 - val_loss: 0.0314 - val_accuracy: 0.8068\n",
      "Epoch 2/10\n",
      "766/766 [==============================] - 8s 11ms/step - loss: 0.0320 - accuracy: 0.8027 - val_loss: 0.0196 - val_accuracy: 0.8085\n",
      "Epoch 3/10\n",
      "766/766 [==============================] - 8s 10ms/step - loss: 0.0257 - accuracy: 0.8063 - val_loss: 0.0155 - val_accuracy: 0.8106\n",
      "Epoch 4/10\n",
      "766/766 [==============================] - 8s 11ms/step - loss: 0.0224 - accuracy: 0.8079 - val_loss: 0.0130 - val_accuracy: 0.8121\n",
      "Epoch 5/10\n",
      "766/766 [==============================] - 8s 11ms/step - loss: 0.0202 - accuracy: 0.8091 - val_loss: 0.0116 - val_accuracy: 0.8123\n",
      "Epoch 6/10\n",
      "766/766 [==============================] - 8s 11ms/step - loss: 0.0189 - accuracy: 0.8097 - val_loss: 0.0108 - val_accuracy: 0.8129\n",
      "Epoch 7/10\n",
      "766/766 [==============================] - 8s 11ms/step - loss: 0.0180 - accuracy: 0.8102 - val_loss: 0.0102 - val_accuracy: 0.8135\n",
      "Epoch 8/10\n",
      "766/766 [==============================] - 8s 11ms/step - loss: 0.0173 - accuracy: 0.8106 - val_loss: 0.0098 - val_accuracy: 0.8134\n",
      "Epoch 9/10\n",
      "766/766 [==============================] - 8s 11ms/step - loss: 0.0167 - accuracy: 0.8109 - val_loss: 0.0092 - val_accuracy: 0.8137\n",
      "Epoch 10/10\n",
      "766/766 [==============================] - 8s 11ms/step - loss: 0.0162 - accuracy: 0.8111 - val_loss: 0.0091 - val_accuracy: 0.8135\n",
      "Epoch 1/10\n"
     ]
    },
    {
     "name": "stderr",
     "output_type": "stream",
     "text": [
      "2024-01-06 16:35:58.372082: E tensorflow/core/grappler/optimizers/meta_optimizer.cc:954] layout failed: INVALID_ARGUMENT: Size of values 0 does not match size of permutation 4 @ fanin shape inautoencoder_16/sequential_32/dropout_113/dropout/SelectV2-2-TransposeNHWCToNCHW-LayoutOptimizer\n"
     ]
    },
    {
     "name": "stdout",
     "output_type": "stream",
     "text": [
      "766/766 [==============================] - 32s 34ms/step - loss: 0.0558 - accuracy: 0.7914 - val_loss: 0.0302 - val_accuracy: 0.8052\n",
      "Epoch 2/10\n",
      "766/766 [==============================] - 26s 33ms/step - loss: 0.0315 - accuracy: 0.8036 - val_loss: 0.0263 - val_accuracy: 0.8045\n",
      "Epoch 3/10\n",
      "766/766 [==============================] - 26s 34ms/step - loss: 0.0263 - accuracy: 0.8064 - val_loss: 0.0238 - val_accuracy: 0.8095\n",
      "Epoch 4/10\n",
      "766/766 [==============================] - 26s 34ms/step - loss: 0.0212 - accuracy: 0.8090 - val_loss: 0.0153 - val_accuracy: 0.8108\n",
      "Epoch 5/10\n",
      "766/766 [==============================] - 26s 33ms/step - loss: 0.0179 - accuracy: 0.8105 - val_loss: 0.0137 - val_accuracy: 0.8111\n",
      "Epoch 6/10\n",
      "766/766 [==============================] - 26s 34ms/step - loss: 0.0161 - accuracy: 0.8113 - val_loss: 0.0112 - val_accuracy: 0.8129\n",
      "Epoch 7/10\n",
      "766/766 [==============================] - 26s 34ms/step - loss: 0.0143 - accuracy: 0.8121 - val_loss: 0.0099 - val_accuracy: 0.8135\n",
      "Epoch 8/10\n",
      "766/766 [==============================] - 26s 34ms/step - loss: 0.0131 - accuracy: 0.8126 - val_loss: 0.0091 - val_accuracy: 0.8138\n",
      "Epoch 9/10\n",
      "766/766 [==============================] - 26s 34ms/step - loss: 0.0121 - accuracy: 0.8130 - val_loss: 0.0078 - val_accuracy: 0.8143\n",
      "Epoch 10/10\n",
      "766/766 [==============================] - 26s 34ms/step - loss: 0.0114 - accuracy: 0.8133 - val_loss: 0.0074 - val_accuracy: 0.8143\n",
      "Epoch 1/10\n"
     ]
    },
    {
     "name": "stderr",
     "output_type": "stream",
     "text": [
      "2024-01-06 16:40:23.774216: E tensorflow/core/grappler/optimizers/meta_optimizer.cc:954] layout failed: INVALID_ARGUMENT: Size of values 0 does not match size of permutation 4 @ fanin shape inautoencoder_17/sequential_34/dropout_120/dropout/SelectV2-2-TransposeNHWCToNCHW-LayoutOptimizer\n"
     ]
    },
    {
     "name": "stdout",
     "output_type": "stream",
     "text": [
      "766/766 [==============================] - 20s 18ms/step - loss: 0.0412 - accuracy: 0.7975 - val_loss: 0.0185 - val_accuracy: 0.8112\n",
      "Epoch 2/10\n",
      "766/766 [==============================] - 13s 17ms/step - loss: 0.0204 - accuracy: 0.8094 - val_loss: 0.0126 - val_accuracy: 0.8122\n",
      "Epoch 3/10\n",
      "766/766 [==============================] - 13s 17ms/step - loss: 0.0163 - accuracy: 0.8113 - val_loss: 0.0102 - val_accuracy: 0.8132\n",
      "Epoch 4/10\n",
      "766/766 [==============================] - 13s 17ms/step - loss: 0.0138 - accuracy: 0.8124 - val_loss: 0.0092 - val_accuracy: 0.8135\n",
      "Epoch 5/10\n",
      "766/766 [==============================] - 13s 17ms/step - loss: 0.0124 - accuracy: 0.8130 - val_loss: 0.0079 - val_accuracy: 0.8140\n",
      "Epoch 6/10\n",
      "766/766 [==============================] - 13s 17ms/step - loss: 0.0113 - accuracy: 0.8134 - val_loss: 0.0066 - val_accuracy: 0.8145\n",
      "Epoch 7/10\n",
      "766/766 [==============================] - 13s 17ms/step - loss: 0.0107 - accuracy: 0.8136 - val_loss: 0.0076 - val_accuracy: 0.8141\n",
      "Epoch 8/10\n",
      "766/766 [==============================] - 13s 17ms/step - loss: 0.0101 - accuracy: 0.8138 - val_loss: 0.0060 - val_accuracy: 0.8146\n",
      "Epoch 9/10\n",
      "766/766 [==============================] - 13s 17ms/step - loss: 0.0097 - accuracy: 0.8139 - val_loss: 0.0063 - val_accuracy: 0.8144\n",
      "Epoch 10/10\n",
      "766/766 [==============================] - 13s 17ms/step - loss: 0.0094 - accuracy: 0.8140 - val_loss: 0.0064 - val_accuracy: 0.8144\n",
      "Epoch 1/10\n"
     ]
    },
    {
     "name": "stderr",
     "output_type": "stream",
     "text": [
      "2024-01-06 16:42:44.724684: E tensorflow/core/grappler/optimizers/meta_optimizer.cc:954] layout failed: INVALID_ARGUMENT: Size of values 0 does not match size of permutation 4 @ fanin shape inautoencoder_18/sequential_36/dropout_127/dropout/SelectV2-2-TransposeNHWCToNCHW-LayoutOptimizer\n"
     ]
    },
    {
     "name": "stdout",
     "output_type": "stream",
     "text": [
      "766/766 [==============================] - 20s 18ms/step - loss: 0.0426 - accuracy: 0.7961 - val_loss: 0.0207 - val_accuracy: 0.8110\n",
      "Epoch 2/10\n",
      "766/766 [==============================] - 13s 17ms/step - loss: 0.0224 - accuracy: 0.8082 - val_loss: 0.0161 - val_accuracy: 0.8128\n",
      "Epoch 3/10\n",
      "766/766 [==============================] - 13s 17ms/step - loss: 0.0182 - accuracy: 0.8103 - val_loss: 0.0125 - val_accuracy: 0.8130\n",
      "Epoch 4/10\n",
      "766/766 [==============================] - 13s 17ms/step - loss: 0.0160 - accuracy: 0.8114 - val_loss: 0.0111 - val_accuracy: 0.8136\n",
      "Epoch 5/10\n",
      "766/766 [==============================] - 13s 17ms/step - loss: 0.0145 - accuracy: 0.8120 - val_loss: 0.0095 - val_accuracy: 0.8137\n",
      "Epoch 6/10\n",
      "766/766 [==============================] - 13s 17ms/step - loss: 0.0134 - accuracy: 0.8124 - val_loss: 0.0085 - val_accuracy: 0.8140\n",
      "Epoch 7/10\n",
      "766/766 [==============================] - 13s 17ms/step - loss: 0.0124 - accuracy: 0.8129 - val_loss: 0.0081 - val_accuracy: 0.8138\n",
      "Epoch 8/10\n",
      "766/766 [==============================] - 13s 17ms/step - loss: 0.0117 - accuracy: 0.8131 - val_loss: 0.0138 - val_accuracy: 0.8082\n",
      "Epoch 9/10\n",
      "766/766 [==============================] - 13s 17ms/step - loss: 0.0110 - accuracy: 0.8134 - val_loss: 0.0069 - val_accuracy: 0.8145\n",
      "Epoch 10/10\n",
      "766/766 [==============================] - 13s 17ms/step - loss: 0.0105 - accuracy: 0.8136 - val_loss: 0.0064 - val_accuracy: 0.8145\n",
      "Epoch 1/10\n"
     ]
    },
    {
     "name": "stderr",
     "output_type": "stream",
     "text": [
      "2024-01-06 16:45:04.697685: E tensorflow/core/grappler/optimizers/meta_optimizer.cc:954] layout failed: INVALID_ARGUMENT: Size of values 0 does not match size of permutation 4 @ fanin shape inautoencoder_19/sequential_38/dropout_134/dropout/SelectV2-2-TransposeNHWCToNCHW-LayoutOptimizer\n"
     ]
    },
    {
     "name": "stdout",
     "output_type": "stream",
     "text": [
      "766/766 [==============================] - 20s 18ms/step - loss: 0.0388 - accuracy: 0.7985 - val_loss: 0.0163 - val_accuracy: 0.8113\n",
      "Epoch 2/10\n",
      "766/766 [==============================] - 13s 18ms/step - loss: 0.0189 - accuracy: 0.8101 - val_loss: 0.0115 - val_accuracy: 0.8134\n",
      "Epoch 3/10\n",
      "766/766 [==============================] - 13s 17ms/step - loss: 0.0154 - accuracy: 0.8117 - val_loss: 0.0099 - val_accuracy: 0.8132\n",
      "Epoch 4/10\n",
      "766/766 [==============================] - 13s 17ms/step - loss: 0.0134 - accuracy: 0.8126 - val_loss: 0.0089 - val_accuracy: 0.8137\n",
      "Epoch 5/10\n",
      "766/766 [==============================] - 13s 17ms/step - loss: 0.0121 - accuracy: 0.8130 - val_loss: 0.0095 - val_accuracy: 0.8133\n",
      "Epoch 6/10\n",
      "766/766 [==============================] - 13s 17ms/step - loss: 0.0113 - accuracy: 0.8134 - val_loss: 0.0081 - val_accuracy: 0.8139\n",
      "Epoch 7/10\n",
      "766/766 [==============================] - 13s 17ms/step - loss: 0.0106 - accuracy: 0.8136 - val_loss: 0.0067 - val_accuracy: 0.8145\n",
      "Epoch 8/10\n",
      "766/766 [==============================] - 13s 17ms/step - loss: 0.0100 - accuracy: 0.8138 - val_loss: 0.0064 - val_accuracy: 0.8144\n",
      "Epoch 9/10\n",
      "766/766 [==============================] - 13s 17ms/step - loss: 0.0096 - accuracy: 0.8139 - val_loss: 0.0058 - val_accuracy: 0.8146\n",
      "Epoch 10/10\n",
      "766/766 [==============================] - 13s 17ms/step - loss: 0.0094 - accuracy: 0.8140 - val_loss: 0.0068 - val_accuracy: 0.8143\n",
      "Epoch 1/10\n"
     ]
    },
    {
     "name": "stderr",
     "output_type": "stream",
     "text": [
      "2024-01-06 16:47:24.946679: E tensorflow/core/grappler/optimizers/meta_optimizer.cc:954] layout failed: INVALID_ARGUMENT: Size of values 0 does not match size of permutation 4 @ fanin shape inautoencoder_20/sequential_40/dropout_141/dropout/SelectV2-2-TransposeNHWCToNCHW-LayoutOptimizer\n"
     ]
    },
    {
     "name": "stdout",
     "output_type": "stream",
     "text": [
      "766/766 [==============================] - 20s 18ms/step - loss: 0.0574 - accuracy: 0.7897 - val_loss: 0.0383 - val_accuracy: 0.8061\n",
      "Epoch 2/10\n",
      "766/766 [==============================] - 13s 17ms/step - loss: 0.0375 - accuracy: 0.8001 - val_loss: 0.0311 - val_accuracy: 0.8044\n",
      "Epoch 3/10\n",
      "766/766 [==============================] - 13s 17ms/step - loss: 0.0338 - accuracy: 0.8022 - val_loss: 0.0292 - val_accuracy: 0.8051\n",
      "Epoch 4/10\n",
      "766/766 [==============================] - 13s 17ms/step - loss: 0.0322 - accuracy: 0.8030 - val_loss: 0.0283 - val_accuracy: 0.8066\n",
      "Epoch 5/10\n",
      "766/766 [==============================] - 13s 17ms/step - loss: 0.0309 - accuracy: 0.8037 - val_loss: 0.0273 - val_accuracy: 0.8050\n",
      "Epoch 6/10\n",
      "766/766 [==============================] - 13s 17ms/step - loss: 0.0299 - accuracy: 0.8041 - val_loss: 0.0270 - val_accuracy: 0.8075\n",
      "Epoch 7/10\n",
      "766/766 [==============================] - 13s 17ms/step - loss: 0.0293 - accuracy: 0.8045 - val_loss: 0.0261 - val_accuracy: 0.8066\n",
      "Epoch 8/10\n",
      "766/766 [==============================] - 13s 17ms/step - loss: 0.0287 - accuracy: 0.8048 - val_loss: 0.0258 - val_accuracy: 0.8075\n",
      "Epoch 9/10\n",
      "766/766 [==============================] - 13s 17ms/step - loss: 0.0282 - accuracy: 0.8051 - val_loss: 0.0253 - val_accuracy: 0.8070\n",
      "Epoch 10/10\n",
      "766/766 [==============================] - 13s 17ms/step - loss: 0.0278 - accuracy: 0.8053 - val_loss: 0.0252 - val_accuracy: 0.8075\n",
      "Epoch 1/10\n"
     ]
    },
    {
     "name": "stderr",
     "output_type": "stream",
     "text": [
      "2024-01-06 16:49:50.257864: E tensorflow/core/grappler/optimizers/meta_optimizer.cc:954] layout failed: INVALID_ARGUMENT: Size of values 0 does not match size of permutation 4 @ fanin shape inautoencoder_21/sequential_42/dropout_148/dropout/SelectV2-2-TransposeNHWCToNCHW-LayoutOptimizer\n"
     ]
    },
    {
     "name": "stdout",
     "output_type": "stream",
     "text": [
      "766/766 [==============================] - 20s 18ms/step - loss: 0.0402 - accuracy: 0.7980 - val_loss: 0.0168 - val_accuracy: 0.8110\n",
      "Epoch 2/10\n",
      "766/766 [==============================] - 13s 17ms/step - loss: 0.0197 - accuracy: 0.8097 - val_loss: 0.0128 - val_accuracy: 0.8128\n",
      "Epoch 3/10\n",
      "766/766 [==============================] - 13s 17ms/step - loss: 0.0162 - accuracy: 0.8114 - val_loss: 0.0099 - val_accuracy: 0.8133\n",
      "Epoch 4/10\n",
      "766/766 [==============================] - 13s 17ms/step - loss: 0.0141 - accuracy: 0.8123 - val_loss: 0.0087 - val_accuracy: 0.8138\n",
      "Epoch 5/10\n",
      "766/766 [==============================] - 13s 17ms/step - loss: 0.0127 - accuracy: 0.8128 - val_loss: 0.0082 - val_accuracy: 0.8145\n",
      "Epoch 6/10\n",
      "766/766 [==============================] - 13s 17ms/step - loss: 0.0115 - accuracy: 0.8133 - val_loss: 0.0081 - val_accuracy: 0.8138\n",
      "Epoch 7/10\n",
      "766/766 [==============================] - 13s 17ms/step - loss: 0.0109 - accuracy: 0.8135 - val_loss: 0.0067 - val_accuracy: 0.8144\n",
      "Epoch 8/10\n",
      "766/766 [==============================] - 13s 17ms/step - loss: 0.0102 - accuracy: 0.8137 - val_loss: 0.0062 - val_accuracy: 0.8145\n",
      "Epoch 9/10\n",
      "766/766 [==============================] - 13s 17ms/step - loss: 0.0098 - accuracy: 0.8138 - val_loss: 0.0059 - val_accuracy: 0.8146\n",
      "Epoch 10/10\n",
      "766/766 [==============================] - 13s 18ms/step - loss: 0.0094 - accuracy: 0.8140 - val_loss: 0.0063 - val_accuracy: 0.8145\n",
      "Epoch 1/10\n"
     ]
    },
    {
     "name": "stderr",
     "output_type": "stream",
     "text": [
      "2024-01-06 16:52:09.477807: E tensorflow/core/grappler/optimizers/meta_optimizer.cc:954] layout failed: INVALID_ARGUMENT: Size of values 0 does not match size of permutation 4 @ fanin shape inautoencoder_22/sequential_44/dropout_155/dropout/SelectV2-2-TransposeNHWCToNCHW-LayoutOptimizer\n"
     ]
    },
    {
     "name": "stdout",
     "output_type": "stream",
     "text": [
      "766/766 [==============================] - 20s 18ms/step - loss: 0.0405 - accuracy: 0.7978 - val_loss: 0.0181 - val_accuracy: 0.8121\n",
      "Epoch 2/10\n",
      "766/766 [==============================] - 13s 17ms/step - loss: 0.0188 - accuracy: 0.8102 - val_loss: 0.0128 - val_accuracy: 0.8130\n",
      "Epoch 3/10\n",
      "766/766 [==============================] - 13s 17ms/step - loss: 0.0155 - accuracy: 0.8117 - val_loss: 0.0096 - val_accuracy: 0.8133\n",
      "Epoch 4/10\n",
      "766/766 [==============================] - 13s 17ms/step - loss: 0.0136 - accuracy: 0.8125 - val_loss: 0.0084 - val_accuracy: 0.8139\n",
      "Epoch 5/10\n",
      "766/766 [==============================] - 13s 17ms/step - loss: 0.0123 - accuracy: 0.8130 - val_loss: 0.0075 - val_accuracy: 0.8142\n",
      "Epoch 6/10\n",
      "766/766 [==============================] - 13s 17ms/step - loss: 0.0114 - accuracy: 0.8133 - val_loss: 0.0076 - val_accuracy: 0.8140\n",
      "Epoch 7/10\n",
      "766/766 [==============================] - 13s 17ms/step - loss: 0.0107 - accuracy: 0.8135 - val_loss: 0.0069 - val_accuracy: 0.8143\n",
      "Epoch 8/10\n",
      "766/766 [==============================] - 13s 17ms/step - loss: 0.0101 - accuracy: 0.8137 - val_loss: 0.0061 - val_accuracy: 0.8146\n",
      "Epoch 9/10\n",
      "766/766 [==============================] - 13s 17ms/step - loss: 0.0098 - accuracy: 0.8138 - val_loss: 0.0058 - val_accuracy: 0.8146\n",
      "Epoch 10/10\n",
      "766/766 [==============================] - 13s 17ms/step - loss: 0.0095 - accuracy: 0.8139 - val_loss: 0.0059 - val_accuracy: 0.8146\n",
      "Epoch 1/10\n"
     ]
    },
    {
     "name": "stderr",
     "output_type": "stream",
     "text": [
      "2024-01-06 16:54:29.983977: E tensorflow/core/grappler/optimizers/meta_optimizer.cc:954] layout failed: INVALID_ARGUMENT: Size of values 0 does not match size of permutation 4 @ fanin shape inautoencoder_23/sequential_46/dropout_162/dropout/SelectV2-2-TransposeNHWCToNCHW-LayoutOptimizer\n"
     ]
    },
    {
     "name": "stdout",
     "output_type": "stream",
     "text": [
      "766/766 [==============================] - 20s 18ms/step - loss: 0.0429 - accuracy: 0.7968 - val_loss: 0.0184 - val_accuracy: 0.8092\n",
      "Epoch 2/10\n",
      "766/766 [==============================] - 13s 17ms/step - loss: 0.0200 - accuracy: 0.8096 - val_loss: 0.0120 - val_accuracy: 0.8125\n",
      "Epoch 3/10\n",
      "766/766 [==============================] - 13s 17ms/step - loss: 0.0161 - accuracy: 0.8114 - val_loss: 0.0108 - val_accuracy: 0.8138\n",
      "Epoch 4/10\n",
      "766/766 [==============================] - 13s 17ms/step - loss: 0.0140 - accuracy: 0.8123 - val_loss: 0.0091 - val_accuracy: 0.8134\n",
      "Epoch 5/10\n",
      "766/766 [==============================] - 13s 17ms/step - loss: 0.0128 - accuracy: 0.8128 - val_loss: 0.0084 - val_accuracy: 0.8137\n",
      "Epoch 6/10\n",
      "766/766 [==============================] - 13s 17ms/step - loss: 0.0118 - accuracy: 0.8132 - val_loss: 0.0079 - val_accuracy: 0.8138\n",
      "Epoch 7/10\n",
      "766/766 [==============================] - 13s 17ms/step - loss: 0.0110 - accuracy: 0.8134 - val_loss: 0.0071 - val_accuracy: 0.8143\n",
      "Epoch 8/10\n",
      "766/766 [==============================] - 13s 17ms/step - loss: 0.0104 - accuracy: 0.8136 - val_loss: 0.0073 - val_accuracy: 0.8140\n",
      "Epoch 9/10\n",
      "766/766 [==============================] - 13s 17ms/step - loss: 0.0100 - accuracy: 0.8138 - val_loss: 0.0071 - val_accuracy: 0.8141\n",
      "Epoch 10/10\n",
      "766/766 [==============================] - 13s 17ms/step - loss: 0.0097 - accuracy: 0.8139 - val_loss: 0.0065 - val_accuracy: 0.8143\n",
      "Epoch 1/10\n"
     ]
    },
    {
     "name": "stderr",
     "output_type": "stream",
     "text": [
      "2024-01-06 16:56:48.880278: E tensorflow/core/grappler/optimizers/meta_optimizer.cc:954] layout failed: INVALID_ARGUMENT: Size of values 0 does not match size of permutation 4 @ fanin shape inautoencoder_24/sequential_48/dropout_169/dropout/SelectV2-2-TransposeNHWCToNCHW-LayoutOptimizer\n"
     ]
    },
    {
     "name": "stdout",
     "output_type": "stream",
     "text": [
      "766/766 [==============================] - 20s 18ms/step - loss: 0.0425 - accuracy: 0.7965 - val_loss: 0.0202 - val_accuracy: 0.8085\n",
      "Epoch 2/10\n",
      "766/766 [==============================] - 13s 17ms/step - loss: 0.0216 - accuracy: 0.8086 - val_loss: 0.0137 - val_accuracy: 0.8119\n",
      "Epoch 3/10\n",
      "766/766 [==============================] - 13s 17ms/step - loss: 0.0187 - accuracy: 0.8101 - val_loss: 0.0127 - val_accuracy: 0.8133\n",
      "Epoch 4/10\n",
      "766/766 [==============================] - 13s 17ms/step - loss: 0.0159 - accuracy: 0.8114 - val_loss: 0.0102 - val_accuracy: 0.8131\n",
      "Epoch 5/10\n",
      "766/766 [==============================] - 13s 17ms/step - loss: 0.0141 - accuracy: 0.8122 - val_loss: 0.0088 - val_accuracy: 0.8139\n",
      "Epoch 6/10\n",
      "766/766 [==============================] - 13s 17ms/step - loss: 0.0131 - accuracy: 0.8126 - val_loss: 0.0080 - val_accuracy: 0.8141\n",
      "Epoch 7/10\n",
      "766/766 [==============================] - 13s 17ms/step - loss: 0.0122 - accuracy: 0.8129 - val_loss: 0.0075 - val_accuracy: 0.8143\n",
      "Epoch 8/10\n",
      "766/766 [==============================] - 13s 17ms/step - loss: 0.0115 - accuracy: 0.8132 - val_loss: 0.0073 - val_accuracy: 0.8141\n",
      "Epoch 9/10\n",
      "766/766 [==============================] - 13s 17ms/step - loss: 0.0110 - accuracy: 0.8134 - val_loss: 0.0078 - val_accuracy: 0.8136\n",
      "Epoch 10/10\n",
      "766/766 [==============================] - 13s 18ms/step - loss: 0.0106 - accuracy: 0.8136 - val_loss: 0.0067 - val_accuracy: 0.8144\n"
     ]
    }
   ],
   "source": [
    "# Disable Optuna trial output\n",
    "optuna.logging.set_verbosity(optuna.logging.WARNING)  \n",
    "\n",
    "shape = (28,28,1)\n",
    "predefined_filters =[[32, 64, 128],[32,64,128,256],[16,32,64,128],[16,32,64,128,256]]\n",
    "\n",
    "def objective(trial):\n",
    "    epoch = trial.suggest_categorical('epoch',[10,15,20])\n",
    "    batch = trial.suggest_categorical('batch', [64,128,256])\n",
    "    dim = trial.suggest_categorical('dim',[5,10,20,30])\n",
    "    kernel = trial.suggest_categorical('kernel', [(3, 3), (5, 5), (7, 7)])\n",
    "    filters = trial.suggest_categorical('filters', predefined_filters)\n",
    "    rate = trial.suggest_categorical('rate', [0.5,0.6,0.7])\n",
    "\n",
    "    autoencoder = Autoencoder(dim, len(filters), kernel, filters, shape, rate)\n",
    "    autoencoder.compile(optimizer='adam', loss=keras.losses.MeanSquaredError(), metrics=['accuracy'])\n",
    "    early_stopping = EarlyStopping(monitor='val_loss', patience=3, restore_best_weights=True)\n",
    "    history = autoencoder.fit(train_X, train_X,\n",
    "                              epochs=epoch,\n",
    "                              shuffle=True,\n",
    "                              batch_size=batch,\n",
    "                              callbacks=[early_stopping],\n",
    "                              validation_data=(val_X, val_X))\n",
    "    val_loss = history.history['val_loss'][-1]\n",
    "    return val_loss\n",
    "\n",
    "study = optuna.create_study(direction='minimize', study_name='my_study_name')\n",
    "study.optimize(objective, n_trials=25)"
   ]
  },
  {
   "cell_type": "markdown",
   "id": "8c2e772b",
   "metadata": {
    "papermill": {
     "duration": 4.693482,
     "end_time": "2024-01-06T16:59:14.615594",
     "exception": false,
     "start_time": "2024-01-06T16:59:09.922112",
     "status": "completed"
    },
    "tags": []
   },
   "source": [
    "# **Best Parameters for Least Loss:**"
   ]
  },
  {
   "cell_type": "code",
   "execution_count": 6,
   "id": "b6199917",
   "metadata": {
    "execution": {
     "iopub.execute_input": "2024-01-06T16:59:24.159075Z",
     "iopub.status.busy": "2024-01-06T16:59:24.158682Z",
     "iopub.status.idle": "2024-01-06T16:59:24.164375Z",
     "shell.execute_reply": "2024-01-06T16:59:24.163540Z"
    },
    "papermill": {
     "duration": 4.78913,
     "end_time": "2024-01-06T16:59:24.166815",
     "exception": false,
     "start_time": "2024-01-06T16:59:19.377685",
     "status": "completed"
    },
    "tags": []
   },
   "outputs": [
    {
     "name": "stdout",
     "output_type": "stream",
     "text": [
      "Best loss is  0.0058559454046189785 with  {'epoch': 10, 'batch': 64, 'dim': 30, 'kernel': (3, 3), 'filters': [32, 64, 128, 256], 'rate': 0.5}\n"
     ]
    }
   ],
   "source": [
    "best_params = study.best_params\n",
    "best_loss = study.best_value\n",
    "print(\"Best loss is \",best_loss,\"with \",best_params)"
   ]
  },
  {
   "cell_type": "markdown",
   "id": "d395f3f3",
   "metadata": {
    "id": "IoSABCBfGCtq",
    "papermill": {
     "duration": 4.727822,
     "end_time": "2024-01-06T16:59:33.614533",
     "exception": false,
     "start_time": "2024-01-06T16:59:28.886711",
     "status": "completed"
    },
    "tags": []
   },
   "source": [
    "# **Loss & Accuracy per Epoch For Best Model :**"
   ]
  },
  {
   "cell_type": "code",
   "execution_count": 7,
   "id": "a081594d",
   "metadata": {
    "execution": {
     "iopub.execute_input": "2024-01-06T16:59:43.027999Z",
     "iopub.status.busy": "2024-01-06T16:59:43.027638Z",
     "iopub.status.idle": "2024-01-06T17:02:07.554856Z",
     "shell.execute_reply": "2024-01-06T17:02:07.553758Z"
    },
    "id": "6MiPd1O8ERCn",
    "papermill": {
     "duration": 149.297678,
     "end_time": "2024-01-06T17:02:07.557228",
     "exception": false,
     "start_time": "2024-01-06T16:59:38.259550",
     "status": "completed"
    },
    "tags": []
   },
   "outputs": [
    {
     "name": "stdout",
     "output_type": "stream",
     "text": [
      "Epoch 1/10\n"
     ]
    },
    {
     "name": "stderr",
     "output_type": "stream",
     "text": [
      "2024-01-06 16:59:46.245803: E tensorflow/core/grappler/optimizers/meta_optimizer.cc:954] layout failed: INVALID_ARGUMENT: Size of values 0 does not match size of permutation 4 @ fanin shape inautoencoder_25/sequential_50/dropout_176/dropout/SelectV2-2-TransposeNHWCToNCHW-LayoutOptimizer\n"
     ]
    },
    {
     "name": "stdout",
     "output_type": "stream",
     "text": [
      "766/766 [==============================] - 20s 18ms/step - loss: 0.0423 - accuracy: 0.7969 - val_loss: 0.0178 - val_accuracy: 0.8110\n",
      "Epoch 2/10\n",
      "766/766 [==============================] - 13s 17ms/step - loss: 0.0198 - accuracy: 0.8096 - val_loss: 0.0131 - val_accuracy: 0.8129\n",
      "Epoch 3/10\n",
      "766/766 [==============================] - 13s 18ms/step - loss: 0.0164 - accuracy: 0.8112 - val_loss: 0.0102 - val_accuracy: 0.8136\n",
      "Epoch 4/10\n",
      "766/766 [==============================] - 13s 17ms/step - loss: 0.0141 - accuracy: 0.8123 - val_loss: 0.0090 - val_accuracy: 0.8135\n",
      "Epoch 5/10\n",
      "766/766 [==============================] - 13s 17ms/step - loss: 0.0132 - accuracy: 0.8126 - val_loss: 0.0078 - val_accuracy: 0.8141\n",
      "Epoch 6/10\n",
      "766/766 [==============================] - 13s 17ms/step - loss: 0.0119 - accuracy: 0.8131 - val_loss: 0.0081 - val_accuracy: 0.8137\n",
      "Epoch 7/10\n",
      "766/766 [==============================] - 13s 17ms/step - loss: 0.0112 - accuracy: 0.8134 - val_loss: 0.0071 - val_accuracy: 0.8142\n",
      "Epoch 8/10\n",
      "766/766 [==============================] - 13s 17ms/step - loss: 0.0106 - accuracy: 0.8136 - val_loss: 0.0066 - val_accuracy: 0.8144\n",
      "Epoch 9/10\n",
      "766/766 [==============================] - 13s 17ms/step - loss: 0.0101 - accuracy: 0.8137 - val_loss: 0.0064 - val_accuracy: 0.8144\n",
      "Epoch 10/10\n",
      "766/766 [==============================] - 13s 17ms/step - loss: 0.0097 - accuracy: 0.8138 - val_loss: 0.0058 - val_accuracy: 0.8147\n"
     ]
    }
   ],
   "source": [
    "layers = len(best_params['filters'])\n",
    "autoencoder = Autoencoder(best_params['dim'],layers,best_params['kernel'],best_params['filters'],shape,best_params['rate'])\n",
    "autoencoder.compile(optimizer='adam', loss=keras.losses.MeanSquaredError(),metrics=['accuracy'])\n",
    "early_stopping = EarlyStopping(monitor='val_loss', patience=3, restore_best_weights=True)\n",
    "history = autoencoder.fit(train_X, train_X,\n",
    "                epochs=best_params['epoch'],\n",
    "                shuffle=True,\n",
    "                batch_size=best_params['batch'],\n",
    "                callbacks=[early_stopping],\n",
    "                validation_data=(val_X, val_X))\n",
    "autoencoder.save('autoencoder', save_format='tf')"
   ]
  },
  {
   "cell_type": "code",
   "execution_count": 8,
   "id": "fb040e16",
   "metadata": {
    "execution": {
     "iopub.execute_input": "2024-01-06T17:02:17.312092Z",
     "iopub.status.busy": "2024-01-06T17:02:17.311227Z",
     "iopub.status.idle": "2024-01-06T17:02:17.660358Z",
     "shell.execute_reply": "2024-01-06T17:02:17.659437Z"
    },
    "papermill": {
     "duration": 5.166579,
     "end_time": "2024-01-06T17:02:17.662977",
     "exception": false,
     "start_time": "2024-01-06T17:02:12.496398",
     "status": "completed"
    },
    "tags": []
   },
   "outputs": [
    {
     "data": {
      "image/png": "[encoded data removed]",
      "text/plain": [
       "<Figure size 1000x500 with 1 Axes>"
      ]
     },
     "metadata": {},
     "output_type": "display_data"
    }
   ],
   "source": [
    "# Plot training and validation loss\n",
    "plt.figure(figsize=(10, 5))\n",
    "plt.plot(range(1, len(history.history['loss']) + 1), history.history['loss'], label='Training Loss', color='blue')\n",
    "plt.plot(range(1, len(history.history['val_loss']) + 1), history.history['val_loss'], label='Validation Loss', color='orange')\n",
    "plt.title('Training and Validation Loss')\n",
    "plt.xlabel('Epochs')\n",
    "plt.ylabel('Loss')\n",
    "plt.xticks(range(1, len(history.history['loss']) + 1))\n",
    "plt.legend()\n",
    "plt.show()"
   ]
  },
  {
   "cell_type": "code",
   "execution_count": 9,
   "id": "20c24bb5",
   "metadata": {
    "execution": {
     "iopub.execute_input": "2024-01-06T17:02:27.410086Z",
     "iopub.status.busy": "2024-01-06T17:02:27.409273Z",
     "iopub.status.idle": "2024-01-06T17:02:27.760114Z",
     "shell.execute_reply": "2024-01-06T17:02:27.759143Z"
    },
    "papermill": {
     "duration": 5.154548,
     "end_time": "2024-01-06T17:02:27.762261",
     "exception": false,
     "start_time": "2024-01-06T17:02:22.607713",
     "status": "completed"
    },
    "tags": []
   },
   "outputs": [
    {
     "data": {
      "image/png": "[encoded data removed]",
      "text/plain": [
       "<Figure size 1000x500 with 1 Axes>"
      ]
     },
     "metadata": {},
     "output_type": "display_data"
    }
   ],
   "source": [
    "plt.figure(figsize=(10, 5))\n",
    "plt.plot(range(1, len(history.history['accuracy']) + 1), history.history['accuracy'], label='Training Accuracy', color='blue')\n",
    "plt.plot(range(1, len(history.history['val_accuracy']) + 1), history.history['val_accuracy'], label='Validation Accuracy', color='orange')\n",
    "plt.title('Training and Validation Accuracy')\n",
    "plt.xlabel('Epochs')\n",
    "plt.ylabel('Accuracy')\n",
    "plt.xticks(range(1, len(history.history['accuracy']) + 1))\n",
    "plt.legend()\n",
    "plt.show()"
   ]
  },
  {
   "cell_type": "markdown",
   "id": "c032ca6a",
   "metadata": {
    "papermill": {
     "duration": 4.992785,
     "end_time": "2024-01-06T17:02:37.724814",
     "exception": false,
     "start_time": "2024-01-06T17:02:32.732029",
     "status": "completed"
    },
    "tags": []
   },
   "source": [
    "The plots demonstrate a small generalization gap as well as a trend in loss reduction.The regularization terms are only applied while training the model on the training set, inflating the training loss which explains why it ends up being bigger.We also notice how the number of epochs is sufficient since in the last ones there is a tendency for metrics to be stabilized."
   ]
  },
  {
   "cell_type": "markdown",
   "id": "ebdac594",
   "metadata": {
    "papermill": {
     "duration": 4.917034,
     "end_time": "2024-01-06T17:02:47.469216",
     "exception": false,
     "start_time": "2024-01-06T17:02:42.552182",
     "status": "completed"
    },
    "tags": []
   },
   "source": [
    "**Optimization History**"
   ]
  },
  {
   "cell_type": "code",
   "execution_count": 10,
   "id": "e6d29ab8",
   "metadata": {
    "execution": {
     "iopub.execute_input": "2024-01-06T17:02:57.119058Z",
     "iopub.status.busy": "2024-01-06T17:02:57.118283Z",
     "iopub.status.idle": "2024-01-06T17:02:57.413633Z",
     "shell.execute_reply": "2024-01-06T17:02:57.412737Z"
    },
    "papermill": {
     "duration": 5.138164,
     "end_time": "2024-01-06T17:02:57.415721",
     "exception": false,
     "start_time": "2024-01-06T17:02:52.277557",
     "status": "completed"
    },
    "tags": []
   },
   "outputs": [
    {
     "data": {
      "text/html": [
       "        <script type=\"text/javascript\">\n",
       "        window.PlotlyConfig = {MathJaxConfig: 'local'};\n",
       "        if (window.MathJax && window.MathJax.Hub && window.MathJax.Hub.Config) {window.MathJax.Hub.Config({SVG: {font: \"STIX-Web\"}});}\n",
       "        if (typeof require !== 'undefined') {\n",
       "        require.undef(\"plotly\");\n",
       "        requirejs.config({\n",
       "            paths: {\n",
       "                'plotly': ['https://cdn.plot.ly/plotly-2.25.2.min']\n",
       "            }\n",
       "        });\n",
       "        require(['plotly'], function(Plotly) {\n",
       "            window._Plotly = Plotly;\n",
       "        });\n",
       "        }\n",
       "        </script>\n",
       "        "
      ]
     },
     "metadata": {},
     "output_type": "display_data"
    },
    {
     "data": {
      "text/html": [
       "<div>                            <div id=\"b4b5b9b3-1d57-44be-82e0-3ff7b813c70c\" class=\"plotly-graph-div\" style=\"height:525px; width:100%;\"></div>            <script type=\"text/javascript\">                require([\"plotly\"], function(Plotly) {                    window.PLOTLYENV=window.PLOTLYENV || {};                                    if (document.getElementById(\"b4b5b9b3-1d57-44be-82e0-3ff7b813c70c\")) {                    Plotly.newPlot(                        \"b4b5b9b3-1d57-44be-82e0-3ff7b813c70c\",                        [{\"mode\":\"markers\",\"name\":\"Objective Value\",\"x\":[0,1,2,3,4,5,6,7,8,9,10,11,12,13,14,15,16,17,18,19,20,21,22,23,24],\"y\":[0.010651668533682823,0.014274573884904385,0.027462666854262352,0.01693415269255638,0.010203619487583637,0.016622556373476982,0.012466183863580227,0.013727739453315735,0.027689721435308456,0.010666114278137684,0.011626842431724072,0.013834794983267784,0.01701289229094982,0.013381030410528183,0.02491615153849125,0.009099981747567654,0.007376561406999826,0.006390201393514872,0.006360854487866163,0.006816402077674866,0.025160225108265877,0.00628511980175972,0.0058559454046189785,0.006505294237285852,0.006672894582152367],\"type\":\"scatter\"},{\"mode\":\"lines\",\"name\":\"Best Value\",\"x\":[0,1,2,3,4,5,6,7,8,9,10,11,12,13,14,15,16,17,18,19,20,21,22,23,24],\"y\":[0.010651668533682823,0.010651668533682823,0.010651668533682823,0.010651668533682823,0.010203619487583637,0.010203619487583637,0.010203619487583637,0.010203619487583637,0.010203619487583637,0.010203619487583637,0.010203619487583637,0.010203619487583637,0.010203619487583637,0.010203619487583637,0.010203619487583637,0.009099981747567654,0.007376561406999826,0.006390201393514872,0.006360854487866163,0.006360854487866163,0.006360854487866163,0.00628511980175972,0.0058559454046189785,0.0058559454046189785,0.0058559454046189785],\"type\":\"scatter\"},{\"marker\":{\"color\":\"#cccccc\"},\"mode\":\"markers\",\"name\":\"Infeasible Trial\",\"showlegend\":false,\"x\":[],\"y\":[],\"type\":\"scatter\"}],                        {\"title\":{\"text\":\"Optimization History Plot\"},\"xaxis\":{\"title\":{\"text\":\"Trial\"}},\"yaxis\":{\"title\":{\"text\":\"Objective Value\"}},\"template\":{\"data\":{\"histogram2dcontour\":[{\"type\":\"histogram2dcontour\",\"colorbar\":{\"outlinewidth\":0,\"ticks\":\"\"},\"colorscale\":[[0.0,\"#0d0887\"],[0.1111111111111111,\"#46039f\"],[0.2222222222222222,\"#7201a8\"],[0.3333333333333333,\"#9c179e\"],[0.4444444444444444,\"#bd3786\"],[0.5555555555555556,\"#d8576b\"],[0.6666666666666666,\"#ed7953\"],[0.7777777777777778,\"#fb9f3a\"],[0.8888888888888888,\"#fdca26\"],[1.0,\"#f0f921\"]]}],\"choropleth\":[{\"type\":\"choropleth\",\"colorbar\":{\"outlinewidth\":0,\"ticks\":\"\"}}],\"histogram2d\":[{\"type\":\"histogram2d\",\"colorbar\":{\"outlinewidth\":0,\"ticks\":\"\"},\"colorscale\":[[0.0,\"#0d0887\"],[0.1111111111111111,\"#46039f\"],[0.2222222222222222,\"#7201a8\"],[0.3333333333333333,\"#9c179e\"],[0.4444444444444444,\"#bd3786\"],[0.5555555555555556,\"#d8576b\"],[0.6666666666666666,\"#ed7953\"],[0.7777777777777778,\"#fb9f3a\"],[0.8888888888888888,\"#fdca26\"],[1.0,\"#f0f921\"]]}],\"heatmap\":[{\"type\":\"heatmap\",\"colorbar\":{\"outlinewidth\":0,\"ticks\":\"\"},\"colorscale\":[[0.0,\"#0d0887\"],[0.1111111111111111,\"#46039f\"],[0.2222222222222222,\"#7201a8\"],[0.3333333333333333,\"#9c179e\"],[0.4444444444444444,\"#bd3786\"],[0.5555555555555556,\"#d8576b\"],[0.6666666666666666,\"#ed7953\"],[0.7777777777777778,\"#fb9f3a\"],[0.8888888888888888,\"#fdca26\"],[1.0,\"#f0f921\"]]}],\"heatmapgl\":[{\"type\":\"heatmapgl\",\"colorbar\":{\"outlinewidth\":0,\"ticks\":\"\"},\"colorscale\":[[0.0,\"#0d0887\"],[0.1111111111111111,\"#46039f\"],[0.2222222222222222,\"#7201a8\"],[0.3333333333333333,\"#9c179e\"],[0.4444444444444444,\"#bd3786\"],[0.5555555555555556,\"#d8576b\"],[0.6666666666666666,\"#ed7953\"],[0.7777777777777778,\"#fb9f3a\"],[0.8888888888888888,\"#fdca26\"],[1.0,\"#f0f921\"]]}],\"contourcarpet\":[{\"type\":\"contourcarpet\",\"colorbar\":{\"outlinewidth\":0,\"ticks\":\"\"}}],\"contour\":[{\"type\":\"contour\",\"colorbar\":{\"outlinewidth\":0,\"ticks\":\"\"},\"colorscale\":[[0.0,\"#0d0887\"],[0.1111111111111111,\"#46039f\"],[0.2222222222222222,\"#7201a8\"],[0.3333333333333333,\"#9c179e\"],[0.4444444444444444,\"#bd3786\"],[0.5555555555555556,\"#d8576b\"],[0.6666666666666666,\"#ed7953\"],[0.7777777777777778,\"#fb9f3a\"],[0.8888888888888888,\"#fdca26\"],[1.0,\"#f0f921\"]]}],\"surface\":[{\"type\":\"surface\",\"colorbar\":{\"outlinewidth\":0,\"ticks\":\"\"},\"colorscale\":[[0.0,\"#0d0887\"],[0.1111111111111111,\"#46039f\"],[0.2222222222222222,\"#7201a8\"],[0.3333333333333333,\"#9c179e\"],[0.4444444444444444,\"#bd3786\"],[0.5555555555555556,\"#d8576b\"],[0.6666666666666666,\"#ed7953\"],[0.7777777777777778,\"#fb9f3a\"],[0.8888888888888888,\"#fdca26\"],[1.0,\"#f0f921\"]]}],\"mesh3d\":[{\"type\":\"mesh3d\",\"colorbar\":{\"outlinewidth\":0,\"ticks\":\"\"}}],\"scatter\":[{\"fillpattern\":{\"fillmode\":\"overlay\",\"size\":10,\"solidity\":0.2},\"type\":\"scatter\"}],\"parcoords\":[{\"type\":\"parcoords\",\"line\":{\"colorbar\":{\"outlinewidth\":0,\"ticks\":\"\"}}}],\"scatterpolargl\":[{\"type\":\"scatterpolargl\",\"marker\":{\"colorbar\":{\"outlinewidth\":0,\"ticks\":\"\"}}}],\"bar\":[{\"error_x\":{\"color\":\"#2a3f5f\"},\"error_y\":{\"color\":\"#2a3f5f\"},\"marker\":{\"line\":{\"color\":\"#E5ECF6\",\"width\":0.5},\"pattern\":{\"fillmode\":\"overlay\",\"size\":10,\"solidity\":0.2}},\"type\":\"bar\"}],\"scattergeo\":[{\"type\":\"scattergeo\",\"marker\":{\"colorbar\":{\"outlinewidth\":0,\"ticks\":\"\"}}}],\"scatterpolar\":[{\"type\":\"scatterpolar\",\"marker\":{\"colorbar\":{\"outlinewidth\":0,\"ticks\":\"\"}}}],\"histogram\":[{\"marker\":{\"pattern\":{\"fillmode\":\"overlay\",\"size\":10,\"solidity\":0.2}},\"type\":\"histogram\"}],\"scattergl\":[{\"type\":\"scattergl\",\"marker\":{\"colorbar\":{\"outlinewidth\":0,\"ticks\":\"\"}}}],\"scatter3d\":[{\"type\":\"scatter3d\",\"line\":{\"colorbar\":{\"outlinewidth\":0,\"ticks\":\"\"}},\"marker\":{\"colorbar\":{\"outlinewidth\":0,\"ticks\":\"\"}}}],\"scattermapbox\":[{\"type\":\"scattermapbox\",\"marker\":{\"colorbar\":{\"outlinewidth\":0,\"ticks\":\"\"}}}],\"scatterternary\":[{\"type\":\"scatterternary\",\"marker\":{\"colorbar\":{\"outlinewidth\":0,\"ticks\":\"\"}}}],\"scattercarpet\":[{\"type\":\"scattercarpet\",\"marker\":{\"colorbar\":{\"outlinewidth\":0,\"ticks\":\"\"}}}],\"carpet\":[{\"aaxis\":{\"endlinecolor\":\"#2a3f5f\",\"gridcolor\":\"white\",\"linecolor\":\"white\",\"minorgridcolor\":\"white\",\"startlinecolor\":\"#2a3f5f\"},\"baxis\":{\"endlinecolor\":\"#2a3f5f\",\"gridcolor\":\"white\",\"linecolor\":\"white\",\"minorgridcolor\":\"white\",\"startlinecolor\":\"#2a3f5f\"},\"type\":\"carpet\"}],\"table\":[{\"cells\":{\"fill\":{\"color\":\"#EBF0F8\"},\"line\":{\"color\":\"white\"}},\"header\":{\"fill\":{\"color\":\"#C8D4E3\"},\"line\":{\"color\":\"white\"}},\"type\":\"table\"}],\"barpolar\":[{\"marker\":{\"line\":{\"color\":\"#E5ECF6\",\"width\":0.5},\"pattern\":{\"fillmode\":\"overlay\",\"size\":10,\"solidity\":0.2}},\"type\":\"barpolar\"}],\"pie\":[{\"automargin\":true,\"type\":\"pie\"}]},\"layout\":{\"autotypenumbers\":\"strict\",\"colorway\":[\"#636efa\",\"#EF553B\",\"#00cc96\",\"#ab63fa\",\"#FFA15A\",\"#19d3f3\",\"#FF6692\",\"#B6E880\",\"#FF97FF\",\"#FECB52\"],\"font\":{\"color\":\"#2a3f5f\"},\"hovermode\":\"closest\",\"hoverlabel\":{\"align\":\"left\"},\"paper_bgcolor\":\"white\",\"plot_bgcolor\":\"#E5ECF6\",\"polar\":{\"bgcolor\":\"#E5ECF6\",\"angularaxis\":{\"gridcolor\":\"white\",\"linecolor\":\"white\",\"ticks\":\"\"},\"radialaxis\":{\"gridcolor\":\"white\",\"linecolor\":\"white\",\"ticks\":\"\"}},\"ternary\":{\"bgcolor\":\"#E5ECF6\",\"aaxis\":{\"gridcolor\":\"white\",\"linecolor\":\"white\",\"ticks\":\"\"},\"baxis\":{\"gridcolor\":\"white\",\"linecolor\":\"white\",\"ticks\":\"\"},\"caxis\":{\"gridcolor\":\"white\",\"linecolor\":\"white\",\"ticks\":\"\"}},\"coloraxis\":{\"colorbar\":{\"outlinewidth\":0,\"ticks\":\"\"}},\"colorscale\":{\"sequential\":[[0.0,\"#0d0887\"],[0.1111111111111111,\"#46039f\"],[0.2222222222222222,\"#7201a8\"],[0.3333333333333333,\"#9c179e\"],[0.4444444444444444,\"#bd3786\"],[0.5555555555555556,\"#d8576b\"],[0.6666666666666666,\"#ed7953\"],[0.7777777777777778,\"#fb9f3a\"],[0.8888888888888888,\"#fdca26\"],[1.0,\"#f0f921\"]],\"sequentialminus\":[[0.0,\"#0d0887\"],[0.1111111111111111,\"#46039f\"],[0.2222222222222222,\"#7201a8\"],[0.3333333333333333,\"#9c179e\"],[0.4444444444444444,\"#bd3786\"],[0.5555555555555556,\"#d8576b\"],[0.6666666666666666,\"#ed7953\"],[0.7777777777777778,\"#fb9f3a\"],[0.8888888888888888,\"#fdca26\"],[1.0,\"#f0f921\"]],\"diverging\":[[0,\"#8e0152\"],[0.1,\"#c51b7d\"],[0.2,\"#de77ae\"],[0.3,\"#f1b6da\"],[0.4,\"#fde0ef\"],[0.5,\"#f7f7f7\"],[0.6,\"#e6f5d0\"],[0.7,\"#b8e186\"],[0.8,\"#7fbc41\"],[0.9,\"#4d9221\"],[1,\"#276419\"]]},\"xaxis\":{\"gridcolor\":\"white\",\"linecolor\":\"white\",\"ticks\":\"\",\"title\":{\"standoff\":15},\"zerolinecolor\":\"white\",\"automargin\":true,\"zerolinewidth\":2},\"yaxis\":{\"gridcolor\":\"white\",\"linecolor\":\"white\",\"ticks\":\"\",\"title\":{\"standoff\":15},\"zerolinecolor\":\"white\",\"automargin\":true,\"zerolinewidth\":2},\"scene\":{\"xaxis\":{\"backgroundcolor\":\"#E5ECF6\",\"gridcolor\":\"white\",\"linecolor\":\"white\",\"showbackground\":true,\"ticks\":\"\",\"zerolinecolor\":\"white\",\"gridwidth\":2},\"yaxis\":{\"backgroundcolor\":\"#E5ECF6\",\"gridcolor\":\"white\",\"linecolor\":\"white\",\"showbackground\":true,\"ticks\":\"\",\"zerolinecolor\":\"white\",\"gridwidth\":2},\"zaxis\":{\"backgroundcolor\":\"#E5ECF6\",\"gridcolor\":\"white\",\"linecolor\":\"white\",\"showbackground\":true,\"ticks\":\"\",\"zerolinecolor\":\"white\",\"gridwidth\":2}},\"shapedefaults\":{\"line\":{\"color\":\"#2a3f5f\"}},\"annotationdefaults\":{\"arrowcolor\":\"#2a3f5f\",\"arrowhead\":0,\"arrowwidth\":1},\"geo\":{\"bgcolor\":\"white\",\"landcolor\":\"#E5ECF6\",\"subunitcolor\":\"white\",\"showland\":true,\"showlakes\":true,\"lakecolor\":\"white\"},\"title\":{\"x\":0.05},\"mapbox\":{\"style\":\"light\"}}}},                        {\"responsive\": true}                    ).then(function(){\n",
       "                            \n",
       "var gd = document.getElementById('b4b5b9b3-1d57-44be-82e0-3ff7b813c70c');\n",
       "var x = new MutationObserver(function (mutations, observer) {{\n",
       "        var display = window.getComputedStyle(gd).display;\n",
       "        if (!display || display === 'none') {{\n",
       "            console.log([gd, 'removed!']);\n",
       "            Plotly.purge(gd);\n",
       "            observer.disconnect();\n",
       "        }}\n",
       "}});\n",
       "\n",
       "// Listen for the removal of the full notebook cells\n",
       "var notebookContainer = gd.closest('#notebook-container');\n",
       "if (notebookContainer) {{\n",
       "    x.observe(notebookContainer, {childList: true});\n",
       "}}\n",
       "\n",
       "// Listen for the clearing of the current output cell\n",
       "var outputEl = gd.closest('.output');\n",
       "if (outputEl) {{\n",
       "    x.observe(outputEl, {childList: true});\n",
       "}}\n",
       "\n",
       "                        })                };                });            </script>        </div>"
      ]
     },
     "metadata": {},
     "output_type": "display_data"
    }
   ],
   "source": [
    "vis.plot_optimization_history(study)"
   ]
  },
  {
   "cell_type": "markdown",
   "id": "b89f2cd5",
   "metadata": {
    "papermill": {
     "duration": 4.897594,
     "end_time": "2024-01-06T17:03:26.583397",
     "exception": false,
     "start_time": "2024-01-06T17:03:21.685803",
     "status": "completed"
    },
    "tags": []
   },
   "source": [
    "**Plotting Parameter Importance:**"
   ]
  },
  {
   "cell_type": "code",
   "execution_count": 12,
   "id": "67babbc4",
   "metadata": {
    "execution": {
     "iopub.execute_input": "2024-01-06T17:03:36.192770Z",
     "iopub.status.busy": "2024-01-06T17:03:36.192130Z",
     "iopub.status.idle": "2024-01-06T17:03:36.705264Z",
     "shell.execute_reply": "2024-01-06T17:03:36.704321Z"
    },
    "papermill": {
     "duration": 5.363375,
     "end_time": "2024-01-06T17:03:36.707234",
     "exception": false,
     "start_time": "2024-01-06T17:03:31.343859",
     "status": "completed"
    },
    "tags": []
   },
   "outputs": [
    {
     "data": {
      "text/html": [
       "<div>                            <div id=\"2eca9d02-83f7-43ef-92db-553fdbf4f964\" class=\"plotly-graph-div\" style=\"height:525px; width:100%;\"></div>            <script type=\"text/javascript\">                require([\"plotly\"], function(Plotly) {                    window.PLOTLYENV=window.PLOTLYENV || {};                                    if (document.getElementById(\"2eca9d02-83f7-43ef-92db-553fdbf4f964\")) {                    Plotly.newPlot(                        \"2eca9d02-83f7-43ef-92db-553fdbf4f964\",                        [{\"cliponaxis\":false,\"hovertemplate\":[\"kernel (CategoricalDistribution): 0.005381238950129807\\u003cextra\\u003e\\u003c\\u002fextra\\u003e\",\"rate (CategoricalDistribution): 0.024744566224373016\\u003cextra\\u003e\\u003c\\u002fextra\\u003e\",\"epoch (CategoricalDistribution): 0.030242146151686525\\u003cextra\\u003e\\u003c\\u002fextra\\u003e\",\"filters (CategoricalDistribution): 0.042771628404053505\\u003cextra\\u003e\\u003c\\u002fextra\\u003e\",\"batch (CategoricalDistribution): 0.04632522517313872\\u003cextra\\u003e\\u003c\\u002fextra\\u003e\",\"dim (CategoricalDistribution): 0.8505351950966185\\u003cextra\\u003e\\u003c\\u002fextra\\u003e\"],\"name\":\"Objective Value\",\"orientation\":\"h\",\"text\":[\"\\u003c0.01\",\"0.02\",\"0.03\",\"0.04\",\"0.05\",\"0.85\"],\"textposition\":\"outside\",\"x\":[0.005381238950129807,0.024744566224373016,0.030242146151686525,0.042771628404053505,0.04632522517313872,0.8505351950966185],\"y\":[\"kernel\",\"rate\",\"epoch\",\"filters\",\"batch\",\"dim\"],\"type\":\"bar\"}],                        {\"title\":{\"text\":\"Hyperparameter Importances\"},\"xaxis\":{\"title\":{\"text\":\"Hyperparameter Importance\"}},\"yaxis\":{\"title\":{\"text\":\"Hyperparameter\"}},\"template\":{\"data\":{\"histogram2dcontour\":[{\"type\":\"histogram2dcontour\",\"colorbar\":{\"outlinewidth\":0,\"ticks\":\"\"},\"colorscale\":[[0.0,\"#0d0887\"],[0.1111111111111111,\"#46039f\"],[0.2222222222222222,\"#7201a8\"],[0.3333333333333333,\"#9c179e\"],[0.4444444444444444,\"#bd3786\"],[0.5555555555555556,\"#d8576b\"],[0.6666666666666666,\"#ed7953\"],[0.7777777777777778,\"#fb9f3a\"],[0.8888888888888888,\"#fdca26\"],[1.0,\"#f0f921\"]]}],\"choropleth\":[{\"type\":\"choropleth\",\"colorbar\":{\"outlinewidth\":0,\"ticks\":\"\"}}],\"histogram2d\":[{\"type\":\"histogram2d\",\"colorbar\":{\"outlinewidth\":0,\"ticks\":\"\"},\"colorscale\":[[0.0,\"#0d0887\"],[0.1111111111111111,\"#46039f\"],[0.2222222222222222,\"#7201a8\"],[0.3333333333333333,\"#9c179e\"],[0.4444444444444444,\"#bd3786\"],[0.5555555555555556,\"#d8576b\"],[0.6666666666666666,\"#ed7953\"],[0.7777777777777778,\"#fb9f3a\"],[0.8888888888888888,\"#fdca26\"],[1.0,\"#f0f921\"]]}],\"heatmap\":[{\"type\":\"heatmap\",\"colorbar\":{\"outlinewidth\":0,\"ticks\":\"\"},\"colorscale\":[[0.0,\"#0d0887\"],[0.1111111111111111,\"#46039f\"],[0.2222222222222222,\"#7201a8\"],[0.3333333333333333,\"#9c179e\"],[0.4444444444444444,\"#bd3786\"],[0.5555555555555556,\"#d8576b\"],[0.6666666666666666,\"#ed7953\"],[0.7777777777777778,\"#fb9f3a\"],[0.8888888888888888,\"#fdca26\"],[1.0,\"#f0f921\"]]}],\"heatmapgl\":[{\"type\":\"heatmapgl\",\"colorbar\":{\"outlinewidth\":0,\"ticks\":\"\"},\"colorscale\":[[0.0,\"#0d0887\"],[0.1111111111111111,\"#46039f\"],[0.2222222222222222,\"#7201a8\"],[0.3333333333333333,\"#9c179e\"],[0.4444444444444444,\"#bd3786\"],[0.5555555555555556,\"#d8576b\"],[0.6666666666666666,\"#ed7953\"],[0.7777777777777778,\"#fb9f3a\"],[0.8888888888888888,\"#fdca26\"],[1.0,\"#f0f921\"]]}],\"contourcarpet\":[{\"type\":\"contourcarpet\",\"colorbar\":{\"outlinewidth\":0,\"ticks\":\"\"}}],\"contour\":[{\"type\":\"contour\",\"colorbar\":{\"outlinewidth\":0,\"ticks\":\"\"},\"colorscale\":[[0.0,\"#0d0887\"],[0.1111111111111111,\"#46039f\"],[0.2222222222222222,\"#7201a8\"],[0.3333333333333333,\"#9c179e\"],[0.4444444444444444,\"#bd3786\"],[0.5555555555555556,\"#d8576b\"],[0.6666666666666666,\"#ed7953\"],[0.7777777777777778,\"#fb9f3a\"],[0.8888888888888888,\"#fdca26\"],[1.0,\"#f0f921\"]]}],\"surface\":[{\"type\":\"surface\",\"colorbar\":{\"outlinewidth\":0,\"ticks\":\"\"},\"colorscale\":[[0.0,\"#0d0887\"],[0.1111111111111111,\"#46039f\"],[0.2222222222222222,\"#7201a8\"],[0.3333333333333333,\"#9c179e\"],[0.4444444444444444,\"#bd3786\"],[0.5555555555555556,\"#d8576b\"],[0.6666666666666666,\"#ed7953\"],[0.7777777777777778,\"#fb9f3a\"],[0.8888888888888888,\"#fdca26\"],[1.0,\"#f0f921\"]]}],\"mesh3d\":[{\"type\":\"mesh3d\",\"colorbar\":{\"outlinewidth\":0,\"ticks\":\"\"}}],\"scatter\":[{\"fillpattern\":{\"fillmode\":\"overlay\",\"size\":10,\"solidity\":0.2},\"type\":\"scatter\"}],\"parcoords\":[{\"type\":\"parcoords\",\"line\":{\"colorbar\":{\"outlinewidth\":0,\"ticks\":\"\"}}}],\"scatterpolargl\":[{\"type\":\"scatterpolargl\",\"marker\":{\"colorbar\":{\"outlinewidth\":0,\"ticks\":\"\"}}}],\"bar\":[{\"error_x\":{\"color\":\"#2a3f5f\"},\"error_y\":{\"color\":\"#2a3f5f\"},\"marker\":{\"line\":{\"color\":\"#E5ECF6\",\"width\":0.5},\"pattern\":{\"fillmode\":\"overlay\",\"size\":10,\"solidity\":0.2}},\"type\":\"bar\"}],\"scattergeo\":[{\"type\":\"scattergeo\",\"marker\":{\"colorbar\":{\"outlinewidth\":0,\"ticks\":\"\"}}}],\"scatterpolar\":[{\"type\":\"scatterpolar\",\"marker\":{\"colorbar\":{\"outlinewidth\":0,\"ticks\":\"\"}}}],\"histogram\":[{\"marker\":{\"pattern\":{\"fillmode\":\"overlay\",\"size\":10,\"solidity\":0.2}},\"type\":\"histogram\"}],\"scattergl\":[{\"type\":\"scattergl\",\"marker\":{\"colorbar\":{\"outlinewidth\":0,\"ticks\":\"\"}}}],\"scatter3d\":[{\"type\":\"scatter3d\",\"line\":{\"colorbar\":{\"outlinewidth\":0,\"ticks\":\"\"}},\"marker\":{\"colorbar\":{\"outlinewidth\":0,\"ticks\":\"\"}}}],\"scattermapbox\":[{\"type\":\"scattermapbox\",\"marker\":{\"colorbar\":{\"outlinewidth\":0,\"ticks\":\"\"}}}],\"scatterternary\":[{\"type\":\"scatterternary\",\"marker\":{\"colorbar\":{\"outlinewidth\":0,\"ticks\":\"\"}}}],\"scattercarpet\":[{\"type\":\"scattercarpet\",\"marker\":{\"colorbar\":{\"outlinewidth\":0,\"ticks\":\"\"}}}],\"carpet\":[{\"aaxis\":{\"endlinecolor\":\"#2a3f5f\",\"gridcolor\":\"white\",\"linecolor\":\"white\",\"minorgridcolor\":\"white\",\"startlinecolor\":\"#2a3f5f\"},\"baxis\":{\"endlinecolor\":\"#2a3f5f\",\"gridcolor\":\"white\",\"linecolor\":\"white\",\"minorgridcolor\":\"white\",\"startlinecolor\":\"#2a3f5f\"},\"type\":\"carpet\"}],\"table\":[{\"cells\":{\"fill\":{\"color\":\"#EBF0F8\"},\"line\":{\"color\":\"white\"}},\"header\":{\"fill\":{\"color\":\"#C8D4E3\"},\"line\":{\"color\":\"white\"}},\"type\":\"table\"}],\"barpolar\":[{\"marker\":{\"line\":{\"color\":\"#E5ECF6\",\"width\":0.5},\"pattern\":{\"fillmode\":\"overlay\",\"size\":10,\"solidity\":0.2}},\"type\":\"barpolar\"}],\"pie\":[{\"automargin\":true,\"type\":\"pie\"}]},\"layout\":{\"autotypenumbers\":\"strict\",\"colorway\":[\"#636efa\",\"#EF553B\",\"#00cc96\",\"#ab63fa\",\"#FFA15A\",\"#19d3f3\",\"#FF6692\",\"#B6E880\",\"#FF97FF\",\"#FECB52\"],\"font\":{\"color\":\"#2a3f5f\"},\"hovermode\":\"closest\",\"hoverlabel\":{\"align\":\"left\"},\"paper_bgcolor\":\"white\",\"plot_bgcolor\":\"#E5ECF6\",\"polar\":{\"bgcolor\":\"#E5ECF6\",\"angularaxis\":{\"gridcolor\":\"white\",\"linecolor\":\"white\",\"ticks\":\"\"},\"radialaxis\":{\"gridcolor\":\"white\",\"linecolor\":\"white\",\"ticks\":\"\"}},\"ternary\":{\"bgcolor\":\"#E5ECF6\",\"aaxis\":{\"gridcolor\":\"white\",\"linecolor\":\"white\",\"ticks\":\"\"},\"baxis\":{\"gridcolor\":\"white\",\"linecolor\":\"white\",\"ticks\":\"\"},\"caxis\":{\"gridcolor\":\"white\",\"linecolor\":\"white\",\"ticks\":\"\"}},\"coloraxis\":{\"colorbar\":{\"outlinewidth\":0,\"ticks\":\"\"}},\"colorscale\":{\"sequential\":[[0.0,\"#0d0887\"],[0.1111111111111111,\"#46039f\"],[0.2222222222222222,\"#7201a8\"],[0.3333333333333333,\"#9c179e\"],[0.4444444444444444,\"#bd3786\"],[0.5555555555555556,\"#d8576b\"],[0.6666666666666666,\"#ed7953\"],[0.7777777777777778,\"#fb9f3a\"],[0.8888888888888888,\"#fdca26\"],[1.0,\"#f0f921\"]],\"sequentialminus\":[[0.0,\"#0d0887\"],[0.1111111111111111,\"#46039f\"],[0.2222222222222222,\"#7201a8\"],[0.3333333333333333,\"#9c179e\"],[0.4444444444444444,\"#bd3786\"],[0.5555555555555556,\"#d8576b\"],[0.6666666666666666,\"#ed7953\"],[0.7777777777777778,\"#fb9f3a\"],[0.8888888888888888,\"#fdca26\"],[1.0,\"#f0f921\"]],\"diverging\":[[0,\"#8e0152\"],[0.1,\"#c51b7d\"],[0.2,\"#de77ae\"],[0.3,\"#f1b6da\"],[0.4,\"#fde0ef\"],[0.5,\"#f7f7f7\"],[0.6,\"#e6f5d0\"],[0.7,\"#b8e186\"],[0.8,\"#7fbc41\"],[0.9,\"#4d9221\"],[1,\"#276419\"]]},\"xaxis\":{\"gridcolor\":\"white\",\"linecolor\":\"white\",\"ticks\":\"\",\"title\":{\"standoff\":15},\"zerolinecolor\":\"white\",\"automargin\":true,\"zerolinewidth\":2},\"yaxis\":{\"gridcolor\":\"white\",\"linecolor\":\"white\",\"ticks\":\"\",\"title\":{\"standoff\":15},\"zerolinecolor\":\"white\",\"automargin\":true,\"zerolinewidth\":2},\"scene\":{\"xaxis\":{\"backgroundcolor\":\"#E5ECF6\",\"gridcolor\":\"white\",\"linecolor\":\"white\",\"showbackground\":true,\"ticks\":\"\",\"zerolinecolor\":\"white\",\"gridwidth\":2},\"yaxis\":{\"backgroundcolor\":\"#E5ECF6\",\"gridcolor\":\"white\",\"linecolor\":\"white\",\"showbackground\":true,\"ticks\":\"\",\"zerolinecolor\":\"white\",\"gridwidth\":2},\"zaxis\":{\"backgroundcolor\":\"#E5ECF6\",\"gridcolor\":\"white\",\"linecolor\":\"white\",\"showbackground\":true,\"ticks\":\"\",\"zerolinecolor\":\"white\",\"gridwidth\":2}},\"shapedefaults\":{\"line\":{\"color\":\"#2a3f5f\"}},\"annotationdefaults\":{\"arrowcolor\":\"#2a3f5f\",\"arrowhead\":0,\"arrowwidth\":1},\"geo\":{\"bgcolor\":\"white\",\"landcolor\":\"#E5ECF6\",\"subunitcolor\":\"white\",\"showland\":true,\"showlakes\":true,\"lakecolor\":\"white\"},\"title\":{\"x\":0.05},\"mapbox\":{\"style\":\"light\"}}}},                        {\"responsive\": true}                    ).then(function(){\n",
       "                            \n",
       "var gd = document.getElementById('2eca9d02-83f7-43ef-92db-553fdbf4f964');\n",
       "var x = new MutationObserver(function (mutations, observer) {{\n",
       "        var display = window.getComputedStyle(gd).display;\n",
       "        if (!display || display === 'none') {{\n",
       "            console.log([gd, 'removed!']);\n",
       "            Plotly.purge(gd);\n",
       "            observer.disconnect();\n",
       "        }}\n",
       "}});\n",
       "\n",
       "// Listen for the removal of the full notebook cells\n",
       "var notebookContainer = gd.closest('#notebook-container');\n",
       "if (notebookContainer) {{\n",
       "    x.observe(notebookContainer, {childList: true});\n",
       "}}\n",
       "\n",
       "// Listen for the clearing of the current output cell\n",
       "var outputEl = gd.closest('.output');\n",
       "if (outputEl) {{\n",
       "    x.observe(outputEl, {childList: true});\n",
       "}}\n",
       "\n",
       "                        })                };                });            </script>        </div>"
      ]
     },
     "metadata": {},
     "output_type": "display_data"
    }
   ],
   "source": [
    "vis.plot_param_importances(study)"
   ]
  },
  {
   "cell_type": "markdown",
   "id": "41060478",
   "metadata": {},
   "source": [
    "As expected, we notice that the the latent dimension has the biggest influence on the performance, since the bigger it is (30) the bigger the model's capacity to encapsulate information and successfully extract the most important features of the input.A larger number of layers with big filters ([32, 64, 128, 256]) as well is conducive to model's complexity improving the loss score.A rather small batch size is being used meaning the weights are being updated more often and generalize better.Since the dataset is not too complex, it can be learned quickly in small number of epochs (10).Lastly, dropout rate is moderate (0.5) leading to more robust representations and better generalization,(using batch normalization reduces the need for dropout too)."
   ]
  },
  {
   "cell_type": "markdown",
   "id": "e0edf97a",
   "metadata": {},
   "source": [
    "The model performs well with a rather small batch size and therefore needs a small number of epochs."
   ]
  },
  {
   "cell_type": "markdown",
   "id": "d6fb80df",
   "metadata": {
    "id": "NTaXBgu16Knp",
    "papermill": {
     "duration": 4.840399,
     "end_time": "2024-01-06T17:03:46.332934",
     "exception": false,
     "start_time": "2024-01-06T17:03:41.492535",
     "status": "completed"
    },
    "tags": []
   },
   "source": [
    "#  *To avoid overfitting we implement regularization techniques such as batch normalization and dropout in every layer as well as early stopping with patience = 3.*"
   ]
  }
 ],
 "metadata": {
  "colab": {
   "provenance": []
  },
  "kaggle": {
   "accelerator": "gpu",
   "dataSources": [],
   "dockerImageVersionId": 30626,
   "isGpuEnabled": true,
   "isInternetEnabled": true,
   "language": "python",
   "sourceType": "notebook"
  },
  "kernelspec": {
   "display_name": "Python 3",
   "language": "python",
   "name": "python3"
  },
  "language_info": {
   "codemirror_mode": {
    "name": "ipython",
    "version": 3
   },
   "file_extension": ".py",
   "mimetype": "text/x-python",
   "name": "python",
   "nbconvert_exporter": "python",
   "pygments_lexer": "ipython3",
   "version": "3.10.12"
  },
  "papermill": {
   "default_parameters": {},
   "duration": 4265.61444,
   "end_time": "2024-01-06T17:03:54.198345",
   "environment_variables": {},
   "exception": null,
   "input_path": "__notebook__.ipynb",
   "output_path": "__notebook__.ipynb",
   "parameters": {},
   "start_time": "2024-01-06T15:52:48.583905",
   "version": "2.4.0"
  }
 },
 "nbformat": 4,
 "nbformat_minor": 5
}
