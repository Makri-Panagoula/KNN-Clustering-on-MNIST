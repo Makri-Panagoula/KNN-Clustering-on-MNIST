{
 "cells": [
  {
   "cell_type": "markdown",
   "id": "b4e4b9df",
   "metadata": {
    "id": "BEe8WbMJG4Xi",
    "papermill": {
     "duration": 0.005432,
     "end_time": "2024-01-02T18:46:45.148904",
     "exception": false,
     "start_time": "2024-01-02T18:46:45.143472",
     "status": "completed"
    },
    "tags": []
   },
   "source": [
    "Importing Libraries and Packages:"
   ]
  },
  {
   "cell_type": "code",
   "execution_count": 1,
   "id": "b530bdb8",
   "metadata": {
    "execution": {
     "iopub.execute_input": "2024-01-02T18:46:45.160687Z",
     "iopub.status.busy": "2024-01-02T18:46:45.160335Z",
     "iopub.status.idle": "2024-01-02T18:47:12.416849Z",
     "shell.execute_reply": "2024-01-02T18:47:12.415802Z"
    },
    "id": "vY7tZEIVgz2L",
    "outputId": "c3d9d6f0-6e02-4f8b-cafd-7b5abd925960",
    "papermill": {
     "duration": 27.265184,
     "end_time": "2024-01-02T18:47:12.419382",
     "exception": false,
     "start_time": "2024-01-02T18:46:45.154198",
     "status": "completed"
    },
    "tags": []
   },
   "outputs": [
    {
     "name": "stdout",
     "output_type": "stream",
     "text": [
      "Requirement already satisfied: tensorflow in /opt/conda/lib/python3.10/site-packages (2.13.0)\r\n",
      "Requirement already satisfied: absl-py>=1.0.0 in /opt/conda/lib/python3.10/site-packages (from tensorflow) (1.4.0)\r\n",
      "Requirement already satisfied: astunparse>=1.6.0 in /opt/conda/lib/python3.10/site-packages (from tensorflow) (1.6.3)\r\n",
      "Requirement already satisfied: flatbuffers>=23.1.21 in /opt/conda/lib/python3.10/site-packages (from tensorflow) (23.5.26)\r\n",
      "Requirement already satisfied: gast<=0.4.0,>=0.2.1 in /opt/conda/lib/python3.10/site-packages (from tensorflow) (0.4.0)\r\n",
      "Requirement already satisfied: google-pasta>=0.1.1 in /opt/conda/lib/python3.10/site-packages (from tensorflow) (0.2.0)\r\n",
      "Requirement already satisfied: grpcio<2.0,>=1.24.3 in /opt/conda/lib/python3.10/site-packages (from tensorflow) (1.51.1)\r\n",
      "Requirement already satisfied: h5py>=2.9.0 in /opt/conda/lib/python3.10/site-packages (from tensorflow) (3.9.0)\r\n",
      "Requirement already satisfied: keras<2.14,>=2.13.1 in /opt/conda/lib/python3.10/site-packages (from tensorflow) (2.13.1)\r\n",
      "Requirement already satisfied: libclang>=13.0.0 in /opt/conda/lib/python3.10/site-packages (from tensorflow) (16.0.6)\r\n",
      "Requirement already satisfied: numpy<=1.24.3,>=1.22 in /opt/conda/lib/python3.10/site-packages (from tensorflow) (1.24.3)\r\n",
      "Requirement already satisfied: opt-einsum>=2.3.2 in /opt/conda/lib/python3.10/site-packages (from tensorflow) (3.3.0)\r\n",
      "Requirement already satisfied: packaging in /opt/conda/lib/python3.10/site-packages (from tensorflow) (21.3)\r\n",
      "Requirement already satisfied: protobuf!=4.21.0,!=4.21.1,!=4.21.2,!=4.21.3,!=4.21.4,!=4.21.5,<5.0.0dev,>=3.20.3 in /opt/conda/lib/python3.10/site-packages (from tensorflow) (3.20.3)\r\n",
      "Requirement already satisfied: setuptools in /opt/conda/lib/python3.10/site-packages (from tensorflow) (68.1.2)\r\n",
      "Requirement already satisfied: six>=1.12.0 in /opt/conda/lib/python3.10/site-packages (from tensorflow) (1.16.0)\r\n",
      "Requirement already satisfied: tensorboard<2.14,>=2.13 in /opt/conda/lib/python3.10/site-packages (from tensorflow) (2.13.0)\r\n",
      "Requirement already satisfied: tensorflow-estimator<2.14,>=2.13.0 in /opt/conda/lib/python3.10/site-packages (from tensorflow) (2.13.0)\r\n",
      "Requirement already satisfied: termcolor>=1.1.0 in /opt/conda/lib/python3.10/site-packages (from tensorflow) (2.3.0)\r\n",
      "Requirement already satisfied: typing-extensions<4.6.0,>=3.6.6 in /opt/conda/lib/python3.10/site-packages (from tensorflow) (4.5.0)\r\n",
      "Requirement already satisfied: wrapt>=1.11.0 in /opt/conda/lib/python3.10/site-packages (from tensorflow) (1.15.0)\r\n",
      "Requirement already satisfied: tensorflow-io-gcs-filesystem>=0.23.1 in /opt/conda/lib/python3.10/site-packages (from tensorflow) (0.34.0)\r\n",
      "Requirement already satisfied: wheel<1.0,>=0.23.0 in /opt/conda/lib/python3.10/site-packages (from astunparse>=1.6.0->tensorflow) (0.41.2)\r\n",
      "Requirement already satisfied: google-auth<3,>=1.6.3 in /opt/conda/lib/python3.10/site-packages (from tensorboard<2.14,>=2.13->tensorflow) (2.22.0)\r\n",
      "Requirement already satisfied: google-auth-oauthlib<1.1,>=0.5 in /opt/conda/lib/python3.10/site-packages (from tensorboard<2.14,>=2.13->tensorflow) (1.0.0)\r\n",
      "Requirement already satisfied: markdown>=2.6.8 in /opt/conda/lib/python3.10/site-packages (from tensorboard<2.14,>=2.13->tensorflow) (3.4.4)\r\n",
      "Requirement already satisfied: requests<3,>=2.21.0 in /opt/conda/lib/python3.10/site-packages (from tensorboard<2.14,>=2.13->tensorflow) (2.31.0)\r\n",
      "Requirement already satisfied: tensorboard-data-server<0.8.0,>=0.7.0 in /opt/conda/lib/python3.10/site-packages (from tensorboard<2.14,>=2.13->tensorflow) (0.7.1)\r\n",
      "Requirement already satisfied: werkzeug>=1.0.1 in /opt/conda/lib/python3.10/site-packages (from tensorboard<2.14,>=2.13->tensorflow) (3.0.1)\r\n",
      "Requirement already satisfied: pyparsing!=3.0.5,>=2.0.2 in /opt/conda/lib/python3.10/site-packages (from packaging->tensorflow) (3.0.9)\r\n",
      "Requirement already satisfied: cachetools<6.0,>=2.0.0 in /opt/conda/lib/python3.10/site-packages (from google-auth<3,>=1.6.3->tensorboard<2.14,>=2.13->tensorflow) (4.2.4)\r\n",
      "Requirement already satisfied: pyasn1-modules>=0.2.1 in /opt/conda/lib/python3.10/site-packages (from google-auth<3,>=1.6.3->tensorboard<2.14,>=2.13->tensorflow) (0.2.7)\r\n",
      "Requirement already satisfied: rsa<5,>=3.1.4 in /opt/conda/lib/python3.10/site-packages (from google-auth<3,>=1.6.3->tensorboard<2.14,>=2.13->tensorflow) (4.9)\r\n",
      "Requirement already satisfied: urllib3<2.0 in /opt/conda/lib/python3.10/site-packages (from google-auth<3,>=1.6.3->tensorboard<2.14,>=2.13->tensorflow) (1.26.15)\r\n",
      "Requirement already satisfied: requests-oauthlib>=0.7.0 in /opt/conda/lib/python3.10/site-packages (from google-auth-oauthlib<1.1,>=0.5->tensorboard<2.14,>=2.13->tensorflow) (1.3.1)\r\n",
      "Requirement already satisfied: charset-normalizer<4,>=2 in /opt/conda/lib/python3.10/site-packages (from requests<3,>=2.21.0->tensorboard<2.14,>=2.13->tensorflow) (3.2.0)\r\n",
      "Requirement already satisfied: idna<4,>=2.5 in /opt/conda/lib/python3.10/site-packages (from requests<3,>=2.21.0->tensorboard<2.14,>=2.13->tensorflow) (3.4)\r\n",
      "Requirement already satisfied: certifi>=2017.4.17 in /opt/conda/lib/python3.10/site-packages (from requests<3,>=2.21.0->tensorboard<2.14,>=2.13->tensorflow) (2023.11.17)\r\n",
      "Requirement already satisfied: MarkupSafe>=2.1.1 in /opt/conda/lib/python3.10/site-packages (from werkzeug>=1.0.1->tensorboard<2.14,>=2.13->tensorflow) (2.1.3)\r\n",
      "Requirement already satisfied: pyasn1<0.5.0,>=0.4.6 in /opt/conda/lib/python3.10/site-packages (from pyasn1-modules>=0.2.1->google-auth<3,>=1.6.3->tensorboard<2.14,>=2.13->tensorflow) (0.4.8)\r\n",
      "Requirement already satisfied: oauthlib>=3.0.0 in /opt/conda/lib/python3.10/site-packages (from requests-oauthlib>=0.7.0->google-auth-oauthlib<1.1,>=0.5->tensorboard<2.14,>=2.13->tensorflow) (3.2.2)\r\n"
     ]
    },
    {
     "name": "stderr",
     "output_type": "stream",
     "text": [
      "/opt/conda/lib/python3.10/site-packages/scipy/__init__.py:146: UserWarning: A NumPy version >=1.16.5 and <1.23.0 is required for this version of SciPy (detected version 1.24.3\n",
      "  warnings.warn(f\"A NumPy version >={np_minversion} and <{np_maxversion}\"\n"
     ]
    }
   ],
   "source": [
    "!pip install tensorflow\n",
    "import tensorflow as tf\n",
    "import struct\n",
    "import os\n",
    "import logging\n",
    "import optuna\n",
    "import tensorflow.keras as keras\n",
    "from tensorflow.keras.datasets import mnist\n",
    "from tensorflow.keras.layers import Dense, Input, Flatten, Reshape, LeakyReLU, Activation, Dropout , Conv2D ,Conv2DTranspose , BatchNormalization ,MaxPooling2D,UpSampling2D\n",
    "from tensorflow.keras.models import Model, Sequential\n",
    "from tensorflow.keras.callbacks import EarlyStopping\n",
    "from matplotlib import pyplot as plt\n",
    "from IPython import display\n",
    "from sklearn.model_selection import train_test_split\n",
    "import numpy as np\n",
    "\n",
    "# Set TensorFlow logging level to suppress warnings\n",
    "os.environ['TF_CPP_MIN_LOG_LEVEL'] = '3' \n",
    "# Set logging level to suppress TensorFlow warnings except for critical ones\n",
    "tf.get_logger().setLevel(logging.ERROR) "
   ]
  },
  {
   "cell_type": "code",
   "execution_count": 2,
   "id": "88f4ef1d",
   "metadata": {
    "execution": {
     "iopub.execute_input": "2024-01-02T18:47:12.432429Z",
     "iopub.status.busy": "2024-01-02T18:47:12.431830Z",
     "iopub.status.idle": "2024-01-02T18:47:14.950463Z",
     "shell.execute_reply": "2024-01-02T18:47:14.949553Z"
    },
    "papermill": {
     "duration": 2.52736,
     "end_time": "2024-01-02T18:47:14.952689",
     "exception": false,
     "start_time": "2024-01-02T18:47:12.425329",
     "status": "completed"
    },
    "tags": []
   },
   "outputs": [
    {
     "name": "stdout",
     "output_type": "stream",
     "text": [
      "Found GPU at: /device:GPU:0\n"
     ]
    }
   ],
   "source": [
    "device_name = tf.test.gpu_device_name()\n",
    "if device_name != '/device:GPU:0':\n",
    "    raise SystemError('GPU device not found')\n",
    "print('Found GPU at: {}'.format(device_name))"
   ]
  },
  {
   "cell_type": "markdown",
   "id": "8c6af8b7",
   "metadata": {
    "id": "R3B1oobGG-5-",
    "papermill": {
     "duration": 0.005341,
     "end_time": "2024-01-02T18:47:14.963746",
     "exception": false,
     "start_time": "2024-01-02T18:47:14.958405",
     "status": "completed"
    },
    "tags": []
   },
   "source": [
    "Loading, Preprocessing & Splitting Data"
   ]
  },
  {
   "cell_type": "code",
   "execution_count": 3,
   "id": "ad30b98f",
   "metadata": {
    "execution": {
     "iopub.execute_input": "2024-01-02T18:47:14.975896Z",
     "iopub.status.busy": "2024-01-02T18:47:14.975599Z",
     "iopub.status.idle": "2024-01-02T18:47:15.609483Z",
     "shell.execute_reply": "2024-01-02T18:47:15.608602Z"
    },
    "id": "ELKU35A8hvIN",
    "papermill": {
     "duration": 0.64269,
     "end_time": "2024-01-02T18:47:15.611941",
     "exception": false,
     "start_time": "2024-01-02T18:47:14.969251",
     "status": "completed"
    },
    "tags": []
   },
   "outputs": [
    {
     "name": "stdout",
     "output_type": "stream",
     "text": [
      "Downloading data from https://storage.googleapis.com/tensorflow/tf-keras-datasets/mnist.npz\n",
      "11490434/11490434 [==============================] - 0s 0us/step\n"
     ]
    }
   ],
   "source": [
    "#Load MNIST dataset\n",
    "(x_train, y_train), (x_test, y_test) = mnist.load_data()\n",
    "\n",
    "# Concatenate images and labels\n",
    "all_images = np.concatenate((x_train, x_test), axis=0)\n",
    "all_labels = np.concatenate((y_train, y_test), axis=0)\n",
    "\n",
    "# scalling\n",
    "all_images = all_images.reshape(all_images.shape[0], 28, 28, 1)\n",
    "all_images = all_images.astype('float32')\n",
    "all_images = all_images / 255.0\n",
    "\n",
    "#Split into training,validation and test datasets in 70 , 15 and 15 %\n",
    "train_X,rem_X,train_Y,rem_Y = train_test_split(all_images,all_labels,test_size=0.3,random_state=13)\n",
    "val_X,test_X,val_Y,test_Y = train_test_split(rem_X,rem_Y,test_size=0.5,random_state=13)"
   ]
  },
  {
   "cell_type": "markdown",
   "id": "3b3f95b2",
   "metadata": {
    "id": "6mOWY7cYHGh6",
    "papermill": {
     "duration": 0.006153,
     "end_time": "2024-01-02T18:47:15.624286",
     "exception": false,
     "start_time": "2024-01-02T18:47:15.618133",
     "status": "completed"
    },
    "tags": []
   },
   "source": [
    "Building the Autoencoder Model :"
   ]
  },
  {
   "cell_type": "code",
   "execution_count": 4,
   "id": "8e12d941",
   "metadata": {
    "execution": {
     "iopub.execute_input": "2024-01-02T18:47:15.637678Z",
     "iopub.status.busy": "2024-01-02T18:47:15.637336Z",
     "iopub.status.idle": "2024-01-02T18:47:15.650287Z",
     "shell.execute_reply": "2024-01-02T18:47:15.649485Z"
    },
    "id": "zesmKC9rAhlO",
    "papermill": {
     "duration": 0.021771,
     "end_time": "2024-01-02T18:47:15.652146",
     "exception": false,
     "start_time": "2024-01-02T18:47:15.630375",
     "status": "completed"
    },
    "tags": []
   },
   "outputs": [],
   "source": [
    "class Autoencoder(Model):\n",
    "    def __init__(self,latent_dim,conv_layers,kernel_size,filters,shape,dropout_rate):\n",
    "        super(Autoencoder, self).__init__()\n",
    "\n",
    "        self.latent_dim = latent_dim\n",
    "        self.shape = shape\n",
    "        self.encoder_layers = []\n",
    "\n",
    "        #First layer in decoder has the same dimension as the last layer in encoder (original size halved as many times as we applied upsampling,2 here)\n",
    "        last_layer = shape[0] // (2 ** 2)\n",
    "\n",
    "        #The flattened layer will be the inner product of the last layer in encoder that had dimensions (last_layer,last_layer,last filter size)\n",
    "        flattened_dim = last_layer * last_layer * filters[conv_layers-1]\n",
    "\n",
    "        self.decoder_layers = [Dense(flattened_dim, activation='relu'),\n",
    "                               Reshape((last_layer,last_layer,filters[conv_layers-1]))]\n",
    "\n",
    "        for layer in range(conv_layers) :\n",
    "\n",
    "          #add the convolutional and maxpooling layer in the encoder's list\n",
    "          self.encoder_layers.append(Conv2D(filters=filters[layer], kernel_size=kernel_size, activation='relu', padding='same'))\n",
    "          self.encoder_layers.append(BatchNormalization())\n",
    "          if(layer < conv_layers - 1) :\n",
    "            #add the convolutional layer in the decoder's list with the opposite order of the filters\n",
    "            self.decoder_layers.append(Conv2DTranspose(filters=filters[conv_layers-layer-1], kernel_size=kernel_size, activation='relu', padding='same'))\n",
    "            self.decoder_layers.append(BatchNormalization())\n",
    "            #We only apply maxpooling in the first 2 layers because otherwise we can't reconstruct the vector with the appropriate dimensions\n",
    "            if(layer <=  1) :\n",
    "                self.encoder_layers.append(MaxPooling2D((2, 2), padding=\"same\"))\n",
    "                self.decoder_layers.append(UpSampling2D((2, 2), interpolation='nearest'))\n",
    "            self.decoder_layers.append(Dropout(dropout_rate))\n",
    "\n",
    "          self.encoder_layers.append(Dropout(dropout_rate))\n",
    "\n",
    "        self.encoder_layers.append(Flatten())\n",
    "        self.encoder_layers.append(Dense(self.latent_dim, activation='relu'))\n",
    "\n",
    "        #In the last layer of the decoder we apply the sigmoid function\n",
    "        self.decoder_layers.append(Conv2DTranspose(filters=1, kernel_size=kernel_size, activation='sigmoid', padding='same'))\n",
    "\n",
    "        self.encoder = tf.keras.Sequential(self.encoder_layers)\n",
    "        self.decoder = tf.keras.Sequential(self.decoder_layers)\n",
    "\n",
    "    def call(self, x):\n",
    "        encoded = self.encoder(x)\n",
    "        decoded = self.decoder(encoded)\n",
    "        return decoded\n",
    "    \n",
    "    def latent_vector(self,x) :\n",
    "        return self.encoder(x)"
   ]
  },
  {
   "cell_type": "markdown",
   "id": "c9416e5f",
   "metadata": {
    "id": "qKA52lQqEaks",
    "papermill": {
     "duration": 0.005912,
     "end_time": "2024-01-02T18:47:15.664174",
     "exception": false,
     "start_time": "2024-01-02T18:47:15.658262",
     "status": "completed"
    },
    "tags": []
   },
   "source": [
    "Hyperparameter Tuning:"
   ]
  },
  {
   "cell_type": "code",
   "execution_count": 5,
   "id": "5da36c98",
   "metadata": {
    "execution": {
     "iopub.execute_input": "2024-01-02T18:47:15.677155Z",
     "iopub.status.busy": "2024-01-02T18:47:15.676858Z",
     "iopub.status.idle": "2024-01-02T19:26:14.064946Z",
     "shell.execute_reply": "2024-01-02T19:26:14.064042Z"
    },
    "id": "H5-iuPjOHq5J",
    "outputId": "7ca0fa6f-86ed-4857-bce7-6f07057e3ce3",
    "papermill": {
     "duration": 2340.012214,
     "end_time": "2024-01-02T19:26:15.682412",
     "exception": false,
     "start_time": "2024-01-02T18:47:15.670198",
     "status": "completed"
    },
    "tags": []
   },
   "outputs": [
    {
     "name": "stderr",
     "output_type": "stream",
     "text": [
      "/opt/conda/lib/python3.10/site-packages/optuna/distributions.py:524: UserWarning: Choices for a categorical distribution should be a tuple of None, bool, int, float and str for persistent storage but contains (3, 3) which is of type tuple.\n",
      "  warnings.warn(message)\n",
      "/opt/conda/lib/python3.10/site-packages/optuna/distributions.py:524: UserWarning: Choices for a categorical distribution should be a tuple of None, bool, int, float and str for persistent storage but contains (5, 5) which is of type tuple.\n",
      "  warnings.warn(message)\n",
      "/opt/conda/lib/python3.10/site-packages/optuna/distributions.py:524: UserWarning: Choices for a categorical distribution should be a tuple of None, bool, int, float and str for persistent storage but contains (7, 7) which is of type tuple.\n",
      "  warnings.warn(message)\n",
      "/opt/conda/lib/python3.10/site-packages/optuna/distributions.py:524: UserWarning: Choices for a categorical distribution should be a tuple of None, bool, int, float and str for persistent storage but contains [32, 64, 128] which is of type list.\n",
      "  warnings.warn(message)\n",
      "/opt/conda/lib/python3.10/site-packages/optuna/distributions.py:524: UserWarning: Choices for a categorical distribution should be a tuple of None, bool, int, float and str for persistent storage but contains [32, 64, 128, 256] which is of type list.\n",
      "  warnings.warn(message)\n",
      "/opt/conda/lib/python3.10/site-packages/optuna/distributions.py:524: UserWarning: Choices for a categorical distribution should be a tuple of None, bool, int, float and str for persistent storage but contains [16, 32, 64, 128] which is of type list.\n",
      "  warnings.warn(message)\n",
      "/opt/conda/lib/python3.10/site-packages/optuna/distributions.py:524: UserWarning: Choices for a categorical distribution should be a tuple of None, bool, int, float and str for persistent storage but contains [16, 32, 64, 128, 256] which is of type list.\n",
      "  warnings.warn(message)\n"
     ]
    },
    {
     "name": "stdout",
     "output_type": "stream",
     "text": [
      "Epoch 1/10\n"
     ]
    },
    {
     "name": "stderr",
     "output_type": "stream",
     "text": [
      "2024-01-02 18:47:20.086876: E tensorflow/core/grappler/optimizers/meta_optimizer.cc:954] layout failed: INVALID_ARGUMENT: Size of values 0 does not match size of permutation 4 @ fanin shape inautoencoder/sequential/dropout_1/dropout/SelectV2-2-TransposeNHWCToNCHW-LayoutOptimizer\n"
     ]
    },
    {
     "name": "stdout",
     "output_type": "stream",
     "text": [
      "383/383 [==============================] - 43s 68ms/step - loss: 0.0750 - accuracy: 0.7875 - val_loss: 0.0648 - val_accuracy: 0.7608\n",
      "Epoch 2/10\n",
      "383/383 [==============================] - 24s 63ms/step - loss: 0.0596 - accuracy: 0.7912 - val_loss: 0.0549 - val_accuracy: 0.7962\n",
      "Epoch 3/10\n",
      "383/383 [==============================] - 24s 63ms/step - loss: 0.0529 - accuracy: 0.7933 - val_loss: 0.0435 - val_accuracy: 0.7974\n",
      "Epoch 4/10\n",
      "383/383 [==============================] - 24s 63ms/step - loss: 0.0430 - accuracy: 0.7973 - val_loss: 0.0335 - val_accuracy: 0.8012\n",
      "Epoch 5/10\n",
      "383/383 [==============================] - 24s 63ms/step - loss: 0.0351 - accuracy: 0.8014 - val_loss: 0.0285 - val_accuracy: 0.8043\n",
      "Epoch 6/10\n",
      "383/383 [==============================] - 24s 63ms/step - loss: 0.0311 - accuracy: 0.8036 - val_loss: 0.0239 - val_accuracy: 0.8078\n",
      "Epoch 7/10\n",
      "383/383 [==============================] - 24s 63ms/step - loss: 0.0290 - accuracy: 0.8047 - val_loss: 0.0223 - val_accuracy: 0.8077\n",
      "Epoch 8/10\n",
      "383/383 [==============================] - 24s 63ms/step - loss: 0.0270 - accuracy: 0.8057 - val_loss: 0.0200 - val_accuracy: 0.8089\n",
      "Epoch 9/10\n",
      "383/383 [==============================] - 24s 63ms/step - loss: 0.0252 - accuracy: 0.8067 - val_loss: 0.0188 - val_accuracy: 0.8085\n",
      "Epoch 10/10\n",
      "383/383 [==============================] - 24s 63ms/step - loss: 0.0229 - accuracy: 0.8079 - val_loss: 0.0161 - val_accuracy: 0.8109\n",
      "Epoch 1/15\n"
     ]
    },
    {
     "name": "stderr",
     "output_type": "stream",
     "text": [
      "2024-01-02 18:51:39.934257: E tensorflow/core/grappler/optimizers/meta_optimizer.cc:954] layout failed: INVALID_ARGUMENT: Size of values 0 does not match size of permutation 4 @ fanin shape inautoencoder_1/sequential_2/dropout_10/dropout/SelectV2-2-TransposeNHWCToNCHW-LayoutOptimizer\n"
     ]
    },
    {
     "name": "stdout",
     "output_type": "stream",
     "text": [
      "192/192 [==============================] - 18s 55ms/step - loss: 0.0851 - accuracy: 0.7792 - val_loss: 0.1040 - val_accuracy: 0.8083\n",
      "Epoch 2/15\n",
      "192/192 [==============================] - 9s 49ms/step - loss: 0.0629 - accuracy: 0.7897 - val_loss: 0.0846 - val_accuracy: 0.8083\n",
      "Epoch 3/15\n",
      "192/192 [==============================] - 9s 49ms/step - loss: 0.0496 - accuracy: 0.7938 - val_loss: 0.0491 - val_accuracy: 0.8067\n",
      "Epoch 4/15\n",
      "192/192 [==============================] - 9s 49ms/step - loss: 0.0424 - accuracy: 0.7969 - val_loss: 0.0380 - val_accuracy: 0.8064\n",
      "Epoch 5/15\n",
      "192/192 [==============================] - 9s 49ms/step - loss: 0.0389 - accuracy: 0.7988 - val_loss: 0.0337 - val_accuracy: 0.8019\n",
      "Epoch 6/15\n",
      "192/192 [==============================] - 9s 49ms/step - loss: 0.0381 - accuracy: 0.7993 - val_loss: 0.0321 - val_accuracy: 0.8061\n",
      "Epoch 7/15\n",
      "192/192 [==============================] - 9s 49ms/step - loss: 0.0360 - accuracy: 0.8005 - val_loss: 0.0297 - val_accuracy: 0.8014\n",
      "Epoch 8/15\n",
      "192/192 [==============================] - 9s 49ms/step - loss: 0.0349 - accuracy: 0.8011 - val_loss: 0.0286 - val_accuracy: 0.8076\n",
      "Epoch 9/15\n",
      "192/192 [==============================] - 9s 49ms/step - loss: 0.0326 - accuracy: 0.8023 - val_loss: 0.0249 - val_accuracy: 0.8077\n",
      "Epoch 10/15\n",
      "192/192 [==============================] - 10s 50ms/step - loss: 0.0337 - accuracy: 0.8017 - val_loss: 0.0258 - val_accuracy: 0.8082\n",
      "Epoch 11/15\n",
      "192/192 [==============================] - 9s 49ms/step - loss: 0.0309 - accuracy: 0.8033 - val_loss: 0.0239 - val_accuracy: 0.8080\n",
      "Epoch 12/15\n",
      "192/192 [==============================] - 9s 49ms/step - loss: 0.0297 - accuracy: 0.8040 - val_loss: 0.0231 - val_accuracy: 0.8094\n",
      "Epoch 13/15\n",
      "192/192 [==============================] - 9s 49ms/step - loss: 0.0291 - accuracy: 0.8043 - val_loss: 0.0229 - val_accuracy: 0.8100\n",
      "Epoch 14/15\n",
      "192/192 [==============================] - 9s 49ms/step - loss: 0.0281 - accuracy: 0.8048 - val_loss: 0.0230 - val_accuracy: 0.8106\n",
      "Epoch 15/15\n",
      "192/192 [==============================] - 9s 49ms/step - loss: 0.0277 - accuracy: 0.8051 - val_loss: 0.0212 - val_accuracy: 0.8100\n",
      "Epoch 1/10\n"
     ]
    },
    {
     "name": "stderr",
     "output_type": "stream",
     "text": [
      "2024-01-02 18:54:10.996794: E tensorflow/core/grappler/optimizers/meta_optimizer.cc:954] layout failed: INVALID_ARGUMENT: Size of values 0 does not match size of permutation 4 @ fanin shape inautoencoder_2/sequential_4/dropout_17/dropout/SelectV2-2-TransposeNHWCToNCHW-LayoutOptimizer\n"
     ]
    },
    {
     "name": "stdout",
     "output_type": "stream",
     "text": [
      "383/383 [==============================] - 18s 29ms/step - loss: 0.0706 - accuracy: 0.7824 - val_loss: 0.0896 - val_accuracy: 0.8060\n",
      "Epoch 2/10\n",
      "383/383 [==============================] - 11s 28ms/step - loss: 0.0452 - accuracy: 0.7953 - val_loss: 0.0396 - val_accuracy: 0.8075\n",
      "Epoch 3/10\n",
      "383/383 [==============================] - 11s 28ms/step - loss: 0.0373 - accuracy: 0.8000 - val_loss: 0.0335 - val_accuracy: 0.8060\n",
      "Epoch 4/10\n",
      "383/383 [==============================] - 11s 28ms/step - loss: 0.0346 - accuracy: 0.8017 - val_loss: 0.0301 - val_accuracy: 0.8029\n",
      "Epoch 5/10\n",
      "383/383 [==============================] - 11s 28ms/step - loss: 0.0342 - accuracy: 0.8019 - val_loss: 0.0296 - val_accuracy: 0.8067\n",
      "Epoch 6/10\n",
      "383/383 [==============================] - 11s 28ms/step - loss: 0.0326 - accuracy: 0.8028 - val_loss: 0.0296 - val_accuracy: 0.8050\n",
      "Epoch 7/10\n",
      "383/383 [==============================] - 11s 28ms/step - loss: 0.0319 - accuracy: 0.8032 - val_loss: 0.0277 - val_accuracy: 0.8054\n",
      "Epoch 8/10\n",
      "383/383 [==============================] - 11s 28ms/step - loss: 0.0309 - accuracy: 0.8037 - val_loss: 0.0280 - val_accuracy: 0.8075\n",
      "Epoch 9/10\n",
      "383/383 [==============================] - 11s 28ms/step - loss: 0.0304 - accuracy: 0.8039 - val_loss: 0.0267 - val_accuracy: 0.8062\n",
      "Epoch 10/10\n",
      "383/383 [==============================] - 11s 28ms/step - loss: 0.0298 - accuracy: 0.8042 - val_loss: 0.0264 - val_accuracy: 0.8071\n",
      "Epoch 1/10\n"
     ]
    },
    {
     "name": "stderr",
     "output_type": "stream",
     "text": [
      "2024-01-02 18:56:07.740761: E tensorflow/core/grappler/optimizers/meta_optimizer.cc:954] layout failed: INVALID_ARGUMENT: Size of values 0 does not match size of permutation 4 @ fanin shape inautoencoder_3/sequential_6/dropout_24/dropout/SelectV2-2-TransposeNHWCToNCHW-LayoutOptimizer\n"
     ]
    },
    {
     "name": "stdout",
     "output_type": "stream",
     "text": [
      "383/383 [==============================] - 20s 33ms/step - loss: 0.0876 - accuracy: 0.7751 - val_loss: 0.0736 - val_accuracy: 0.8083\n",
      "Epoch 2/10\n",
      "383/383 [==============================] - 12s 31ms/step - loss: 0.0656 - accuracy: 0.7902 - val_loss: 0.0742 - val_accuracy: 0.8067\n",
      "Epoch 3/10\n",
      "383/383 [==============================] - 12s 31ms/step - loss: 0.0574 - accuracy: 0.7908 - val_loss: 0.0589 - val_accuracy: 0.8037\n",
      "Epoch 4/10\n",
      "383/383 [==============================] - 12s 31ms/step - loss: 0.0510 - accuracy: 0.7922 - val_loss: 0.0481 - val_accuracy: 0.7988\n",
      "Epoch 5/10\n",
      "383/383 [==============================] - 12s 31ms/step - loss: 0.0474 - accuracy: 0.7938 - val_loss: 0.0449 - val_accuracy: 0.8056\n",
      "Epoch 6/10\n",
      "383/383 [==============================] - 12s 31ms/step - loss: 0.0450 - accuracy: 0.7951 - val_loss: 0.0396 - val_accuracy: 0.8013\n",
      "Epoch 7/10\n",
      "383/383 [==============================] - 12s 31ms/step - loss: 0.0438 - accuracy: 0.7957 - val_loss: 0.0383 - val_accuracy: 0.8027\n",
      "Epoch 8/10\n",
      "383/383 [==============================] - 12s 31ms/step - loss: 0.0425 - accuracy: 0.7966 - val_loss: 0.0372 - val_accuracy: 0.8026\n",
      "Epoch 9/10\n",
      "383/383 [==============================] - 12s 31ms/step - loss: 0.0412 - accuracy: 0.7974 - val_loss: 0.0361 - val_accuracy: 0.7997\n",
      "Epoch 10/10\n",
      "383/383 [==============================] - 12s 31ms/step - loss: 0.0408 - accuracy: 0.7976 - val_loss: 0.0371 - val_accuracy: 0.8042\n",
      "Epoch 1/20\n"
     ]
    },
    {
     "name": "stderr",
     "output_type": "stream",
     "text": [
      "2024-01-02 18:58:15.408949: E tensorflow/core/grappler/optimizers/meta_optimizer.cc:954] layout failed: INVALID_ARGUMENT: Size of values 0 does not match size of permutation 4 @ fanin shape inautoencoder_4/sequential_8/dropout_33/dropout/SelectV2-2-TransposeNHWCToNCHW-LayoutOptimizer\n"
     ]
    },
    {
     "name": "stdout",
     "output_type": "stream",
     "text": [
      "192/192 [==============================] - 17s 47ms/step - loss: 0.0758 - accuracy: 0.7802 - val_loss: 0.0887 - val_accuracy: 0.7691\n",
      "Epoch 2/20\n",
      "192/192 [==============================] - 8s 44ms/step - loss: 0.0575 - accuracy: 0.7918 - val_loss: 0.0567 - val_accuracy: 0.7963\n",
      "Epoch 3/20\n",
      "192/192 [==============================] - 8s 44ms/step - loss: 0.0516 - accuracy: 0.7935 - val_loss: 0.0490 - val_accuracy: 0.8049\n",
      "Epoch 4/20\n",
      "192/192 [==============================] - 8s 44ms/step - loss: 0.0443 - accuracy: 0.7957 - val_loss: 0.0366 - val_accuracy: 0.8034\n",
      "Epoch 5/20\n",
      "192/192 [==============================] - 8s 44ms/step - loss: 0.0392 - accuracy: 0.7984 - val_loss: 0.0335 - val_accuracy: 0.8056\n",
      "Epoch 6/20\n",
      "192/192 [==============================] - 8s 44ms/step - loss: 0.0356 - accuracy: 0.8007 - val_loss: 0.0307 - val_accuracy: 0.8055\n",
      "Epoch 7/20\n",
      "192/192 [==============================] - 8s 44ms/step - loss: 0.0344 - accuracy: 0.8013 - val_loss: 0.0304 - val_accuracy: 0.8056\n",
      "Epoch 8/20\n",
      "192/192 [==============================] - 8s 44ms/step - loss: 0.0333 - accuracy: 0.8021 - val_loss: 0.0286 - val_accuracy: 0.8050\n",
      "Epoch 9/20\n",
      "192/192 [==============================] - 8s 44ms/step - loss: 0.0326 - accuracy: 0.8024 - val_loss: 0.0289 - val_accuracy: 0.8039\n",
      "Epoch 10/20\n",
      "192/192 [==============================] - 8s 44ms/step - loss: 0.0319 - accuracy: 0.8029 - val_loss: 0.0276 - val_accuracy: 0.8059\n",
      "Epoch 11/20\n",
      "192/192 [==============================] - 8s 44ms/step - loss: 0.0305 - accuracy: 0.8037 - val_loss: 0.0250 - val_accuracy: 0.8070\n",
      "Epoch 12/20\n",
      "192/192 [==============================] - 8s 44ms/step - loss: 0.0283 - accuracy: 0.8050 - val_loss: 0.0220 - val_accuracy: 0.8082\n",
      "Epoch 13/20\n",
      "192/192 [==============================] - 8s 43ms/step - loss: 0.0284 - accuracy: 0.8050 - val_loss: 0.0343 - val_accuracy: 0.8053\n",
      "Epoch 14/20\n",
      "192/192 [==============================] - 8s 43ms/step - loss: 0.0294 - accuracy: 0.8042 - val_loss: 0.0239 - val_accuracy: 0.8039\n",
      "Epoch 15/20\n",
      "192/192 [==============================] - 8s 44ms/step - loss: 0.0254 - accuracy: 0.8065 - val_loss: 0.0214 - val_accuracy: 0.8055\n",
      "Epoch 16/20\n",
      "192/192 [==============================] - 8s 44ms/step - loss: 0.0239 - accuracy: 0.8072 - val_loss: 0.0178 - val_accuracy: 0.8100\n",
      "Epoch 17/20\n",
      "192/192 [==============================] - 8s 44ms/step - loss: 0.0229 - accuracy: 0.8078 - val_loss: 0.0171 - val_accuracy: 0.8111\n",
      "Epoch 18/20\n",
      "192/192 [==============================] - 8s 44ms/step - loss: 0.0222 - accuracy: 0.8082 - val_loss: 0.0161 - val_accuracy: 0.8104\n",
      "Epoch 19/20\n",
      "192/192 [==============================] - 8s 44ms/step - loss: 0.0217 - accuracy: 0.8084 - val_loss: 0.0157 - val_accuracy: 0.8107\n",
      "Epoch 20/20\n",
      "192/192 [==============================] - 8s 44ms/step - loss: 0.0212 - accuracy: 0.8087 - val_loss: 0.0152 - val_accuracy: 0.8111\n",
      "Epoch 1/20\n"
     ]
    },
    {
     "name": "stderr",
     "output_type": "stream",
     "text": [
      "2024-01-02 19:01:12.040245: E tensorflow/core/grappler/optimizers/meta_optimizer.cc:954] layout failed: INVALID_ARGUMENT: Size of values 0 does not match size of permutation 4 @ fanin shape inautoencoder_5/sequential_10/dropout_40/dropout/SelectV2-2-TransposeNHWCToNCHW-LayoutOptimizer\n"
     ]
    },
    {
     "name": "stdout",
     "output_type": "stream",
     "text": [
      "383/383 [==============================] - 13s 17ms/step - loss: 0.0833 - accuracy: 0.7806 - val_loss: 0.0809 - val_accuracy: 0.8083\n",
      "Epoch 2/20\n",
      "383/383 [==============================] - 6s 16ms/step - loss: 0.0661 - accuracy: 0.7913 - val_loss: 0.0571 - val_accuracy: 0.8030\n",
      "Epoch 3/20\n",
      "383/383 [==============================] - 6s 16ms/step - loss: 0.0535 - accuracy: 0.7921 - val_loss: 0.0445 - val_accuracy: 0.7945\n",
      "Epoch 4/20\n",
      "383/383 [==============================] - 6s 16ms/step - loss: 0.0481 - accuracy: 0.7945 - val_loss: 0.0403 - val_accuracy: 0.7962\n",
      "Epoch 5/20\n",
      "383/383 [==============================] - 6s 16ms/step - loss: 0.0441 - accuracy: 0.7963 - val_loss: 0.0369 - val_accuracy: 0.8000\n",
      "Epoch 6/20\n",
      "383/383 [==============================] - 6s 16ms/step - loss: 0.0414 - accuracy: 0.7976 - val_loss: 0.0358 - val_accuracy: 0.8028\n",
      "Epoch 7/20\n",
      "383/383 [==============================] - 6s 16ms/step - loss: 0.0416 - accuracy: 0.7974 - val_loss: 0.0351 - val_accuracy: 0.7994\n",
      "Epoch 8/20\n",
      "383/383 [==============================] - 6s 16ms/step - loss: 0.0402 - accuracy: 0.7983 - val_loss: 0.0337 - val_accuracy: 0.8016\n",
      "Epoch 9/20\n",
      "383/383 [==============================] - 6s 16ms/step - loss: 0.0391 - accuracy: 0.7989 - val_loss: 0.0337 - val_accuracy: 0.8028\n",
      "Epoch 10/20\n",
      "383/383 [==============================] - 6s 16ms/step - loss: 0.0383 - accuracy: 0.7993 - val_loss: 0.0329 - val_accuracy: 0.8000\n",
      "Epoch 11/20\n",
      "383/383 [==============================] - 6s 16ms/step - loss: 0.0381 - accuracy: 0.7995 - val_loss: 0.0325 - val_accuracy: 0.8014\n",
      "Epoch 12/20\n",
      "383/383 [==============================] - 6s 16ms/step - loss: 0.0371 - accuracy: 0.7999 - val_loss: 0.0319 - val_accuracy: 0.8043\n",
      "Epoch 13/20\n",
      "383/383 [==============================] - 6s 16ms/step - loss: 0.0370 - accuracy: 0.8001 - val_loss: 0.0315 - val_accuracy: 0.8010\n",
      "Epoch 14/20\n",
      "383/383 [==============================] - 6s 16ms/step - loss: 0.0362 - accuracy: 0.8005 - val_loss: 0.0309 - val_accuracy: 0.8036\n",
      "Epoch 15/20\n",
      "383/383 [==============================] - 6s 16ms/step - loss: 0.0357 - accuracy: 0.8008 - val_loss: 0.0305 - val_accuracy: 0.8043\n",
      "Epoch 16/20\n",
      "383/383 [==============================] - 6s 16ms/step - loss: 0.0354 - accuracy: 0.8010 - val_loss: 0.0305 - val_accuracy: 0.8061\n",
      "Epoch 17/20\n",
      "383/383 [==============================] - 6s 16ms/step - loss: 0.0350 - accuracy: 0.8012 - val_loss: 0.0308 - val_accuracy: 0.8022\n",
      "Epoch 18/20\n",
      "383/383 [==============================] - 6s 17ms/step - loss: 0.0352 - accuracy: 0.8012 - val_loss: 0.0337 - val_accuracy: 0.8051\n",
      "Epoch 1/15\n"
     ]
    },
    {
     "name": "stderr",
     "output_type": "stream",
     "text": [
      "2024-01-02 19:03:37.426716: E tensorflow/core/grappler/optimizers/meta_optimizer.cc:954] layout failed: INVALID_ARGUMENT: Size of values 0 does not match size of permutation 4 @ fanin shape inautoencoder_6/sequential_12/dropout_47/dropout/SelectV2-2-TransposeNHWCToNCHW-LayoutOptimizer\n"
     ]
    },
    {
     "name": "stdout",
     "output_type": "stream",
     "text": [
      "383/383 [==============================] - 23s 42ms/step - loss: 0.0789 - accuracy: 0.7879 - val_loss: 0.0719 - val_accuracy: 0.8081\n",
      "Epoch 2/15\n",
      "383/383 [==============================] - 15s 38ms/step - loss: 0.0641 - accuracy: 0.7923 - val_loss: 0.0580 - val_accuracy: 0.8005\n",
      "Epoch 3/15\n",
      "383/383 [==============================] - 15s 38ms/step - loss: 0.0531 - accuracy: 0.7932 - val_loss: 0.0464 - val_accuracy: 0.8060\n",
      "Epoch 4/15\n",
      "383/383 [==============================] - 15s 38ms/step - loss: 0.0446 - accuracy: 0.7963 - val_loss: 0.0372 - val_accuracy: 0.8027\n",
      "Epoch 5/15\n",
      "383/383 [==============================] - 15s 38ms/step - loss: 0.0389 - accuracy: 0.7992 - val_loss: 0.0320 - val_accuracy: 0.8085\n",
      "Epoch 6/15\n",
      "383/383 [==============================] - 15s 38ms/step - loss: 0.0336 - accuracy: 0.8020 - val_loss: 0.0252 - val_accuracy: 0.8091\n",
      "Epoch 7/15\n",
      "383/383 [==============================] - 15s 38ms/step - loss: 0.0301 - accuracy: 0.8040 - val_loss: 0.0217 - val_accuracy: 0.8099\n",
      "Epoch 8/15\n",
      "383/383 [==============================] - 15s 38ms/step - loss: 0.0279 - accuracy: 0.8053 - val_loss: 0.0202 - val_accuracy: 0.8101\n",
      "Epoch 9/15\n",
      "383/383 [==============================] - 15s 38ms/step - loss: 0.0276 - accuracy: 0.8055 - val_loss: 0.0194 - val_accuracy: 0.8100\n",
      "Epoch 10/15\n",
      "383/383 [==============================] - 15s 38ms/step - loss: 0.0262 - accuracy: 0.8062 - val_loss: 0.0186 - val_accuracy: 0.8096\n",
      "Epoch 11/15\n",
      "383/383 [==============================] - 15s 38ms/step - loss: 0.0254 - accuracy: 0.8067 - val_loss: 0.0180 - val_accuracy: 0.8106\n",
      "Epoch 12/15\n",
      "383/383 [==============================] - 15s 38ms/step - loss: 0.0250 - accuracy: 0.8069 - val_loss: 0.0178 - val_accuracy: 0.8097\n",
      "Epoch 13/15\n",
      "383/383 [==============================] - 15s 38ms/step - loss: 0.0242 - accuracy: 0.8074 - val_loss: 0.0165 - val_accuracy: 0.8114\n",
      "Epoch 14/15\n",
      "383/383 [==============================] - 15s 38ms/step - loss: 0.0228 - accuracy: 0.8081 - val_loss: 0.0156 - val_accuracy: 0.8118\n",
      "Epoch 15/15\n",
      "383/383 [==============================] - 15s 38ms/step - loss: 0.0244 - accuracy: 0.8072 - val_loss: 0.0180 - val_accuracy: 0.8091\n",
      "Epoch 1/10\n"
     ]
    },
    {
     "name": "stderr",
     "output_type": "stream",
     "text": [
      "2024-01-02 19:07:27.105996: E tensorflow/core/grappler/optimizers/meta_optimizer.cc:954] layout failed: INVALID_ARGUMENT: Size of values 0 does not match size of permutation 4 @ fanin shape inautoencoder_7/sequential_14/dropout_54/dropout/SelectV2-2-TransposeNHWCToNCHW-LayoutOptimizer\n"
     ]
    },
    {
     "name": "stdout",
     "output_type": "stream",
     "text": [
      "383/383 [==============================] - 24s 43ms/step - loss: 0.0777 - accuracy: 0.7851 - val_loss: 0.0863 - val_accuracy: 0.8083\n",
      "Epoch 2/10\n",
      "383/383 [==============================] - 16s 42ms/step - loss: 0.0657 - accuracy: 0.7913 - val_loss: 0.0628 - val_accuracy: 0.8049\n",
      "Epoch 3/10\n",
      "383/383 [==============================] - 16s 42ms/step - loss: 0.0591 - accuracy: 0.7915 - val_loss: 0.0527 - val_accuracy: 0.7885\n",
      "Epoch 4/10\n",
      "383/383 [==============================] - 16s 41ms/step - loss: 0.0588 - accuracy: 0.7904 - val_loss: 0.0501 - val_accuracy: 0.7966\n",
      "Epoch 5/10\n",
      "383/383 [==============================] - 16s 42ms/step - loss: 0.0533 - accuracy: 0.7915 - val_loss: 0.0470 - val_accuracy: 0.7963\n",
      "Epoch 6/10\n",
      "383/383 [==============================] - 16s 41ms/step - loss: 0.0508 - accuracy: 0.7921 - val_loss: 0.0460 - val_accuracy: 0.7954\n",
      "Epoch 7/10\n",
      "383/383 [==============================] - 16s 41ms/step - loss: 0.0493 - accuracy: 0.7923 - val_loss: 0.0439 - val_accuracy: 0.7958\n",
      "Epoch 8/10\n",
      "383/383 [==============================] - 16s 41ms/step - loss: 0.0480 - accuracy: 0.7926 - val_loss: 0.0430 - val_accuracy: 0.7960\n",
      "Epoch 9/10\n",
      "383/383 [==============================] - 16s 41ms/step - loss: 0.0468 - accuracy: 0.7929 - val_loss: 0.0409 - val_accuracy: 0.7980\n",
      "Epoch 10/10\n",
      "383/383 [==============================] - 16s 41ms/step - loss: 0.0456 - accuracy: 0.7937 - val_loss: 0.0406 - val_accuracy: 0.7981\n",
      "Epoch 1/15\n"
     ]
    },
    {
     "name": "stderr",
     "output_type": "stream",
     "text": [
      "2024-01-02 19:10:14.257380: E tensorflow/core/grappler/optimizers/meta_optimizer.cc:954] layout failed: INVALID_ARGUMENT: Size of values 0 does not match size of permutation 4 @ fanin shape inautoencoder_8/sequential_16/dropout_63/dropout/SelectV2-2-TransposeNHWCToNCHW-LayoutOptimizer\n"
     ]
    },
    {
     "name": "stdout",
     "output_type": "stream",
     "text": [
      "766/766 [==============================] - 16s 12ms/step - loss: 0.0653 - accuracy: 0.7850 - val_loss: 0.0390 - val_accuracy: 0.8067\n",
      "Epoch 2/15\n",
      "766/766 [==============================] - 8s 11ms/step - loss: 0.0405 - accuracy: 0.7981 - val_loss: 0.0301 - val_accuracy: 0.8059\n",
      "Epoch 3/15\n",
      "766/766 [==============================] - 8s 10ms/step - loss: 0.0345 - accuracy: 0.8014 - val_loss: 0.0266 - val_accuracy: 0.8080\n",
      "Epoch 4/15\n",
      "766/766 [==============================] - 8s 10ms/step - loss: 0.0313 - accuracy: 0.8032 - val_loss: 0.0245 - val_accuracy: 0.8098\n",
      "Epoch 5/15\n",
      "766/766 [==============================] - 8s 11ms/step - loss: 0.0298 - accuracy: 0.8041 - val_loss: 0.0221 - val_accuracy: 0.8102\n",
      "Epoch 6/15\n",
      "766/766 [==============================] - 8s 11ms/step - loss: 0.0277 - accuracy: 0.8052 - val_loss: 0.0204 - val_accuracy: 0.8101\n",
      "Epoch 7/15\n",
      "766/766 [==============================] - 8s 10ms/step - loss: 0.0264 - accuracy: 0.8059 - val_loss: 0.0195 - val_accuracy: 0.8105\n",
      "Epoch 8/15\n",
      "766/766 [==============================] - 8s 10ms/step - loss: 0.0254 - accuracy: 0.8064 - val_loss: 0.0187 - val_accuracy: 0.8099\n",
      "Epoch 9/15\n",
      "766/766 [==============================] - 8s 11ms/step - loss: 0.0247 - accuracy: 0.8067 - val_loss: 0.0176 - val_accuracy: 0.8102\n",
      "Epoch 10/15\n",
      "766/766 [==============================] - 8s 11ms/step - loss: 0.0241 - accuracy: 0.8070 - val_loss: 0.0172 - val_accuracy: 0.8100\n",
      "Epoch 11/15\n",
      "766/766 [==============================] - 8s 10ms/step - loss: 0.0236 - accuracy: 0.8073 - val_loss: 0.0170 - val_accuracy: 0.8103\n",
      "Epoch 12/15\n",
      "766/766 [==============================] - 8s 10ms/step - loss: 0.0232 - accuracy: 0.8075 - val_loss: 0.0165 - val_accuracy: 0.8109\n",
      "Epoch 13/15\n",
      "766/766 [==============================] - 8s 11ms/step - loss: 0.0228 - accuracy: 0.8077 - val_loss: 0.0165 - val_accuracy: 0.8105\n",
      "Epoch 14/15\n",
      "766/766 [==============================] - 8s 11ms/step - loss: 0.0225 - accuracy: 0.8078 - val_loss: 0.0161 - val_accuracy: 0.8106\n",
      "Epoch 15/15\n",
      "766/766 [==============================] - 8s 10ms/step - loss: 0.0223 - accuracy: 0.8079 - val_loss: 0.0162 - val_accuracy: 0.8108\n",
      "Epoch 1/15\n"
     ]
    },
    {
     "name": "stderr",
     "output_type": "stream",
     "text": [
      "2024-01-02 19:12:39.151008: E tensorflow/core/grappler/optimizers/meta_optimizer.cc:954] layout failed: INVALID_ARGUMENT: Size of values 0 does not match size of permutation 4 @ fanin shape inautoencoder_9/sequential_18/dropout_70/dropout/SelectV2-2-TransposeNHWCToNCHW-LayoutOptimizer\n"
     ]
    },
    {
     "name": "stdout",
     "output_type": "stream",
     "text": [
      "766/766 [==============================] - 14s 12ms/step - loss: 0.0783 - accuracy: 0.7889 - val_loss: 0.0662 - val_accuracy: 0.8067\n",
      "Epoch 2/15\n",
      "766/766 [==============================] - 8s 11ms/step - loss: 0.0625 - accuracy: 0.7933 - val_loss: 0.0507 - val_accuracy: 0.8031\n",
      "Epoch 3/15\n",
      "766/766 [==============================] - 9s 11ms/step - loss: 0.0439 - accuracy: 0.7970 - val_loss: 0.0321 - val_accuracy: 0.8085\n",
      "Epoch 4/15\n",
      "766/766 [==============================] - 9s 11ms/step - loss: 0.0335 - accuracy: 0.8017 - val_loss: 0.0255 - val_accuracy: 0.8078\n",
      "Epoch 5/15\n",
      "766/766 [==============================] - 9s 11ms/step - loss: 0.0294 - accuracy: 0.8040 - val_loss: 0.0217 - val_accuracy: 0.8100\n",
      "Epoch 6/15\n",
      "766/766 [==============================] - 9s 11ms/step - loss: 0.0260 - accuracy: 0.8059 - val_loss: 0.0194 - val_accuracy: 0.8110\n",
      "Epoch 7/15\n",
      "766/766 [==============================] - 9s 11ms/step - loss: 0.0244 - accuracy: 0.8068 - val_loss: 0.0178 - val_accuracy: 0.8105\n",
      "Epoch 8/15\n",
      "766/766 [==============================] - 8s 11ms/step - loss: 0.0235 - accuracy: 0.8073 - val_loss: 0.0172 - val_accuracy: 0.8105\n",
      "Epoch 9/15\n",
      "766/766 [==============================] - 8s 11ms/step - loss: 0.0228 - accuracy: 0.8077 - val_loss: 0.0166 - val_accuracy: 0.8106\n",
      "Epoch 10/15\n",
      "766/766 [==============================] - 9s 11ms/step - loss: 0.0223 - accuracy: 0.8080 - val_loss: 0.0163 - val_accuracy: 0.8108\n",
      "Epoch 11/15\n",
      "766/766 [==============================] - 8s 11ms/step - loss: 0.0218 - accuracy: 0.8083 - val_loss: 0.0159 - val_accuracy: 0.8111\n",
      "Epoch 12/15\n",
      "766/766 [==============================] - 8s 11ms/step - loss: 0.0215 - accuracy: 0.8084 - val_loss: 0.0159 - val_accuracy: 0.8103\n",
      "Epoch 13/15\n",
      "766/766 [==============================] - 8s 11ms/step - loss: 0.0213 - accuracy: 0.8086 - val_loss: 0.0155 - val_accuracy: 0.8112\n",
      "Epoch 14/15\n",
      "766/766 [==============================] - 9s 11ms/step - loss: 0.0210 - accuracy: 0.8087 - val_loss: 0.0154 - val_accuracy: 0.8105\n",
      "Epoch 15/15\n",
      "766/766 [==============================] - 9s 11ms/step - loss: 0.0208 - accuracy: 0.8088 - val_loss: 0.0152 - val_accuracy: 0.8117\n",
      "Epoch 1/15\n"
     ]
    },
    {
     "name": "stderr",
     "output_type": "stream",
     "text": [
      "2024-01-02 19:14:53.024964: E tensorflow/core/grappler/optimizers/meta_optimizer.cc:954] layout failed: INVALID_ARGUMENT: Size of values 0 does not match size of permutation 4 @ fanin shape inautoencoder_10/sequential_20/dropout_75/dropout/SelectV2-2-TransposeNHWCToNCHW-LayoutOptimizer\n"
     ]
    },
    {
     "name": "stdout",
     "output_type": "stream",
     "text": [
      "766/766 [==============================] - 13s 11ms/step - loss: 0.0726 - accuracy: 0.7869 - val_loss: 0.0552 - val_accuracy: 0.8066\n",
      "Epoch 2/15\n",
      "766/766 [==============================] - 8s 11ms/step - loss: 0.0486 - accuracy: 0.7955 - val_loss: 0.0338 - val_accuracy: 0.8036\n",
      "Epoch 3/15\n",
      "766/766 [==============================] - 8s 11ms/step - loss: 0.0357 - accuracy: 0.8007 - val_loss: 0.0270 - val_accuracy: 0.8093\n",
      "Epoch 4/15\n",
      "766/766 [==============================] - 8s 11ms/step - loss: 0.0298 - accuracy: 0.8038 - val_loss: 0.0223 - val_accuracy: 0.8101\n",
      "Epoch 5/15\n",
      "766/766 [==============================] - 8s 11ms/step - loss: 0.0270 - accuracy: 0.8053 - val_loss: 0.0197 - val_accuracy: 0.8101\n",
      "Epoch 6/15\n",
      "766/766 [==============================] - 9s 11ms/step - loss: 0.0250 - accuracy: 0.8064 - val_loss: 0.0372 - val_accuracy: 0.7955\n",
      "Epoch 7/15\n",
      "766/766 [==============================] - 9s 11ms/step - loss: 0.0240 - accuracy: 0.8070 - val_loss: 0.0174 - val_accuracy: 0.8101\n",
      "Epoch 8/15\n",
      "766/766 [==============================] - 8s 11ms/step - loss: 0.0232 - accuracy: 0.8074 - val_loss: 0.0171 - val_accuracy: 0.8111\n",
      "Epoch 9/15\n",
      "766/766 [==============================] - 8s 11ms/step - loss: 0.0227 - accuracy: 0.8077 - val_loss: 0.0163 - val_accuracy: 0.8101\n",
      "Epoch 10/15\n",
      "766/766 [==============================] - 8s 11ms/step - loss: 0.0222 - accuracy: 0.8079 - val_loss: 0.0163 - val_accuracy: 0.8112\n",
      "Epoch 11/15\n",
      "766/766 [==============================] - 8s 11ms/step - loss: 0.0218 - accuracy: 0.8082 - val_loss: 0.0163 - val_accuracy: 0.8093\n",
      "Epoch 12/15\n",
      "766/766 [==============================] - 8s 11ms/step - loss: 0.0216 - accuracy: 0.8083 - val_loss: 0.0155 - val_accuracy: 0.8105\n",
      "Epoch 13/15\n",
      "766/766 [==============================] - 8s 11ms/step - loss: 0.0213 - accuracy: 0.8084 - val_loss: 0.0152 - val_accuracy: 0.8114\n",
      "Epoch 14/15\n",
      "766/766 [==============================] - 8s 11ms/step - loss: 0.0211 - accuracy: 0.8085 - val_loss: 0.0152 - val_accuracy: 0.8114\n",
      "Epoch 15/15\n",
      "766/766 [==============================] - 8s 11ms/step - loss: 0.0209 - accuracy: 0.8086 - val_loss: 0.0152 - val_accuracy: 0.8105\n",
      "Epoch 1/20\n"
     ]
    },
    {
     "name": "stderr",
     "output_type": "stream",
     "text": [
      "2024-01-02 19:17:05.355411: E tensorflow/core/grappler/optimizers/meta_optimizer.cc:954] layout failed: INVALID_ARGUMENT: Size of values 0 does not match size of permutation 4 @ fanin shape inautoencoder_11/sequential_22/dropout_80/dropout/SelectV2-2-TransposeNHWCToNCHW-LayoutOptimizer\n"
     ]
    },
    {
     "name": "stdout",
     "output_type": "stream",
     "text": [
      "192/192 [==============================] - 11s 34ms/step - loss: 0.0842 - accuracy: 0.7788 - val_loss: 0.0713 - val_accuracy: 0.8083\n",
      "Epoch 2/20\n",
      "192/192 [==============================] - 6s 31ms/step - loss: 0.0674 - accuracy: 0.7908 - val_loss: 0.0645 - val_accuracy: 0.8078\n",
      "Epoch 3/20\n",
      "192/192 [==============================] - 6s 31ms/step - loss: 0.0587 - accuracy: 0.7918 - val_loss: 0.0502 - val_accuracy: 0.8002\n",
      "Epoch 4/20\n",
      "192/192 [==============================] - 6s 31ms/step - loss: 0.0539 - accuracy: 0.7921 - val_loss: 0.0418 - val_accuracy: 0.8021\n",
      "Epoch 5/20\n",
      "192/192 [==============================] - 6s 31ms/step - loss: 0.0416 - accuracy: 0.7986 - val_loss: 0.0351 - val_accuracy: 0.8054\n",
      "Epoch 6/20\n",
      "192/192 [==============================] - 6s 31ms/step - loss: 0.0360 - accuracy: 0.8013 - val_loss: 0.0319 - val_accuracy: 0.8088\n",
      "Epoch 7/20\n",
      "192/192 [==============================] - 6s 31ms/step - loss: 0.0330 - accuracy: 0.8029 - val_loss: 0.0270 - val_accuracy: 0.8062\n",
      "Epoch 8/20\n",
      "192/192 [==============================] - 6s 31ms/step - loss: 0.0304 - accuracy: 0.8041 - val_loss: 0.0252 - val_accuracy: 0.8067\n",
      "Epoch 9/20\n",
      "192/192 [==============================] - 6s 31ms/step - loss: 0.0280 - accuracy: 0.8055 - val_loss: 0.0227 - val_accuracy: 0.8095\n",
      "Epoch 10/20\n",
      "192/192 [==============================] - 6s 31ms/step - loss: 0.0283 - accuracy: 0.8053 - val_loss: 0.0237 - val_accuracy: 0.8060\n",
      "Epoch 11/20\n",
      "192/192 [==============================] - 6s 31ms/step - loss: 0.0264 - accuracy: 0.8062 - val_loss: 0.0212 - val_accuracy: 0.8090\n",
      "Epoch 12/20\n",
      "192/192 [==============================] - 6s 31ms/step - loss: 0.0246 - accuracy: 0.8071 - val_loss: 0.0192 - val_accuracy: 0.8098\n",
      "Epoch 13/20\n",
      "192/192 [==============================] - 6s 31ms/step - loss: 0.0235 - accuracy: 0.8077 - val_loss: 0.0186 - val_accuracy: 0.8091\n",
      "Epoch 14/20\n",
      "192/192 [==============================] - 6s 31ms/step - loss: 0.0225 - accuracy: 0.8082 - val_loss: 0.0180 - val_accuracy: 0.8107\n",
      "Epoch 15/20\n",
      "192/192 [==============================] - 6s 31ms/step - loss: 0.0225 - accuracy: 0.8082 - val_loss: 0.0184 - val_accuracy: 0.8101\n",
      "Epoch 16/20\n",
      "192/192 [==============================] - 6s 31ms/step - loss: 0.0218 - accuracy: 0.8085 - val_loss: 0.0175 - val_accuracy: 0.8110\n",
      "Epoch 17/20\n",
      "192/192 [==============================] - 6s 31ms/step - loss: 0.0212 - accuracy: 0.8088 - val_loss: 0.0172 - val_accuracy: 0.8113\n",
      "Epoch 18/20\n",
      "192/192 [==============================] - 6s 31ms/step - loss: 0.0209 - accuracy: 0.8090 - val_loss: 0.0165 - val_accuracy: 0.8106\n",
      "Epoch 19/20\n",
      "192/192 [==============================] - 6s 31ms/step - loss: 0.0205 - accuracy: 0.8091 - val_loss: 0.0168 - val_accuracy: 0.8107\n",
      "Epoch 20/20\n",
      "192/192 [==============================] - 6s 31ms/step - loss: 0.0201 - accuracy: 0.8093 - val_loss: 0.0157 - val_accuracy: 0.8110\n",
      "Epoch 1/20\n"
     ]
    },
    {
     "name": "stderr",
     "output_type": "stream",
     "text": [
      "2024-01-02 19:19:10.689888: E tensorflow/core/grappler/optimizers/meta_optimizer.cc:954] layout failed: INVALID_ARGUMENT: Size of values 0 does not match size of permutation 4 @ fanin shape inautoencoder_12/sequential_24/dropout_85/dropout/SelectV2-2-TransposeNHWCToNCHW-LayoutOptimizer\n"
     ]
    },
    {
     "name": "stdout",
     "output_type": "stream",
     "text": [
      "192/192 [==============================] - 11s 33ms/step - loss: 0.0806 - accuracy: 0.7867 - val_loss: 0.0985 - val_accuracy: 0.8083\n",
      "Epoch 2/20\n",
      "192/192 [==============================] - 6s 31ms/step - loss: 0.0733 - accuracy: 0.7938 - val_loss: 0.0817 - val_accuracy: 0.7489\n",
      "Epoch 3/20\n",
      "192/192 [==============================] - 6s 31ms/step - loss: 0.0694 - accuracy: 0.7981 - val_loss: 0.0670 - val_accuracy: 0.8021\n",
      "Epoch 4/20\n",
      "192/192 [==============================] - 6s 31ms/step - loss: 0.0670 - accuracy: 0.7961 - val_loss: 0.0627 - val_accuracy: 0.7928\n",
      "Epoch 5/20\n",
      "192/192 [==============================] - 6s 31ms/step - loss: 0.0674 - accuracy: 0.7935 - val_loss: 0.0620 - val_accuracy: 0.7941\n",
      "Epoch 6/20\n",
      "192/192 [==============================] - 6s 31ms/step - loss: 0.0564 - accuracy: 0.7943 - val_loss: 0.0476 - val_accuracy: 0.7965\n",
      "Epoch 7/20\n",
      "192/192 [==============================] - 6s 31ms/step - loss: 0.0489 - accuracy: 0.7964 - val_loss: 0.0439 - val_accuracy: 0.7964\n",
      "Epoch 8/20\n",
      "192/192 [==============================] - 6s 31ms/step - loss: 0.0421 - accuracy: 0.7988 - val_loss: 0.0353 - val_accuracy: 0.8041\n",
      "Epoch 9/20\n",
      "192/192 [==============================] - 6s 31ms/step - loss: 0.0365 - accuracy: 0.8012 - val_loss: 0.0310 - val_accuracy: 0.8050\n",
      "Epoch 10/20\n",
      "192/192 [==============================] - 6s 31ms/step - loss: 0.0325 - accuracy: 0.8031 - val_loss: 0.0271 - val_accuracy: 0.8076\n",
      "Epoch 11/20\n",
      "192/192 [==============================] - 6s 31ms/step - loss: 0.0300 - accuracy: 0.8043 - val_loss: 0.0257 - val_accuracy: 0.8098\n",
      "Epoch 12/20\n",
      "192/192 [==============================] - 6s 31ms/step - loss: 0.0277 - accuracy: 0.8056 - val_loss: 0.0229 - val_accuracy: 0.8093\n",
      "Epoch 13/20\n",
      "192/192 [==============================] - 6s 31ms/step - loss: 0.0260 - accuracy: 0.8063 - val_loss: 0.0213 - val_accuracy: 0.8092\n",
      "Epoch 14/20\n",
      "192/192 [==============================] - 6s 31ms/step - loss: 0.0250 - accuracy: 0.8068 - val_loss: 0.0204 - val_accuracy: 0.8096\n",
      "Epoch 15/20\n",
      "192/192 [==============================] - 6s 31ms/step - loss: 0.0234 - accuracy: 0.8076 - val_loss: 0.0187 - val_accuracy: 0.8105\n",
      "Epoch 16/20\n",
      "192/192 [==============================] - 6s 31ms/step - loss: 0.0225 - accuracy: 0.8081 - val_loss: 0.0178 - val_accuracy: 0.8100\n",
      "Epoch 17/20\n",
      "192/192 [==============================] - 6s 31ms/step - loss: 0.0216 - accuracy: 0.8085 - val_loss: 0.0175 - val_accuracy: 0.8097\n",
      "Epoch 18/20\n",
      "192/192 [==============================] - 6s 31ms/step - loss: 0.0211 - accuracy: 0.8087 - val_loss: 0.0165 - val_accuracy: 0.8102\n",
      "Epoch 19/20\n",
      "192/192 [==============================] - 6s 31ms/step - loss: 0.0202 - accuracy: 0.8092 - val_loss: 0.0158 - val_accuracy: 0.8106\n",
      "Epoch 20/20\n",
      "192/192 [==============================] - 6s 31ms/step - loss: 0.0191 - accuracy: 0.8097 - val_loss: 0.0147 - val_accuracy: 0.8118\n",
      "Epoch 1/20\n"
     ]
    },
    {
     "name": "stderr",
     "output_type": "stream",
     "text": [
      "2024-01-02 19:21:15.555958: E tensorflow/core/grappler/optimizers/meta_optimizer.cc:954] layout failed: INVALID_ARGUMENT: Size of values 0 does not match size of permutation 4 @ fanin shape inautoencoder_13/sequential_26/dropout_90/dropout/SelectV2-2-TransposeNHWCToNCHW-LayoutOptimizer\n"
     ]
    },
    {
     "name": "stdout",
     "output_type": "stream",
     "text": [
      "766/766 [==============================] - 13s 12ms/step - loss: 0.0529 - accuracy: 0.7917 - val_loss: 0.0300 - val_accuracy: 0.8036\n",
      "Epoch 2/20\n",
      "766/766 [==============================] - 8s 11ms/step - loss: 0.0303 - accuracy: 0.8043 - val_loss: 0.0214 - val_accuracy: 0.8086\n",
      "Epoch 3/20\n",
      "766/766 [==============================] - 8s 11ms/step - loss: 0.0237 - accuracy: 0.8076 - val_loss: 0.0179 - val_accuracy: 0.8098\n",
      "Epoch 4/20\n",
      "766/766 [==============================] - 8s 11ms/step - loss: 0.0211 - accuracy: 0.8088 - val_loss: 0.0163 - val_accuracy: 0.8111\n",
      "Epoch 5/20\n",
      "766/766 [==============================] - 8s 11ms/step - loss: 0.0194 - accuracy: 0.8096 - val_loss: 0.0151 - val_accuracy: 0.8111\n",
      "Epoch 6/20\n",
      "766/766 [==============================] - 8s 11ms/step - loss: 0.0185 - accuracy: 0.8101 - val_loss: 0.0145 - val_accuracy: 0.8111\n",
      "Epoch 7/20\n",
      "766/766 [==============================] - 8s 11ms/step - loss: 0.0179 - accuracy: 0.8103 - val_loss: 0.0138 - val_accuracy: 0.8114\n",
      "Epoch 8/20\n",
      "766/766 [==============================] - 8s 11ms/step - loss: 0.0175 - accuracy: 0.8105 - val_loss: 0.0137 - val_accuracy: 0.8117\n",
      "Epoch 9/20\n",
      "766/766 [==============================] - 8s 11ms/step - loss: 0.0171 - accuracy: 0.8107 - val_loss: 0.0134 - val_accuracy: 0.8126\n",
      "Epoch 10/20\n",
      "766/766 [==============================] - 8s 11ms/step - loss: 0.0169 - accuracy: 0.8108 - val_loss: 0.0137 - val_accuracy: 0.8113\n",
      "Epoch 11/20\n",
      "766/766 [==============================] - 8s 11ms/step - loss: 0.0166 - accuracy: 0.8110 - val_loss: 0.0132 - val_accuracy: 0.8120\n",
      "Epoch 12/20\n",
      "766/766 [==============================] - 8s 11ms/step - loss: 0.0164 - accuracy: 0.8111 - val_loss: 0.0128 - val_accuracy: 0.8119\n",
      "Epoch 13/20\n",
      "766/766 [==============================] - 8s 11ms/step - loss: 0.0162 - accuracy: 0.8111 - val_loss: 0.0129 - val_accuracy: 0.8117\n",
      "Epoch 14/20\n",
      "766/766 [==============================] - 8s 11ms/step - loss: 0.0160 - accuracy: 0.8112 - val_loss: 0.0125 - val_accuracy: 0.8124\n",
      "Epoch 15/20\n",
      "766/766 [==============================] - 8s 11ms/step - loss: 0.0159 - accuracy: 0.8113 - val_loss: 0.0125 - val_accuracy: 0.8121\n",
      "Epoch 16/20\n",
      "766/766 [==============================] - 9s 11ms/step - loss: 0.0158 - accuracy: 0.8113 - val_loss: 0.0122 - val_accuracy: 0.8123\n",
      "Epoch 17/20\n",
      "766/766 [==============================] - 8s 11ms/step - loss: 0.0156 - accuracy: 0.8114 - val_loss: 0.0124 - val_accuracy: 0.8119\n",
      "Epoch 18/20\n",
      "766/766 [==============================] - 8s 11ms/step - loss: 0.0155 - accuracy: 0.8115 - val_loss: 0.0120 - val_accuracy: 0.8126\n",
      "Epoch 19/20\n",
      "766/766 [==============================] - 8s 11ms/step - loss: 0.0154 - accuracy: 0.8115 - val_loss: 0.0119 - val_accuracy: 0.8125\n",
      "Epoch 20/20\n",
      "766/766 [==============================] - 9s 11ms/step - loss: 0.0153 - accuracy: 0.8115 - val_loss: 0.0119 - val_accuracy: 0.8125\n",
      "Epoch 1/20\n"
     ]
    },
    {
     "name": "stderr",
     "output_type": "stream",
     "text": [
      "2024-01-02 19:24:11.155722: E tensorflow/core/grappler/optimizers/meta_optimizer.cc:954] layout failed: INVALID_ARGUMENT: Size of values 0 does not match size of permutation 4 @ fanin shape inautoencoder_14/sequential_28/dropout_95/dropout/SelectV2-2-TransposeNHWCToNCHW-LayoutOptimizer\n"
     ]
    },
    {
     "name": "stdout",
     "output_type": "stream",
     "text": [
      "192/192 [==============================] - 12s 33ms/step - loss: 0.0674 - accuracy: 0.7827 - val_loss: 0.0588 - val_accuracy: 0.8052\n",
      "Epoch 2/20\n",
      "192/192 [==============================] - 6s 31ms/step - loss: 0.0373 - accuracy: 0.8008 - val_loss: 0.0419 - val_accuracy: 0.8042\n",
      "Epoch 3/20\n",
      "192/192 [==============================] - 6s 31ms/step - loss: 0.0312 - accuracy: 0.8038 - val_loss: 0.0384 - val_accuracy: 0.7956\n",
      "Epoch 4/20\n",
      "192/192 [==============================] - 6s 31ms/step - loss: 0.0270 - accuracy: 0.8060 - val_loss: 0.0214 - val_accuracy: 0.8103\n",
      "Epoch 5/20\n",
      "192/192 [==============================] - 6s 31ms/step - loss: 0.0239 - accuracy: 0.8076 - val_loss: 0.0181 - val_accuracy: 0.8104\n",
      "Epoch 6/20\n",
      "192/192 [==============================] - 6s 31ms/step - loss: 0.0220 - accuracy: 0.8085 - val_loss: 0.0249 - val_accuracy: 0.8023\n",
      "Epoch 7/20\n",
      "192/192 [==============================] - 6s 31ms/step - loss: 0.0202 - accuracy: 0.8094 - val_loss: 0.0149 - val_accuracy: 0.8111\n",
      "Epoch 8/20\n",
      "192/192 [==============================] - 6s 31ms/step - loss: 0.0189 - accuracy: 0.8100 - val_loss: 0.0143 - val_accuracy: 0.8119\n",
      "Epoch 9/20\n",
      "192/192 [==============================] - 6s 31ms/step - loss: 0.0182 - accuracy: 0.8103 - val_loss: 0.0145 - val_accuracy: 0.8109\n",
      "Epoch 10/20\n",
      "192/192 [==============================] - 6s 31ms/step - loss: 0.0173 - accuracy: 0.8108 - val_loss: 0.0131 - val_accuracy: 0.8118\n",
      "Epoch 11/20\n",
      "192/192 [==============================] - 6s 31ms/step - loss: 0.0167 - accuracy: 0.8110 - val_loss: 0.0132 - val_accuracy: 0.8114\n",
      "Epoch 12/20\n",
      "192/192 [==============================] - 6s 31ms/step - loss: 0.0162 - accuracy: 0.8112 - val_loss: 0.0121 - val_accuracy: 0.8125\n",
      "Epoch 13/20\n",
      "192/192 [==============================] - 6s 31ms/step - loss: 0.0159 - accuracy: 0.8114 - val_loss: 0.0119 - val_accuracy: 0.8125\n",
      "Epoch 14/20\n",
      "192/192 [==============================] - 6s 31ms/step - loss: 0.0156 - accuracy: 0.8115 - val_loss: 0.0124 - val_accuracy: 0.8120\n",
      "Epoch 15/20\n",
      "192/192 [==============================] - 6s 31ms/step - loss: 0.0154 - accuracy: 0.8116 - val_loss: 0.0117 - val_accuracy: 0.8130\n",
      "Epoch 16/20\n",
      "192/192 [==============================] - 6s 31ms/step - loss: 0.0151 - accuracy: 0.8117 - val_loss: 0.0112 - val_accuracy: 0.8127\n",
      "Epoch 17/20\n",
      "192/192 [==============================] - 6s 31ms/step - loss: 0.0146 - accuracy: 0.8119 - val_loss: 0.0108 - val_accuracy: 0.8129\n",
      "Epoch 18/20\n",
      "192/192 [==============================] - 6s 31ms/step - loss: 0.0143 - accuracy: 0.8121 - val_loss: 0.0108 - val_accuracy: 0.8129\n",
      "Epoch 19/20\n",
      "192/192 [==============================] - 6s 31ms/step - loss: 0.0141 - accuracy: 0.8122 - val_loss: 0.0105 - val_accuracy: 0.8129\n",
      "Epoch 20/20\n",
      "192/192 [==============================] - 6s 31ms/step - loss: 0.0139 - accuracy: 0.8122 - val_loss: 0.0108 - val_accuracy: 0.8128\n"
     ]
    }
   ],
   "source": [
    "# Disable Optuna trial output\n",
    "optuna.logging.set_verbosity(optuna.logging.WARNING)  \n",
    "\n",
    "shape = (28,28,1)\n",
    "predefined_filters =[[32, 64, 128],[32,64,128,256],[16,32,64,128],[16,32,64,128,256]]\n",
    "\n",
    "def objective(trial):\n",
    "    epoch = trial.suggest_categorical('epoch',[10,15,20])\n",
    "    batch = trial.suggest_categorical('batch', [64,128,256])\n",
    "    dim = trial.suggest_categorical('dim',[5,10,15])\n",
    "    kernel = trial.suggest_categorical('kernel', [(3, 3), (5, 5), (7, 7)])\n",
    "    filters = trial.suggest_categorical('filters', predefined_filters)\n",
    "    rate = trial.suggest_categorical('rate', [0.5,0.6,0.7])\n",
    "\n",
    "    autoencoder = Autoencoder(dim, len(filters), kernel, filters, shape, rate)\n",
    "    autoencoder.compile(optimizer='adam', loss=keras.losses.MeanSquaredError(), metrics=['accuracy'])\n",
    "    early_stopping = EarlyStopping(monitor='val_loss', patience=3, restore_best_weights=True)\n",
    "    history = autoencoder.fit(train_X, train_X,\n",
    "                              epochs=epoch,\n",
    "                              shuffle=True,\n",
    "                              batch_size=batch,\n",
    "                              callbacks=[early_stopping],\n",
    "                              validation_data=(val_X, val_X))\n",
    "    val_loss = history.history['val_loss'][-1]\n",
    "    return val_loss\n",
    "\n",
    "study = optuna.create_study(direction='minimize', study_name='my_study_name')\n",
    "study.optimize(objective, n_trials=15)"
   ]
  },
  {
   "cell_type": "markdown",
   "id": "b8e002ab",
   "metadata": {
    "papermill": {
     "duration": 2.773789,
     "end_time": "2024-01-02T19:26:21.210907",
     "exception": false,
     "start_time": "2024-01-02T19:26:18.437118",
     "status": "completed"
    },
    "tags": []
   },
   "source": [
    "Best Parameters for Least Loss:"
   ]
  },
  {
   "cell_type": "code",
   "execution_count": 6,
   "id": "49780f56",
   "metadata": {
    "execution": {
     "iopub.execute_input": "2024-01-02T19:26:26.717419Z",
     "iopub.status.busy": "2024-01-02T19:26:26.716683Z",
     "iopub.status.idle": "2024-01-02T19:26:26.722623Z",
     "shell.execute_reply": "2024-01-02T19:26:26.721722Z"
    },
    "papermill": {
     "duration": 2.760697,
     "end_time": "2024-01-02T19:26:26.724666",
     "exception": false,
     "start_time": "2024-01-02T19:26:23.963969",
     "status": "completed"
    },
    "tags": []
   },
   "outputs": [
    {
     "name": "stdout",
     "output_type": "stream",
     "text": [
      "Best loss is  0.010770115070044994 with  {'epoch': 20, 'batch': 256, 'dim': 15, 'kernel': (7, 7), 'filters': [32, 64, 128], 'rate': 0.5}\n"
     ]
    }
   ],
   "source": [
    "best_params = study.best_params\n",
    "best_loss = study.best_value\n",
    "print(\"Best loss is \",best_loss,\"with \",best_params)"
   ]
  },
  {
   "cell_type": "markdown",
   "id": "142ced61",
   "metadata": {
    "id": "IoSABCBfGCtq",
    "papermill": {
     "duration": 2.76996,
     "end_time": "2024-01-02T19:26:32.242109",
     "exception": false,
     "start_time": "2024-01-02T19:26:29.472149",
     "status": "completed"
    },
    "tags": []
   },
   "source": [
    "Loss & Accuracy per Epoch For Best Model :"
   ]
  },
  {
   "cell_type": "code",
   "execution_count": 7,
   "id": "d80860da",
   "metadata": {
    "execution": {
     "iopub.execute_input": "2024-01-02T19:26:37.747625Z",
     "iopub.status.busy": "2024-01-02T19:26:37.746716Z",
     "iopub.status.idle": "2024-01-02T19:28:42.849773Z",
     "shell.execute_reply": "2024-01-02T19:28:42.848816Z"
    },
    "id": "6MiPd1O8ERCn",
    "papermill": {
     "duration": 127.851354,
     "end_time": "2024-01-02T19:28:42.852078",
     "exception": false,
     "start_time": "2024-01-02T19:26:35.000724",
     "status": "completed"
    },
    "tags": []
   },
   "outputs": [
    {
     "name": "stdout",
     "output_type": "stream",
     "text": [
      "Epoch 1/20\n"
     ]
    },
    {
     "name": "stderr",
     "output_type": "stream",
     "text": [
      "2024-01-02 19:26:40.481107: E tensorflow/core/grappler/optimizers/meta_optimizer.cc:954] layout failed: INVALID_ARGUMENT: Size of values 0 does not match size of permutation 4 @ fanin shape inautoencoder_15/sequential_30/dropout_100/dropout/SelectV2-2-TransposeNHWCToNCHW-LayoutOptimizer\n"
     ]
    },
    {
     "name": "stdout",
     "output_type": "stream",
     "text": [
      "192/192 [==============================] - 11s 33ms/step - loss: 0.0696 - accuracy: 0.7831 - val_loss: 0.0532 - val_accuracy: 0.8068\n",
      "Epoch 2/20\n",
      "192/192 [==============================] - 6s 31ms/step - loss: 0.0424 - accuracy: 0.7984 - val_loss: 0.0387 - val_accuracy: 0.8085\n",
      "Epoch 3/20\n",
      "192/192 [==============================] - 6s 31ms/step - loss: 0.0355 - accuracy: 0.8017 - val_loss: 0.0324 - val_accuracy: 0.8090\n",
      "Epoch 4/20\n",
      "192/192 [==============================] - 6s 31ms/step - loss: 0.0325 - accuracy: 0.8031 - val_loss: 0.0270 - val_accuracy: 0.8071\n",
      "Epoch 5/20\n",
      "192/192 [==============================] - 6s 31ms/step - loss: 0.0277 - accuracy: 0.8057 - val_loss: 0.0209 - val_accuracy: 0.8093\n",
      "Epoch 6/20\n",
      "192/192 [==============================] - 6s 31ms/step - loss: 0.0245 - accuracy: 0.8072 - val_loss: 0.0188 - val_accuracy: 0.8102\n",
      "Epoch 7/20\n",
      "192/192 [==============================] - 6s 31ms/step - loss: 0.0223 - accuracy: 0.8083 - val_loss: 0.0173 - val_accuracy: 0.8103\n",
      "Epoch 8/20\n",
      "192/192 [==============================] - 6s 31ms/step - loss: 0.0210 - accuracy: 0.8089 - val_loss: 0.0167 - val_accuracy: 0.8119\n",
      "Epoch 9/20\n",
      "192/192 [==============================] - 6s 31ms/step - loss: 0.0201 - accuracy: 0.8094 - val_loss: 0.0157 - val_accuracy: 0.8107\n",
      "Epoch 10/20\n",
      "192/192 [==============================] - 6s 31ms/step - loss: 0.0190 - accuracy: 0.8100 - val_loss: 0.0147 - val_accuracy: 0.8111\n",
      "Epoch 11/20\n",
      "192/192 [==============================] - 6s 31ms/step - loss: 0.0183 - accuracy: 0.8103 - val_loss: 0.0146 - val_accuracy: 0.8113\n",
      "Epoch 12/20\n",
      "192/192 [==============================] - 6s 31ms/step - loss: 0.0177 - accuracy: 0.8105 - val_loss: 0.0141 - val_accuracy: 0.8110\n",
      "Epoch 13/20\n",
      "192/192 [==============================] - 6s 31ms/step - loss: 0.0169 - accuracy: 0.8109 - val_loss: 0.0139 - val_accuracy: 0.8107\n",
      "Epoch 14/20\n",
      "192/192 [==============================] - 6s 31ms/step - loss: 0.0156 - accuracy: 0.8115 - val_loss: 0.0113 - val_accuracy: 0.8126\n",
      "Epoch 15/20\n",
      "192/192 [==============================] - 6s 31ms/step - loss: 0.0149 - accuracy: 0.8118 - val_loss: 0.0112 - val_accuracy: 0.8125\n",
      "Epoch 16/20\n",
      "192/192 [==============================] - 6s 31ms/step - loss: 0.0145 - accuracy: 0.8120 - val_loss: 0.0105 - val_accuracy: 0.8130\n",
      "Epoch 17/20\n",
      "192/192 [==============================] - 6s 31ms/step - loss: 0.0142 - accuracy: 0.8121 - val_loss: 0.0103 - val_accuracy: 0.8129\n",
      "Epoch 18/20\n",
      "192/192 [==============================] - 6s 31ms/step - loss: 0.0139 - accuracy: 0.8122 - val_loss: 0.0099 - val_accuracy: 0.8135\n",
      "Epoch 19/20\n",
      "192/192 [==============================] - 6s 31ms/step - loss: 0.0137 - accuracy: 0.8123 - val_loss: 0.0103 - val_accuracy: 0.8131\n",
      "Epoch 20/20\n",
      "192/192 [==============================] - 6s 31ms/step - loss: 0.0135 - accuracy: 0.8124 - val_loss: 0.0097 - val_accuracy: 0.8135\n"
     ]
    }
   ],
   "source": [
    "layers = len(best_params['filters'])\n",
    "autoencoder = Autoencoder(best_params['dim'],layers,best_params['kernel'],best_params['filters'],shape,best_params['rate'])\n",
    "autoencoder.compile(optimizer='adam', loss=keras.losses.MeanSquaredError(),metrics=['accuracy'])\n",
    "early_stopping = EarlyStopping(monitor='val_loss', patience=3, restore_best_weights=True)\n",
    "history = autoencoder.fit(train_X, train_X,\n",
    "                epochs=best_params['epoch'],\n",
    "                shuffle=True,\n",
    "                batch_size=best_params['batch'],\n",
    "                callbacks=[early_stopping],\n",
    "                validation_data=(val_X, val_X))"
   ]
  },
  {
   "cell_type": "code",
   "execution_count": 8,
   "id": "1304c19e",
   "metadata": {
    "execution": {
     "iopub.execute_input": "2024-01-02T19:28:48.915448Z",
     "iopub.status.busy": "2024-01-02T19:28:48.914394Z",
     "iopub.status.idle": "2024-01-02T19:28:49.311675Z",
     "shell.execute_reply": "2024-01-02T19:28:49.310747Z"
    },
    "papermill": {
     "duration": 3.383179,
     "end_time": "2024-01-02T19:28:49.313928",
     "exception": false,
     "start_time": "2024-01-02T19:28:45.930749",
     "status": "completed"
    },
    "tags": []
   },
   "outputs": [
    {
     "data": {
      "image/png": "[encoded data removed]",
      "text/plain": [
       "<Figure size 1000x500 with 1 Axes>"
      ]
     },
     "metadata": {},
     "output_type": "display_data"
    }
   ],
   "source": [
    "# Plot training and validation loss\n",
    "plt.figure(figsize=(10, 5))\n",
    "plt.plot(range(1, len(history.history['loss']) + 1), history.history['loss'], label='Training Loss', color='blue')\n",
    "plt.plot(range(1, len(history.history['val_loss']) + 1), history.history['val_loss'], label='Validation Loss', color='orange')\n",
    "plt.title('Training and Validation Loss')\n",
    "plt.xlabel('Epochs')\n",
    "plt.ylabel('Loss')\n",
    "plt.xticks(range(1, len(history.history['loss']) + 1))\n",
    "plt.legend()\n",
    "plt.show()"
   ]
  },
  {
   "cell_type": "code",
   "execution_count": 9,
   "id": "99b4e4ea",
   "metadata": {
    "execution": {
     "iopub.execute_input": "2024-01-02T19:28:55.193455Z",
     "iopub.status.busy": "2024-01-02T19:28:55.193076Z",
     "iopub.status.idle": "2024-01-02T19:28:55.495287Z",
     "shell.execute_reply": "2024-01-02T19:28:55.494344Z"
    },
    "papermill": {
     "duration": 3.225919,
     "end_time": "2024-01-02T19:28:55.497602",
     "exception": false,
     "start_time": "2024-01-02T19:28:52.271683",
     "status": "completed"
    },
    "tags": []
   },
   "outputs": [
    {
     "data": {
      "image/png": "[encoded data removed]",
      "text/plain": [
       "<Figure size 1000x500 with 1 Axes>"
      ]
     },
     "metadata": {},
     "output_type": "display_data"
    }
   ],
   "source": [
    "plt.figure(figsize=(10, 5))\n",
    "plt.plot(range(1, len(history.history['accuracy']) + 1), history.history['accuracy'], label='Training Accuracy', color='blue')\n",
    "plt.plot(range(1, len(history.history['val_accuracy']) + 1), history.history['val_accuracy'], label='Validation Accuracy', color='orange')\n",
    "plt.title('Training and Validation Accuracy')\n",
    "plt.xlabel('Epochs')\n",
    "plt.ylabel('Accuracy')\n",
    "plt.xticks(range(1, len(history.history['accuracy']) + 1))\n",
    "plt.legend()\n",
    "plt.show()"
   ]
  },
  {
   "cell_type": "markdown",
   "id": "be8519fc",
   "metadata": {},
   "source": [
    "The plots demonstrate a small generalization gap, a trend in loss reduction.The regularization terms are only applied while training the model on the training set, inflating the training loss which explains why it ends\n",
    "up being bigger.We also notice how the number of epochs is sufficient since in the last ones there is a tendency for metrics to be stabilized."
   ]
  },
  {
   "cell_type": "markdown",
   "id": "6b812e55",
   "metadata": {
    "papermill": {
     "duration": 2.936754,
     "end_time": "2024-01-02T19:29:01.344851",
     "exception": false,
     "start_time": "2024-01-02T19:28:58.408097",
     "status": "completed"
    },
    "tags": []
   },
   "source": [
    "Create output datafiles in the MNIST format but using the best latent vector:"
   ]
  },
  {
   "cell_type": "code",
   "execution_count": 10,
   "id": "37591e2a",
   "metadata": {
    "execution": {
     "iopub.execute_input": "2024-01-02T19:29:07.168804Z",
     "iopub.status.busy": "2024-01-02T19:29:07.167968Z",
     "iopub.status.idle": "2024-01-02T19:29:52.428461Z",
     "shell.execute_reply": "2024-01-02T19:29:52.427601Z"
    },
    "papermill": {
     "duration": 48.169337,
     "end_time": "2024-01-02T19:29:52.430877",
     "exception": false,
     "start_time": "2024-01-02T19:29:04.261540",
     "status": "completed"
    },
    "tags": []
   },
   "outputs": [],
   "source": [
    "output_dataset_file = 'output.dat'\n",
    "output_query_file = 'output_query.dat'\n",
    "\n",
    "#Apply the best model to input file(x_train) and query file(x_test) data doing some basic preprocessing as well\n",
    "x_train = x_train.reshape(x_train.shape[0], 28, 28, 1)\n",
    "x_train = x_train.astype('float32')\n",
    "x_train = x_train / 255.0\n",
    "\n",
    "x_test = x_test.reshape(x_test.shape[0], 28, 28, 1)\n",
    "x_test = x_test.astype('float32')\n",
    "x_test = x_test / 255.0\n",
    "\n",
    "output_imgs = autoencoder.latent_vector(x_train)\n",
    "output_query_imgs = autoencoder.latent_vector(x_test)\n",
    "\n",
    "#Restore images in the [0,255] original MNIST range turning then into unsigned char\n",
    "output_imgs *= 255\n",
    "output_query_imgsoutput_imgs = tf.cast(output_imgs, np.uint8) \n",
    "output_query_imgs *= 255\n",
    "output_query_imgs = tf.cast(output_query_imgs, np.uint8) \n",
    "\n",
    "imgs = len(output_imgs)\n",
    "num_rows, num_cols = 10,1\n",
    "\n",
    "#Writing data as a binary file with big endian architecture\n",
    "with open(output_dataset_file, 'wb+') as images_file:\n",
    "    # Writing metadata\n",
    "    images_file.write(struct.pack('>IIII', 2051, imgs, num_rows, num_cols))\n",
    "    # Writing image data\n",
    "    for image in output_imgs:\n",
    "        images_file.write(image.numpy().tobytes())\n",
    "\n",
    "with open(output_query_file, 'wb+') as images_file:\n",
    "    # Writing image data\n",
    "    for image in output_query_imgs:\n",
    "        images_file.write(image.numpy().tobytes())"
   ]
  },
  {
   "cell_type": "markdown",
   "id": "50e587d2",
   "metadata": {
    "id": "NTaXBgu16Knp",
    "papermill": {
     "duration": 2.915207,
     "end_time": "2024-01-02T19:29:58.254459",
     "exception": false,
     "start_time": "2024-01-02T19:29:55.339252",
     "status": "completed"
    },
    "tags": []
   },
   "source": [
    "To avoid overfitting we implement regularization techniques such as batch normalization and dropout in every layer as well as early stopping with patience = 3."
   ]
  }
 ],
 "metadata": {
  "colab": {
   "provenance": []
  },
  "kaggle": {
   "accelerator": "gpu",
   "dataSources": [],
   "dockerImageVersionId": 30626,
   "isGpuEnabled": true,
   "isInternetEnabled": true,
   "language": "python",
   "sourceType": "notebook"
  },
  "kernelspec": {
   "display_name": "Python 3",
   "language": "python",
   "name": "python3"
  },
  "language_info": {
   "codemirror_mode": {
    "name": "ipython",
    "version": 3
   },
   "file_extension": ".py",
   "mimetype": "text/x-python",
   "name": "python",
   "nbconvert_exporter": "python",
   "pygments_lexer": "ipython3",
   "version": "3.10.12"
  },
  "papermill": {
   "default_parameters": {},
   "duration": 2603.114888,
   "end_time": "2024-01-02T19:30:05.012232",
   "environment_variables": {},
   "exception": null,
   "input_path": "__notebook__.ipynb",
   "output_path": "__notebook__.ipynb",
   "parameters": {},
   "start_time": "2024-01-02T18:46:41.897344",
   "version": "2.4.0"
  }
 },
 "nbformat": 4,
 "nbformat_minor": 5
}
